{
  "nbformat": 4,
  "nbformat_minor": 0,
  "metadata": {
    "colab": {
      "name": "36 class augmented_cnn model 3.ipynb",
      "version": "0.3.2",
      "provenance": [],
      "collapsed_sections": [],
      "include_colab_link": true
    },
    "kernelspec": {
      "name": "python3",
      "display_name": "Python 3"
    },
    "accelerator": "GPU"
  },
  "cells": [
    {
      "cell_type": "markdown",
      "metadata": {
        "id": "view-in-github",
        "colab_type": "text"
      },
      "source": [
        "<a href=\"https://colab.research.google.com/github/Rojan116/NepaliHandWrittenAlphabetRecognizer/blob/master/36_class_augmented_cnn_model_3.ipynb\" target=\"_parent\"><img src=\"https://colab.research.google.com/assets/colab-badge.svg\" alt=\"Open In Colab\"/></a>"
      ]
    },
    {
      "cell_type": "code",
      "metadata": {
        "id": "Fa0w7bIx81Sq",
        "colab_type": "code",
        "outputId": "5928980d-71f2-411c-a931-48f3ee325075",
        "colab": {
          "base_uri": "https://localhost:8080/",
          "height": 34
        }
      },
      "source": [
        "!git clone https://github.com/Rojan116/NepaliHandWrittenAlphabetRecognizer.git"
      ],
      "execution_count": 1,
      "outputs": [
        {
          "output_type": "stream",
          "text": [
            "fatal: destination path 'NepaliHandWrittenAlphabetRecognizer' already exists and is not an empty directory.\n"
          ],
          "name": "stdout"
        }
      ]
    },
    {
      "cell_type": "code",
      "metadata": {
        "id": "jHtN-fzK9KOB",
        "colab_type": "code",
        "outputId": "f8de161e-a4c3-41f7-ac63-b8253b26b1a1",
        "colab": {
          "base_uri": "https://localhost:8080/",
          "height": 34
        }
      },
      "source": [
        "ls"
      ],
      "execution_count": 2,
      "outputs": [
        {
          "output_type": "stream",
          "text": [
            "\u001b[0m\u001b[01;34mNepaliHandWrittenAlphabetRecognizer\u001b[0m/  \u001b[01;34msample_data\u001b[0m/\n"
          ],
          "name": "stdout"
        }
      ]
    },
    {
      "cell_type": "code",
      "metadata": {
        "id": "6-Y4SAWO9Q1G",
        "colab_type": "code",
        "outputId": "0b759b7a-a28a-4f27-bb1c-91f48232ce7f",
        "colab": {
          "base_uri": "https://localhost:8080/",
          "height": 34
        }
      },
      "source": [
        "cd NepaliHandWrittenAlphabetRecognizer"
      ],
      "execution_count": 3,
      "outputs": [
        {
          "output_type": "stream",
          "text": [
            "/content/NepaliHandWrittenAlphabetRecognizer\n"
          ],
          "name": "stdout"
        }
      ]
    },
    {
      "cell_type": "code",
      "metadata": {
        "id": "AK0RS0g19VaY",
        "colab_type": "code",
        "outputId": "4dbec1da-7a8c-41c7-d26d-21bf7bbce7cb",
        "colab": {
          "base_uri": "https://localhost:8080/",
          "height": 34
        }
      },
      "source": [
        "import cv2\n",
        "import matplotlib.pyplot as plt\n",
        "import numpy as np\n",
        "import os\n",
        "import tensorflow as tf\n",
        "from tqdm import tqdm\n",
        "import random\n",
        "from keras.utils import to_categorical\n",
        "from keras.preprocessing.image import ImageDataGenerator\n",
        "from keras.callbacks import ReduceLROnPlateau\n",
        "\n",
        "from keras.models import Sequential\n",
        "from keras.layers import *\n",
        "from keras.optimizers import *\n",
        "import seaborn as sns\n",
        "from sklearn.metrics import classification_report, confusion_matrix"
      ],
      "execution_count": 4,
      "outputs": [
        {
          "output_type": "stream",
          "text": [
            "Using TensorFlow backend.\n"
          ],
          "name": "stderr"
        }
      ]
    },
    {
      "cell_type": "code",
      "metadata": {
        "id": "XUB5C0nB9YOg",
        "colab_type": "code",
        "colab": {}
      },
      "source": [
        "PATH = os.getcwd()\n",
        "DATADIR = PATH + '/nepalibarnasnew/Train'   \n",
        "train_data_path = PATH + '/nepalibarnasnew/Train'\n",
        "test_data_path = PATH + '/nepalibarnasnew/Test'\n"
      ],
      "execution_count": 0,
      "outputs": []
    },
    {
      "cell_type": "code",
      "metadata": {
        "id": "MOK18pvNNPTZ",
        "colab_type": "code",
        "outputId": "0f1ebbe8-a1fc-4906-c397-7bf0d5e961d6",
        "colab": {
          "base_uri": "https://localhost:8080/",
          "height": 71
        }
      },
      "source": [
        "#counting categories\n",
        "new_cat = []\n",
        "for x in os.listdir(train_data_path):\n",
        "  new_cat.append(x)\n",
        "\n",
        "print(new_cat)  \n",
        "classes = np.unique(new_cat)\n",
        "print(len(classes))\n"
      ],
      "execution_count": 6,
      "outputs": [
        {
          "output_type": "stream",
          "text": [
            "['character-34-chyan', 'digits_4', 'character-12-tha', 'digits_9', 'character-32-sa', 'digits_6', 'vowel_7_e', 'character-05-n..a', 'vowel_0_a', 'character-22-pha', 'character-28-la', 'character-20-na', 'digits_7', 'character-03-ga', 'vowel_11_am', 'character-24-bha', 'character-29-wa', 'vowel_4_u', 'vowel_2_i', 'character-15-na', 'digits_8', 'character-08-ja', 'character-09-jha', 'character-30-sa', 'character-35-tra', 'character-17-tha', 'digits_5', 'character-10-yaa', 'character-26-ya', 'character-13-da', 'character-01-ka', 'vowel_5_uu', 'vowel_12_ah', 'character-16-ta', 'character-31-sa', 'character-11-ta', 'character-19-dha', 'character-36-gyan', 'character-04-gha', 'digits_1', 'vowel_10_au', 'character-02-kha', 'character-25-ma', 'character-06-cha', 'character-21-pa', 'character-33-ha', 'character-27-ra', 'vowel_8_ei', 'digits_0', 'digits_2', 'character-14-dha', 'vowel_6_re', 'character-18-da', 'vowel_9_o', 'character-07-chha', 'vowel_1_aa', 'vowel_3_ii', 'digits_3', 'character-23-ba']\n",
            "59\n"
          ],
          "name": "stdout"
        }
      ]
    },
    {
      "cell_type": "code",
      "metadata": {
        "id": "kTFBK9wD9aqu",
        "colab_type": "code",
        "colab": {}
      },
      "source": [
        "CATEGORIES =[\n",
        "\n",
        "\"character-01-ka\",\"character-02-kha\",\"character-03-ga\",\"character-04-gha\",\"character-05-n..a\",\n",
        "\"character-06-cha\",\"character-07-chha\",\"character-08-ja\",\"character-09-jha\",\"character-10-yaa\",\n",
        "\"character-11-ta\",\"character-12-tha\",\"character-13-da\",\"character-14-dha\",\"character-15-na\",\n",
        "\"character-16-ta\",\"character-17-tha\",\"character-18-da\",\"character-19-dha\",\"character-20-na\",\"character-21-pa\",\n",
        "\"character-22-pha\",\"character-23-ba\",\"character-24-bha\",\"character-25-ma\",\"character-26-ya\",\"character-27-ra\",\n",
        "\"character-28-la\",\"character-29-wa\",\"character-30-sa\",\"character-31-sa\",\"character-32-sa\",\n",
        "\"character-33-ha\",\"character-34-chyan\",\"character-35-tra\",\"character-36-gyan\"\n",
        "]"
      ],
      "execution_count": 0,
      "outputs": []
    },
    {
      "cell_type": "code",
      "metadata": {
        "id": "as1xbqAW9d5P",
        "colab_type": "code",
        "colab": {}
      },
      "source": [
        "IMG_SIZE = 32\n",
        "training_data = []\n",
        "testing_data = []\n",
        "\n",
        "def create_training_data():\n",
        "  for catagory in CATEGORIES:\n",
        "    path = os.path.join(train_data_path, catagory)\n",
        "    class_num = CATEGORIES.index(catagory)\n",
        "    for img in os.listdir(path):\n",
        "        try:\n",
        "          img_array = cv2.imread(os.path.join(path,img),cv2.IMREAD_GRAYSCALE)\n",
        "          new_array = cv2.resize(img_array,(IMG_SIZE,IMG_SIZE))\n",
        "          training_data.append([new_array,class_num])\n",
        "        except Exception as e:\n",
        "          pass\n",
        "\n",
        "\n",
        "\n",
        "def create_testing_data():\n",
        "  for catagory in CATEGORIES:\n",
        "    path = os.path.join(test_data_path, catagory)\n",
        "    class_num = CATEGORIES.index(catagory)\n",
        "    for img in os.listdir(path):\n",
        "        try:\n",
        "          img_array = cv2.imread(os.path.join(path,img),cv2.IMREAD_GRAYSCALE)\n",
        "          new_array = cv2.resize(img_array,(IMG_SIZE,IMG_SIZE))\n",
        "          testing_data.append([new_array,class_num])\n",
        "        except Exception as e:\n",
        "          pass\n",
        "\n",
        "\n",
        "\n",
        "create_training_data()\n",
        "create_testing_data()\n"
      ],
      "execution_count": 0,
      "outputs": []
    },
    {
      "cell_type": "code",
      "metadata": {
        "id": "_7a9Hftp9kSg",
        "colab_type": "code",
        "outputId": "dc090b55-589f-4357-fccc-3151b0f76e4a",
        "colab": {
          "base_uri": "https://localhost:8080/",
          "height": 68
        }
      },
      "source": [
        "#shuffle training data for trainning diff image set in every batch\n",
        "random.shuffle(training_data)\n",
        "\n",
        "#hot encode image dataset\n",
        "\n",
        "train_x = []\n",
        "train_y = []\n",
        "test_x = []\n",
        "test_y = []\n",
        "\n",
        "\n",
        "\n",
        "#seperating features and labels from list\n",
        "for features, labels in training_data:\n",
        "\ttrain_x.append(features)\n",
        "\ttrain_y.append(labels)\n",
        "\n",
        "for features, labels in testing_data:\n",
        "\ttest_x.append(features)\n",
        "\ttest_y.append(labels)\n",
        "\n",
        "\n",
        "#converting list to array\n",
        "train_y_array = np.array(train_y)\n",
        "test_y_array = np.array(test_y)\n",
        "\n",
        "#converting image dataset to input 32*32 dataset \n",
        "\n",
        "train_image_array = np.array(train_x).reshape(-1,32,32,1)\n",
        "test_image_array = np.array(test_x).reshape(-1,32,32,1)\n",
        "\n",
        "#counting total number of class in dataset\n",
        "classes = np.unique(test_y_array)\n",
        "print(classes)\n",
        "print(\"total number of class={} \".format(len(classes)))\n",
        "\n"
      ],
      "execution_count": 9,
      "outputs": [
        {
          "output_type": "stream",
          "text": [
            "[ 0  1  2  3  4  5  6  7  8  9 10 11 12 13 14 15 16 17 18 19 20 21 22 23\n",
            " 24 25 26 27 28 29 30 31 32 33 34 35]\n",
            "total number of class=36 \n"
          ],
          "name": "stdout"
        }
      ]
    },
    {
      "cell_type": "code",
      "metadata": {
        "id": "DJyBFLIrFs_G",
        "colab_type": "code",
        "outputId": "447807a9-1d6d-4434-e4a3-6e51d2bf39ad",
        "colab": {
          "base_uri": "https://localhost:8080/",
          "height": 269
        }
      },
      "source": [
        "# convert from int to float\n",
        "x_train = train_image_array.astype('float32')\n",
        "x_test = test_image_array.astype('float32')\n",
        "# define data preparation\n",
        "datagen = ImageDataGenerator(featurewise_center=True,\n",
        "                             featurewise_std_normalization=True,\n",
        "                             rotation_range=15,\n",
        "                             width_shift_range=0.1,\n",
        "                             height_shift_range=0.1,\n",
        "                              zoom_range=0.2\n",
        "                            )\n",
        "# fit parameters from data\n",
        "datagen.fit(x_train)\n",
        "# configure batch size and retrieve one batch of images\n",
        "for X_batch, y_batch in datagen.flow(x_train, train_y, batch_size=9):\n",
        "\t# create a grid of 3x3 images\n",
        "\tfor i in range(0, 9):\n",
        "\t\tplt.subplot(330 + 1 + i)\n",
        "\t\tplt.imshow(X_batch[i].reshape(32, 32), cmap=plt.get_cmap('gray'))\n",
        "\t# show the plot\n",
        "\tplt.show()\n",
        "\tbreak"
      ],
      "execution_count": 10,
      "outputs": [
        {
          "output_type": "display_data",
          "data": {
            "image/png": "[encoded data removed]",
            "text/plain": [
              "<Figure size 432x288 with 9 Axes>"
            ]
          },
          "metadata": {
            "tags": []
          }
        }
      ]
    },
    {
      "cell_type": "code",
      "metadata": {
        "id": "OcD8KB1rGHpt",
        "colab_type": "code",
        "colab": {}
      },
      "source": [
        "\n",
        "#one hot enoded class \n",
        "train_y = to_categorical(train_y_array)\n",
        "test_y = to_categorical(test_y_array)\n",
        "\n",
        "\n",
        "train_y = np.array(train_y)\n",
        "test_y = np.array(test_y)\n",
        "\n",
        "#all train x, y and test x y are in array form now\n"
      ],
      "execution_count": 0,
      "outputs": []
    },
    {
      "cell_type": "code",
      "metadata": {
        "id": "HTyQPCKc9AuW",
        "colab_type": "code",
        "outputId": "64b2a8f5-8a5e-44ef-f297-f5246db22fbe",
        "colab": {
          "base_uri": "https://localhost:8080/",
          "height": 343
        }
      },
      "source": [
        "#new model\n",
        "\n",
        "# Set the CNN model \n",
        "# my CNN architechture is In -> [[Conv2D->relu]*2 -> MaxPool2D -> Dropout]*2 -> Flatten -> Dense -> Dropout -> Out\n",
        "\n",
        "model = Sequential()\n",
        "\n",
        "model.add(Conv2D(filters = 32, kernel_size = (5,5),padding = 'Same', \n",
        "                 activation ='relu', input_shape = (32,32,1)))\n",
        "model.add(Conv2D(filters = 32, kernel_size = (5,5),padding = 'Same', \n",
        "                 activation ='relu'))\n",
        "model.add(MaxPool2D(pool_size=(2,2)))\n",
        "model.add(Dropout(0.25))\n",
        "\n",
        "\n",
        "model.add(Conv2D(filters = 64, kernel_size = (3,3),padding = 'Same', \n",
        "                 activation ='relu'))\n",
        "model.add(Conv2D(filters = 64, kernel_size = (3,3),padding = 'Same', \n",
        "                 activation ='relu'))\n",
        "model.add(MaxPool2D(pool_size=(2,2), strides=(2,2)))\n",
        "model.add(Dropout(0.25))\n",
        "\n",
        "\n",
        "model.add(Flatten())\n",
        "model.add(Dense(256, activation = \"relu\"))\n",
        "model.add(Dropout(0.5))\n",
        "model.add(Dense(36, activation = \"softmax\"))\n",
        "\n",
        "# Define the optimizer\n",
        "#optimizer = RMSprop(lr=0.001, rho=0.9, epsilon=1e-08, decay=0.0)\n",
        "optimizer = Adam(lr=0.0001)\n",
        "\n",
        "# Compile the model\n",
        "model.compile(optimizer = optimizer , loss = \"categorical_crossentropy\", metrics=[\"accuracy\"])\n",
        "\n",
        "#model.summary()\n",
        "\n"
      ],
      "execution_count": 12,
      "outputs": [
        {
          "output_type": "stream",
          "text": [
            "WARNING: Logging before flag parsing goes to stderr.\n",
            "W0731 20:39:57.251045 140303072909184 deprecation_wrapper.py:119] From /usr/local/lib/python3.6/dist-packages/keras/backend/tensorflow_backend.py:74: The name tf.get_default_graph is deprecated. Please use tf.compat.v1.get_default_graph instead.\n",
            "\n",
            "W0731 20:39:57.269196 140303072909184 deprecation_wrapper.py:119] From /usr/local/lib/python3.6/dist-packages/keras/backend/tensorflow_backend.py:517: The name tf.placeholder is deprecated. Please use tf.compat.v1.placeholder instead.\n",
            "\n",
            "W0731 20:39:57.272741 140303072909184 deprecation_wrapper.py:119] From /usr/local/lib/python3.6/dist-packages/keras/backend/tensorflow_backend.py:4138: The name tf.random_uniform is deprecated. Please use tf.random.uniform instead.\n",
            "\n",
            "W0731 20:39:57.302094 140303072909184 deprecation_wrapper.py:119] From /usr/local/lib/python3.6/dist-packages/keras/backend/tensorflow_backend.py:3976: The name tf.nn.max_pool is deprecated. Please use tf.nn.max_pool2d instead.\n",
            "\n",
            "W0731 20:39:57.304583 140303072909184 deprecation_wrapper.py:119] From /usr/local/lib/python3.6/dist-packages/keras/backend/tensorflow_backend.py:133: The name tf.placeholder_with_default is deprecated. Please use tf.compat.v1.placeholder_with_default instead.\n",
            "\n",
            "W0731 20:39:57.313711 140303072909184 deprecation.py:506] From /usr/local/lib/python3.6/dist-packages/keras/backend/tensorflow_backend.py:3445: calling dropout (from tensorflow.python.ops.nn_ops) with keep_prob is deprecated and will be removed in a future version.\n",
            "Instructions for updating:\n",
            "Please use `rate` instead of `keep_prob`. Rate should be set to `rate = 1 - keep_prob`.\n",
            "W0731 20:39:57.425114 140303072909184 deprecation_wrapper.py:119] From /usr/local/lib/python3.6/dist-packages/keras/optimizers.py:790: The name tf.train.Optimizer is deprecated. Please use tf.compat.v1.train.Optimizer instead.\n",
            "\n",
            "W0731 20:39:57.434215 140303072909184 deprecation_wrapper.py:119] From /usr/local/lib/python3.6/dist-packages/keras/backend/tensorflow_backend.py:3295: The name tf.log is deprecated. Please use tf.math.log instead.\n",
            "\n"
          ],
          "name": "stderr"
        }
      ]
    },
    {
      "cell_type": "code",
      "metadata": {
        "id": "ReKcDMub5t6r",
        "colab_type": "code",
        "outputId": "b314f52d-45eb-4a5b-f4db-cf87eca9cb9a",
        "colab": {
          "base_uri": "https://localhost:8080/",
          "height": 1000
        }
      },
      "source": [
        "history = model.fit(x=train_image_array,y=train_y,epochs=50,batch_size=100, validation_split=0.3)"
      ],
      "execution_count": 30,
      "outputs": [
        {
          "output_type": "stream",
          "text": [
            "Train on 3524 samples, validate on 1511 samples\n",
            "Epoch 1/50\n",
            "3524/3524 [==============================] - 1s 187us/step - loss: 0.0139 - acc: 0.9963 - val_loss: 0.0638 - val_acc: 0.9854\n",
            "Epoch 2/50\n",
            "3524/3524 [==============================] - 1s 156us/step - loss: 0.0094 - acc: 0.9969 - val_loss: 0.0590 - val_acc: 0.9861\n",
            "Epoch 3/50\n",
            "3524/3524 [==============================] - 1s 162us/step - loss: 0.0148 - acc: 0.9949 - val_loss: 0.0659 - val_acc: 0.9828\n",
            "Epoch 4/50\n",
            "3524/3524 [==============================] - 1s 154us/step - loss: 0.0208 - acc: 0.9923 - val_loss: 0.0762 - val_acc: 0.9828\n",
            "Epoch 5/50\n",
            "3524/3524 [==============================] - 1s 156us/step - loss: 0.0120 - acc: 0.9963 - val_loss: 0.0687 - val_acc: 0.9848\n",
            "Epoch 6/50\n",
            "3524/3524 [==============================] - 1s 154us/step - loss: 0.0125 - acc: 0.9969 - val_loss: 0.0574 - val_acc: 0.9861\n",
            "Epoch 7/50\n",
            "3524/3524 [==============================] - 1s 159us/step - loss: 0.0150 - acc: 0.9955 - val_loss: 0.0771 - val_acc: 0.9854\n",
            "Epoch 8/50\n",
            "3524/3524 [==============================] - 1s 156us/step - loss: 0.0190 - acc: 0.9935 - val_loss: 0.0606 - val_acc: 0.9841\n",
            "Epoch 9/50\n",
            "3524/3524 [==============================] - 1s 154us/step - loss: 0.0138 - acc: 0.9952 - val_loss: 0.0652 - val_acc: 0.9828\n",
            "Epoch 10/50\n",
            "3524/3524 [==============================] - 1s 155us/step - loss: 0.0178 - acc: 0.9952 - val_loss: 0.0737 - val_acc: 0.9841\n",
            "Epoch 11/50\n",
            "3524/3524 [==============================] - 1s 155us/step - loss: 0.0151 - acc: 0.9946 - val_loss: 0.0547 - val_acc: 0.9861\n",
            "Epoch 12/50\n",
            "3524/3524 [==============================] - 1s 157us/step - loss: 0.0184 - acc: 0.9943 - val_loss: 0.0622 - val_acc: 0.9848\n",
            "Epoch 13/50\n",
            "3524/3524 [==============================] - 1s 155us/step - loss: 0.0211 - acc: 0.9935 - val_loss: 0.0573 - val_acc: 0.9854\n",
            "Epoch 14/50\n",
            "3524/3524 [==============================] - 1s 159us/step - loss: 0.0178 - acc: 0.9932 - val_loss: 0.0614 - val_acc: 0.9854\n",
            "Epoch 15/50\n",
            "3524/3524 [==============================] - 1s 156us/step - loss: 0.0109 - acc: 0.9963 - val_loss: 0.0599 - val_acc: 0.9828\n",
            "Epoch 16/50\n",
            "3524/3524 [==============================] - 1s 156us/step - loss: 0.0160 - acc: 0.9952 - val_loss: 0.0590 - val_acc: 0.9848\n",
            "Epoch 17/50\n",
            "3524/3524 [==============================] - 1s 156us/step - loss: 0.0105 - acc: 0.9966 - val_loss: 0.0587 - val_acc: 0.9848\n",
            "Epoch 18/50\n",
            "3524/3524 [==============================] - 1s 157us/step - loss: 0.0133 - acc: 0.9955 - val_loss: 0.0571 - val_acc: 0.9835\n",
            "Epoch 19/50\n",
            "3524/3524 [==============================] - 1s 155us/step - loss: 0.0164 - acc: 0.9938 - val_loss: 0.0595 - val_acc: 0.9808\n",
            "Epoch 20/50\n",
            "3524/3524 [==============================] - 1s 155us/step - loss: 0.0148 - acc: 0.9946 - val_loss: 0.0601 - val_acc: 0.9841\n",
            "Epoch 21/50\n",
            "3524/3524 [==============================] - 1s 155us/step - loss: 0.0079 - acc: 0.9986 - val_loss: 0.0627 - val_acc: 0.9835\n",
            "Epoch 22/50\n",
            "3524/3524 [==============================] - 1s 154us/step - loss: 0.0106 - acc: 0.9969 - val_loss: 0.0551 - val_acc: 0.9881\n",
            "Epoch 23/50\n",
            "3524/3524 [==============================] - 1s 158us/step - loss: 0.0144 - acc: 0.9952 - val_loss: 0.0574 - val_acc: 0.9854\n",
            "Epoch 24/50\n",
            "3524/3524 [==============================] - 1s 155us/step - loss: 0.0069 - acc: 0.9977 - val_loss: 0.0607 - val_acc: 0.9854\n",
            "Epoch 25/50\n",
            "3524/3524 [==============================] - 1s 156us/step - loss: 0.0157 - acc: 0.9940 - val_loss: 0.0747 - val_acc: 0.9815\n",
            "Epoch 26/50\n",
            "3524/3524 [==============================] - 1s 155us/step - loss: 0.0133 - acc: 0.9957 - val_loss: 0.0609 - val_acc: 0.9861\n",
            "Epoch 27/50\n",
            "3524/3524 [==============================] - 1s 157us/step - loss: 0.0084 - acc: 0.9977 - val_loss: 0.0658 - val_acc: 0.9848\n",
            "Epoch 28/50\n",
            "3524/3524 [==============================] - 1s 154us/step - loss: 0.0096 - acc: 0.9960 - val_loss: 0.0647 - val_acc: 0.9841\n",
            "Epoch 29/50\n",
            "3524/3524 [==============================] - 1s 158us/step - loss: 0.0159 - acc: 0.9949 - val_loss: 0.0644 - val_acc: 0.9835\n",
            "Epoch 30/50\n",
            "3524/3524 [==============================] - 1s 154us/step - loss: 0.0141 - acc: 0.9949 - val_loss: 0.0598 - val_acc: 0.9848\n",
            "Epoch 31/50\n",
            "3524/3524 [==============================] - 1s 157us/step - loss: 0.0114 - acc: 0.9969 - val_loss: 0.0598 - val_acc: 0.9861\n",
            "Epoch 32/50\n",
            "3524/3524 [==============================] - 1s 156us/step - loss: 0.0132 - acc: 0.9952 - val_loss: 0.0741 - val_acc: 0.9821\n",
            "Epoch 33/50\n",
            "3524/3524 [==============================] - 1s 157us/step - loss: 0.0097 - acc: 0.9972 - val_loss: 0.0554 - val_acc: 0.9841\n",
            "Epoch 34/50\n",
            "3524/3524 [==============================] - 1s 155us/step - loss: 0.0128 - acc: 0.9963 - val_loss: 0.0569 - val_acc: 0.9841\n",
            "Epoch 35/50\n",
            "3524/3524 [==============================] - 1s 159us/step - loss: 0.0063 - acc: 0.9974 - val_loss: 0.0598 - val_acc: 0.9828\n",
            "Epoch 36/50\n",
            "3524/3524 [==============================] - 1s 157us/step - loss: 0.0102 - acc: 0.9972 - val_loss: 0.0718 - val_acc: 0.9815\n",
            "Epoch 37/50\n",
            "3524/3524 [==============================] - 1s 156us/step - loss: 0.0110 - acc: 0.9966 - val_loss: 0.0666 - val_acc: 0.9808\n",
            "Epoch 38/50\n",
            "3524/3524 [==============================] - 1s 158us/step - loss: 0.0117 - acc: 0.9960 - val_loss: 0.0565 - val_acc: 0.9861\n",
            "Epoch 39/50\n",
            "3524/3524 [==============================] - 1s 157us/step - loss: 0.0111 - acc: 0.9957 - val_loss: 0.0549 - val_acc: 0.9861\n",
            "Epoch 40/50\n",
            "3524/3524 [==============================] - 1s 157us/step - loss: 0.0101 - acc: 0.9966 - val_loss: 0.0699 - val_acc: 0.9861\n",
            "Epoch 41/50\n",
            "3524/3524 [==============================] - 1s 155us/step - loss: 0.0161 - acc: 0.9946 - val_loss: 0.0477 - val_acc: 0.9868\n",
            "Epoch 42/50\n",
            "3524/3524 [==============================] - 1s 158us/step - loss: 0.0075 - acc: 0.9969 - val_loss: 0.0670 - val_acc: 0.9815\n",
            "Epoch 43/50\n",
            "3524/3524 [==============================] - 1s 154us/step - loss: 0.0124 - acc: 0.9960 - val_loss: 0.0589 - val_acc: 0.9848\n",
            "Epoch 44/50\n",
            "3524/3524 [==============================] - 1s 158us/step - loss: 0.0156 - acc: 0.9960 - val_loss: 0.0739 - val_acc: 0.9841\n",
            "Epoch 45/50\n",
            "3524/3524 [==============================] - 1s 156us/step - loss: 0.0125 - acc: 0.9963 - val_loss: 0.0528 - val_acc: 0.9881\n",
            "Epoch 46/50\n",
            "3524/3524 [==============================] - 1s 157us/step - loss: 0.0170 - acc: 0.9943 - val_loss: 0.0652 - val_acc: 0.9854\n",
            "Epoch 47/50\n",
            "3524/3524 [==============================] - 1s 155us/step - loss: 0.0086 - acc: 0.9969 - val_loss: 0.0635 - val_acc: 0.9854\n",
            "Epoch 48/50\n",
            "3524/3524 [==============================] - 1s 158us/step - loss: 0.0111 - acc: 0.9969 - val_loss: 0.0745 - val_acc: 0.9835\n",
            "Epoch 49/50\n",
            "3524/3524 [==============================] - 1s 157us/step - loss: 0.0122 - acc: 0.9957 - val_loss: 0.0601 - val_acc: 0.9868\n",
            "Epoch 50/50\n",
            "3524/3524 [==============================] - 1s 155us/step - loss: 0.0102 - acc: 0.9972 - val_loss: 0.0661 - val_acc: 0.9861\n"
          ],
          "name": "stdout"
        }
      ]
    },
    {
      "cell_type": "code",
      "metadata": {
        "id": "7X2QnE15CTcr",
        "colab_type": "code",
        "outputId": "80a5bebc-6404-4a2c-adfd-945561b17bae",
        "colab": {
          "base_uri": "https://localhost:8080/",
          "height": 573
        }
      },
      "source": [
        "# summarize history for accuracy\n",
        "plt.plot(history.history['acc'])\n",
        "plt.plot(history.history['val_acc'])\n",
        "plt.title('model accuracy')\n",
        "plt.ylabel('accuracy')\n",
        "plt.xlabel('epoch')\n",
        "plt.legend(['train', 'test'], loc='upper left')\n",
        "plt.show()\n",
        "# summarize history for loss\n",
        "plt.plot(history.history['loss'])\n",
        "plt.plot(history.history['val_loss'])\n",
        "plt.title('model loss')\n",
        "plt.ylabel('loss')\n",
        "plt.xlabel('epoch')\n",
        "plt.legend(['train', 'test'], loc='upper left')\n",
        "plt.show()"
      ],
      "execution_count": 31,
      "outputs": [
        {
          "output_type": "display_data",
          "data": {
            "image/png": "[encoded data removed]",
            "text/plain": [
              "<Figure size 432x288 with 1 Axes>"
            ]
          },
          "metadata": {
            "tags": []
          }
        },
        {
          "output_type": "display_data",
          "data": {
            "image/png": "[encoded data removed]",
            "text/plain": [
              "<Figure size 432x288 with 1 Axes>"
            ]
          },
          "metadata": {
            "tags": []
          }
        }
      ]
    },
    {
      "cell_type": "code",
      "metadata": {
        "id": "nBNlMFqHKzvT",
        "colab_type": "code",
        "colab": {}
      },
      "source": [
        "img = test_x[112].reshape(-1,32,32,1)\n",
        "belongs_to_class = test_y[112]"
      ],
      "execution_count": 0,
      "outputs": []
    },
    {
      "cell_type": "code",
      "metadata": {
        "id": "Xtl0LNcwK9Mi",
        "colab_type": "code",
        "outputId": "9636720f-2e3c-4ae8-cef4-b909aa5827d9",
        "colab": {
          "base_uri": "https://localhost:8080/",
          "height": 34
        }
      },
      "source": [
        "print(img.shape)"
      ],
      "execution_count": 44,
      "outputs": [
        {
          "output_type": "stream",
          "text": [
            "(1, 32, 32, 1)\n"
          ],
          "name": "stdout"
        }
      ]
    },
    {
      "cell_type": "code",
      "metadata": {
        "id": "wfkrVqc61jYz",
        "colab_type": "code",
        "colab": {}
      },
      "source": [
        "x = model.predict(img)"
      ],
      "execution_count": 0,
      "outputs": []
    },
    {
      "cell_type": "code",
      "metadata": {
        "id": "nFRTZVJLSXUq",
        "colab_type": "code",
        "outputId": "719bc7a4-2fac-4cfa-f4ac-4b2cda221f4e",
        "colab": {
          "base_uri": "https://localhost:8080/",
          "height": 170
        }
      },
      "source": [
        "print(x)"
      ],
      "execution_count": 46,
      "outputs": [
        {
          "output_type": "stream",
          "text": [
            "[[9.94570366e-14 9.48039354e-22 2.44198580e-21 9.06467554e-20\n",
            "  2.05781139e-12 2.22327529e-21 9.56724210e-18 3.08198156e-14\n",
            "  9.32907159e-22 1.19536131e-21 1.46228126e-14 1.00000000e+00\n",
            "  5.80178093e-12 6.76623254e-13 2.46713694e-20 1.76798328e-15\n",
            "  6.88384310e-21 8.44535325e-17 7.47783996e-22 8.74579716e-19\n",
            "  4.10854148e-20 4.86669439e-18 2.46994321e-20 6.20556100e-25\n",
            "  3.05390920e-19 1.07773472e-19 2.16979732e-18 1.34519536e-15\n",
            "  1.59264691e-14 1.39546872e-20 1.14725319e-16 8.73974680e-22\n",
            "  2.43756304e-15 1.04775014e-17 1.87628601e-17 4.26360155e-17]]\n"
          ],
          "name": "stdout"
        }
      ]
    },
    {
      "cell_type": "code",
      "metadata": {
        "id": "nK7scl2HR_ow",
        "colab_type": "code",
        "colab": {}
      },
      "source": [
        "name = CATEGORIES[np.argmax(x)]\n",
        "bc = CATEGORIES[np.argmax(belongs_to_class)]"
      ],
      "execution_count": 0,
      "outputs": []
    },
    {
      "cell_type": "code",
      "metadata": {
        "id": "8r1OJfbnVpJt",
        "colab_type": "code",
        "outputId": "a5ba88d0-2c72-4b95-bcc6-7e628a2ca62b",
        "colab": {
          "base_uri": "https://localhost:8080/",
          "height": 303
        }
      },
      "source": [
        "%matplotlib inline\n",
        "imgplot = plt.imshow(test_x[112])\n",
        "acc=np.amax(history.history['acc'])\n",
        "acc= acc*100\n",
        "acc = np.trunc(acc)\n",
        "\n",
        "print(\"predicted image is of: {} with accuracy {}\".format(name,acc))\n",
        "print(\"Actual class label is: {}\".format(bc))\n",
        "\n"
      ],
      "execution_count": 48,
      "outputs": [
        {
          "output_type": "stream",
          "text": [
            "predicted image is of: character-12-tha with accuracy 99.0\n",
            "Actual class label is: character-12-tha\n"
          ],
          "name": "stdout"
        },
        {
          "output_type": "display_data",
          "data": {
            "image/png": "[encoded data removed]",
            "text/plain": [
              "<Figure size 432x288 with 1 Axes>"
            ]
          },
          "metadata": {
            "tags": []
          }
        }
      ]
    },
    {
      "cell_type": "code",
      "metadata": {
        "id": "8S6af1hIWEPL",
        "colab_type": "code",
        "colab": {}
      },
      "source": [
        "y_predict = model.predict(test_image_array)"
      ],
      "execution_count": 0,
      "outputs": []
    },
    {
      "cell_type": "code",
      "metadata": {
        "id": "6HADb0G2UkFR",
        "colab_type": "code",
        "colab": {}
      },
      "source": [
        "yPred = model.predict_classes(test_image_array)"
      ],
      "execution_count": 0,
      "outputs": []
    },
    {
      "cell_type": "code",
      "metadata": {
        "id": "651yPSxWVs33",
        "colab_type": "code",
        "outputId": "620f9acd-4e29-45c1-9934-4640f14131c0",
        "colab": {
          "base_uri": "https://localhost:8080/",
          "height": 34
        }
      },
      "source": [
        "yPred[1]"
      ],
      "execution_count": 51,
      "outputs": [
        {
          "output_type": "execute_result",
          "data": {
            "text/plain": [
              "0"
            ]
          },
          "metadata": {
            "tags": []
          },
          "execution_count": 51
        }
      ]
    },
    {
      "cell_type": "code",
      "metadata": {
        "id": "-RCnzGT4V2OC",
        "colab_type": "code",
        "outputId": "5d183e3f-86e5-48fa-ddba-46469a34819e",
        "colab": {
          "base_uri": "https://localhost:8080/",
          "height": 68
        }
      },
      "source": [
        "test_y[1]"
      ],
      "execution_count": 52,
      "outputs": [
        {
          "output_type": "execute_result",
          "data": {
            "text/plain": [
              "array([1., 0., 0., 0., 0., 0., 0., 0., 0., 0., 0., 0., 0., 0., 0., 0., 0.,\n",
              "       0., 0., 0., 0., 0., 0., 0., 0., 0., 0., 0., 0., 0., 0., 0., 0., 0.,\n",
              "       0., 0.], dtype=float32)"
            ]
          },
          "metadata": {
            "tags": []
          },
          "execution_count": 52
        }
      ]
    },
    {
      "cell_type": "code",
      "metadata": {
        "id": "jgGJfEB3WB5Q",
        "colab_type": "code",
        "colab": {}
      },
      "source": [
        "newtest_y=np.argmax(test_y, axis=1)"
      ],
      "execution_count": 0,
      "outputs": []
    },
    {
      "cell_type": "code",
      "metadata": {
        "id": "b5N-CWJRUxdS",
        "colab_type": "code",
        "outputId": "93c24e20-3e37-469f-f2af-4d2687b6a58d",
        "colab": {
          "base_uri": "https://localhost:8080/",
          "height": 170
        }
      },
      "source": [
        "print(\"Confusion matrix \\n=======================\")\n",
        "print(confusion_matrix(y_true=newtest_y, y_pred=yPred))\n"
      ],
      "execution_count": 54,
      "outputs": [
        {
          "output_type": "stream",
          "text": [
            "Confusion matrix \n",
            "=======================\n",
            "[[10  0  0 ...  0  0  0]\n",
            " [ 0 10  0 ...  0  0  0]\n",
            " [ 0  0 10 ...  0  0  0]\n",
            " ...\n",
            " [ 0  0  0 ...  9  0  0]\n",
            " [ 0  0  0 ...  0 10  0]\n",
            " [ 0  0  0 ...  0  0 10]]\n"
          ],
          "name": "stdout"
        }
      ]
    },
    {
      "cell_type": "code",
      "metadata": {
        "id": "dvMNB9Kpqeic",
        "colab_type": "code",
        "colab": {}
      },
      "source": [
        "#datagen.fit(x_train)"
      ],
      "execution_count": 0,
      "outputs": []
    },
    {
      "cell_type": "code",
      "metadata": {
        "id": "Xw1lLQ9QxMt6",
        "colab_type": "code",
        "colab": {}
      },
      "source": [
        "cm = confusion_matrix(newtest_y,yPred)"
      ],
      "execution_count": 0,
      "outputs": []
    },
    {
      "cell_type": "code",
      "metadata": {
        "id": "IBBFZwOHSfev",
        "colab_type": "code",
        "outputId": "9bd41454-c1dc-40bf-aec3-b03f54153eb4",
        "colab": {
          "base_uri": "https://localhost:8080/",
          "height": 613
        }
      },
      "source": [
        "plt.figure(figsize= (20, 10))\n",
        "\n",
        "sns.heatmap(cm, annot=True)"
      ],
      "execution_count": 57,
      "outputs": [
        {
          "output_type": "execute_result",
          "data": {
            "text/plain": [
              "<matplotlib.axes._subplots.AxesSubplot at 0x7f99d745c6d8>"
            ]
          },
          "metadata": {
            "tags": []
          },
          "execution_count": 57
        },
        {
          "output_type": "display_data",
          "data": {
            "image/png": "[encoded data removed]",
            "text/plain": [
              "<Figure size 1440x720 with 2 Axes>"
            ]
          },
          "metadata": {
            "tags": []
          }
        }
      ]
    },
    {
      "cell_type": "code",
      "metadata": {
        "id": "FCvckSGgSmsG",
        "colab_type": "code",
        "colab": {}
      },
      "source": [
        ""
      ],
      "execution_count": 0,
      "outputs": []
    }
  ]
}