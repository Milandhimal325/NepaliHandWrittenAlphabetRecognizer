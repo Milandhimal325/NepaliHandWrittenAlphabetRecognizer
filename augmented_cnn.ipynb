{
  "nbformat": 4,
  "nbformat_minor": 0,
  "metadata": {
    "colab": {
      "name": "augmented_cnn.ipynb",
      "version": "0.3.2",
      "provenance": [],
      "include_colab_link": true
    },
    "kernelspec": {
      "name": "python3",
      "display_name": "Python 3"
    },
    "accelerator": "GPU"
  },
  "cells": [
    {
      "cell_type": "markdown",
      "metadata": {
        "id": "view-in-github",
        "colab_type": "text"
      },
      "source": [
        "<a href=\"https://colab.research.google.com/github/Rojan116/NepaliHandWrittenAlphabetRecognizer/blob/master/augmented_cnn.ipynb\" target=\"_parent\"><img src=\"https://colab.research.google.com/assets/colab-badge.svg\" alt=\"Open In Colab\"/></a>"
      ]
    },
    {
      "cell_type": "code",
      "metadata": {
        "id": "Fa0w7bIx81Sq",
        "colab_type": "code",
        "outputId": "219e4b7c-4179-45b5-aea1-6cef1f6c44c5",
        "colab": {
          "base_uri": "https://localhost:8080/",
          "height": 153
        }
      },
      "source": [
        "!git clone https://github.com/Rojan116/NepaliHandWrittenAlphabetRecognizer.git"
      ],
      "execution_count": 13,
      "outputs": [
        {
          "output_type": "stream",
          "text": [
            "Cloning into 'NepaliHandWrittenAlphabetRecognizer'...\n",
            "remote: Enumerating objects: 92100, done.\u001b[K\n",
            "remote: Counting objects:   0% (1/92100)   \u001b[K\rremote: Counting objects:   1% (921/92100)   \u001b[K\rremote: Counting objects:   2% (1842/92100)   \u001b[K\rremote: Counting objects:   3% (2763/92100)   \u001b[K\rremote: Counting objects:   4% (3684/92100)   \u001b[K\rremote: Counting objects:   5% (4605/92100)   \u001b[K\rremote: Counting objects:   6% (5526/92100)   \u001b[K\rremote: Counting objects:   7% (6447/92100)   \u001b[K\rremote: Counting objects:   8% (7368/92100)   \u001b[K\rremote: Counting objects:   9% (8289/92100)   \u001b[K\rremote: Counting objects:  10% (9210/92100)   \u001b[K\rremote: Counting objects:  11% (10131/92100)   \u001b[K\rremote: Counting objects:  12% (11052/92100)   \u001b[K\rremote: Counting objects:  13% (11973/92100)   \u001b[K\rremote: Counting objects:  14% (12894/92100)   \u001b[K\rremote: Counting objects:  15% (13815/92100)   \u001b[K\rremote: Counting objects:  16% (14736/92100)   \u001b[K\rremote: Counting objects:  17% (15657/92100)   \u001b[K\rremote: Counting objects:  18% (16578/92100)   \u001b[K\rremote: Counting objects:  19% (17499/92100)   \u001b[K\rremote: Counting objects:  20% (18420/92100)   \u001b[K\rremote: Counting objects:  21% (19341/92100)   \u001b[K\rremote: Counting objects:  22% (20262/92100)   \u001b[K\rremote: Counting objects:  23% (21183/92100)   \u001b[K\rremote: Counting objects:  24% (22104/92100)   \u001b[K\rremote: Counting objects:  25% (23025/92100)   \u001b[K\rremote: Counting objects:  26% (23946/92100)   \u001b[K\rremote: Counting objects:  27% (24867/92100)   \u001b[K\rremote: Counting objects:  28% (25788/92100)   \u001b[K\rremote: Counting objects:  29% (26709/92100)   \u001b[K\rremote: Counting objects:  30% (27630/92100)   \u001b[K\rremote: Counting objects:  31% (28551/92100)   \u001b[K\rremote: Counting objects:  32% (29472/92100)   \u001b[K\rremote: Counting objects:  33% (30393/92100)   \u001b[K\rremote: Counting objects:  34% (31314/92100)   \u001b[K\rremote: Counting objects:  35% (32235/92100)   \u001b[K\rremote: Counting objects:  36% (33156/92100)   \u001b[K\rremote: Counting objects:  37% (34077/92100)   \u001b[K\rremote: Counting objects:  38% (34998/92100)   \u001b[K\rremote: Counting objects:  39% (35919/92100)   \u001b[K\rremote: Counting objects:  40% (36840/92100)   \u001b[K\rremote: Counting objects:  41% (37761/92100)   \u001b[K\rremote: Counting objects:  42% (38682/92100)   \u001b[K\rremote: Counting objects:  43% (39603/92100)   \u001b[K\rremote: Counting objects:  44% (40524/92100)   \u001b[K\rremote: Counting objects:  45% (41445/92100)   \u001b[K\rremote: Counting objects:  46% (42366/92100)   \u001b[K\rremote: Counting objects:  47% (43287/92100)   \u001b[K\rremote: Counting objects:  48% (44208/92100)   \u001b[K\rremote: Counting objects:  49% (45129/92100)   \u001b[K\rremote: Counting objects:  50% (46050/92100)   \u001b[K\rremote: Counting objects:  51% (46971/92100)   \u001b[K\rremote: Counting objects:  52% (47892/92100)   \u001b[K\rremote: Counting objects:  53% (48813/92100)   \u001b[K\rremote: Counting objects:  54% (49734/92100)   \u001b[K\rremote: Counting objects:  55% (50655/92100)   \u001b[K\rremote: Counting objects:  56% (51576/92100)   \u001b[K\rremote: Counting objects:  57% (52497/92100)   \u001b[K\rremote: Counting objects:  58% (53418/92100)   \u001b[K\rremote: Counting objects:  59% (54339/92100)   \u001b[K\rremote: Counting objects:  60% (55260/92100)   \u001b[K\rremote: Counting objects:  61% (56181/92100)   \u001b[K\rremote: Counting objects:  62% (57102/92100)   \u001b[K\rremote: Counting objects:  63% (58023/92100)   \u001b[K\rremote: Counting objects:  64% (58944/92100)   \u001b[K\rremote: Counting objects:  65% (59865/92100)   \u001b[K\rremote: Counting objects:  66% (60786/92100)   \u001b[K\rremote: Counting objects:  67% (61707/92100)   \u001b[K\rremote: Counting objects:  68% (62628/92100)   \u001b[K\rremote: Counting objects:  69% (63549/92100)   \u001b[K\rremote: Counting objects:  70% (64470/92100)   \u001b[K\rremote: Counting objects:  71% (65391/92100)   \u001b[K\rremote: Counting objects:  72% (66312/92100)   \u001b[K\rremote: Counting objects:  73% (67233/92100)   \u001b[K\rremote: Counting objects:  74% (68154/92100)   \u001b[K\rremote: Counting objects:  75% (69075/92100)   \u001b[K\rremote: Counting objects:  76% (69996/92100)   \u001b[K\rremote: Counting objects:  77% (70917/92100)   \u001b[K\rremote: Counting objects:  78% (71838/92100)   \u001b[K\rremote: Counting objects:  79% (72759/92100)   \u001b[K\rremote: Counting objects:  80% (73680/92100)   \u001b[K\rremote: Counting objects:  81% (74601/92100)   \u001b[K\rremote: Counting objects:  82% (75522/92100)   \u001b[K\rremote: Counting objects:  83% (76443/92100)   \u001b[K\rremote: Counting objects:  84% (77364/92100)   \u001b[K\rremote: Counting objects:  85% (78285/92100)   \u001b[K\rremote: Counting objects:  86% (79206/92100)   \u001b[K\rremote: Counting objects:  87% (80127/92100)   \u001b[K\rremote: Counting objects:  88% (81048/92100)   \u001b[K\rremote: Counting objects:  89% (81969/92100)   \u001b[K\rremote: Counting objects:  90% (82890/92100)   \u001b[K\rremote: Counting objects:  91% (83811/92100)   \u001b[K\rremote: Counting objects:  92% (84732/92100)   \u001b[K\rremote: Counting objects:  93% (85653/92100)   \u001b[K\rremote: Counting objects:  94% (86574/92100)   \u001b[K\rremote: Counting objects:  95% (87495/92100)   \u001b[K\rremote: Counting objects:  96% (88416/92100)   \u001b[K\rremote: Counting objects:  97% (89337/92100)   \u001b[K\rremote: Counting objects:  98% (90258/92100)   \u001b[K\rremote: Counting objects:  99% (91179/92100)   \u001b[K\rremote: Counting objects: 100% (92100/92100)   \u001b[K\rremote: Counting objects: 100% (92100/92100), done.\u001b[K\n",
            "remote: Compressing objects: 100% (92100/92100), done.\u001b[K\n",
            "remote: Total 92100 (delta 13), reused 92073 (delta 0), pack-reused 0\u001b[K\n",
            "Receiving objects: 100% (92100/92100), 56.78 MiB | 35.80 MiB/s, done.\n",
            "Resolving deltas: 100% (13/13), done.\n",
            "Checking out files: 100% (92010/92010), done.\n"
          ],
          "name": "stdout"
        }
      ]
    },
    {
      "cell_type": "code",
      "metadata": {
        "id": "jHtN-fzK9KOB",
        "colab_type": "code",
        "outputId": "4946336b-41ff-48a7-8f1a-3a8be04c2b3f",
        "colab": {
          "base_uri": "https://localhost:8080/",
          "height": 119
        }
      },
      "source": [
        "ls"
      ],
      "execution_count": 14,
      "outputs": [
        {
          "output_type": "stream",
          "text": [
            "CNN.ipynb                             new_cnn_98%.ipynb\n",
            "dev.py                                new_cnn.ipynb\n",
            "\u001b[0m\u001b[01;34mdhrcdata\u001b[0m/                             new_cnn_may14.ipynb\n",
            "image_augmentation.ipynb              new_cnn_may15.ipynb\n",
            "\u001b[01;34mNepaliHandWrittenAlphabetRecognizer\u001b[0m/  new_cnn_may16.ipynb\n",
            "new_cnn_9766_acc.ipynb                Untitled.ipynb\n"
          ],
          "name": "stdout"
        }
      ]
    },
    {
      "cell_type": "code",
      "metadata": {
        "id": "6-Y4SAWO9Q1G",
        "colab_type": "code",
        "outputId": "bc0fdb4b-6ac9-4441-cfbf-98e279521cc0",
        "colab": {
          "base_uri": "https://localhost:8080/",
          "height": 34
        }
      },
      "source": [
        "cd NepaliHandWrittenAlphabetRecognizer"
      ],
      "execution_count": 15,
      "outputs": [
        {
          "output_type": "stream",
          "text": [
            "/content/NepaliHandWrittenAlphabetRecognizer/NepaliHandWrittenAlphabetRecognizer\n"
          ],
          "name": "stdout"
        }
      ]
    },
    {
      "cell_type": "code",
      "metadata": {
        "id": "AK0RS0g19VaY",
        "colab_type": "code",
        "colab": {}
      },
      "source": [
        "import cv2\n",
        "import matplotlib.pyplot as plt\n",
        "import numpy as np\n",
        "import os\n",
        "import tensorflow as tf\n",
        "from tqdm import tqdm\n",
        "import random\n",
        "from keras.utils import to_categorical\n",
        "from keras.preprocessing.image import ImageDataGenerator\n",
        "from keras.callbacks import ReduceLROnPlateau\n",
        "\n",
        "from keras.models import Sequential\n",
        "from keras.layers import *\n",
        "from keras.optimizers import *"
      ],
      "execution_count": 0,
      "outputs": []
    },
    {
      "cell_type": "code",
      "metadata": {
        "id": "XUB5C0nB9YOg",
        "colab_type": "code",
        "colab": {}
      },
      "source": [
        "PATH = os.getcwd()\n",
        "DATADIR = PATH + '/dhrcdata/Train'\t\t\n",
        "train_data_path = PATH + '/dhrcdata/Train'\n",
        "test_data_path = PATH + '/dhrcdata/Test'\n"
      ],
      "execution_count": 0,
      "outputs": []
    },
    {
      "cell_type": "code",
      "metadata": {
        "id": "kTFBK9wD9aqu",
        "colab_type": "code",
        "colab": {}
      },
      "source": [
        "CATEGORIES = [\n",
        "\n",
        "\"character_1_ka\",\"character_2_kha\",\"character_3_ga\",\"character_4_gha\",\"character_5_kna\",\n",
        "\"character_6_cha\",\"character_7_chha\",\"character_8_ja\",\"character_9_jha\",\"character_10_yna\",\n",
        "\"character_11_taamatar\",\"character_12_thaa\",\"character_13_daa\",\"character_14_dhaa\",\"character_15_adna\",\n",
        "\"character_16_tabala\",\"character_17_tha\",\"character_18_da\",\"character_19_dha\",\"character_20_na\",\"character_21_pa\",\n",
        "\"character_22_pha\",\"character_23_ba\",\"character_24_bha\",\"character_25_ma\",\"character_26_yaw\",\"character_27_ra\",\n",
        "\"character_28_la\",\"character_29_waw\",\"character_30_motosaw\",\"character_31_petchiryakha\",\"character_32_patalosaw\",\n",
        "\"character_33_ha\",\"character_34_chhya\",\"character_35_tra\",\"character_36_gya\",\"digit_0\",\"digit_1\",\"digit_2\",\"digit_3\",\n",
        "\"digit_4\",\"digit_5\",\"digit_6\",\"digit_7\",\"digit_8\",\"digit_9\"\n",
        "\n",
        "]\n"
      ],
      "execution_count": 0,
      "outputs": []
    },
    {
      "cell_type": "code",
      "metadata": {
        "id": "as1xbqAW9d5P",
        "colab_type": "code",
        "colab": {}
      },
      "source": [
        "IMG_SIZE = 32\n",
        "training_data = []\n",
        "testing_data = []\n",
        "\n",
        "def create_training_data():\n",
        "  for catagory in CATEGORIES:\n",
        "    path = os.path.join(train_data_path, catagory)\n",
        "    class_num = CATEGORIES.index(catagory)\n",
        "    for img in os.listdir(path):\n",
        "        try:\n",
        "          img_array = cv2.imread(os.path.join(path,img),cv2.IMREAD_GRAYSCALE)\n",
        "          new_array = cv2.resize(img_array,(IMG_SIZE,IMG_SIZE))\n",
        "          training_data.append([new_array,class_num])\n",
        "        except Exception as e:\n",
        "          pass\n",
        "\n",
        "\n",
        "\n",
        "def create_testing_data():\n",
        "  for catagory in CATEGORIES:\n",
        "    path = os.path.join(test_data_path, catagory)\n",
        "    class_num = CATEGORIES.index(catagory)\n",
        "    for img in os.listdir(path):\n",
        "        try:\n",
        "          img_array = cv2.imread(os.path.join(path,img),cv2.IMREAD_GRAYSCALE)\n",
        "          new_array = cv2.resize(img_array,(IMG_SIZE,IMG_SIZE))\n",
        "          testing_data.append([new_array,class_num])\n",
        "        except Exception as e:\n",
        "          pass\n",
        "\n",
        "\n",
        "\n",
        "create_training_data()\n",
        "create_testing_data()\n"
      ],
      "execution_count": 0,
      "outputs": []
    },
    {
      "cell_type": "code",
      "metadata": {
        "id": "_7a9Hftp9kSg",
        "colab_type": "code",
        "colab": {
          "base_uri": "https://localhost:8080/",
          "height": 68
        },
        "outputId": "8fc24208-951e-4506-8b2e-4e0ab67d7933"
      },
      "source": [
        "#shuffle training data for trainning diff image set in every batch\n",
        "random.shuffle(training_data)\n",
        "\n",
        "#hot encode image dataset\n",
        "\n",
        "train_x = []\n",
        "train_y = []\n",
        "test_x = []\n",
        "test_y = []\n",
        "\n",
        "\n",
        "\n",
        "#seperating features and labels from list\n",
        "for features, labels in training_data:\n",
        "\ttrain_x.append(features)\n",
        "\ttrain_y.append(labels)\n",
        "\n",
        "for features, labels in testing_data:\n",
        "\ttest_x.append(features)\n",
        "\ttest_y.append(labels)\n",
        "\n",
        "\n",
        "#converting list to array\n",
        "train_y_array = np.array(train_y)\n",
        "test_y_array = np.array(test_y)\n",
        "\n",
        "#converting image dataset to input 32*32 dataset \n",
        "\n",
        "train_image_array = np.array(train_x).reshape(-1,32,32,1)\n",
        "test_image_array = np.array(test_x).reshape(-1,32,32,1)\n",
        "\n",
        "#counting total number of class in dataset\n",
        "classes = np.unique(test_y_array)\n",
        "print(classes)\n",
        "print(\"total number of class={} \".format(len(classes)))\n",
        "\n"
      ],
      "execution_count": 35,
      "outputs": [
        {
          "output_type": "stream",
          "text": [
            "[ 0  1  2  3  4  5  6  7  8  9 10 11 12 13 14 15 16 17 18 19 20 21 22 23\n",
            " 24 25 26 27 28 29 30 31 32 33 34 35 36 37 38 39 40 41 42 43 44 45]\n",
            "total number of class=46 \n"
          ],
          "name": "stdout"
        }
      ]
    },
    {
      "cell_type": "code",
      "metadata": {
        "id": "DJyBFLIrFs_G",
        "colab_type": "code",
        "colab": {
          "base_uri": "https://localhost:8080/",
          "height": 269
        },
        "outputId": "2eab5875-2344-429d-bba6-6f5dabe92bbb"
      },
      "source": [
        "# convert from int to float\n",
        "x_train = train_image_array.astype('float32')\n",
        "x_test = test_image_array.astype('float32')\n",
        "# define data preparation\n",
        "datagen = ImageDataGenerator(featurewise_center=True,\n",
        "                             featurewise_std_normalization=True,\n",
        "                             rotation_range=15,\n",
        "                             width_shift_range=0.1,\n",
        "                             height_shift_range=0.1,\n",
        "                              zoom_range=0.2\n",
        "                            )\n",
        "# fit parameters from data\n",
        "datagen.fit(x_train)\n",
        "# configure batch size and retrieve one batch of images\n",
        "for X_batch, y_batch in datagen.flow(x_train, train_y, batch_size=9):\n",
        "\t# create a grid of 3x3 images\n",
        "\tfor i in range(0, 9):\n",
        "\t\tplt.subplot(330 + 1 + i)\n",
        "\t\tplt.imshow(X_batch[i].reshape(32, 32), cmap=plt.get_cmap('gray'))\n",
        "\t# show the plot\n",
        "\tplt.show()\n",
        "\tbreak"
      ],
      "execution_count": 28,
      "outputs": [
        {
          "output_type": "display_data",
          "data": {
            "image/png": "[encoded data removed]",
            "text/plain": [
              "<Figure size 432x288 with 9 Axes>"
            ]
          },
          "metadata": {
            "tags": []
          }
        }
      ]
    },
    {
      "cell_type": "code",
      "metadata": {
        "id": "OcD8KB1rGHpt",
        "colab_type": "code",
        "colab": {}
      },
      "source": [
        "\n",
        "#one hot enoded class \n",
        "train_y = to_categorical(train_y_array)\n",
        "test_y = to_categorical(test_y_array)\n",
        "\n",
        "\n",
        "train_y = np.array(train_y)\n",
        "test_y = np.array(test_y)\n",
        "\n",
        "#all train x, y and test x y are in array form now\n"
      ],
      "execution_count": 0,
      "outputs": []
    },
    {
      "cell_type": "code",
      "metadata": {
        "id": "HTyQPCKc9AuW",
        "colab_type": "code",
        "outputId": "a607bac1-3794-4ba1-ef38-624c490baab9",
        "colab": {
          "base_uri": "https://localhost:8080/",
          "height": 714
        }
      },
      "source": [
        "#new model\n",
        "\n",
        "# Set the CNN model \n",
        "# my CNN architechture is In -> [[Conv2D->relu]*2 -> MaxPool2D -> Dropout]*2 -> Flatten -> Dense -> Dropout -> Out\n",
        "\n",
        "model = Sequential()\n",
        "\n",
        "model.add(Conv2D(filters = 32, kernel_size = (5,5),padding = 'Same', \n",
        "                 activation ='relu', input_shape = (32,32,1)))\n",
        "model.add(Conv2D(filters = 32, kernel_size = (5,5),padding = 'Same', \n",
        "                 activation ='relu'))\n",
        "model.add(MaxPool2D(pool_size=(2,2)))\n",
        "model.add(Dropout(0.25))\n",
        "\n",
        "\n",
        "model.add(Conv2D(filters = 64, kernel_size = (3,3),padding = 'Same', \n",
        "                 activation ='relu'))\n",
        "model.add(Conv2D(filters = 64, kernel_size = (3,3),padding = 'Same', \n",
        "                 activation ='relu'))\n",
        "model.add(MaxPool2D(pool_size=(2,2), strides=(2,2)))\n",
        "model.add(Dropout(0.25))\n",
        "\n",
        "\n",
        "model.add(Flatten())\n",
        "model.add(Dense(256, activation = \"relu\"))\n",
        "model.add(Dropout(0.5))\n",
        "model.add(Dense(46, activation = \"softmax\"))\n",
        "\n",
        "# Define the optimizer\n",
        "#optimizer = RMSprop(lr=0.001, rho=0.9, epsilon=1e-08, decay=0.0)\n",
        "optimizer = Adam(lr=0.0001)\n",
        "\n",
        "# Compile the model\n",
        "model.compile(optimizer = optimizer , loss = \"categorical_crossentropy\", metrics=[\"accuracy\"])\n",
        "\n",
        "#model.summary()\n",
        "\n",
        "history = model.fit(x=train_image_array,y=train_y,epochs=20,batch_size=100, validation_split=0.3)"
      ],
      "execution_count": 30,
      "outputs": [
        {
          "output_type": "stream",
          "text": [
            "Train on 54740 samples, validate on 23460 samples\n",
            "Epoch 1/20\n",
            "54740/54740 [==============================] - 8s 154us/step - loss: 5.6318 - acc: 0.0984 - val_loss: 2.3609 - val_acc: 0.4639\n",
            "Epoch 2/20\n",
            "54740/54740 [==============================] - 8s 143us/step - loss: 2.0926 - acc: 0.4237 - val_loss: 0.8001 - val_acc: 0.8020\n",
            "Epoch 3/20\n",
            "54740/54740 [==============================] - 8s 144us/step - loss: 1.1498 - acc: 0.6641 - val_loss: 0.4228 - val_acc: 0.8881\n",
            "Epoch 4/20\n",
            "54740/54740 [==============================] - 8s 144us/step - loss: 0.7693 - acc: 0.7718 - val_loss: 0.2770 - val_acc: 0.9233\n",
            "Epoch 5/20\n",
            "54740/54740 [==============================] - 8s 146us/step - loss: 0.5634 - acc: 0.8312 - val_loss: 0.2042 - val_acc: 0.9429\n",
            "Epoch 6/20\n",
            "54740/54740 [==============================] - 8s 148us/step - loss: 0.4364 - acc: 0.8673 - val_loss: 0.1604 - val_acc: 0.9537\n",
            "Epoch 7/20\n",
            "54740/54740 [==============================] - 8s 149us/step - loss: 0.3596 - acc: 0.8912 - val_loss: 0.1317 - val_acc: 0.9619\n",
            "Epoch 8/20\n",
            "54740/54740 [==============================] - 8s 145us/step - loss: 0.3097 - acc: 0.9055 - val_loss: 0.1175 - val_acc: 0.9660\n",
            "Epoch 9/20\n",
            "54740/54740 [==============================] - 8s 145us/step - loss: 0.2611 - acc: 0.9189 - val_loss: 0.0994 - val_acc: 0.9712\n",
            "Epoch 10/20\n",
            "54740/54740 [==============================] - 8s 145us/step - loss: 0.2278 - acc: 0.9284 - val_loss: 0.0880 - val_acc: 0.9740\n",
            "Epoch 11/20\n",
            "54740/54740 [==============================] - 8s 146us/step - loss: 0.1994 - acc: 0.9375 - val_loss: 0.0807 - val_acc: 0.9771\n",
            "Epoch 12/20\n",
            "54740/54740 [==============================] - 8s 148us/step - loss: 0.1802 - acc: 0.9446 - val_loss: 0.0764 - val_acc: 0.9775\n",
            "Epoch 13/20\n",
            "54740/54740 [==============================] - 8s 146us/step - loss: 0.1585 - acc: 0.9502 - val_loss: 0.0707 - val_acc: 0.9795\n",
            "Epoch 14/20\n",
            "54740/54740 [==============================] - 8s 146us/step - loss: 0.1425 - acc: 0.9556 - val_loss: 0.0691 - val_acc: 0.9805\n",
            "Epoch 15/20\n",
            "54740/54740 [==============================] - 8s 148us/step - loss: 0.1289 - acc: 0.9597 - val_loss: 0.0625 - val_acc: 0.9827\n",
            "Epoch 16/20\n",
            "54740/54740 [==============================] - 8s 148us/step - loss: 0.1179 - acc: 0.9611 - val_loss: 0.0646 - val_acc: 0.9815\n",
            "Epoch 17/20\n",
            "54740/54740 [==============================] - 8s 147us/step - loss: 0.1091 - acc: 0.9651 - val_loss: 0.0573 - val_acc: 0.9842\n",
            "Epoch 18/20\n",
            "54740/54740 [==============================] - 8s 146us/step - loss: 0.1007 - acc: 0.9676 - val_loss: 0.0543 - val_acc: 0.9845\n",
            "Epoch 19/20\n",
            "54740/54740 [==============================] - 8s 146us/step - loss: 0.0931 - acc: 0.9695 - val_loss: 0.0529 - val_acc: 0.9854\n",
            "Epoch 20/20\n",
            "54740/54740 [==============================] - 8s 146us/step - loss: 0.0866 - acc: 0.9722 - val_loss: 0.0519 - val_acc: 0.9855\n"
          ],
          "name": "stdout"
        }
      ]
    },
    {
      "cell_type": "code",
      "metadata": {
        "id": "7X2QnE15CTcr",
        "colab_type": "code",
        "colab": {
          "base_uri": "https://localhost:8080/",
          "height": 573
        },
        "outputId": "6b904be6-5088-4fe6-d96f-42ca06fc547a"
      },
      "source": [
        "# summarize history for accuracy\n",
        "plt.plot(history.history['acc'])\n",
        "plt.plot(history.history['val_acc'])\n",
        "plt.title('model accuracy')\n",
        "plt.ylabel('accuracy')\n",
        "plt.xlabel('epoch')\n",
        "plt.legend(['train', 'test'], loc='upper left')\n",
        "plt.show()\n",
        "# summarize history for loss\n",
        "plt.plot(history.history['loss'])\n",
        "plt.plot(history.history['val_loss'])\n",
        "plt.title('model loss')\n",
        "plt.ylabel('loss')\n",
        "plt.xlabel('epoch')\n",
        "plt.legend(['train', 'test'], loc='upper left')\n",
        "plt.show()"
      ],
      "execution_count": 31,
      "outputs": [
        {
          "output_type": "display_data",
          "data": {
            "image/png": "[encoded data removed]",
            "text/plain": [
              "<Figure size 432x288 with 1 Axes>"
            ]
          },
          "metadata": {
            "tags": []
          }
        },
        {
          "output_type": "display_data",
          "data": {
            "image/png": "[encoded data removed]",
            "text/plain": [
              "<Figure size 432x288 with 1 Axes>"
            ]
          },
          "metadata": {
            "tags": []
          }
        }
      ]
    },
    {
      "cell_type": "code",
      "metadata": {
        "id": "tdgletcVI_sA",
        "colab_type": "code",
        "colab": {}
      },
      "source": [
        ""
      ],
      "execution_count": 0,
      "outputs": []
    }
  ]
}