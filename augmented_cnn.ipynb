{
  "nbformat": 4,
  "nbformat_minor": 0,
  "metadata": {
    "colab": {
      "name": "augmented_cnn.ipynb",
      "version": "0.3.2",
      "provenance": [],
      "collapsed_sections": [],
      "include_colab_link": true
    },
    "kernelspec": {
      "name": "python3",
      "display_name": "Python 3"
    },
    "accelerator": "GPU"
  },
  "cells": [
    {
      "cell_type": "markdown",
      "metadata": {
        "id": "view-in-github",
        "colab_type": "text"
      },
      "source": [
        "<a href=\"https://colab.research.google.com/github/Rojan116/NepaliHandWrittenAlphabetRecognizer/blob/master/augmented_cnn.ipynb\" target=\"_parent\"><img src=\"https://colab.research.google.com/assets/colab-badge.svg\" alt=\"Open In Colab\"/></a>"
      ]
    },
    {
      "cell_type": "code",
      "metadata": {
        "id": "Fa0w7bIx81Sq",
        "colab_type": "code",
        "outputId": "ff7fa0d4-2df6-4b54-a5d0-a956aee429a7",
        "colab": {
          "base_uri": "https://localhost:8080/",
          "height": 34
        }
      },
      "source": [
        "!git clone https://github.com/Rojan116/NepaliHandWrittenAlphabetRecognizer.git"
      ],
      "execution_count": 1,
      "outputs": [
        {
          "output_type": "stream",
          "text": [
            "fatal: destination path 'NepaliHandWrittenAlphabetRecognizer' already exists and is not an empty directory.\n"
          ],
          "name": "stdout"
        }
      ]
    },
    {
      "cell_type": "code",
      "metadata": {
        "id": "jHtN-fzK9KOB",
        "colab_type": "code",
        "outputId": "7e81377c-bd4d-4f8e-82c8-2a9f35a89b94",
        "colab": {
          "base_uri": "https://localhost:8080/",
          "height": 34
        }
      },
      "source": [
        "ls"
      ],
      "execution_count": 2,
      "outputs": [
        {
          "output_type": "stream",
          "text": [
            "\u001b[0m\u001b[01;34mNepaliHandWrittenAlphabetRecognizer\u001b[0m/  \u001b[01;34msample_data\u001b[0m/\n"
          ],
          "name": "stdout"
        }
      ]
    },
    {
      "cell_type": "code",
      "metadata": {
        "id": "6-Y4SAWO9Q1G",
        "colab_type": "code",
        "outputId": "2756c349-43cf-480f-f5ad-bd7bed3db86f",
        "colab": {
          "base_uri": "https://localhost:8080/",
          "height": 34
        }
      },
      "source": [
        "cd NepaliHandWrittenAlphabetRecognizer"
      ],
      "execution_count": 3,
      "outputs": [
        {
          "output_type": "stream",
          "text": [
            "/content/NepaliHandWrittenAlphabetRecognizer\n"
          ],
          "name": "stdout"
        }
      ]
    },
    {
      "cell_type": "code",
      "metadata": {
        "id": "AK0RS0g19VaY",
        "colab_type": "code",
        "outputId": "8d7fff3c-1b88-48bd-a18b-fd3636bf5711",
        "colab": {
          "base_uri": "https://localhost:8080/",
          "height": 34
        }
      },
      "source": [
        "import cv2\n",
        "import matplotlib.pyplot as plt\n",
        "import numpy as np\n",
        "import os\n",
        "import tensorflow as tf\n",
        "from tqdm import tqdm\n",
        "import random\n",
        "from keras.utils import to_categorical\n",
        "from keras.preprocessing.image import ImageDataGenerator\n",
        "from keras.callbacks import ReduceLROnPlateau\n",
        "\n",
        "from keras.models import Sequential\n",
        "from keras.layers import *\n",
        "from keras.optimizers import *"
      ],
      "execution_count": 4,
      "outputs": [
        {
          "output_type": "stream",
          "text": [
            "Using TensorFlow backend.\n"
          ],
          "name": "stderr"
        }
      ]
    },
    {
      "cell_type": "code",
      "metadata": {
        "id": "XUB5C0nB9YOg",
        "colab_type": "code",
        "colab": {}
      },
      "source": [
        "PATH = os.getcwd()\n",
        "DATADIR = PATH + '/dhrcdata/Train'\t\t\n",
        "train_data_path = PATH + '/dhrcdata/Train'\n",
        "test_data_path = PATH + '/dhrcdata/Test'\n"
      ],
      "execution_count": 0,
      "outputs": []
    },
    {
      "cell_type": "code",
      "metadata": {
        "id": "MOK18pvNNPTZ",
        "colab_type": "code",
        "outputId": "8b3c89e1-456c-444f-e589-f53bf22f49a8",
        "colab": {
          "base_uri": "https://localhost:8080/",
          "height": 71
        }
      },
      "source": [
        "#counting categories\n",
        "new_cat = []\n",
        "for x in os.listdir(train_data_path):\n",
        "  new_cat.append(x)\n",
        "\n",
        "print(new_cat)  \n",
        "classes = np.unique(new_cat)\n",
        "print(len(classes))\n"
      ],
      "execution_count": 6,
      "outputs": [
        {
          "output_type": "stream",
          "text": [
            "['character_23_ba', 'character_25_ma', 'character_17_tha', 'digit_1', 'character_33_ha', 'character_11_taamatar', 'character_18_da', 'character_16_tabala', 'digit_9', 'character_7_chha', 'character_12_thaa', 'character_6_cha', 'character_29_waw', 'digit_3', 'character_9_jha', 'character_19_dha', 'character_3_ga', 'character_13_daa', 'character_26_yaw', 'character_34_chhya', 'character_8_ja', 'character_30_motosaw', 'character_1_ka', 'character_24_bha', 'character_35_tra', 'character_4_gha', 'character_14_dhaa', 'character_2_kha', 'character_20_na', 'character_36_gya', 'character_10_yna', 'digit_0', 'character_22_pha', 'character_5_kna', 'digit_7', 'character_15_adna', 'digit_5', 'digit_8', 'digit_2', 'character_28_la', 'character_27_ra', 'character_21_pa', 'digit_4', 'character_32_patalosaw', 'character_31_petchiryakha', 'digit_6']\n",
            "46\n"
          ],
          "name": "stdout"
        }
      ]
    },
    {
      "cell_type": "code",
      "metadata": {
        "id": "kTFBK9wD9aqu",
        "colab_type": "code",
        "colab": {}
      },
      "source": [
        "CATEGORIES = [\n",
        "\n",
        "\"character_1_ka\",\"character_2_kha\",\"character_3_ga\",\"character_4_gha\",\"character_5_kna\",\n",
        "\"character_6_cha\",\"character_7_chha\",\"character_8_ja\",\"character_9_jha\",\"character_10_yna\",\n",
        "\"character_11_taamatar\",\"character_12_thaa\",\"character_13_daa\",\"character_14_dhaa\",\"character_15_adna\",\n",
        "\"character_16_tabala\",\"character_17_tha\",\"character_18_da\",\"character_19_dha\",\"character_20_na\",\"character_21_pa\",\n",
        "\"character_22_pha\",\"character_23_ba\",\"character_24_bha\",\"character_25_ma\",\"character_26_yaw\",\"character_27_ra\",\n",
        "\"character_28_la\",\"character_29_waw\",\"character_30_motosaw\",\"character_31_petchiryakha\",\"character_32_patalosaw\",\n",
        "\"character_33_ha\",\"character_34_chhya\",\"character_35_tra\",\"character_36_gya\"\n",
        "\n",
        "]\n"
      ],
      "execution_count": 0,
      "outputs": []
    },
    {
      "cell_type": "code",
      "metadata": {
        "id": "as1xbqAW9d5P",
        "colab_type": "code",
        "colab": {}
      },
      "source": [
        "IMG_SIZE = 32\n",
        "training_data = []\n",
        "testing_data = []\n",
        "\n",
        "def create_training_data():\n",
        "  for catagory in CATEGORIES:\n",
        "    path = os.path.join(train_data_path, catagory)\n",
        "    class_num = CATEGORIES.index(catagory)\n",
        "    for img in os.listdir(path):\n",
        "        try:\n",
        "          img_array = cv2.imread(os.path.join(path,img),cv2.IMREAD_GRAYSCALE)\n",
        "          new_array = cv2.resize(img_array,(IMG_SIZE,IMG_SIZE))\n",
        "          training_data.append([new_array,class_num])\n",
        "        except Exception as e:\n",
        "          pass\n",
        "\n",
        "\n",
        "\n",
        "def create_testing_data():\n",
        "  for catagory in CATEGORIES:\n",
        "    path = os.path.join(test_data_path, catagory)\n",
        "    class_num = CATEGORIES.index(catagory)\n",
        "    for img in os.listdir(path):\n",
        "        try:\n",
        "          img_array = cv2.imread(os.path.join(path,img),cv2.IMREAD_GRAYSCALE)\n",
        "          new_array = cv2.resize(img_array,(IMG_SIZE,IMG_SIZE))\n",
        "          testing_data.append([new_array,class_num])\n",
        "        except Exception as e:\n",
        "          pass\n",
        "\n",
        "\n",
        "\n",
        "create_training_data()\n",
        "create_testing_data()\n"
      ],
      "execution_count": 0,
      "outputs": []
    },
    {
      "cell_type": "code",
      "metadata": {
        "id": "_7a9Hftp9kSg",
        "colab_type": "code",
        "outputId": "68d6f0d3-b2ad-4df7-d0cd-99e0dc715cc1",
        "colab": {
          "base_uri": "https://localhost:8080/",
          "height": 68
        }
      },
      "source": [
        "#shuffle training data for trainning diff image set in every batch\n",
        "random.shuffle(training_data)\n",
        "\n",
        "#hot encode image dataset\n",
        "\n",
        "train_x = []\n",
        "train_y = []\n",
        "test_x = []\n",
        "test_y = []\n",
        "\n",
        "\n",
        "\n",
        "#seperating features and labels from list\n",
        "for features, labels in training_data:\n",
        "\ttrain_x.append(features)\n",
        "\ttrain_y.append(labels)\n",
        "\n",
        "for features, labels in testing_data:\n",
        "\ttest_x.append(features)\n",
        "\ttest_y.append(labels)\n",
        "\n",
        "\n",
        "#converting list to array\n",
        "train_y_array = np.array(train_y)\n",
        "test_y_array = np.array(test_y)\n",
        "\n",
        "#converting image dataset to input 32*32 dataset \n",
        "\n",
        "train_image_array = np.array(train_x).reshape(-1,32,32,1)\n",
        "test_image_array = np.array(test_x).reshape(-1,32,32,1)\n",
        "\n",
        "#counting total number of class in dataset\n",
        "classes = np.unique(test_y_array)\n",
        "print(classes)\n",
        "print(\"total number of class={} \".format(len(classes)))\n",
        "\n"
      ],
      "execution_count": 9,
      "outputs": [
        {
          "output_type": "stream",
          "text": [
            "[ 0  1  2  3  4  5  6  7  8  9 10 11 12 13 14 15 16 17 18 19 20 21 22 23\n",
            " 24 25 26 27 28 29 30 31 32 33 34 35]\n",
            "total number of class=36 \n"
          ],
          "name": "stdout"
        }
      ]
    },
    {
      "cell_type": "code",
      "metadata": {
        "id": "DJyBFLIrFs_G",
        "colab_type": "code",
        "outputId": "aac8de03-adc6-48fb-b282-4d3dadb710d1",
        "colab": {
          "base_uri": "https://localhost:8080/",
          "height": 269
        }
      },
      "source": [
        "# convert from int to float\n",
        "x_train = train_image_array.astype('float32')\n",
        "x_test = test_image_array.astype('float32')\n",
        "# define data preparation\n",
        "datagen = ImageDataGenerator(featurewise_center=True,\n",
        "                             featurewise_std_normalization=True,\n",
        "                             rotation_range=15,\n",
        "                             width_shift_range=0.1,\n",
        "                             height_shift_range=0.1,\n",
        "                              zoom_range=0.2\n",
        "                            )\n",
        "# fit parameters from data\n",
        "datagen.fit(x_train)\n",
        "# configure batch size and retrieve one batch of images\n",
        "for X_batch, y_batch in datagen.flow(x_train, train_y, batch_size=9):\n",
        "\t# create a grid of 3x3 images\n",
        "\tfor i in range(0, 9):\n",
        "\t\tplt.subplot(330 + 1 + i)\n",
        "\t\tplt.imshow(X_batch[i].reshape(32, 32), cmap=plt.get_cmap('gray'))\n",
        "\t# show the plot\n",
        "\tplt.show()\n",
        "\tbreak"
      ],
      "execution_count": 10,
      "outputs": [
        {
          "output_type": "display_data",
          "data": {
            "image/png": "[encoded data removed]",
            "text/plain": [
              "<Figure size 432x288 with 9 Axes>"
            ]
          },
          "metadata": {
            "tags": []
          }
        }
      ]
    },
    {
      "cell_type": "code",
      "metadata": {
        "id": "OcD8KB1rGHpt",
        "colab_type": "code",
        "colab": {}
      },
      "source": [
        "\n",
        "#one hot enoded class \n",
        "train_y = to_categorical(train_y_array)\n",
        "test_y = to_categorical(test_y_array)\n",
        "\n",
        "\n",
        "train_y = np.array(train_y)\n",
        "test_y = np.array(test_y)\n",
        "\n",
        "#all train x, y and test x y are in array form now\n"
      ],
      "execution_count": 0,
      "outputs": []
    },
    {
      "cell_type": "code",
      "metadata": {
        "id": "HTyQPCKc9AuW",
        "colab_type": "code",
        "outputId": "d0133d21-ffbc-4f5a-a0f8-a2c15c5af956",
        "colab": {
          "base_uri": "https://localhost:8080/",
          "height": 7007
        }
      },
      "source": [
        "#new model\n",
        "\n",
        "# Set the CNN model \n",
        "# my CNN architechture is In -> [[Conv2D->relu]*2 -> MaxPool2D -> Dropout]*2 -> Flatten -> Dense -> Dropout -> Out\n",
        "\n",
        "model = Sequential()\n",
        "\n",
        "model.add(Conv2D(filters = 32, kernel_size = (5,5),padding = 'Same', \n",
        "                 activation ='relu', input_shape = (32,32,1)))\n",
        "model.add(Conv2D(filters = 32, kernel_size = (5,5),padding = 'Same', \n",
        "                 activation ='relu'))\n",
        "model.add(MaxPool2D(pool_size=(2,2)))\n",
        "model.add(Dropout(0.25))\n",
        "\n",
        "\n",
        "model.add(Conv2D(filters = 64, kernel_size = (3,3),padding = 'Same', \n",
        "                 activation ='relu'))\n",
        "model.add(Conv2D(filters = 64, kernel_size = (3,3),padding = 'Same', \n",
        "                 activation ='relu'))\n",
        "model.add(MaxPool2D(pool_size=(2,2), strides=(2,2)))\n",
        "model.add(Dropout(0.25))\n",
        "\n",
        "\n",
        "model.add(Flatten())\n",
        "model.add(Dense(256, activation = \"relu\"))\n",
        "model.add(Dropout(0.5))\n",
        "model.add(Dense(36, activation = \"softmax\"))\n",
        "\n",
        "# Define the optimizer\n",
        "#optimizer = RMSprop(lr=0.001, rho=0.9, epsilon=1e-08, decay=0.0)\n",
        "optimizer = Adam(lr=0.0001)\n",
        "\n",
        "# Compile the model\n",
        "model.compile(optimizer = optimizer , loss = \"categorical_crossentropy\", metrics=[\"accuracy\"])\n",
        "\n",
        "#model.summary()\n",
        "\n",
        "history = model.fit(x=train_image_array,y=train_y,epochs=200,batch_size=100, validation_split=0.3)"
      ],
      "execution_count": 12,
      "outputs": [
        {
          "output_type": "stream",
          "text": [
            "WARNING:tensorflow:From /usr/local/lib/python3.6/dist-packages/tensorflow/python/framework/op_def_library.py:263: colocate_with (from tensorflow.python.framework.ops) is deprecated and will be removed in a future version.\n",
            "Instructions for updating:\n",
            "Colocations handled automatically by placer.\n",
            "WARNING:tensorflow:From /usr/local/lib/python3.6/dist-packages/keras/backend/tensorflow_backend.py:3445: calling dropout (from tensorflow.python.ops.nn_ops) with keep_prob is deprecated and will be removed in a future version.\n",
            "Instructions for updating:\n",
            "Please use `rate` instead of `keep_prob`. Rate should be set to `rate = 1 - keep_prob`.\n",
            "WARNING:tensorflow:From /usr/local/lib/python3.6/dist-packages/tensorflow/python/ops/math_ops.py:3066: to_int32 (from tensorflow.python.ops.math_ops) is deprecated and will be removed in a future version.\n",
            "Instructions for updating:\n",
            "Use tf.cast instead.\n",
            "Train on 42840 samples, validate on 18360 samples\n",
            "Epoch 1/200\n",
            "42840/42840 [==============================] - 17s 408us/step - loss: 8.2145 - acc: 0.0597 - val_loss: 2.9643 - val_acc: 0.3056\n",
            "Epoch 2/200\n",
            "42840/42840 [==============================] - 15s 358us/step - loss: 2.3156 - acc: 0.3512 - val_loss: 0.9791 - val_acc: 0.7427\n",
            "Epoch 3/200\n",
            "42840/42840 [==============================] - 15s 359us/step - loss: 1.2869 - acc: 0.6200 - val_loss: 0.5280 - val_acc: 0.8525\n",
            "Epoch 4/200\n",
            "42840/42840 [==============================] - 15s 359us/step - loss: 0.8815 - acc: 0.7369 - val_loss: 0.3608 - val_acc: 0.8968\n",
            "Epoch 5/200\n",
            "42840/42840 [==============================] - 15s 358us/step - loss: 0.6741 - acc: 0.7952 - val_loss: 0.2732 - val_acc: 0.9192\n",
            "Epoch 6/200\n",
            "42840/42840 [==============================] - 15s 359us/step - loss: 0.5433 - acc: 0.8327 - val_loss: 0.2139 - val_acc: 0.9352\n",
            "Epoch 7/200\n",
            "42840/42840 [==============================] - 15s 359us/step - loss: 0.4527 - acc: 0.8607 - val_loss: 0.1860 - val_acc: 0.9425\n",
            "Epoch 8/200\n",
            "42840/42840 [==============================] - 15s 359us/step - loss: 0.3913 - acc: 0.8787 - val_loss: 0.1619 - val_acc: 0.9526\n",
            "Epoch 9/200\n",
            "42840/42840 [==============================] - 15s 360us/step - loss: 0.3302 - acc: 0.8977 - val_loss: 0.1335 - val_acc: 0.9599\n",
            "Epoch 10/200\n",
            "42840/42840 [==============================] - 15s 360us/step - loss: 0.2897 - acc: 0.9100 - val_loss: 0.1165 - val_acc: 0.9649\n",
            "Epoch 11/200\n",
            "42840/42840 [==============================] - 15s 359us/step - loss: 0.2631 - acc: 0.9184 - val_loss: 0.1091 - val_acc: 0.9669\n",
            "Epoch 12/200\n",
            "42840/42840 [==============================] - 15s 359us/step - loss: 0.2297 - acc: 0.9286 - val_loss: 0.1061 - val_acc: 0.9687\n",
            "Epoch 13/200\n",
            "42840/42840 [==============================] - 15s 359us/step - loss: 0.2072 - acc: 0.9347 - val_loss: 0.0979 - val_acc: 0.9701\n",
            "Epoch 14/200\n",
            "42840/42840 [==============================] - 15s 359us/step - loss: 0.1878 - acc: 0.9401 - val_loss: 0.0876 - val_acc: 0.9731\n",
            "Epoch 15/200\n",
            "42840/42840 [==============================] - 15s 358us/step - loss: 0.1672 - acc: 0.9469 - val_loss: 0.0809 - val_acc: 0.9762\n",
            "Epoch 16/200\n",
            "42840/42840 [==============================] - 15s 359us/step - loss: 0.1551 - acc: 0.9501 - val_loss: 0.0742 - val_acc: 0.9785\n",
            "Epoch 17/200\n",
            "42840/42840 [==============================] - 15s 358us/step - loss: 0.1408 - acc: 0.9549 - val_loss: 0.0748 - val_acc: 0.9772\n",
            "Epoch 18/200\n",
            "42840/42840 [==============================] - 15s 360us/step - loss: 0.1318 - acc: 0.9570 - val_loss: 0.0734 - val_acc: 0.9788\n",
            "Epoch 19/200\n",
            "42840/42840 [==============================] - 15s 358us/step - loss: 0.1210 - acc: 0.9619 - val_loss: 0.0691 - val_acc: 0.9811\n",
            "Epoch 20/200\n",
            "42840/42840 [==============================] - 15s 359us/step - loss: 0.1111 - acc: 0.9645 - val_loss: 0.0628 - val_acc: 0.9807\n",
            "Epoch 21/200\n",
            "42840/42840 [==============================] - 15s 359us/step - loss: 0.1055 - acc: 0.9657 - val_loss: 0.0662 - val_acc: 0.9811\n",
            "Epoch 22/200\n",
            "42840/42840 [==============================] - 15s 358us/step - loss: 0.0961 - acc: 0.9690 - val_loss: 0.0594 - val_acc: 0.9830\n",
            "Epoch 23/200\n",
            "42840/42840 [==============================] - 15s 359us/step - loss: 0.0893 - acc: 0.9708 - val_loss: 0.0589 - val_acc: 0.9826\n",
            "Epoch 24/200\n",
            "42840/42840 [==============================] - 15s 358us/step - loss: 0.0856 - acc: 0.9721 - val_loss: 0.0624 - val_acc: 0.9814\n",
            "Epoch 25/200\n",
            "42840/42840 [==============================] - 15s 358us/step - loss: 0.0794 - acc: 0.9742 - val_loss: 0.0594 - val_acc: 0.9834\n",
            "Epoch 26/200\n",
            "42840/42840 [==============================] - 15s 359us/step - loss: 0.0755 - acc: 0.9743 - val_loss: 0.0587 - val_acc: 0.9836\n",
            "Epoch 27/200\n",
            "42840/42840 [==============================] - 15s 357us/step - loss: 0.0712 - acc: 0.9759 - val_loss: 0.0542 - val_acc: 0.9850\n",
            "Epoch 28/200\n",
            "42840/42840 [==============================] - 15s 360us/step - loss: 0.0695 - acc: 0.9770 - val_loss: 0.0533 - val_acc: 0.9852\n",
            "Epoch 29/200\n",
            "42840/42840 [==============================] - 15s 359us/step - loss: 0.0617 - acc: 0.9804 - val_loss: 0.0544 - val_acc: 0.9846\n",
            "Epoch 30/200\n",
            "42840/42840 [==============================] - 15s 358us/step - loss: 0.0613 - acc: 0.9800 - val_loss: 0.0527 - val_acc: 0.9855\n",
            "Epoch 31/200\n",
            "42840/42840 [==============================] - 15s 359us/step - loss: 0.0595 - acc: 0.9799 - val_loss: 0.0515 - val_acc: 0.9857\n",
            "Epoch 32/200\n",
            "42840/42840 [==============================] - 15s 359us/step - loss: 0.0554 - acc: 0.9811 - val_loss: 0.0520 - val_acc: 0.9863\n",
            "Epoch 33/200\n",
            "42840/42840 [==============================] - 15s 358us/step - loss: 0.0518 - acc: 0.9825 - val_loss: 0.0503 - val_acc: 0.9859\n",
            "Epoch 34/200\n",
            "42840/42840 [==============================] - 15s 359us/step - loss: 0.0502 - acc: 0.9826 - val_loss: 0.0528 - val_acc: 0.9853\n",
            "Epoch 35/200\n",
            "42840/42840 [==============================] - 15s 358us/step - loss: 0.0493 - acc: 0.9834 - val_loss: 0.0502 - val_acc: 0.9871\n",
            "Epoch 36/200\n",
            "42840/42840 [==============================] - 15s 359us/step - loss: 0.0445 - acc: 0.9854 - val_loss: 0.0503 - val_acc: 0.9860\n",
            "Epoch 37/200\n",
            "42840/42840 [==============================] - 15s 359us/step - loss: 0.0460 - acc: 0.9854 - val_loss: 0.0528 - val_acc: 0.9867\n",
            "Epoch 38/200\n",
            "42840/42840 [==============================] - 15s 359us/step - loss: 0.0451 - acc: 0.9852 - val_loss: 0.0525 - val_acc: 0.9864\n",
            "Epoch 39/200\n",
            "42840/42840 [==============================] - 15s 359us/step - loss: 0.0425 - acc: 0.9856 - val_loss: 0.0509 - val_acc: 0.9868\n",
            "Epoch 40/200\n",
            "42840/42840 [==============================] - 15s 359us/step - loss: 0.0438 - acc: 0.9849 - val_loss: 0.0495 - val_acc: 0.9868\n",
            "Epoch 41/200\n",
            "42840/42840 [==============================] - 15s 359us/step - loss: 0.0399 - acc: 0.9865 - val_loss: 0.0522 - val_acc: 0.9866\n",
            "Epoch 42/200\n",
            "42840/42840 [==============================] - 15s 359us/step - loss: 0.0371 - acc: 0.9876 - val_loss: 0.0502 - val_acc: 0.9877\n",
            "Epoch 43/200\n",
            "42840/42840 [==============================] - 15s 359us/step - loss: 0.0372 - acc: 0.9874 - val_loss: 0.0498 - val_acc: 0.9875\n",
            "Epoch 44/200\n",
            "42840/42840 [==============================] - 15s 359us/step - loss: 0.0337 - acc: 0.9886 - val_loss: 0.0563 - val_acc: 0.9865\n",
            "Epoch 45/200\n",
            "42840/42840 [==============================] - 15s 359us/step - loss: 0.0359 - acc: 0.9874 - val_loss: 0.0483 - val_acc: 0.9879\n",
            "Epoch 46/200\n",
            "42840/42840 [==============================] - 15s 359us/step - loss: 0.0325 - acc: 0.9896 - val_loss: 0.0482 - val_acc: 0.9875\n",
            "Epoch 47/200\n",
            "42840/42840 [==============================] - 15s 358us/step - loss: 0.0324 - acc: 0.9892 - val_loss: 0.0507 - val_acc: 0.9879\n",
            "Epoch 48/200\n",
            "42840/42840 [==============================] - 15s 359us/step - loss: 0.0287 - acc: 0.9896 - val_loss: 0.0511 - val_acc: 0.9879\n",
            "Epoch 49/200\n",
            "42840/42840 [==============================] - 15s 359us/step - loss: 0.0319 - acc: 0.9895 - val_loss: 0.0470 - val_acc: 0.9885\n",
            "Epoch 50/200\n",
            "42840/42840 [==============================] - 15s 359us/step - loss: 0.0283 - acc: 0.9906 - val_loss: 0.0490 - val_acc: 0.9879\n",
            "Epoch 51/200\n",
            "42840/42840 [==============================] - 15s 358us/step - loss: 0.0310 - acc: 0.9893 - val_loss: 0.0496 - val_acc: 0.9881\n",
            "Epoch 52/200\n",
            "42840/42840 [==============================] - 15s 358us/step - loss: 0.0290 - acc: 0.9900 - val_loss: 0.0509 - val_acc: 0.9876\n",
            "Epoch 53/200\n",
            "42840/42840 [==============================] - 15s 359us/step - loss: 0.0263 - acc: 0.9912 - val_loss: 0.0492 - val_acc: 0.9878\n",
            "Epoch 54/200\n",
            "42840/42840 [==============================] - 15s 360us/step - loss: 0.0277 - acc: 0.9908 - val_loss: 0.0463 - val_acc: 0.9893\n",
            "Epoch 55/200\n",
            "42840/42840 [==============================] - 15s 359us/step - loss: 0.0264 - acc: 0.9908 - val_loss: 0.0532 - val_acc: 0.9879\n",
            "Epoch 56/200\n",
            "42840/42840 [==============================] - 15s 360us/step - loss: 0.0242 - acc: 0.9919 - val_loss: 0.0481 - val_acc: 0.9887\n",
            "Epoch 57/200\n",
            "42840/42840 [==============================] - 15s 359us/step - loss: 0.0249 - acc: 0.9913 - val_loss: 0.0522 - val_acc: 0.9877\n",
            "Epoch 58/200\n",
            "42840/42840 [==============================] - 15s 358us/step - loss: 0.0235 - acc: 0.9925 - val_loss: 0.0456 - val_acc: 0.9893\n",
            "Epoch 59/200\n",
            "42840/42840 [==============================] - 15s 358us/step - loss: 0.0262 - acc: 0.9914 - val_loss: 0.0477 - val_acc: 0.9883\n",
            "Epoch 60/200\n",
            "42840/42840 [==============================] - 15s 358us/step - loss: 0.0229 - acc: 0.9923 - val_loss: 0.0517 - val_acc: 0.9881\n",
            "Epoch 61/200\n",
            "42840/42840 [==============================] - 15s 358us/step - loss: 0.0237 - acc: 0.9923 - val_loss: 0.0493 - val_acc: 0.9893\n",
            "Epoch 62/200\n",
            "42840/42840 [==============================] - 15s 358us/step - loss: 0.0220 - acc: 0.9920 - val_loss: 0.0540 - val_acc: 0.9879\n",
            "Epoch 63/200\n",
            "42840/42840 [==============================] - 15s 359us/step - loss: 0.0224 - acc: 0.9927 - val_loss: 0.0553 - val_acc: 0.9868\n",
            "Epoch 64/200\n",
            "42840/42840 [==============================] - 15s 359us/step - loss: 0.0236 - acc: 0.9921 - val_loss: 0.0468 - val_acc: 0.9894\n",
            "Epoch 65/200\n",
            "42840/42840 [==============================] - 15s 358us/step - loss: 0.0200 - acc: 0.9939 - val_loss: 0.0493 - val_acc: 0.9891\n",
            "Epoch 66/200\n",
            "42840/42840 [==============================] - 15s 358us/step - loss: 0.0188 - acc: 0.9938 - val_loss: 0.0479 - val_acc: 0.9894\n",
            "Epoch 67/200\n",
            "42840/42840 [==============================] - 15s 359us/step - loss: 0.0224 - acc: 0.9924 - val_loss: 0.0463 - val_acc: 0.9891\n",
            "Epoch 68/200\n",
            "42840/42840 [==============================] - 15s 359us/step - loss: 0.0212 - acc: 0.9927 - val_loss: 0.0459 - val_acc: 0.9893\n",
            "Epoch 69/200\n",
            "42840/42840 [==============================] - 15s 357us/step - loss: 0.0213 - acc: 0.9929 - val_loss: 0.0469 - val_acc: 0.9892\n",
            "Epoch 70/200\n",
            "42840/42840 [==============================] - 15s 358us/step - loss: 0.0230 - acc: 0.9926 - val_loss: 0.0442 - val_acc: 0.9892\n",
            "Epoch 71/200\n",
            "42840/42840 [==============================] - 15s 359us/step - loss: 0.0199 - acc: 0.9931 - val_loss: 0.0491 - val_acc: 0.9881\n",
            "Epoch 72/200\n",
            "42840/42840 [==============================] - 15s 358us/step - loss: 0.0189 - acc: 0.9938 - val_loss: 0.0496 - val_acc: 0.9887\n",
            "Epoch 73/200\n",
            "42840/42840 [==============================] - 15s 358us/step - loss: 0.0198 - acc: 0.9935 - val_loss: 0.0475 - val_acc: 0.9894\n",
            "Epoch 74/200\n",
            "42840/42840 [==============================] - 15s 358us/step - loss: 0.0189 - acc: 0.9939 - val_loss: 0.0520 - val_acc: 0.9888\n",
            "Epoch 75/200\n",
            "42840/42840 [==============================] - 15s 359us/step - loss: 0.0175 - acc: 0.9941 - val_loss: 0.0506 - val_acc: 0.9889\n",
            "Epoch 76/200\n",
            "42840/42840 [==============================] - 15s 358us/step - loss: 0.0158 - acc: 0.9946 - val_loss: 0.0562 - val_acc: 0.9880\n",
            "Epoch 77/200\n",
            "42840/42840 [==============================] - 15s 359us/step - loss: 0.0182 - acc: 0.9936 - val_loss: 0.0531 - val_acc: 0.9890\n",
            "Epoch 78/200\n",
            "42840/42840 [==============================] - 15s 359us/step - loss: 0.0172 - acc: 0.9945 - val_loss: 0.0496 - val_acc: 0.9894\n",
            "Epoch 79/200\n",
            "42840/42840 [==============================] - 15s 360us/step - loss: 0.0183 - acc: 0.9936 - val_loss: 0.0467 - val_acc: 0.9892\n",
            "Epoch 80/200\n",
            "42840/42840 [==============================] - 15s 358us/step - loss: 0.0184 - acc: 0.9936 - val_loss: 0.0474 - val_acc: 0.9899\n",
            "Epoch 81/200\n",
            "42840/42840 [==============================] - 15s 358us/step - loss: 0.0171 - acc: 0.9945 - val_loss: 0.0501 - val_acc: 0.9891\n",
            "Epoch 82/200\n",
            "42840/42840 [==============================] - 15s 359us/step - loss: 0.0170 - acc: 0.9944 - val_loss: 0.0526 - val_acc: 0.9887\n",
            "Epoch 83/200\n",
            "42840/42840 [==============================] - 15s 358us/step - loss: 0.0157 - acc: 0.9946 - val_loss: 0.0502 - val_acc: 0.9889\n",
            "Epoch 84/200\n",
            "42840/42840 [==============================] - 15s 358us/step - loss: 0.0173 - acc: 0.9941 - val_loss: 0.0488 - val_acc: 0.9889\n",
            "Epoch 85/200\n",
            "42840/42840 [==============================] - 15s 358us/step - loss: 0.0160 - acc: 0.9953 - val_loss: 0.0482 - val_acc: 0.9896\n",
            "Epoch 86/200\n",
            "42840/42840 [==============================] - 15s 358us/step - loss: 0.0165 - acc: 0.9947 - val_loss: 0.0471 - val_acc: 0.9897\n",
            "Epoch 87/200\n",
            "42840/42840 [==============================] - 15s 358us/step - loss: 0.0142 - acc: 0.9951 - val_loss: 0.0496 - val_acc: 0.9895\n",
            "Epoch 88/200\n",
            "42840/42840 [==============================] - 15s 357us/step - loss: 0.0168 - acc: 0.9944 - val_loss: 0.0466 - val_acc: 0.9896\n",
            "Epoch 89/200\n",
            "42840/42840 [==============================] - 15s 358us/step - loss: 0.0152 - acc: 0.9948 - val_loss: 0.0477 - val_acc: 0.9899\n",
            "Epoch 90/200\n",
            "42840/42840 [==============================] - 15s 358us/step - loss: 0.0151 - acc: 0.9948 - val_loss: 0.0529 - val_acc: 0.9894\n",
            "Epoch 91/200\n",
            "42840/42840 [==============================] - 15s 358us/step - loss: 0.0146 - acc: 0.9950 - val_loss: 0.0479 - val_acc: 0.9896\n",
            "Epoch 92/200\n",
            "42840/42840 [==============================] - 15s 359us/step - loss: 0.0155 - acc: 0.9949 - val_loss: 0.0501 - val_acc: 0.9894\n",
            "Epoch 93/200\n",
            "42840/42840 [==============================] - 15s 358us/step - loss: 0.0134 - acc: 0.9958 - val_loss: 0.0460 - val_acc: 0.9897\n",
            "Epoch 94/200\n",
            "42840/42840 [==============================] - 15s 358us/step - loss: 0.0145 - acc: 0.9955 - val_loss: 0.0492 - val_acc: 0.9899\n",
            "Epoch 95/200\n",
            "42840/42840 [==============================] - 15s 359us/step - loss: 0.0135 - acc: 0.9957 - val_loss: 0.0510 - val_acc: 0.9894\n",
            "Epoch 96/200\n",
            "42840/42840 [==============================] - 15s 358us/step - loss: 0.0141 - acc: 0.9951 - val_loss: 0.0486 - val_acc: 0.9895\n",
            "Epoch 97/200\n",
            "42840/42840 [==============================] - 15s 358us/step - loss: 0.0146 - acc: 0.9948 - val_loss: 0.0479 - val_acc: 0.9901\n",
            "Epoch 98/200\n",
            "42840/42840 [==============================] - 15s 358us/step - loss: 0.0132 - acc: 0.9950 - val_loss: 0.0498 - val_acc: 0.9899\n",
            "Epoch 99/200\n",
            "42840/42840 [==============================] - 15s 358us/step - loss: 0.0145 - acc: 0.9952 - val_loss: 0.0539 - val_acc: 0.9890\n",
            "Epoch 100/200\n",
            "42840/42840 [==============================] - 15s 357us/step - loss: 0.0137 - acc: 0.9954 - val_loss: 0.0501 - val_acc: 0.9889\n",
            "Epoch 101/200\n",
            "42840/42840 [==============================] - 15s 359us/step - loss: 0.0151 - acc: 0.9949 - val_loss: 0.0483 - val_acc: 0.9895\n",
            "Epoch 102/200\n",
            "42840/42840 [==============================] - 15s 359us/step - loss: 0.0141 - acc: 0.9954 - val_loss: 0.0516 - val_acc: 0.9900\n",
            "Epoch 103/200\n",
            "42840/42840 [==============================] - 15s 358us/step - loss: 0.0144 - acc: 0.9951 - val_loss: 0.0518 - val_acc: 0.9895\n",
            "Epoch 104/200\n",
            "42840/42840 [==============================] - 15s 357us/step - loss: 0.0126 - acc: 0.9956 - val_loss: 0.0523 - val_acc: 0.9891\n",
            "Epoch 105/200\n",
            "42840/42840 [==============================] - 15s 359us/step - loss: 0.0125 - acc: 0.9959 - val_loss: 0.0536 - val_acc: 0.9895\n",
            "Epoch 106/200\n",
            "42840/42840 [==============================] - 15s 358us/step - loss: 0.0108 - acc: 0.9963 - val_loss: 0.0515 - val_acc: 0.9902\n",
            "Epoch 107/200\n",
            "42840/42840 [==============================] - 15s 358us/step - loss: 0.0126 - acc: 0.9954 - val_loss: 0.0487 - val_acc: 0.9904\n",
            "Epoch 108/200\n",
            "42840/42840 [==============================] - 15s 357us/step - loss: 0.0108 - acc: 0.9967 - val_loss: 0.0534 - val_acc: 0.9893\n",
            "Epoch 109/200\n",
            "42840/42840 [==============================] - 15s 357us/step - loss: 0.0118 - acc: 0.9961 - val_loss: 0.0520 - val_acc: 0.9897\n",
            "Epoch 110/200\n",
            "42840/42840 [==============================] - 15s 358us/step - loss: 0.0117 - acc: 0.9965 - val_loss: 0.0507 - val_acc: 0.9903\n",
            "Epoch 111/200\n",
            "42840/42840 [==============================] - 15s 358us/step - loss: 0.0139 - acc: 0.9952 - val_loss: 0.0472 - val_acc: 0.9900\n",
            "Epoch 112/200\n",
            "42840/42840 [==============================] - 15s 357us/step - loss: 0.0121 - acc: 0.9957 - val_loss: 0.0569 - val_acc: 0.9889\n",
            "Epoch 113/200\n",
            "42840/42840 [==============================] - 15s 359us/step - loss: 0.0116 - acc: 0.9961 - val_loss: 0.0521 - val_acc: 0.9900\n",
            "Epoch 114/200\n",
            "42840/42840 [==============================] - 15s 358us/step - loss: 0.0124 - acc: 0.9959 - val_loss: 0.0472 - val_acc: 0.9899\n",
            "Epoch 115/200\n",
            "42840/42840 [==============================] - 15s 359us/step - loss: 0.0121 - acc: 0.9958 - val_loss: 0.0541 - val_acc: 0.9890\n",
            "Epoch 116/200\n",
            "42840/42840 [==============================] - 15s 357us/step - loss: 0.0123 - acc: 0.9962 - val_loss: 0.0471 - val_acc: 0.9907\n",
            "Epoch 117/200\n",
            "42840/42840 [==============================] - 15s 358us/step - loss: 0.0114 - acc: 0.9963 - val_loss: 0.0502 - val_acc: 0.9901\n",
            "Epoch 118/200\n",
            "42840/42840 [==============================] - 15s 358us/step - loss: 0.0120 - acc: 0.9962 - val_loss: 0.0498 - val_acc: 0.9899\n",
            "Epoch 119/200\n",
            "42840/42840 [==============================] - 15s 357us/step - loss: 0.0131 - acc: 0.9959 - val_loss: 0.0505 - val_acc: 0.9894\n",
            "Epoch 120/200\n",
            "42840/42840 [==============================] - 15s 358us/step - loss: 0.0110 - acc: 0.9963 - val_loss: 0.0534 - val_acc: 0.9889\n",
            "Epoch 121/200\n",
            "42840/42840 [==============================] - 15s 357us/step - loss: 0.0134 - acc: 0.9958 - val_loss: 0.0477 - val_acc: 0.9898\n",
            "Epoch 122/200\n",
            "42840/42840 [==============================] - 15s 358us/step - loss: 0.0107 - acc: 0.9965 - val_loss: 0.0497 - val_acc: 0.9900\n",
            "Epoch 123/200\n",
            "42840/42840 [==============================] - 15s 357us/step - loss: 0.0115 - acc: 0.9961 - val_loss: 0.0485 - val_acc: 0.9899\n",
            "Epoch 124/200\n",
            "42840/42840 [==============================] - 15s 357us/step - loss: 0.0099 - acc: 0.9964 - val_loss: 0.0491 - val_acc: 0.9907\n",
            "Epoch 125/200\n",
            "42840/42840 [==============================] - 15s 359us/step - loss: 0.0101 - acc: 0.9965 - val_loss: 0.0511 - val_acc: 0.9901\n",
            "Epoch 126/200\n",
            "42840/42840 [==============================] - 15s 358us/step - loss: 0.0104 - acc: 0.9966 - val_loss: 0.0512 - val_acc: 0.9900\n",
            "Epoch 127/200\n",
            "42840/42840 [==============================] - 15s 358us/step - loss: 0.0113 - acc: 0.9966 - val_loss: 0.0544 - val_acc: 0.9896\n",
            "Epoch 128/200\n",
            "42840/42840 [==============================] - 15s 357us/step - loss: 0.0104 - acc: 0.9963 - val_loss: 0.0593 - val_acc: 0.9889\n",
            "Epoch 129/200\n",
            "42840/42840 [==============================] - 15s 356us/step - loss: 0.0129 - acc: 0.9959 - val_loss: 0.0499 - val_acc: 0.9903\n",
            "Epoch 130/200\n",
            "42840/42840 [==============================] - 16s 364us/step - loss: 0.0103 - acc: 0.9967 - val_loss: 0.0511 - val_acc: 0.9903\n",
            "Epoch 131/200\n",
            "42840/42840 [==============================] - 15s 360us/step - loss: 0.0091 - acc: 0.9967 - val_loss: 0.0532 - val_acc: 0.9899\n",
            "Epoch 132/200\n",
            "42840/42840 [==============================] - 16s 366us/step - loss: 0.0109 - acc: 0.9961 - val_loss: 0.0573 - val_acc: 0.9887\n",
            "Epoch 133/200\n",
            "42840/42840 [==============================] - 15s 362us/step - loss: 0.0103 - acc: 0.9963 - val_loss: 0.0579 - val_acc: 0.9899\n",
            "Epoch 134/200\n",
            "42840/42840 [==============================] - 16s 366us/step - loss: 0.0104 - acc: 0.9968 - val_loss: 0.0541 - val_acc: 0.9893\n",
            "Epoch 135/200\n",
            "42840/42840 [==============================] - 15s 361us/step - loss: 0.0089 - acc: 0.9970 - val_loss: 0.0556 - val_acc: 0.9897\n",
            "Epoch 136/200\n",
            "42840/42840 [==============================] - 15s 358us/step - loss: 0.0104 - acc: 0.9967 - val_loss: 0.0607 - val_acc: 0.9885\n",
            "Epoch 137/200\n",
            "42840/42840 [==============================] - 15s 360us/step - loss: 0.0092 - acc: 0.9964 - val_loss: 0.0544 - val_acc: 0.9904\n",
            "Epoch 138/200\n",
            "42840/42840 [==============================] - 15s 357us/step - loss: 0.0106 - acc: 0.9966 - val_loss: 0.0545 - val_acc: 0.9895\n",
            "Epoch 139/200\n",
            "42840/42840 [==============================] - 15s 359us/step - loss: 0.0110 - acc: 0.9966 - val_loss: 0.0603 - val_acc: 0.9893\n",
            "Epoch 140/200\n",
            "42840/42840 [==============================] - 15s 358us/step - loss: 0.0098 - acc: 0.9967 - val_loss: 0.0548 - val_acc: 0.9902\n",
            "Epoch 141/200\n",
            "42840/42840 [==============================] - 15s 358us/step - loss: 0.0109 - acc: 0.9966 - val_loss: 0.0559 - val_acc: 0.9902\n",
            "Epoch 142/200\n",
            "42840/42840 [==============================] - 15s 358us/step - loss: 0.0092 - acc: 0.9971 - val_loss: 0.0525 - val_acc: 0.9907\n",
            "Epoch 143/200\n",
            "42840/42840 [==============================] - 15s 357us/step - loss: 0.0103 - acc: 0.9966 - val_loss: 0.0524 - val_acc: 0.9901\n",
            "Epoch 144/200\n",
            "42840/42840 [==============================] - 15s 359us/step - loss: 0.0078 - acc: 0.9972 - val_loss: 0.0529 - val_acc: 0.9904\n",
            "Epoch 145/200\n",
            "42840/42840 [==============================] - 15s 358us/step - loss: 0.0088 - acc: 0.9972 - val_loss: 0.0507 - val_acc: 0.9904\n",
            "Epoch 146/200\n",
            "42840/42840 [==============================] - 15s 359us/step - loss: 0.0091 - acc: 0.9967 - val_loss: 0.0590 - val_acc: 0.9904\n",
            "Epoch 147/200\n",
            "42840/42840 [==============================] - 15s 358us/step - loss: 0.0095 - acc: 0.9969 - val_loss: 0.0597 - val_acc: 0.9895\n",
            "Epoch 148/200\n",
            "42840/42840 [==============================] - 15s 358us/step - loss: 0.0086 - acc: 0.9970 - val_loss: 0.0568 - val_acc: 0.9901\n",
            "Epoch 149/200\n",
            "42840/42840 [==============================] - 15s 358us/step - loss: 0.0094 - acc: 0.9969 - val_loss: 0.0598 - val_acc: 0.9889\n",
            "Epoch 150/200\n",
            "42840/42840 [==============================] - 15s 359us/step - loss: 0.0098 - acc: 0.9970 - val_loss: 0.0546 - val_acc: 0.9898\n",
            "Epoch 151/200\n",
            "42840/42840 [==============================] - 15s 357us/step - loss: 0.0090 - acc: 0.9969 - val_loss: 0.0559 - val_acc: 0.9895\n",
            "Epoch 152/200\n",
            "42840/42840 [==============================] - 16s 363us/step - loss: 0.0105 - acc: 0.9963 - val_loss: 0.0534 - val_acc: 0.9904\n",
            "Epoch 153/200\n",
            "42840/42840 [==============================] - 15s 359us/step - loss: 0.0087 - acc: 0.9969 - val_loss: 0.0562 - val_acc: 0.9899\n",
            "Epoch 154/200\n",
            "42840/42840 [==============================] - 15s 357us/step - loss: 0.0098 - acc: 0.9970 - val_loss: 0.0522 - val_acc: 0.9905\n",
            "Epoch 155/200\n",
            "42840/42840 [==============================] - 15s 358us/step - loss: 0.0082 - acc: 0.9974 - val_loss: 0.0612 - val_acc: 0.9889\n",
            "Epoch 156/200\n",
            "42840/42840 [==============================] - 15s 358us/step - loss: 0.0089 - acc: 0.9969 - val_loss: 0.0569 - val_acc: 0.9901\n",
            "Epoch 157/200\n",
            "42840/42840 [==============================] - 15s 359us/step - loss: 0.0104 - acc: 0.9967 - val_loss: 0.0506 - val_acc: 0.9911\n",
            "Epoch 158/200\n",
            "42840/42840 [==============================] - 15s 359us/step - loss: 0.0102 - acc: 0.9971 - val_loss: 0.0491 - val_acc: 0.9906\n",
            "Epoch 159/200\n",
            "42840/42840 [==============================] - 15s 357us/step - loss: 0.0089 - acc: 0.9970 - val_loss: 0.0527 - val_acc: 0.9908\n",
            "Epoch 160/200\n",
            "42840/42840 [==============================] - 15s 357us/step - loss: 0.0086 - acc: 0.9973 - val_loss: 0.0588 - val_acc: 0.9895\n",
            "Epoch 161/200\n",
            "42840/42840 [==============================] - 15s 358us/step - loss: 0.0100 - acc: 0.9968 - val_loss: 0.0529 - val_acc: 0.9900\n",
            "Epoch 162/200\n",
            "42840/42840 [==============================] - 15s 359us/step - loss: 0.0077 - acc: 0.9973 - val_loss: 0.0515 - val_acc: 0.9906\n",
            "Epoch 163/200\n",
            "42840/42840 [==============================] - 15s 358us/step - loss: 0.0083 - acc: 0.9973 - val_loss: 0.0538 - val_acc: 0.9905\n",
            "Epoch 164/200\n",
            "42840/42840 [==============================] - 15s 357us/step - loss: 0.0093 - acc: 0.9968 - val_loss: 0.0566 - val_acc: 0.9901\n",
            "Epoch 165/200\n",
            "42840/42840 [==============================] - 15s 358us/step - loss: 0.0075 - acc: 0.9976 - val_loss: 0.0558 - val_acc: 0.9904\n",
            "Epoch 166/200\n",
            "42840/42840 [==============================] - 15s 358us/step - loss: 0.0079 - acc: 0.9972 - val_loss: 0.0536 - val_acc: 0.9904\n",
            "Epoch 167/200\n",
            "42840/42840 [==============================] - 15s 358us/step - loss: 0.0091 - acc: 0.9972 - val_loss: 0.0551 - val_acc: 0.9905\n",
            "Epoch 168/200\n",
            "42840/42840 [==============================] - 15s 358us/step - loss: 0.0082 - acc: 0.9970 - val_loss: 0.0570 - val_acc: 0.9905\n",
            "Epoch 169/200\n",
            "42840/42840 [==============================] - 15s 358us/step - loss: 0.0073 - acc: 0.9976 - val_loss: 0.0585 - val_acc: 0.9907\n",
            "Epoch 170/200\n",
            "42840/42840 [==============================] - 15s 358us/step - loss: 0.0102 - acc: 0.9966 - val_loss: 0.0581 - val_acc: 0.9897\n",
            "Epoch 171/200\n",
            "42840/42840 [==============================] - 15s 358us/step - loss: 0.0078 - acc: 0.9971 - val_loss: 0.0617 - val_acc: 0.9891\n",
            "Epoch 172/200\n",
            "42840/42840 [==============================] - 15s 359us/step - loss: 0.0076 - acc: 0.9973 - val_loss: 0.0552 - val_acc: 0.9906\n",
            "Epoch 173/200\n",
            "42840/42840 [==============================] - 15s 358us/step - loss: 0.0092 - acc: 0.9971 - val_loss: 0.0561 - val_acc: 0.9897\n",
            "Epoch 174/200\n",
            "42840/42840 [==============================] - 15s 359us/step - loss: 0.0086 - acc: 0.9970 - val_loss: 0.0565 - val_acc: 0.9903\n",
            "Epoch 175/200\n",
            "42840/42840 [==============================] - 15s 358us/step - loss: 0.0083 - acc: 0.9973 - val_loss: 0.0525 - val_acc: 0.9906\n",
            "Epoch 176/200\n",
            "42840/42840 [==============================] - 15s 358us/step - loss: 0.0099 - acc: 0.9968 - val_loss: 0.0569 - val_acc: 0.9907\n",
            "Epoch 177/200\n",
            "42840/42840 [==============================] - 15s 358us/step - loss: 0.0078 - acc: 0.9974 - val_loss: 0.0553 - val_acc: 0.9906\n",
            "Epoch 178/200\n",
            "42840/42840 [==============================] - 15s 357us/step - loss: 0.0073 - acc: 0.9976 - val_loss: 0.0541 - val_acc: 0.9905\n",
            "Epoch 179/200\n",
            "42840/42840 [==============================] - 15s 357us/step - loss: 0.0077 - acc: 0.9975 - val_loss: 0.0497 - val_acc: 0.9908\n",
            "Epoch 180/200\n",
            "42840/42840 [==============================] - 15s 357us/step - loss: 0.0085 - acc: 0.9972 - val_loss: 0.0508 - val_acc: 0.9904\n",
            "Epoch 181/200\n",
            "42840/42840 [==============================] - 15s 358us/step - loss: 0.0086 - acc: 0.9973 - val_loss: 0.0537 - val_acc: 0.9910\n",
            "Epoch 182/200\n",
            "42840/42840 [==============================] - 15s 357us/step - loss: 0.0073 - acc: 0.9977 - val_loss: 0.0534 - val_acc: 0.9905\n",
            "Epoch 183/200\n",
            "42840/42840 [==============================] - 15s 357us/step - loss: 0.0080 - acc: 0.9973 - val_loss: 0.0546 - val_acc: 0.9907\n",
            "Epoch 184/200\n",
            "42840/42840 [==============================] - 15s 358us/step - loss: 0.0066 - acc: 0.9979 - val_loss: 0.0548 - val_acc: 0.9910\n",
            "Epoch 185/200\n",
            "42840/42840 [==============================] - 15s 358us/step - loss: 0.0074 - acc: 0.9977 - val_loss: 0.0586 - val_acc: 0.9900\n",
            "Epoch 186/200\n",
            "42840/42840 [==============================] - 15s 357us/step - loss: 0.0074 - acc: 0.9974 - val_loss: 0.0514 - val_acc: 0.9910\n",
            "Epoch 187/200\n",
            "42840/42840 [==============================] - 15s 360us/step - loss: 0.0074 - acc: 0.9977 - val_loss: 0.0548 - val_acc: 0.9907\n",
            "Epoch 188/200\n",
            "42840/42840 [==============================] - 16s 367us/step - loss: 0.0084 - acc: 0.9974 - val_loss: 0.0564 - val_acc: 0.9903\n",
            "Epoch 189/200\n",
            "42840/42840 [==============================] - 16s 367us/step - loss: 0.0079 - acc: 0.9974 - val_loss: 0.0503 - val_acc: 0.9909\n",
            "Epoch 190/200\n",
            "42840/42840 [==============================] - 16s 363us/step - loss: 0.0083 - acc: 0.9972 - val_loss: 0.0519 - val_acc: 0.9906\n",
            "Epoch 191/200\n",
            "42840/42840 [==============================] - 15s 360us/step - loss: 0.0083 - acc: 0.9973 - val_loss: 0.0553 - val_acc: 0.9906\n",
            "Epoch 192/200\n",
            "42840/42840 [==============================] - 15s 361us/step - loss: 0.0078 - acc: 0.9975 - val_loss: 0.0536 - val_acc: 0.9913\n",
            "Epoch 193/200\n",
            "42840/42840 [==============================] - 15s 361us/step - loss: 0.0085 - acc: 0.9974 - val_loss: 0.0534 - val_acc: 0.9904\n",
            "Epoch 194/200\n",
            "42840/42840 [==============================] - 16s 365us/step - loss: 0.0070 - acc: 0.9977 - val_loss: 0.0577 - val_acc: 0.9902\n",
            "Epoch 195/200\n",
            "42840/42840 [==============================] - 16s 362us/step - loss: 0.0076 - acc: 0.9975 - val_loss: 0.0527 - val_acc: 0.9912\n",
            "Epoch 196/200\n",
            "42840/42840 [==============================] - 16s 364us/step - loss: 0.0073 - acc: 0.9976 - val_loss: 0.0570 - val_acc: 0.9905\n",
            "Epoch 197/200\n",
            "42840/42840 [==============================] - 15s 357us/step - loss: 0.0069 - acc: 0.9975 - val_loss: 0.0609 - val_acc: 0.9904\n",
            "Epoch 198/200\n",
            "42840/42840 [==============================] - 15s 357us/step - loss: 0.0076 - acc: 0.9976 - val_loss: 0.0611 - val_acc: 0.9904\n",
            "Epoch 199/200\n",
            "42840/42840 [==============================] - 15s 358us/step - loss: 0.0078 - acc: 0.9978 - val_loss: 0.0526 - val_acc: 0.9913\n",
            "Epoch 200/200\n",
            "42840/42840 [==============================] - 15s 359us/step - loss: 0.0077 - acc: 0.9977 - val_loss: 0.0496 - val_acc: 0.9909\n"
          ],
          "name": "stdout"
        }
      ]
    },
    {
      "cell_type": "code",
      "metadata": {
        "id": "7X2QnE15CTcr",
        "colab_type": "code",
        "outputId": "204aafd5-d568-42c5-90f8-84ab9f318b4b",
        "colab": {
          "base_uri": "https://localhost:8080/",
          "height": 573
        }
      },
      "source": [
        "# summarize history for accuracy\n",
        "plt.plot(history.history['acc'])\n",
        "plt.plot(history.history['val_acc'])\n",
        "plt.title('model accuracy')\n",
        "plt.ylabel('accuracy')\n",
        "plt.xlabel('epoch')\n",
        "plt.legend(['train', 'test'], loc='upper left')\n",
        "plt.show()\n",
        "# summarize history for loss\n",
        "plt.plot(history.history['loss'])\n",
        "plt.plot(history.history['val_loss'])\n",
        "plt.title('model loss')\n",
        "plt.ylabel('loss')\n",
        "plt.xlabel('epoch')\n",
        "plt.legend(['train', 'test'], loc='upper left')\n",
        "plt.show()"
      ],
      "execution_count": 13,
      "outputs": [
        {
          "output_type": "display_data",
          "data": {
            "image/png": "[encoded data removed]",
            "text/plain": [
              "<Figure size 432x288 with 1 Axes>"
            ]
          },
          "metadata": {
            "tags": []
          }
        },
        {
          "output_type": "display_data",
          "data": {
            "image/png": "[encoded data removed]",
            "text/plain": [
              "<Figure size 432x288 with 1 Axes>"
            ]
          },
          "metadata": {
            "tags": []
          }
        }
      ]
    },
    {
      "cell_type": "code",
      "metadata": {
        "id": "nBNlMFqHKzvT",
        "colab_type": "code",
        "colab": {}
      },
      "source": [
        "img = test_x[1936].reshape(-1,32,32,1)\n",
        "belongs_to_class = test_y[1936]"
      ],
      "execution_count": 0,
      "outputs": []
    },
    {
      "cell_type": "code",
      "metadata": {
        "id": "Xtl0LNcwK9Mi",
        "colab_type": "code",
        "outputId": "b6f03f82-26b4-4415-d987-159887dcb20b",
        "colab": {
          "base_uri": "https://localhost:8080/",
          "height": 34
        }
      },
      "source": [
        "print(img.shape)"
      ],
      "execution_count": 15,
      "outputs": [
        {
          "output_type": "stream",
          "text": [
            "(1, 32, 32, 1)\n"
          ],
          "name": "stdout"
        }
      ]
    },
    {
      "cell_type": "code",
      "metadata": {
        "id": "wfkrVqc61jYz",
        "colab_type": "code",
        "colab": {}
      },
      "source": [
        "x = model.predict(img)"
      ],
      "execution_count": 0,
      "outputs": []
    },
    {
      "cell_type": "code",
      "metadata": {
        "id": "nFRTZVJLSXUq",
        "colab_type": "code",
        "outputId": "cd007fc6-a80d-473e-b13a-ee6f9b4af2ad",
        "colab": {
          "base_uri": "https://localhost:8080/",
          "height": 170
        }
      },
      "source": [
        "print(x)"
      ],
      "execution_count": 17,
      "outputs": [
        {
          "output_type": "stream",
          "text": [
            "[[1.31900288e-27 2.54076599e-28 5.55123821e-35 1.75898218e-15\n",
            "  4.98440508e-18 8.12053971e-26 1.00000000e+00 5.07316890e-31\n",
            "  2.25541178e-28 2.78394231e-31 4.71404092e-21 1.37614325e-33\n",
            "  3.30124293e-20 9.23418210e-22 8.20616595e-36 1.18736508e-32\n",
            "  2.40050701e-28 1.96663996e-12 8.55162834e-23 0.00000000e+00\n",
            "  6.34569770e-25 8.42088685e-21 4.22704067e-29 5.52184504e-33\n",
            "  2.17833061e-26 1.59180140e-23 1.57972534e-18 1.64332664e-31\n",
            "  1.49484433e-25 2.99328725e-27 1.56545738e-21 1.18013705e-22\n",
            "  2.22848812e-14 8.85580291e-21 5.27773029e-26 3.48597056e-27]]\n"
          ],
          "name": "stdout"
        }
      ]
    },
    {
      "cell_type": "code",
      "metadata": {
        "id": "nK7scl2HR_ow",
        "colab_type": "code",
        "colab": {}
      },
      "source": [
        "name = CATEGORIES[np.argmax(x)]\n",
        "bc = CATEGORIES[np.argmax(belongs_to_class)]"
      ],
      "execution_count": 0,
      "outputs": []
    },
    {
      "cell_type": "code",
      "metadata": {
        "id": "8r1OJfbnVpJt",
        "colab_type": "code",
        "outputId": "b8c05a52-0902-464b-fdaf-394212f89566",
        "colab": {
          "base_uri": "https://localhost:8080/",
          "height": 303
        }
      },
      "source": [
        "%matplotlib inline\n",
        "imgplot = plt.imshow(test_x[1900])\n",
        "acc=np.amax(history.history['acc'])\n",
        "acc= acc*100\n",
        "acc = np.trunc(acc)\n",
        "\n",
        "print(\"predicted image is of: {} with accuracy {}\".format(name,acc))\n",
        "print(\"Actual class label is: {}\".format(bc))\n",
        "\n"
      ],
      "execution_count": 27,
      "outputs": [
        {
          "output_type": "stream",
          "text": [
            "predicted image is of: character_7_chha with accuracy 99.0\n",
            "Actual class label is: character_7_chha\n"
          ],
          "name": "stdout"
        },
        {
          "output_type": "display_data",
          "data": {
            "image/png": "[encoded data removed]",
            "text/plain": [
              "<Figure size 432x288 with 1 Axes>"
            ]
          },
          "metadata": {
            "tags": []
          }
        }
      ]
    },
    {
      "cell_type": "code",
      "metadata": {
        "id": "8S6af1hIWEPL",
        "colab_type": "code",
        "colab": {}
      },
      "source": [
        ""
      ],
      "execution_count": 0,
      "outputs": []
    },
    {
      "cell_type": "code",
      "metadata": {
        "id": "dvMNB9Kpqeic",
        "colab_type": "code",
        "colab": {}
      },
      "source": [
        "datagen.fit(x_train)"
      ],
      "execution_count": 0,
      "outputs": []
    },
    {
      "cell_type": "code",
      "metadata": {
        "id": "Xw1lLQ9QxMt6",
        "colab_type": "code",
        "colab": {}
      },
      "source": [
        ""
      ],
      "execution_count": 0,
      "outputs": []
    }
  ]
}