{
  "nbformat": 4,
  "nbformat_minor": 0,
  "metadata": {
    "colab": {
      "name": "new_cnn_may14.ipynb",
      "version": "0.3.2",
      "provenance": [],
      "include_colab_link": true
    },
    "kernelspec": {
      "name": "python3",
      "display_name": "Python 3"
    },
    "accelerator": "GPU"
  },
  "cells": [
    {
      "cell_type": "markdown",
      "metadata": {
        "id": "view-in-github",
        "colab_type": "text"
      },
      "source": [
        "<a href=\"https://colab.research.google.com/github/Rojan116/NepaliHandWrittenAlphabetRecognizer/blob/master/new_cnn_9766_acc.ipynb\" target=\"_parent\"><img src=\"https://colab.research.google.com/assets/colab-badge.svg\" alt=\"Open In Colab\"/></a>"
      ]
    },
    {
      "cell_type": "code",
      "metadata": {
        "id": "6Uhar1qmMeGi",
        "colab_type": "code",
        "outputId": "416785c5-acde-4a18-d0a0-5ae3a517a5f8",
        "colab": {
          "base_uri": "https://localhost:8080/",
          "height": 153
        }
      },
      "source": [
        "!git clone https://github.com/Rojan116/NepaliHandWrittenAlphabetRecognizer.git"
      ],
      "execution_count": 1,
      "outputs": [
        {
          "output_type": "stream",
          "text": [
            "Cloning into 'NepaliHandWrittenAlphabetRecognizer'...\n",
            "remote: Enumerating objects: 92085, done.\u001b[K\n",
            "remote: Counting objects: 100% (92085/92085), done.\u001b[K\n",
            "remote: Compressing objects: 100% (92085/92085), done.\u001b[K\n",
            "remote: Total 92085 (delta 5), reused 92073 (delta 0), pack-reused 0\u001b[K\n",
            "Receiving objects: 100% (92085/92085), 56.76 MiB | 2.84 MiB/s, done.\n",
            "Resolving deltas: 100% (5/5), done.\n",
            "Checking out files: 100% (92005/92005), done.\n"
          ],
          "name": "stdout"
        }
      ]
    },
    {
      "cell_type": "code",
      "metadata": {
        "id": "X8kasikyM9hh",
        "colab_type": "code",
        "outputId": "753454e9-311f-4e06-edb2-273b55f3f8eb",
        "colab": {
          "base_uri": "https://localhost:8080/",
          "height": 34
        }
      },
      "source": [
        "ls"
      ],
      "execution_count": 2,
      "outputs": [
        {
          "output_type": "stream",
          "text": [
            "\u001b[0m\u001b[01;34mNepaliHandWrittenAlphabetRecognizer\u001b[0m/  \u001b[01;34msample_data\u001b[0m/\n"
          ],
          "name": "stdout"
        }
      ]
    },
    {
      "cell_type": "code",
      "metadata": {
        "id": "NSngiJhJNIB7",
        "colab_type": "code",
        "outputId": "f9780dd7-54e7-4c0e-8690-63a015b9f763",
        "colab": {
          "base_uri": "https://localhost:8080/",
          "height": 34
        }
      },
      "source": [
        "cd NepaliHandWrittenAlphabetRecognizer"
      ],
      "execution_count": 3,
      "outputs": [
        {
          "output_type": "stream",
          "text": [
            "/content/NepaliHandWrittenAlphabetRecognizer\n"
          ],
          "name": "stdout"
        }
      ]
    },
    {
      "cell_type": "code",
      "metadata": {
        "id": "czGK9iAONLz8",
        "colab_type": "code",
        "colab": {}
      },
      "source": [
        "import cv2\n",
        "import matplotlib.pyplot as plt\n",
        "import numpy as np\n",
        "import os\n",
        "import tensorflow as tf\n",
        "from tqdm import tqdm\n",
        "import random\n",
        "from keras.utils import to_categorical\n",
        "\n",
        "\n"
      ],
      "execution_count": 0,
      "outputs": []
    },
    {
      "cell_type": "code",
      "metadata": {
        "id": "LsmtWrIi4xLc",
        "colab_type": "code",
        "colab": {}
      },
      "source": [
        "#%matplotlib.inline \n",
        "\n",
        "PATH = os.getcwd()\n",
        "DATADIR = PATH + '/dhrcdata/Train'\t\t\n",
        "train_data_path = PATH + '/dhrcdata/Train'\n",
        "test_data_path = PATH + '/dhrcdata/Test'\n"
      ],
      "execution_count": 0,
      "outputs": []
    },
    {
      "cell_type": "code",
      "metadata": {
        "id": "X62kwyHO46b0",
        "colab_type": "code",
        "colab": {}
      },
      "source": [
        "\n",
        "\n",
        "CATEGORIES = [\n",
        "\n",
        "\"character_1_ka\",\"character_2_kha\",\"character_3_ga\",\"character_4_gha\",\"character_5_kna\",\n",
        "\"character_6_cha\",\"character_7_chha\",\"character_8_ja\",\"character_9_jha\",\"character_10_yna\",\n",
        "\"character_11_taamatar\",\"character_12_thaa\",\"character_13_daa\",\"character_14_dhaa\",\"character_15_adna\",\n",
        "\"character_16_tabala\",\"character_17_tha\",\"character_18_da\",\"character_19_dha\",\"character_20_na\",\"character_21_pa\",\n",
        "\"character_22_pha\",\"character_23_ba\",\"character_24_bha\",\"character_25_ma\",\"character_26_yaw\",\"character_27_ra\",\n",
        "\"character_28_la\",\"character_29_waw\",\"character_30_motosaw\",\"character_31_petchiryakha\",\"character_32_patalosaw\",\n",
        "\"character_33_ha\",\"character_34_chhya\",\"character_35_tra\",\"character_36_gya\",\"digit_0\",\"digit_1\",\"digit_2\",\"digit_3\",\n",
        "\"digit_4\",\"digit_5\",\"digit_6\",\"digit_7\",\"digit_8\",\"digit_9\"\n",
        "\n",
        "]\n"
      ],
      "execution_count": 0,
      "outputs": []
    },
    {
      "cell_type": "code",
      "metadata": {
        "id": "0goo09384_Ru",
        "colab_type": "code",
        "colab": {}
      },
      "source": [
        "\n",
        "IMG_SIZE = 32\n",
        "training_data = []\n",
        "testing_data = []\n",
        "\n",
        "def create_training_data():\n",
        "  for catagory in CATEGORIES:\n",
        "    path = os.path.join(train_data_path, catagory)\n",
        "    class_num = CATEGORIES.index(catagory)\n",
        "    for img in os.listdir(path):\n",
        "        try:\n",
        "          img_array = cv2.imread(os.path.join(path,img),cv2.IMREAD_GRAYSCALE)\n",
        "          new_array = cv2.resize(img_array,(IMG_SIZE,IMG_SIZE))\n",
        "          training_data.append([new_array,class_num])\n",
        "        except Exception as e:\n",
        "          pass\n",
        "\n",
        "\n",
        "\n",
        "def create_testing_data():\n",
        "  for catagory in CATEGORIES:\n",
        "    path = os.path.join(test_data_path, catagory)\n",
        "    class_num = CATEGORIES.index(catagory)\n",
        "    for img in os.listdir(path):\n",
        "        try:\n",
        "          img_array = cv2.imread(os.path.join(path,img),cv2.IMREAD_GRAYSCALE)\n",
        "          new_array = cv2.resize(img_array,(IMG_SIZE,IMG_SIZE))\n",
        "          testing_data.append([new_array,class_num])\n",
        "        except Exception as e:\n",
        "          pass\n",
        "\n",
        "\n",
        "\n",
        "create_training_data()\n",
        "create_testing_data()\n",
        "\n"
      ],
      "execution_count": 0,
      "outputs": []
    },
    {
      "cell_type": "code",
      "metadata": {
        "id": "o7hl-nzV5Hxe",
        "colab_type": "code",
        "colab": {}
      },
      "source": [
        "#shuffle training data for trainning diff image set in every batch\n",
        "random.shuffle(training_data)\n",
        "\n",
        "#hot encode image dataset\n",
        "\n",
        "train_x = []\n",
        "train_y = []\n",
        "test_x = []\n",
        "test_y = []\n",
        "\n",
        "\n",
        "\n",
        "#seperating features and labels from list\n",
        "for features, labels in training_data:\n",
        "\ttrain_x.append(features)\n",
        "\ttrain_y.append(labels)\n",
        "\n",
        "for features, labels in testing_data:\n",
        "\ttest_x.append(features)\n",
        "\ttest_y.append(labels)\n",
        "\n",
        "\n",
        "#converting list to array\n",
        "train_y_array = np.array(train_y)\n",
        "test_y_array = np.array(test_y)\n",
        "\n",
        "#converting image dataset to input 32*32 dataset \n",
        "\n",
        "train_image_array = np.array(train_x).reshape(-1,32,32,1)\n",
        "test_image_array = np.array(test_x).reshape(-1,32,32,1)\n",
        "\n",
        "\n",
        "#one hot enoded class \n",
        "train_y = to_categorical(train_y_array)\n",
        "test_y = to_categorical(test_y_array)\n",
        "\n",
        "\n",
        "train_y = np.array(train_y)\n",
        "test_y = np.array(test_y)\n",
        "\n",
        "#all train x, y and test x y are in array form now\n",
        "\n"
      ],
      "execution_count": 0,
      "outputs": []
    },
    {
      "cell_type": "code",
      "metadata": {
        "id": "tP_UgBDT5P6T",
        "colab_type": "code",
        "colab": {
          "base_uri": "https://localhost:8080/",
          "height": 1720
        },
        "outputId": "ea2c1148-1e14-40ae-fe19-4ba1d0715d0e"
      },
      "source": [
        "\n",
        "#now creating our model\n",
        "\n",
        "from keras.models import Sequential\n",
        "from keras.layers import *\n",
        "from keras.optimizers import *\n",
        "\n",
        "model = Sequential()\n",
        "\n",
        "model.add(InputLayer(input_shape=(32,32,1)))\n",
        "model.add(Conv2D(filters=64,kernel_size=3,strides=1,padding='same', activation='relu'))\n",
        "model.add(Conv2D(filters=64,kernel_size=3,strides=1,padding='same', activation='relu'))\n",
        "model.add(MaxPool2D(pool_size=5,padding='same'))\n",
        "\n",
        "model.add(Conv2D(filters=32,kernel_size=3,strides=1,padding='same', activation='relu'))\n",
        "model.add(Conv2D(filters=32,kernel_size=3,strides=1,padding='same', activation='relu'))\n",
        "model.add(MaxPool2D(pool_size=5,padding='same'))\n",
        "\n",
        "# model.add(Conv2D(filters=80,kernel_size=3,strides=1,padding='same', activation='relu'))\n",
        "# model.add(MaxPool2D(pool_size=5,padding='same'))\n",
        "\n",
        "model.add(Dropout(0.25))\n",
        "model.add(Flatten())\n",
        "model.add(Dense(512,activation='relu'))\n",
        "model.add(Dropout(0.5))\n",
        "\n",
        "\n",
        "\n",
        "\n",
        "model.add(Dense(46,activation='softmax'))\n",
        "optimizer = Adam(lr=1e-3)\n",
        "\n",
        "model.compile(optimizer=optimizer, loss='categorical_crossentropy',metrics=['accuracy'])\n",
        "model.fit(x=train_image_array,y=train_y,epochs=30,batch_size=100, validation_split=0.3)\n",
        "\n",
        "model.summary()\n",
        "\n"
      ],
      "execution_count": 11,
      "outputs": [
        {
          "output_type": "stream",
          "text": [
            "WARNING:tensorflow:From /usr/local/lib/python3.6/dist-packages/tensorflow/python/framework/op_def_library.py:263: colocate_with (from tensorflow.python.framework.ops) is deprecated and will be removed in a future version.\n",
            "Instructions for updating:\n",
            "Colocations handled automatically by placer.\n",
            "WARNING:tensorflow:From /usr/local/lib/python3.6/dist-packages/keras/backend/tensorflow_backend.py:3445: calling dropout (from tensorflow.python.ops.nn_ops) with keep_prob is deprecated and will be removed in a future version.\n",
            "Instructions for updating:\n",
            "Please use `rate` instead of `keep_prob`. Rate should be set to `rate = 1 - keep_prob`.\n",
            "WARNING:tensorflow:From /usr/local/lib/python3.6/dist-packages/tensorflow/python/ops/math_ops.py:3066: to_int32 (from tensorflow.python.ops.math_ops) is deprecated and will be removed in a future version.\n",
            "Instructions for updating:\n",
            "Use tf.cast instead.\n",
            "Train on 54740 samples, validate on 23460 samples\n",
            "Epoch 1/30\n",
            "54740/54740 [==============================] - 12s 228us/step - loss: 2.5881 - acc: 0.3264 - val_loss: 0.9417 - val_acc: 0.7099\n",
            "Epoch 2/30\n",
            "54740/54740 [==============================] - 7s 121us/step - loss: 0.9589 - acc: 0.6966 - val_loss: 0.4404 - val_acc: 0.8676\n",
            "Epoch 3/30\n",
            "54740/54740 [==============================] - 7s 121us/step - loss: 0.6154 - acc: 0.8063 - val_loss: 0.3702 - val_acc: 0.8815\n",
            "Epoch 4/30\n",
            "54740/54740 [==============================] - 7s 121us/step - loss: 0.4639 - acc: 0.8555 - val_loss: 0.2312 - val_acc: 0.9311\n",
            "Epoch 5/30\n",
            "54740/54740 [==============================] - 7s 121us/step - loss: 0.3721 - acc: 0.8828 - val_loss: 0.2071 - val_acc: 0.9383\n",
            "Epoch 6/30\n",
            "54740/54740 [==============================] - 7s 122us/step - loss: 0.3205 - acc: 0.8997 - val_loss: 0.1570 - val_acc: 0.9526\n",
            "Epoch 7/30\n",
            "54740/54740 [==============================] - 7s 122us/step - loss: 0.2806 - acc: 0.9130 - val_loss: 0.1380 - val_acc: 0.9578\n",
            "Epoch 8/30\n",
            "54740/54740 [==============================] - 7s 122us/step - loss: 0.2514 - acc: 0.9210 - val_loss: 0.1465 - val_acc: 0.9554\n",
            "Epoch 9/30\n",
            "54740/54740 [==============================] - 7s 122us/step - loss: 0.2337 - acc: 0.9276 - val_loss: 0.1301 - val_acc: 0.9599\n",
            "Epoch 10/30\n",
            "54740/54740 [==============================] - 7s 123us/step - loss: 0.2154 - acc: 0.9324 - val_loss: 0.1189 - val_acc: 0.9646\n",
            "Epoch 11/30\n",
            "54740/54740 [==============================] - 7s 122us/step - loss: 0.2040 - acc: 0.9361 - val_loss: 0.1228 - val_acc: 0.9634\n",
            "Epoch 12/30\n",
            "54740/54740 [==============================] - 7s 126us/step - loss: 0.1938 - acc: 0.9406 - val_loss: 0.1073 - val_acc: 0.9680\n",
            "Epoch 13/30\n",
            "54740/54740 [==============================] - 7s 126us/step - loss: 0.1798 - acc: 0.9436 - val_loss: 0.1098 - val_acc: 0.9659\n",
            "Epoch 14/30\n",
            "54740/54740 [==============================] - 7s 125us/step - loss: 0.1730 - acc: 0.9452 - val_loss: 0.0994 - val_acc: 0.9708\n",
            "Epoch 15/30\n",
            "54740/54740 [==============================] - 7s 123us/step - loss: 0.1700 - acc: 0.9480 - val_loss: 0.1057 - val_acc: 0.9672\n",
            "Epoch 16/30\n",
            "54740/54740 [==============================] - 7s 122us/step - loss: 0.1599 - acc: 0.9509 - val_loss: 0.0919 - val_acc: 0.9733\n",
            "Epoch 17/30\n",
            "54740/54740 [==============================] - 7s 122us/step - loss: 0.1586 - acc: 0.9506 - val_loss: 0.0982 - val_acc: 0.9708\n",
            "Epoch 18/30\n",
            "54740/54740 [==============================] - 7s 121us/step - loss: 0.1498 - acc: 0.9533 - val_loss: 0.1111 - val_acc: 0.9662\n",
            "Epoch 19/30\n",
            "54740/54740 [==============================] - 7s 122us/step - loss: 0.1438 - acc: 0.9554 - val_loss: 0.0815 - val_acc: 0.9749\n",
            "Epoch 20/30\n",
            "54740/54740 [==============================] - 7s 122us/step - loss: 0.1435 - acc: 0.9561 - val_loss: 0.0841 - val_acc: 0.9743\n",
            "Epoch 21/30\n",
            "54740/54740 [==============================] - 7s 122us/step - loss: 0.1339 - acc: 0.9585 - val_loss: 0.0875 - val_acc: 0.9734\n",
            "Epoch 22/30\n",
            "54740/54740 [==============================] - 7s 122us/step - loss: 0.1356 - acc: 0.9568 - val_loss: 0.0835 - val_acc: 0.9751\n",
            "Epoch 23/30\n",
            "54740/54740 [==============================] - 7s 121us/step - loss: 0.1334 - acc: 0.9576 - val_loss: 0.0815 - val_acc: 0.9751\n",
            "Epoch 24/30\n",
            "54740/54740 [==============================] - 7s 126us/step - loss: 0.1302 - acc: 0.9601 - val_loss: 0.0844 - val_acc: 0.9751\n",
            "Epoch 25/30\n",
            "54740/54740 [==============================] - 7s 125us/step - loss: 0.1246 - acc: 0.9607 - val_loss: 0.0792 - val_acc: 0.9753\n",
            "Epoch 26/30\n",
            "54740/54740 [==============================] - 7s 129us/step - loss: 0.1291 - acc: 0.9598 - val_loss: 0.0848 - val_acc: 0.9753\n",
            "Epoch 27/30\n",
            "54740/54740 [==============================] - 7s 125us/step - loss: 0.1221 - acc: 0.9616 - val_loss: 0.0838 - val_acc: 0.9743\n",
            "Epoch 28/30\n",
            "54740/54740 [==============================] - 7s 122us/step - loss: 0.1271 - acc: 0.9602 - val_loss: 0.0838 - val_acc: 0.9746\n",
            "Epoch 29/30\n",
            "54740/54740 [==============================] - 7s 122us/step - loss: 0.1243 - acc: 0.9610 - val_loss: 0.0793 - val_acc: 0.9765\n",
            "Epoch 30/30\n",
            "54740/54740 [==============================] - 7s 122us/step - loss: 0.1188 - acc: 0.9629 - val_loss: 0.0764 - val_acc: 0.9766\n",
            "_________________________________________________________________\n",
            "Layer (type)                 Output Shape              Param #   \n",
            "=================================================================\n",
            "conv2d_1 (Conv2D)            (None, 32, 32, 64)        640       \n",
            "_________________________________________________________________\n",
            "conv2d_2 (Conv2D)            (None, 32, 32, 64)        36928     \n",
            "_________________________________________________________________\n",
            "max_pooling2d_1 (MaxPooling2 (None, 7, 7, 64)          0         \n",
            "_________________________________________________________________\n",
            "conv2d_3 (Conv2D)            (None, 7, 7, 32)          18464     \n",
            "_________________________________________________________________\n",
            "conv2d_4 (Conv2D)            (None, 7, 7, 32)          9248      \n",
            "_________________________________________________________________\n",
            "max_pooling2d_2 (MaxPooling2 (None, 2, 2, 32)          0         \n",
            "_________________________________________________________________\n",
            "dropout_1 (Dropout)          (None, 2, 2, 32)          0         \n",
            "_________________________________________________________________\n",
            "flatten_1 (Flatten)          (None, 128)               0         \n",
            "_________________________________________________________________\n",
            "dense_1 (Dense)              (None, 512)               66048     \n",
            "_________________________________________________________________\n",
            "dropout_2 (Dropout)          (None, 512)               0         \n",
            "_________________________________________________________________\n",
            "dense_2 (Dense)              (None, 46)                23598     \n",
            "=================================================================\n",
            "Total params: 154,926\n",
            "Trainable params: 154,926\n",
            "Non-trainable params: 0\n",
            "_________________________________________________________________\n"
          ],
          "name": "stdout"
        }
      ]
    },
    {
      "cell_type": "code",
      "metadata": {
        "id": "y46FbTE7NPAA",
        "colab_type": "code",
        "colab": {}
      },
      "source": [
        "model.save('androidtest_model.h5')\n",
        "model.save_weights('androidtest_weights.h5')\n"
      ],
      "execution_count": 0,
      "outputs": []
    },
    {
      "cell_type": "code",
      "metadata": {
        "id": "-vNTvdFvS_XC",
        "colab_type": "code",
        "colab": {}
      },
      "source": [
        "ls"
      ],
      "execution_count": 0,
      "outputs": []
    }
  ]
}