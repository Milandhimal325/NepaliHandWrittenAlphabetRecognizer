{
  "nbformat": 4,
  "nbformat_minor": 0,
  "metadata": {
    "colab": {
      "name": "59 class augmented_cnn 1.ipynb",
      "version": "0.3.2",
      "provenance": [],
      "collapsed_sections": [],
      "include_colab_link": true
    },
    "kernelspec": {
      "name": "python3",
      "display_name": "Python 3"
    },
    "accelerator": "GPU"
  },
  "cells": [
    {
      "cell_type": "markdown",
      "metadata": {
        "id": "view-in-github",
        "colab_type": "text"
      },
      "source": [
        "<a href=\"https://colab.research.google.com/github/Rojan116/NepaliHandWrittenAlphabetRecognizer/blob/master/59_class_augmented_cnn_1.ipynb\" target=\"_parent\"><img src=\"https://colab.research.google.com/assets/colab-badge.svg\" alt=\"Open In Colab\"/></a>"
      ]
    },
    {
      "cell_type": "code",
      "metadata": {
        "id": "Fa0w7bIx81Sq",
        "colab_type": "code",
        "outputId": "c136e798-47c7-4bde-f74d-7882033dfbce",
        "colab": {
          "base_uri": "https://localhost:8080/",
          "height": 153
        }
      },
      "source": [
        "!git clone https://github.com/Rojan116/NepaliHandWrittenAlphabetRecognizer.git"
      ],
      "execution_count": 1,
      "outputs": [
        {
          "output_type": "stream",
          "text": [
            "Cloning into 'NepaliHandWrittenAlphabetRecognizer'...\n",
            "remote: Enumerating objects: 8026, done.\u001b[K\n",
            "remote: Counting objects: 100% (8026/8026), done.\u001b[K\n",
            "remote: Compressing objects: 100% (7990/7990), done.\u001b[K\n",
            "remote: Total 105557 (delta 167), reused 7884 (delta 35), pack-reused 97531\n",
            "Receiving objects: 100% (105557/105557), 139.71 MiB | 37.48 MiB/s, done.\n",
            "Resolving deltas: 100% (1717/1717), done.\n",
            "Checking out files: 100% (106171/106171), done.\n"
          ],
          "name": "stdout"
        }
      ]
    },
    {
      "cell_type": "code",
      "metadata": {
        "id": "jHtN-fzK9KOB",
        "colab_type": "code",
        "outputId": "9e351e2c-5c39-4e3c-f46f-efebfe613e3f",
        "colab": {
          "base_uri": "https://localhost:8080/",
          "height": 34
        }
      },
      "source": [
        "ls"
      ],
      "execution_count": 2,
      "outputs": [
        {
          "output_type": "stream",
          "text": [
            "\u001b[0m\u001b[01;34mNepaliHandWrittenAlphabetRecognizer\u001b[0m/  \u001b[01;34msample_data\u001b[0m/\n"
          ],
          "name": "stdout"
        }
      ]
    },
    {
      "cell_type": "code",
      "metadata": {
        "id": "6-Y4SAWO9Q1G",
        "colab_type": "code",
        "outputId": "2e986c8f-748d-4415-fa9f-12bb38e57df0",
        "colab": {
          "base_uri": "https://localhost:8080/",
          "height": 34
        }
      },
      "source": [
        "cd NepaliHandWrittenAlphabetRecognizer"
      ],
      "execution_count": 3,
      "outputs": [
        {
          "output_type": "stream",
          "text": [
            "/content/NepaliHandWrittenAlphabetRecognizer\n"
          ],
          "name": "stdout"
        }
      ]
    },
    {
      "cell_type": "code",
      "metadata": {
        "id": "AK0RS0g19VaY",
        "colab_type": "code",
        "outputId": "d7c33a8c-5353-40a4-8f40-fc69574b0baa",
        "colab": {
          "base_uri": "https://localhost:8080/",
          "height": 34
        }
      },
      "source": [
        "import cv2\n",
        "import matplotlib.pyplot as plt\n",
        "import numpy as np\n",
        "import os\n",
        "import tensorflow as tf\n",
        "from tqdm import tqdm\n",
        "import random\n",
        "from keras.utils import to_categorical\n",
        "from keras.preprocessing.image import ImageDataGenerator\n",
        "from keras.callbacks import ReduceLROnPlateau\n",
        "\n",
        "from keras.models import Sequential\n",
        "from keras.layers import *\n",
        "from keras.optimizers import *"
      ],
      "execution_count": 4,
      "outputs": [
        {
          "output_type": "stream",
          "text": [
            "Using TensorFlow backend.\n"
          ],
          "name": "stderr"
        }
      ]
    },
    {
      "cell_type": "code",
      "metadata": {
        "id": "XUB5C0nB9YOg",
        "colab_type": "code",
        "colab": {}
      },
      "source": [
        "PATH = os.getcwd()\n",
        "DATADIR = PATH + '/nepalibarnasnew/Train'   \n",
        "train_data_path = PATH + '/nepalibarnasnew/Train'\n",
        "test_data_path = PATH + '/nepalibarnasnew/Test'\n"
      ],
      "execution_count": 0,
      "outputs": []
    },
    {
      "cell_type": "code",
      "metadata": {
        "id": "MOK18pvNNPTZ",
        "colab_type": "code",
        "outputId": "a02b9a97-cbfc-4a01-d726-ca8b36904f6c",
        "colab": {
          "base_uri": "https://localhost:8080/",
          "height": 71
        }
      },
      "source": [
        "#counting categories\n",
        "new_cat = []\n",
        "for x in os.listdir(train_data_path):\n",
        "  new_cat.append(x)\n",
        "\n",
        "print(new_cat)  \n",
        "classes = np.unique(new_cat)\n",
        "print(len(classes))\n"
      ],
      "execution_count": 6,
      "outputs": [
        {
          "output_type": "stream",
          "text": [
            "['character-34-chyan', 'digits_4', 'character-12-tha', 'digits_9', 'character-32-sa', 'digits_6', 'vowel_7_e', 'character-05-n..a', 'vowel_0_a', 'character-22-pha', 'character-28-la', 'character-20-na', 'digits_7', 'character-03-ga', 'vowel_11_am', 'character-24-bha', 'character-29-wa', 'vowel_4_u', 'vowel_2_i', 'character-15-na', 'digits_8', 'character-08-ja', 'character-09-jha', 'character-30-sa', 'character-35-tra', 'character-17-tha', 'digits_5', 'character-10-yaa', 'character-26-ya', 'character-13-da', 'character-01-ka', 'vowel_5_uu', 'vowel_12_ah', 'character-16-ta', 'character-31-sa', 'character-11-ta', 'character-19-dha', 'character-36-gyan', 'character-04-gha', 'digits_1', 'vowel_10_au', 'character-02-kha', 'character-25-ma', 'character-06-cha', 'character-21-pa', 'character-33-ha', 'character-27-ra', 'vowel_8_ei', 'digits_0', 'digits_2', 'character-14-dha', 'vowel_6_re', 'character-18-da', 'vowel_9_o', 'character-07-chha', 'vowel_1_aa', 'vowel_3_ii', 'digits_3', 'character-23-ba']\n",
            "59\n"
          ],
          "name": "stdout"
        }
      ]
    },
    {
      "cell_type": "code",
      "metadata": {
        "id": "kTFBK9wD9aqu",
        "colab_type": "code",
        "colab": {}
      },
      "source": [
        "CATEGORIES =[\n",
        "\n",
        "\"character-01-ka\",\"character-02-kha\",\"character-03-ga\",\"character-04-gha\",\"character-05-n..a\",\n",
        "\"character-06-cha\",\"character-07-chha\",\"character-08-ja\",\"character-09-jha\",\"character-10-yaa\",\n",
        "\"character-11-ta\",\"character-12-tha\",\"character-13-da\",\"character-14-dha\",\"character-15-na\",\n",
        "\"character-16-ta\",\"character-17-tha\",\"character-18-da\",\"character-19-dha\",\"character-20-na\",\"character-21-pa\",\n",
        "\"character-22-pha\",\"character-23-ba\",\"character-24-bha\",\"character-25-ma\",\"character-26-ya\",\"character-27-ra\",\n",
        "\"character-28-la\",\"character-29-wa\",\"character-30-sa\",\"character-31-sa\",\"character-32-sa\",\n",
        "\"character-33-ha\",\"character-34-chyan\",\"character-35-tra\",\"character-36-gyan\",\"digits_0\",\"digits_1\",\"digits_2\",\"digits_3\",\n",
        "\"digits_4\",\"digits_5\",\"digits_6\",\"digits_7\",\"digits_8\",\"digits_9\",\"vowel_0_a\",\"vowel_1_aa\",\"vowel_2_i\",\"vowel_3_ii\",\"vowel_4_u\",\n",
        "\"vowel_5_uu\",\"vowel_6_re\",\"vowel_7_e\",\"vowel_8_ei\",\"vowel_9_o\",\"vowel_10_au\",\"vowel_11_am\",\"vowel_12_ah\"\n",
        "\n",
        "]"
      ],
      "execution_count": 0,
      "outputs": []
    },
    {
      "cell_type": "code",
      "metadata": {
        "id": "as1xbqAW9d5P",
        "colab_type": "code",
        "colab": {}
      },
      "source": [
        "IMG_SIZE = 32\n",
        "training_data = []\n",
        "testing_data = []\n",
        "\n",
        "def create_training_data():\n",
        "  for catagory in CATEGORIES:\n",
        "    path = os.path.join(train_data_path, catagory)\n",
        "    class_num = CATEGORIES.index(catagory)\n",
        "    for img in os.listdir(path):\n",
        "        try:\n",
        "          img_array = cv2.imread(os.path.join(path,img),cv2.IMREAD_GRAYSCALE)\n",
        "          new_array = cv2.resize(img_array,(IMG_SIZE,IMG_SIZE))\n",
        "          training_data.append([new_array,class_num])\n",
        "        except Exception as e:\n",
        "          pass\n",
        "\n",
        "\n",
        "\n",
        "def create_testing_data():\n",
        "  for catagory in CATEGORIES:\n",
        "    path = os.path.join(test_data_path, catagory)\n",
        "    class_num = CATEGORIES.index(catagory)\n",
        "    for img in os.listdir(path):\n",
        "        try:\n",
        "          img_array = cv2.imread(os.path.join(path,img),cv2.IMREAD_GRAYSCALE)\n",
        "          new_array = cv2.resize(img_array,(IMG_SIZE,IMG_SIZE))\n",
        "          testing_data.append([new_array,class_num])\n",
        "        except Exception as e:\n",
        "          pass\n",
        "\n",
        "\n",
        "\n",
        "create_training_data()\n",
        "create_testing_data()\n"
      ],
      "execution_count": 0,
      "outputs": []
    },
    {
      "cell_type": "code",
      "metadata": {
        "id": "_7a9Hftp9kSg",
        "colab_type": "code",
        "outputId": "d42adc27-507e-4ae2-b942-689071405cc7",
        "colab": {
          "base_uri": "https://localhost:8080/",
          "height": 85
        }
      },
      "source": [
        "#shuffle training data for trainning diff image set in every batch\n",
        "random.shuffle(training_data)\n",
        "\n",
        "#hot encode image dataset\n",
        "\n",
        "train_x = []\n",
        "train_y = []\n",
        "test_x = []\n",
        "test_y = []\n",
        "\n",
        "\n",
        "\n",
        "#seperating features and labels from list\n",
        "for features, labels in training_data:\n",
        "\ttrain_x.append(features)\n",
        "\ttrain_y.append(labels)\n",
        "\n",
        "for features, labels in testing_data:\n",
        "\ttest_x.append(features)\n",
        "\ttest_y.append(labels)\n",
        "\n",
        "\n",
        "#converting list to array\n",
        "train_y_array = np.array(train_y)\n",
        "test_y_array = np.array(test_y)\n",
        "\n",
        "#converting image dataset to input 32*32 dataset \n",
        "\n",
        "train_image_array = np.array(train_x).reshape(-1,32,32,1)\n",
        "test_image_array = np.array(test_x).reshape(-1,32,32,1)\n",
        "\n",
        "#counting total number of class in dataset\n",
        "classes = np.unique(test_y_array)\n",
        "print(classes)\n",
        "print(\"total number of class={} \".format(len(classes)))\n",
        "\n"
      ],
      "execution_count": 9,
      "outputs": [
        {
          "output_type": "stream",
          "text": [
            "[ 0  1  2  3  4  5  6  7  8  9 10 11 12 13 14 15 16 17 18 19 20 21 22 23\n",
            " 24 25 26 27 28 29 30 31 32 33 34 35 36 37 38 39 40 41 42 43 44 45 46 47\n",
            " 48 49 50 51 52 53 54 55 56 57 58]\n",
            "total number of class=59 \n"
          ],
          "name": "stdout"
        }
      ]
    },
    {
      "cell_type": "code",
      "metadata": {
        "id": "DJyBFLIrFs_G",
        "colab_type": "code",
        "outputId": "81187324-184a-403e-d7d4-0a22089c62af",
        "colab": {
          "base_uri": "https://localhost:8080/",
          "height": 269
        }
      },
      "source": [
        "# convert from int to float\n",
        "x_train = train_image_array.astype('float32')\n",
        "x_test = test_image_array.astype('float32')\n",
        "# define data preparation\n",
        "datagen = ImageDataGenerator(featurewise_center=True,\n",
        "                             featurewise_std_normalization=True,\n",
        "                             rotation_range=15,\n",
        "                             width_shift_range=0.1,\n",
        "                             height_shift_range=0.1,\n",
        "                              zoom_range=0.2\n",
        "                            )\n",
        "# fit parameters from data\n",
        "datagen.fit(x_train)\n",
        "# configure batch size and retrieve one batch of images\n",
        "for X_batch, y_batch in datagen.flow(x_train, train_y, batch_size=9):\n",
        "\t# create a grid of 3x3 images\n",
        "\tfor i in range(0, 9):\n",
        "\t\tplt.subplot(330 + 1 + i)\n",
        "\t\tplt.imshow(X_batch[i].reshape(32, 32), cmap=plt.get_cmap('gray'))\n",
        "\t# show the plot\n",
        "\tplt.show()\n",
        "\tbreak"
      ],
      "execution_count": 10,
      "outputs": [
        {
          "output_type": "display_data",
          "data": {
            "image/png": "[encoded data removed]",
            "text/plain": [
              "<Figure size 432x288 with 9 Axes>"
            ]
          },
          "metadata": {
            "tags": []
          }
        }
      ]
    },
    {
      "cell_type": "code",
      "metadata": {
        "id": "OcD8KB1rGHpt",
        "colab_type": "code",
        "colab": {}
      },
      "source": [
        "\n",
        "#one hot enoded class \n",
        "train_y = to_categorical(train_y_array)\n",
        "test_y = to_categorical(test_y_array)\n",
        "\n",
        "\n",
        "train_y = np.array(train_y)\n",
        "test_y = np.array(test_y)\n",
        "\n",
        "#all train x, y and test x y are in array form now\n"
      ],
      "execution_count": 0,
      "outputs": []
    },
    {
      "cell_type": "code",
      "metadata": {
        "id": "HTyQPCKc9AuW",
        "colab_type": "code",
        "colab": {}
      },
      "source": [
        "#new model\n",
        "\n",
        "# Set the CNN model \n",
        "# my CNN architechture is In -> [[Conv2D->relu]*2 -> MaxPool2D -> Dropout]*2 -> Flatten -> Dense -> Dropout -> Out\n",
        "\n",
        "model = Sequential()\n",
        "\n",
        "model.add(Conv2D(filters = 32, kernel_size = (5,5),padding = 'Same', \n",
        "                 activation ='relu', input_shape = (32,32,1)))\n",
        "model.add(Conv2D(filters = 32, kernel_size = (5,5),padding = 'Same', \n",
        "                 activation ='relu'))\n",
        "model.add(MaxPool2D(pool_size=(2,2)))\n",
        "model.add(Dropout(0.25))\n",
        "\n",
        "\n",
        "model.add(Conv2D(filters = 64, kernel_size = (3,3),padding = 'Same', \n",
        "                 activation ='relu'))\n",
        "model.add(Conv2D(filters = 64, kernel_size = (3,3),padding = 'Same', \n",
        "                 activation ='relu'))\n",
        "model.add(MaxPool2D(pool_size=(2,2), strides=(2,2)))\n",
        "model.add(Dropout(0.25))\n",
        "\n",
        "\n",
        "model.add(Flatten())\n",
        "model.add(Dense(256, activation = \"relu\"))\n",
        "model.add(Dropout(0.5))\n",
        "model.add(Dense(59, activation = \"softmax\"))\n",
        "\n",
        "# Define the optimizer\n",
        "#optimizer = RMSprop(lr=0.001, rho=0.9, epsilon=1e-08, decay=0.0)\n",
        "optimizer = Adam(lr=0.0001)\n",
        "\n",
        "# Compile the model\n",
        "model.compile(optimizer = optimizer , loss = \"categorical_crossentropy\", metrics=[\"accuracy\"])\n",
        "\n",
        "#model.summary()\n",
        "\n"
      ],
      "execution_count": 0,
      "outputs": []
    },
    {
      "cell_type": "code",
      "metadata": {
        "id": "ReKcDMub5t6r",
        "colab_type": "code",
        "colab": {
          "base_uri": "https://localhost:8080/",
          "height": 1000
        },
        "outputId": "78b11ddc-311d-4307-940f-d031263fc4b8"
      },
      "source": [
        "history = model.fit(x=train_image_array,y=train_y,epochs=200,batch_size=100, validation_split=0.3)"
      ],
      "execution_count": 14,
      "outputs": [
        {
          "output_type": "stream",
          "text": [
            "W0731 17:45:10.910261 140441149577088 deprecation.py:323] From /usr/local/lib/python3.6/dist-packages/tensorflow/python/ops/math_grad.py:1250: add_dispatch_support.<locals>.wrapper (from tensorflow.python.ops.array_ops) is deprecated and will be removed in a future version.\n",
            "Instructions for updating:\n",
            "Use tf.where in 2.0, which has the same broadcast rule as np.where\n"
          ],
          "name": "stderr"
        },
        {
          "output_type": "stream",
          "text": [
            "Train on 5723 samples, validate on 2453 samples\n",
            "Epoch 1/200\n",
            "5723/5723 [==============================] - 8s 1ms/step - loss: 15.7904 - acc: 0.0166 - val_loss: 15.8553 - val_acc: 0.0163\n",
            "Epoch 2/200\n",
            "5723/5723 [==============================] - 1s 163us/step - loss: 15.7999 - acc: 0.0173 - val_loss: 15.8213 - val_acc: 0.0163\n",
            "Epoch 3/200\n",
            "5723/5723 [==============================] - 1s 158us/step - loss: 15.7559 - acc: 0.0199 - val_loss: 15.8027 - val_acc: 0.0196\n",
            "Epoch 4/200\n",
            "5723/5723 [==============================] - 1s 159us/step - loss: 15.7929 - acc: 0.0185 - val_loss: 15.8487 - val_acc: 0.0167\n",
            "Epoch 5/200\n",
            "5723/5723 [==============================] - 1s 157us/step - loss: 15.8137 - acc: 0.0182 - val_loss: 15.8553 - val_acc: 0.0163\n",
            "Epoch 6/200\n",
            "5723/5723 [==============================] - 1s 160us/step - loss: 15.8466 - acc: 0.0166 - val_loss: 15.8553 - val_acc: 0.0163\n",
            "Epoch 7/200\n",
            "5723/5723 [==============================] - 1s 160us/step - loss: 15.8388 - acc: 0.0171 - val_loss: 15.8553 - val_acc: 0.0163\n",
            "Epoch 8/200\n",
            "5723/5723 [==============================] - 1s 159us/step - loss: 15.8464 - acc: 0.0168 - val_loss: 15.8553 - val_acc: 0.0163\n",
            "Epoch 9/200\n",
            "5723/5723 [==============================] - 1s 158us/step - loss: 15.8477 - acc: 0.0168 - val_loss: 15.8553 - val_acc: 0.0163\n",
            "Epoch 10/200\n",
            "5723/5723 [==============================] - 1s 160us/step - loss: 15.8478 - acc: 0.0168 - val_loss: 15.8553 - val_acc: 0.0163\n",
            "Epoch 11/200\n",
            "5723/5723 [==============================] - 1s 159us/step - loss: 15.8477 - acc: 0.0168 - val_loss: 15.8553 - val_acc: 0.0163\n",
            "Epoch 12/200\n",
            "5723/5723 [==============================] - 1s 159us/step - loss: 15.8449 - acc: 0.0169 - val_loss: 15.8553 - val_acc: 0.0163\n",
            "Epoch 13/200\n",
            "5723/5723 [==============================] - 1s 158us/step - loss: 15.8477 - acc: 0.0168 - val_loss: 15.8553 - val_acc: 0.0163\n",
            "Epoch 14/200\n",
            "5723/5723 [==============================] - 1s 158us/step - loss: 15.8475 - acc: 0.0168 - val_loss: 15.8553 - val_acc: 0.0163\n",
            "Epoch 15/200\n",
            "5723/5723 [==============================] - 1s 158us/step - loss: 15.8477 - acc: 0.0168 - val_loss: 15.8553 - val_acc: 0.0163\n",
            "Epoch 16/200\n",
            "5723/5723 [==============================] - 1s 158us/step - loss: 15.8562 - acc: 0.0163 - val_loss: 15.8553 - val_acc: 0.0163\n",
            "Epoch 17/200\n",
            "5723/5723 [==============================] - 1s 159us/step - loss: 15.8335 - acc: 0.0173 - val_loss: 15.8553 - val_acc: 0.0163\n",
            "Epoch 18/200\n",
            "5723/5723 [==============================] - 1s 160us/step - loss: 15.8487 - acc: 0.0159 - val_loss: 15.8082 - val_acc: 0.0163\n",
            "Epoch 19/200\n",
            "5723/5723 [==============================] - 1s 159us/step - loss: 15.8462 - acc: 0.0161 - val_loss: 15.4295 - val_acc: 0.0204\n",
            "Epoch 20/200\n",
            "5723/5723 [==============================] - 1s 160us/step - loss: 15.8137 - acc: 0.0185 - val_loss: 15.8290 - val_acc: 0.0179\n",
            "Epoch 21/200\n",
            "5723/5723 [==============================] - 1s 159us/step - loss: 15.8276 - acc: 0.0173 - val_loss: 15.8553 - val_acc: 0.0163\n",
            "Epoch 22/200\n",
            "5723/5723 [==============================] - 1s 163us/step - loss: 15.8394 - acc: 0.0171 - val_loss: 15.8553 - val_acc: 0.0163\n",
            "Epoch 23/200\n",
            "5723/5723 [==============================] - 1s 161us/step - loss: 15.8421 - acc: 0.0171 - val_loss: 15.8553 - val_acc: 0.0163\n",
            "Epoch 24/200\n",
            "5723/5723 [==============================] - 1s 160us/step - loss: 15.8363 - acc: 0.0169 - val_loss: 15.8531 - val_acc: 0.0163\n",
            "Epoch 25/200\n",
            "5723/5723 [==============================] - 1s 160us/step - loss: 15.8463 - acc: 0.0163 - val_loss: 15.8290 - val_acc: 0.0179\n",
            "Epoch 26/200\n",
            "5723/5723 [==============================] - 1s 161us/step - loss: 15.8468 - acc: 0.0166 - val_loss: 15.8290 - val_acc: 0.0179\n",
            "Epoch 27/200\n",
            "5723/5723 [==============================] - 1s 160us/step - loss: 15.8429 - acc: 0.0169 - val_loss: 15.8290 - val_acc: 0.0179\n",
            "Epoch 28/200\n",
            "5723/5723 [==============================] - 1s 159us/step - loss: 15.8505 - acc: 0.0166 - val_loss: 15.8290 - val_acc: 0.0179\n",
            "Epoch 29/200\n",
            "5723/5723 [==============================] - 1s 161us/step - loss: 15.8505 - acc: 0.0166 - val_loss: 15.8290 - val_acc: 0.0179\n",
            "Epoch 30/200\n",
            "5723/5723 [==============================] - 1s 160us/step - loss: 15.8421 - acc: 0.0171 - val_loss: 15.8290 - val_acc: 0.0179\n",
            "Epoch 31/200\n",
            "5723/5723 [==============================] - 1s 160us/step - loss: 15.8477 - acc: 0.0168 - val_loss: 15.8290 - val_acc: 0.0179\n",
            "Epoch 32/200\n",
            "5723/5723 [==============================] - 1s 161us/step - loss: 15.8541 - acc: 0.0159 - val_loss: 15.8290 - val_acc: 0.0179\n",
            "Epoch 33/200\n",
            "5723/5723 [==============================] - 1s 159us/step - loss: 15.8524 - acc: 0.0163 - val_loss: 15.8290 - val_acc: 0.0179\n",
            "Epoch 34/200\n",
            "5723/5723 [==============================] - 1s 160us/step - loss: 15.8218 - acc: 0.0180 - val_loss: 15.8290 - val_acc: 0.0179\n",
            "Epoch 35/200\n",
            "5723/5723 [==============================] - 1s 159us/step - loss: 15.8471 - acc: 0.0168 - val_loss: 15.8290 - val_acc: 0.0179\n",
            "Epoch 36/200\n",
            "5723/5723 [==============================] - 1s 161us/step - loss: 15.8477 - acc: 0.0168 - val_loss: 15.8290 - val_acc: 0.0179\n",
            "Epoch 37/200\n",
            "5723/5723 [==============================] - 1s 160us/step - loss: 15.8472 - acc: 0.0168 - val_loss: 15.8290 - val_acc: 0.0179\n",
            "Epoch 38/200\n",
            "5723/5723 [==============================] - 1s 161us/step - loss: 15.8551 - acc: 0.0163 - val_loss: 15.8290 - val_acc: 0.0179\n",
            "Epoch 39/200\n",
            "5723/5723 [==============================] - 1s 161us/step - loss: 15.8477 - acc: 0.0168 - val_loss: 15.8290 - val_acc: 0.0179\n",
            "Epoch 40/200\n",
            "5723/5723 [==============================] - 1s 162us/step - loss: 15.8434 - acc: 0.0169 - val_loss: 15.8290 - val_acc: 0.0179\n",
            "Epoch 41/200\n",
            "5723/5723 [==============================] - 1s 160us/step - loss: 15.8336 - acc: 0.0176 - val_loss: 15.8290 - val_acc: 0.0179\n",
            "Epoch 42/200\n",
            "5723/5723 [==============================] - 1s 161us/step - loss: 15.8365 - acc: 0.0175 - val_loss: 15.8290 - val_acc: 0.0179\n",
            "Epoch 43/200\n",
            "5723/5723 [==============================] - 1s 161us/step - loss: 15.8562 - acc: 0.0163 - val_loss: 15.8290 - val_acc: 0.0179\n",
            "Epoch 44/200\n",
            "5723/5723 [==============================] - 1s 162us/step - loss: 15.8420 - acc: 0.0171 - val_loss: 15.8290 - val_acc: 0.0179\n",
            "Epoch 45/200\n",
            "5723/5723 [==============================] - 1s 161us/step - loss: 15.7904 - acc: 0.0201 - val_loss: 15.8684 - val_acc: 0.0155\n",
            "Epoch 46/200\n",
            "5723/5723 [==============================] - 1s 162us/step - loss: 15.8149 - acc: 0.0182 - val_loss: 15.8290 - val_acc: 0.0179\n",
            "Epoch 47/200\n",
            "5723/5723 [==============================] - 1s 162us/step - loss: 15.8007 - acc: 0.0189 - val_loss: 15.8290 - val_acc: 0.0179\n",
            "Epoch 48/200\n",
            "5723/5723 [==============================] - 1s 161us/step - loss: 15.8237 - acc: 0.0171 - val_loss: 15.8684 - val_acc: 0.0155\n",
            "Epoch 49/200\n",
            "5723/5723 [==============================] - 1s 163us/step - loss: 15.8214 - acc: 0.0178 - val_loss: 15.8684 - val_acc: 0.0155\n",
            "Epoch 50/200\n",
            "5723/5723 [==============================] - 1s 161us/step - loss: 15.8200 - acc: 0.0182 - val_loss: 15.8684 - val_acc: 0.0155\n",
            "Epoch 51/200\n",
            "5723/5723 [==============================] - 1s 160us/step - loss: 15.8358 - acc: 0.0171 - val_loss: 15.8684 - val_acc: 0.0155\n",
            "Epoch 52/200\n",
            "5723/5723 [==============================] - 1s 162us/step - loss: 15.8494 - acc: 0.0164 - val_loss: 15.8684 - val_acc: 0.0155\n",
            "Epoch 53/200\n",
            "5723/5723 [==============================] - 1s 161us/step - loss: 15.8480 - acc: 0.0161 - val_loss: 15.8684 - val_acc: 0.0155\n",
            "Epoch 54/200\n",
            "5723/5723 [==============================] - 1s 161us/step - loss: 15.8301 - acc: 0.0175 - val_loss: 15.8684 - val_acc: 0.0155\n",
            "Epoch 55/200\n",
            "5723/5723 [==============================] - 1s 162us/step - loss: 15.8154 - acc: 0.0185 - val_loss: 15.8684 - val_acc: 0.0155\n",
            "Epoch 56/200\n",
            "5723/5723 [==============================] - 1s 161us/step - loss: 15.8193 - acc: 0.0182 - val_loss: 15.8684 - val_acc: 0.0155\n",
            "Epoch 57/200\n",
            "5723/5723 [==============================] - 1s 162us/step - loss: 15.8220 - acc: 0.0178 - val_loss: 15.8684 - val_acc: 0.0155\n",
            "Epoch 58/200\n",
            "5723/5723 [==============================] - 1s 161us/step - loss: 15.8356 - acc: 0.0164 - val_loss: 15.8158 - val_acc: 0.0188\n",
            "Epoch 59/200\n",
            "5723/5723 [==============================] - 1s 161us/step - loss: 15.8246 - acc: 0.0180 - val_loss: 15.8684 - val_acc: 0.0155\n",
            "Epoch 60/200\n",
            "5723/5723 [==============================] - 1s 162us/step - loss: 15.8237 - acc: 0.0180 - val_loss: 15.8264 - val_acc: 0.0155\n",
            "Epoch 61/200\n",
            "5723/5723 [==============================] - 1s 162us/step - loss: 15.7982 - acc: 0.0194 - val_loss: 15.8158 - val_acc: 0.0188\n",
            "Epoch 62/200\n",
            "5723/5723 [==============================] - 1s 161us/step - loss: 15.8216 - acc: 0.0178 - val_loss: 15.5677 - val_acc: 0.0338\n",
            "Epoch 63/200\n",
            "5723/5723 [==============================] - 1s 163us/step - loss: 15.8179 - acc: 0.0180 - val_loss: 15.6282 - val_acc: 0.0257\n",
            "Epoch 64/200\n",
            "5723/5723 [==============================] - 1s 160us/step - loss: 15.8300 - acc: 0.0175 - val_loss: 15.8661 - val_acc: 0.0155\n",
            "Epoch 65/200\n",
            "5723/5723 [==============================] - 1s 162us/step - loss: 15.7790 - acc: 0.0189 - val_loss: 15.5671 - val_acc: 0.0334\n",
            "Epoch 66/200\n",
            "5723/5723 [==============================] - 1s 161us/step - loss: 15.7550 - acc: 0.0176 - val_loss: 15.7135 - val_acc: 0.0179\n",
            "Epoch 67/200\n",
            "5723/5723 [==============================] - 1s 160us/step - loss: 15.7732 - acc: 0.0150 - val_loss: 15.0682 - val_acc: 0.0179\n",
            "Epoch 68/200\n",
            "5723/5723 [==============================] - 1s 159us/step - loss: 6.1238 - acc: 0.0163 - val_loss: 4.0780 - val_acc: 0.0135\n",
            "Epoch 69/200\n",
            "5723/5723 [==============================] - 1s 159us/step - loss: 4.0774 - acc: 0.0197 - val_loss: 4.0781 - val_acc: 0.0135\n",
            "Epoch 70/200\n",
            "5723/5723 [==============================] - 1s 158us/step - loss: 4.0772 - acc: 0.0168 - val_loss: 4.0782 - val_acc: 0.0135\n",
            "Epoch 71/200\n",
            "5723/5723 [==============================] - 1s 160us/step - loss: 4.0772 - acc: 0.0164 - val_loss: 4.0782 - val_acc: 0.0130\n",
            "Epoch 72/200\n",
            "5723/5723 [==============================] - 1s 159us/step - loss: 4.0769 - acc: 0.0199 - val_loss: 4.0783 - val_acc: 0.0130\n",
            "Epoch 73/200\n",
            "5723/5723 [==============================] - 1s 159us/step - loss: 4.0770 - acc: 0.0178 - val_loss: 4.0784 - val_acc: 0.0135\n",
            "Epoch 74/200\n",
            "5723/5723 [==============================] - 1s 159us/step - loss: 4.0768 - acc: 0.0211 - val_loss: 4.0784 - val_acc: 0.0139\n",
            "Epoch 75/200\n",
            "5723/5723 [==============================] - 1s 160us/step - loss: 4.0765 - acc: 0.0183 - val_loss: 4.0785 - val_acc: 0.0139\n",
            "Epoch 76/200\n",
            "5723/5723 [==============================] - 1s 159us/step - loss: 4.0764 - acc: 0.0173 - val_loss: 4.0785 - val_acc: 0.0155\n",
            "Epoch 77/200\n",
            "5723/5723 [==============================] - 1s 160us/step - loss: 4.0752 - acc: 0.0218 - val_loss: 4.0748 - val_acc: 0.0257\n",
            "Epoch 78/200\n",
            "5723/5723 [==============================] - 1s 160us/step - loss: 4.0289 - acc: 0.0344 - val_loss: 3.8184 - val_acc: 0.0946\n",
            "Epoch 79/200\n",
            "5723/5723 [==============================] - 1s 160us/step - loss: 3.5371 - acc: 0.1269 - val_loss: 2.9268 - val_acc: 0.2740\n",
            "Epoch 80/200\n",
            "5723/5723 [==============================] - 1s 159us/step - loss: 2.8929 - acc: 0.2420 - val_loss: 2.2004 - val_acc: 0.4802\n",
            "Epoch 81/200\n",
            "5723/5723 [==============================] - 1s 159us/step - loss: 2.2961 - acc: 0.3750 - val_loss: 1.5368 - val_acc: 0.6669\n",
            "Epoch 82/200\n",
            "5723/5723 [==============================] - 1s 160us/step - loss: 1.8914 - acc: 0.4683 - val_loss: 1.1765 - val_acc: 0.7525\n",
            "Epoch 83/200\n",
            "5723/5723 [==============================] - 1s 160us/step - loss: 1.5528 - acc: 0.5488 - val_loss: 1.0174 - val_acc: 0.7888\n",
            "Epoch 84/200\n",
            "5723/5723 [==============================] - 1s 160us/step - loss: 1.3702 - acc: 0.5960 - val_loss: 0.8231 - val_acc: 0.8316\n",
            "Epoch 85/200\n",
            "5723/5723 [==============================] - 1s 159us/step - loss: 1.2156 - acc: 0.6388 - val_loss: 0.7655 - val_acc: 0.8451\n",
            "Epoch 86/200\n",
            "5723/5723 [==============================] - 1s 159us/step - loss: 1.0877 - acc: 0.6722 - val_loss: 0.6260 - val_acc: 0.8753\n",
            "Epoch 87/200\n",
            "5723/5723 [==============================] - 1s 160us/step - loss: 1.0177 - acc: 0.6900 - val_loss: 0.5591 - val_acc: 0.8932\n",
            "Epoch 88/200\n",
            "5723/5723 [==============================] - 1s 160us/step - loss: 0.8981 - acc: 0.7248 - val_loss: 0.5147 - val_acc: 0.9009\n",
            "Epoch 89/200\n",
            "5723/5723 [==============================] - 1s 160us/step - loss: 0.8446 - acc: 0.7398 - val_loss: 0.4658 - val_acc: 0.9103\n",
            "Epoch 90/200\n",
            "5723/5723 [==============================] - 1s 160us/step - loss: 0.8162 - acc: 0.7486 - val_loss: 0.4558 - val_acc: 0.9099\n",
            "Epoch 91/200\n",
            "5723/5723 [==============================] - 1s 159us/step - loss: 0.7491 - acc: 0.7669 - val_loss: 0.4118 - val_acc: 0.9209\n",
            "Epoch 92/200\n",
            "5723/5723 [==============================] - 1s 158us/step - loss: 0.7064 - acc: 0.7830 - val_loss: 0.3871 - val_acc: 0.9225\n",
            "Epoch 93/200\n",
            "5723/5723 [==============================] - 1s 159us/step - loss: 0.6804 - acc: 0.7882 - val_loss: 0.3830 - val_acc: 0.9307\n",
            "Epoch 94/200\n",
            "5723/5723 [==============================] - 1s 159us/step - loss: 0.6408 - acc: 0.8008 - val_loss: 0.3426 - val_acc: 0.9287\n",
            "Epoch 95/200\n",
            "5723/5723 [==============================] - 1s 160us/step - loss: 0.6152 - acc: 0.8108 - val_loss: 0.3352 - val_acc: 0.9327\n",
            "Epoch 96/200\n",
            "5723/5723 [==============================] - 1s 159us/step - loss: 0.5586 - acc: 0.8186 - val_loss: 0.3085 - val_acc: 0.9315\n",
            "Epoch 97/200\n",
            "5723/5723 [==============================] - 1s 161us/step - loss: 0.5588 - acc: 0.8200 - val_loss: 0.2931 - val_acc: 0.9397\n",
            "Epoch 98/200\n",
            "5723/5723 [==============================] - 1s 160us/step - loss: 0.5374 - acc: 0.8298 - val_loss: 0.2815 - val_acc: 0.9433\n",
            "Epoch 99/200\n",
            "5723/5723 [==============================] - 1s 160us/step - loss: 0.4996 - acc: 0.8384 - val_loss: 0.2678 - val_acc: 0.9433\n",
            "Epoch 100/200\n",
            "5723/5723 [==============================] - 1s 160us/step - loss: 0.5041 - acc: 0.8371 - val_loss: 0.2763 - val_acc: 0.9425\n",
            "Epoch 101/200\n",
            "5723/5723 [==============================] - 1s 159us/step - loss: 0.5011 - acc: 0.8399 - val_loss: 0.2751 - val_acc: 0.9401\n",
            "Epoch 102/200\n",
            "5723/5723 [==============================] - 1s 159us/step - loss: 0.4578 - acc: 0.8501 - val_loss: 0.2474 - val_acc: 0.9458\n",
            "Epoch 103/200\n",
            "5723/5723 [==============================] - 1s 159us/step - loss: 0.4337 - acc: 0.8632 - val_loss: 0.2354 - val_acc: 0.9433\n",
            "Epoch 104/200\n",
            "5723/5723 [==============================] - 1s 161us/step - loss: 0.4442 - acc: 0.8625 - val_loss: 0.2455 - val_acc: 0.9486\n",
            "Epoch 105/200\n",
            "5723/5723 [==============================] - 1s 159us/step - loss: 0.4268 - acc: 0.8642 - val_loss: 0.2393 - val_acc: 0.9466\n",
            "Epoch 106/200\n",
            "5723/5723 [==============================] - 1s 160us/step - loss: 0.4370 - acc: 0.8634 - val_loss: 0.2256 - val_acc: 0.9482\n",
            "Epoch 107/200\n",
            "5723/5723 [==============================] - 1s 161us/step - loss: 0.4092 - acc: 0.8663 - val_loss: 0.2221 - val_acc: 0.9490\n",
            "Epoch 108/200\n",
            "5723/5723 [==============================] - 1s 160us/step - loss: 0.3690 - acc: 0.8854 - val_loss: 0.2076 - val_acc: 0.9503\n",
            "Epoch 109/200\n",
            "5723/5723 [==============================] - 1s 163us/step - loss: 0.3654 - acc: 0.8793 - val_loss: 0.2061 - val_acc: 0.9499\n",
            "Epoch 110/200\n",
            "5723/5723 [==============================] - 1s 160us/step - loss: 0.3772 - acc: 0.8812 - val_loss: 0.2035 - val_acc: 0.9515\n",
            "Epoch 111/200\n",
            "5723/5723 [==============================] - 1s 161us/step - loss: 0.3480 - acc: 0.8869 - val_loss: 0.1900 - val_acc: 0.9539\n",
            "Epoch 112/200\n",
            "5723/5723 [==============================] - 1s 159us/step - loss: 0.3520 - acc: 0.8842 - val_loss: 0.1941 - val_acc: 0.9494\n",
            "Epoch 113/200\n",
            "5723/5723 [==============================] - 1s 160us/step - loss: 0.3556 - acc: 0.8861 - val_loss: 0.1946 - val_acc: 0.9556\n",
            "Epoch 114/200\n",
            "5723/5723 [==============================] - 1s 161us/step - loss: 0.3479 - acc: 0.8869 - val_loss: 0.1877 - val_acc: 0.9535\n",
            "Epoch 115/200\n",
            "5723/5723 [==============================] - 1s 160us/step - loss: 0.3239 - acc: 0.8987 - val_loss: 0.1829 - val_acc: 0.9478\n",
            "Epoch 116/200\n",
            "5723/5723 [==============================] - 1s 160us/step - loss: 0.2893 - acc: 0.9100 - val_loss: 0.1659 - val_acc: 0.9568\n",
            "Epoch 117/200\n",
            "5723/5723 [==============================] - 1s 161us/step - loss: 0.3040 - acc: 0.8999 - val_loss: 0.1706 - val_acc: 0.9539\n",
            "Epoch 118/200\n",
            "5723/5723 [==============================] - 1s 159us/step - loss: 0.2992 - acc: 0.9060 - val_loss: 0.1686 - val_acc: 0.9572\n",
            "Epoch 119/200\n",
            "5723/5723 [==============================] - 1s 160us/step - loss: 0.2836 - acc: 0.9088 - val_loss: 0.1569 - val_acc: 0.9600\n",
            "Epoch 120/200\n",
            "5723/5723 [==============================] - 1s 161us/step - loss: 0.2788 - acc: 0.9098 - val_loss: 0.1601 - val_acc: 0.9609\n",
            "Epoch 121/200\n",
            "5723/5723 [==============================] - 1s 160us/step - loss: 0.2650 - acc: 0.9163 - val_loss: 0.1537 - val_acc: 0.9592\n",
            "Epoch 122/200\n",
            "5723/5723 [==============================] - 1s 160us/step - loss: 0.2553 - acc: 0.9168 - val_loss: 0.1498 - val_acc: 0.9609\n",
            "Epoch 123/200\n",
            "5723/5723 [==============================] - 1s 160us/step - loss: 0.2712 - acc: 0.9104 - val_loss: 0.1517 - val_acc: 0.9588\n",
            "Epoch 124/200\n",
            "5723/5723 [==============================] - 1s 160us/step - loss: 0.2572 - acc: 0.9139 - val_loss: 0.1494 - val_acc: 0.9621\n",
            "Epoch 125/200\n",
            "5723/5723 [==============================] - 1s 160us/step - loss: 0.2390 - acc: 0.9242 - val_loss: 0.1407 - val_acc: 0.9617\n",
            "Epoch 126/200\n",
            "5723/5723 [==============================] - 1s 160us/step - loss: 0.2448 - acc: 0.9207 - val_loss: 0.1429 - val_acc: 0.9609\n",
            "Epoch 127/200\n",
            "5723/5723 [==============================] - 1s 160us/step - loss: 0.2401 - acc: 0.9242 - val_loss: 0.1447 - val_acc: 0.9613\n",
            "Epoch 128/200\n",
            "5723/5723 [==============================] - 1s 161us/step - loss: 0.2376 - acc: 0.9212 - val_loss: 0.1358 - val_acc: 0.9617\n",
            "Epoch 129/200\n",
            "5723/5723 [==============================] - 1s 161us/step - loss: 0.2281 - acc: 0.9222 - val_loss: 0.1364 - val_acc: 0.9580\n",
            "Epoch 130/200\n",
            "5723/5723 [==============================] - 1s 160us/step - loss: 0.2075 - acc: 0.9313 - val_loss: 0.1365 - val_acc: 0.9641\n",
            "Epoch 131/200\n",
            "5723/5723 [==============================] - 1s 160us/step - loss: 0.2193 - acc: 0.9282 - val_loss: 0.1251 - val_acc: 0.9645\n",
            "Epoch 132/200\n",
            "5723/5723 [==============================] - 1s 162us/step - loss: 0.2201 - acc: 0.9343 - val_loss: 0.1304 - val_acc: 0.9625\n",
            "Epoch 133/200\n",
            "5723/5723 [==============================] - 1s 160us/step - loss: 0.2199 - acc: 0.9317 - val_loss: 0.1318 - val_acc: 0.9633\n",
            "Epoch 134/200\n",
            "5723/5723 [==============================] - 1s 162us/step - loss: 0.2157 - acc: 0.9266 - val_loss: 0.1216 - val_acc: 0.9662\n",
            "Epoch 135/200\n",
            "5723/5723 [==============================] - 1s 161us/step - loss: 0.2040 - acc: 0.9317 - val_loss: 0.1217 - val_acc: 0.9645\n",
            "Epoch 136/200\n",
            "5723/5723 [==============================] - 1s 161us/step - loss: 0.1954 - acc: 0.9348 - val_loss: 0.1225 - val_acc: 0.9633\n",
            "Epoch 137/200\n",
            "5723/5723 [==============================] - 1s 161us/step - loss: 0.2025 - acc: 0.9333 - val_loss: 0.1201 - val_acc: 0.9653\n",
            "Epoch 138/200\n",
            "5723/5723 [==============================] - 1s 161us/step - loss: 0.1856 - acc: 0.9390 - val_loss: 0.1207 - val_acc: 0.9629\n",
            "Epoch 139/200\n",
            "5723/5723 [==============================] - 1s 162us/step - loss: 0.1940 - acc: 0.9369 - val_loss: 0.1241 - val_acc: 0.9649\n",
            "Epoch 140/200\n",
            "5723/5723 [==============================] - 1s 160us/step - loss: 0.1874 - acc: 0.9425 - val_loss: 0.1188 - val_acc: 0.9686\n",
            "Epoch 141/200\n",
            "5723/5723 [==============================] - 1s 160us/step - loss: 0.1913 - acc: 0.9390 - val_loss: 0.1269 - val_acc: 0.9641\n",
            "Epoch 142/200\n",
            "5723/5723 [==============================] - 1s 161us/step - loss: 0.1701 - acc: 0.9430 - val_loss: 0.1256 - val_acc: 0.9613\n",
            "Epoch 143/200\n",
            "5723/5723 [==============================] - 1s 161us/step - loss: 0.1754 - acc: 0.9437 - val_loss: 0.1266 - val_acc: 0.9645\n",
            "Epoch 144/200\n",
            "5723/5723 [==============================] - 1s 161us/step - loss: 0.1629 - acc: 0.9457 - val_loss: 0.1615 - val_acc: 0.9490\n",
            "Epoch 145/200\n",
            "5723/5723 [==============================] - 1s 160us/step - loss: 0.1760 - acc: 0.9441 - val_loss: 0.1182 - val_acc: 0.9645\n",
            "Epoch 146/200\n",
            "5723/5723 [==============================] - 1s 161us/step - loss: 0.1791 - acc: 0.9418 - val_loss: 0.1192 - val_acc: 0.9653\n",
            "Epoch 147/200\n",
            "5723/5723 [==============================] - 1s 159us/step - loss: 0.1604 - acc: 0.9464 - val_loss: 0.1167 - val_acc: 0.9653\n",
            "Epoch 148/200\n",
            "5723/5723 [==============================] - 1s 160us/step - loss: 0.1544 - acc: 0.9485 - val_loss: 0.1128 - val_acc: 0.9686\n",
            "Epoch 149/200\n",
            "5723/5723 [==============================] - 1s 162us/step - loss: 0.1540 - acc: 0.9486 - val_loss: 0.1117 - val_acc: 0.9678\n",
            "Epoch 150/200\n",
            "5723/5723 [==============================] - 1s 160us/step - loss: 0.1521 - acc: 0.9497 - val_loss: 0.1116 - val_acc: 0.9682\n",
            "Epoch 151/200\n",
            "5723/5723 [==============================] - 1s 160us/step - loss: 0.1518 - acc: 0.9492 - val_loss: 0.1060 - val_acc: 0.9715\n",
            "Epoch 152/200\n",
            "5723/5723 [==============================] - 1s 161us/step - loss: 0.1389 - acc: 0.9539 - val_loss: 0.1053 - val_acc: 0.9706\n",
            "Epoch 153/200\n",
            "5723/5723 [==============================] - 1s 160us/step - loss: 0.1398 - acc: 0.9542 - val_loss: 0.1062 - val_acc: 0.9690\n",
            "Epoch 154/200\n",
            "5723/5723 [==============================] - 1s 163us/step - loss: 0.1403 - acc: 0.9542 - val_loss: 0.1127 - val_acc: 0.9690\n",
            "Epoch 155/200\n",
            "5723/5723 [==============================] - 1s 159us/step - loss: 0.1440 - acc: 0.9521 - val_loss: 0.1039 - val_acc: 0.9711\n",
            "Epoch 156/200\n",
            "5723/5723 [==============================] - 1s 159us/step - loss: 0.1334 - acc: 0.9521 - val_loss: 0.1155 - val_acc: 0.9686\n",
            "Epoch 157/200\n",
            "5723/5723 [==============================] - 1s 160us/step - loss: 0.1486 - acc: 0.9523 - val_loss: 0.1132 - val_acc: 0.9682\n",
            "Epoch 158/200\n",
            "5723/5723 [==============================] - 1s 161us/step - loss: 0.1309 - acc: 0.9572 - val_loss: 0.0990 - val_acc: 0.9723\n",
            "Epoch 159/200\n",
            "5723/5723 [==============================] - 1s 160us/step - loss: 0.1356 - acc: 0.9546 - val_loss: 0.0968 - val_acc: 0.9706\n",
            "Epoch 160/200\n",
            "5723/5723 [==============================] - 1s 160us/step - loss: 0.1266 - acc: 0.9581 - val_loss: 0.1022 - val_acc: 0.9698\n",
            "Epoch 161/200\n",
            "5723/5723 [==============================] - 1s 159us/step - loss: 0.1144 - acc: 0.9640 - val_loss: 0.0943 - val_acc: 0.9723\n",
            "Epoch 162/200\n",
            "5723/5723 [==============================] - 1s 161us/step - loss: 0.1259 - acc: 0.9595 - val_loss: 0.0998 - val_acc: 0.9719\n",
            "Epoch 163/200\n",
            "5723/5723 [==============================] - 1s 160us/step - loss: 0.1163 - acc: 0.9582 - val_loss: 0.1020 - val_acc: 0.9706\n",
            "Epoch 164/200\n",
            "5723/5723 [==============================] - 1s 160us/step - loss: 0.1247 - acc: 0.9586 - val_loss: 0.0959 - val_acc: 0.9711\n",
            "Epoch 165/200\n",
            "5723/5723 [==============================] - 1s 159us/step - loss: 0.1077 - acc: 0.9631 - val_loss: 0.1051 - val_acc: 0.9706\n",
            "Epoch 166/200\n",
            "5723/5723 [==============================] - 1s 161us/step - loss: 0.1125 - acc: 0.9616 - val_loss: 0.1011 - val_acc: 0.9698\n",
            "Epoch 167/200\n",
            "5723/5723 [==============================] - 1s 160us/step - loss: 0.1125 - acc: 0.9635 - val_loss: 0.0945 - val_acc: 0.9739\n",
            "Epoch 168/200\n",
            "5723/5723 [==============================] - 1s 161us/step - loss: 0.1044 - acc: 0.9635 - val_loss: 0.1005 - val_acc: 0.9702\n",
            "Epoch 169/200\n",
            "5723/5723 [==============================] - 1s 160us/step - loss: 0.1083 - acc: 0.9631 - val_loss: 0.1029 - val_acc: 0.9719\n",
            "Epoch 170/200\n",
            "5723/5723 [==============================] - 1s 160us/step - loss: 0.1127 - acc: 0.9609 - val_loss: 0.1025 - val_acc: 0.9719\n",
            "Epoch 171/200\n",
            "5723/5723 [==============================] - 1s 160us/step - loss: 0.1132 - acc: 0.9614 - val_loss: 0.0993 - val_acc: 0.9706\n",
            "Epoch 172/200\n",
            "5723/5723 [==============================] - 1s 159us/step - loss: 0.1001 - acc: 0.9677 - val_loss: 0.0908 - val_acc: 0.9747\n",
            "Epoch 173/200\n",
            "5723/5723 [==============================] - 1s 161us/step - loss: 0.1170 - acc: 0.9633 - val_loss: 0.0953 - val_acc: 0.9723\n",
            "Epoch 174/200\n",
            "5723/5723 [==============================] - 1s 160us/step - loss: 0.0992 - acc: 0.9682 - val_loss: 0.0886 - val_acc: 0.9751\n",
            "Epoch 175/200\n",
            "5723/5723 [==============================] - 1s 160us/step - loss: 0.1102 - acc: 0.9651 - val_loss: 0.0876 - val_acc: 0.9764\n",
            "Epoch 176/200\n",
            "5723/5723 [==============================] - 1s 160us/step - loss: 0.0909 - acc: 0.9708 - val_loss: 0.0914 - val_acc: 0.9747\n",
            "Epoch 177/200\n",
            "5723/5723 [==============================] - 1s 161us/step - loss: 0.1012 - acc: 0.9651 - val_loss: 0.0906 - val_acc: 0.9731\n",
            "Epoch 178/200\n",
            "5723/5723 [==============================] - 1s 160us/step - loss: 0.1035 - acc: 0.9651 - val_loss: 0.0871 - val_acc: 0.9759\n",
            "Epoch 179/200\n",
            "5723/5723 [==============================] - 1s 160us/step - loss: 0.0868 - acc: 0.9717 - val_loss: 0.0836 - val_acc: 0.9768\n",
            "Epoch 180/200\n",
            "5723/5723 [==============================] - 1s 160us/step - loss: 0.0836 - acc: 0.9726 - val_loss: 0.0927 - val_acc: 0.9747\n",
            "Epoch 181/200\n",
            "5723/5723 [==============================] - 1s 160us/step - loss: 0.0933 - acc: 0.9680 - val_loss: 0.1078 - val_acc: 0.9666\n",
            "Epoch 182/200\n",
            "5723/5723 [==============================] - 1s 160us/step - loss: 0.0939 - acc: 0.9692 - val_loss: 0.0960 - val_acc: 0.9723\n",
            "Epoch 183/200\n",
            "5723/5723 [==============================] - 1s 160us/step - loss: 0.0903 - acc: 0.9689 - val_loss: 0.0864 - val_acc: 0.9739\n",
            "Epoch 184/200\n",
            "5723/5723 [==============================] - 1s 160us/step - loss: 0.0957 - acc: 0.9701 - val_loss: 0.0842 - val_acc: 0.9764\n",
            "Epoch 185/200\n",
            "5723/5723 [==============================] - 1s 162us/step - loss: 0.0761 - acc: 0.9745 - val_loss: 0.0841 - val_acc: 0.9755\n",
            "Epoch 186/200\n",
            "5723/5723 [==============================] - 1s 159us/step - loss: 0.0725 - acc: 0.9757 - val_loss: 0.0804 - val_acc: 0.9764\n",
            "Epoch 187/200\n",
            "5723/5723 [==============================] - 1s 160us/step - loss: 0.0807 - acc: 0.9729 - val_loss: 0.0825 - val_acc: 0.9755\n",
            "Epoch 188/200\n",
            "5723/5723 [==============================] - 1s 161us/step - loss: 0.0764 - acc: 0.9768 - val_loss: 0.0920 - val_acc: 0.9751\n",
            "Epoch 189/200\n",
            "5723/5723 [==============================] - 1s 160us/step - loss: 0.0765 - acc: 0.9738 - val_loss: 0.0822 - val_acc: 0.9768\n",
            "Epoch 190/200\n",
            "5723/5723 [==============================] - 1s 159us/step - loss: 0.0826 - acc: 0.9698 - val_loss: 0.0921 - val_acc: 0.9755\n",
            "Epoch 191/200\n",
            "5723/5723 [==============================] - 1s 161us/step - loss: 0.0785 - acc: 0.9734 - val_loss: 0.1013 - val_acc: 0.9735\n",
            "Epoch 192/200\n",
            "5723/5723 [==============================] - 1s 160us/step - loss: 0.0903 - acc: 0.9694 - val_loss: 0.0839 - val_acc: 0.9743\n",
            "Epoch 193/200\n",
            "5723/5723 [==============================] - 1s 159us/step - loss: 0.0776 - acc: 0.9740 - val_loss: 0.0832 - val_acc: 0.9747\n",
            "Epoch 194/200\n",
            "5723/5723 [==============================] - 1s 160us/step - loss: 0.0726 - acc: 0.9769 - val_loss: 0.0864 - val_acc: 0.9747\n",
            "Epoch 195/200\n",
            "5723/5723 [==============================] - 1s 160us/step - loss: 0.0680 - acc: 0.9750 - val_loss: 0.0923 - val_acc: 0.9711\n",
            "Epoch 196/200\n",
            "5723/5723 [==============================] - 1s 161us/step - loss: 0.0817 - acc: 0.9731 - val_loss: 0.0930 - val_acc: 0.9735\n",
            "Epoch 197/200\n",
            "5723/5723 [==============================] - 1s 160us/step - loss: 0.0736 - acc: 0.9750 - val_loss: 0.0865 - val_acc: 0.9759\n",
            "Epoch 198/200\n",
            "5723/5723 [==============================] - 1s 161us/step - loss: 0.0867 - acc: 0.9736 - val_loss: 0.0883 - val_acc: 0.9731\n",
            "Epoch 199/200\n",
            "5723/5723 [==============================] - 1s 160us/step - loss: 0.0732 - acc: 0.9766 - val_loss: 0.0802 - val_acc: 0.9751\n",
            "Epoch 200/200\n",
            "5723/5723 [==============================] - 1s 160us/step - loss: 0.0732 - acc: 0.9750 - val_loss: 0.0857 - val_acc: 0.9751\n"
          ],
          "name": "stdout"
        }
      ]
    },
    {
      "cell_type": "code",
      "metadata": {
        "id": "7X2QnE15CTcr",
        "colab_type": "code",
        "outputId": "d2799a7a-dfdc-4a6f-d9ab-c1c3d7e0a72d",
        "colab": {
          "base_uri": "https://localhost:8080/",
          "height": 573
        }
      },
      "source": [
        "# summarize history for accuracy\n",
        "plt.plot(history.history['acc'])\n",
        "plt.plot(history.history['val_acc'])\n",
        "plt.title('model accuracy')\n",
        "plt.ylabel('accuracy')\n",
        "plt.xlabel('epoch')\n",
        "plt.legend(['train', 'test'], loc='upper left')\n",
        "plt.show()\n",
        "# summarize history for loss\n",
        "plt.plot(history.history['loss'])\n",
        "plt.plot(history.history['val_loss'])\n",
        "plt.title('model loss')\n",
        "plt.ylabel('loss')\n",
        "plt.xlabel('epoch')\n",
        "plt.legend(['train', 'test'], loc='upper left')\n",
        "plt.show()"
      ],
      "execution_count": 15,
      "outputs": [
        {
          "output_type": "display_data",
          "data": {
            "image/png": "[encoded data removed]",
            "text/plain": [
              "<Figure size 432x288 with 1 Axes>"
            ]
          },
          "metadata": {
            "tags": []
          }
        },
        {
          "output_type": "display_data",
          "data": {
            "image/png": "[encoded data removed]",
            "text/plain": [
              "<Figure size 432x288 with 1 Axes>"
            ]
          },
          "metadata": {
            "tags": []
          }
        }
      ]
    },
    {
      "cell_type": "code",
      "metadata": {
        "id": "nBNlMFqHKzvT",
        "colab_type": "code",
        "colab": {}
      },
      "source": [
        "img = test_x[100].reshape(-1,32,32,1)\n",
        "belongs_to_class = test_y[100]"
      ],
      "execution_count": 0,
      "outputs": []
    },
    {
      "cell_type": "code",
      "metadata": {
        "id": "Xtl0LNcwK9Mi",
        "colab_type": "code",
        "outputId": "f942fb8d-1347-404d-cc2d-21ba6beb54de",
        "colab": {
          "base_uri": "https://localhost:8080/",
          "height": 34
        }
      },
      "source": [
        "print(img.shape)"
      ],
      "execution_count": 34,
      "outputs": [
        {
          "output_type": "stream",
          "text": [
            "(1, 32, 32, 1)\n"
          ],
          "name": "stdout"
        }
      ]
    },
    {
      "cell_type": "code",
      "metadata": {
        "id": "wfkrVqc61jYz",
        "colab_type": "code",
        "colab": {}
      },
      "source": [
        "x = model.predict(img)"
      ],
      "execution_count": 0,
      "outputs": []
    },
    {
      "cell_type": "code",
      "metadata": {
        "id": "nFRTZVJLSXUq",
        "colab_type": "code",
        "outputId": "c153e31f-11d3-4f4d-8ee3-ffc9efeb66ac",
        "colab": {
          "base_uri": "https://localhost:8080/",
          "height": 272
        }
      },
      "source": [
        "print(x)"
      ],
      "execution_count": 36,
      "outputs": [
        {
          "output_type": "stream",
          "text": [
            "[[2.14757758e-08 3.09535897e-10 3.43126816e-09 2.61070227e-07\n",
            "  1.50237554e-06 3.72587827e-09 9.58943247e-07 9.27720345e-10\n",
            "  1.22778732e-10 5.46494905e-10 9.42132890e-01 5.72955199e-02\n",
            "  4.47783910e-04 5.14512885e-06 1.45473356e-10 3.85983270e-07\n",
            "  8.21578539e-08 7.79602778e-05 1.19105074e-07 1.65999575e-10\n",
            "  2.86980537e-08 1.97427497e-09 2.19189058e-08 6.17280810e-11\n",
            "  4.72178829e-09 3.90198593e-08 3.19518108e-07 1.16841310e-08\n",
            "  1.12067210e-05 4.85117946e-10 3.08907760e-10 2.94239055e-09\n",
            "  1.43297802e-06 3.39792604e-11 3.10328185e-09 1.54982849e-11\n",
            "  1.98902726e-05 3.74561523e-07 8.70204673e-08 1.82933246e-09\n",
            "  1.88207575e-11 1.01756815e-11 9.14502323e-07 1.07203206e-07\n",
            "  1.78755704e-06 1.67498371e-08 6.82064405e-11 1.66512984e-10\n",
            "  6.08075794e-08 1.92302849e-08 9.78560251e-07 2.79637713e-09\n",
            "  3.54248597e-12 1.25429924e-08 2.10282476e-08 2.56440945e-11\n",
            "  9.21887458e-13 1.13061557e-11 2.44573174e-14]]\n"
          ],
          "name": "stdout"
        }
      ]
    },
    {
      "cell_type": "code",
      "metadata": {
        "id": "nK7scl2HR_ow",
        "colab_type": "code",
        "colab": {}
      },
      "source": [
        "name = CATEGORIES[np.argmax(x)]\n",
        "bc = CATEGORIES[np.argmax(belongs_to_class)]"
      ],
      "execution_count": 0,
      "outputs": []
    },
    {
      "cell_type": "code",
      "metadata": {
        "id": "8r1OJfbnVpJt",
        "colab_type": "code",
        "outputId": "a9a63eec-10de-41bc-a584-1cecfc64b372",
        "colab": {
          "base_uri": "https://localhost:8080/",
          "height": 303
        }
      },
      "source": [
        "%matplotlib inline\n",
        "imgplot = plt.imshow(test_x[100])\n",
        "acc=np.amax(history.history['acc'])\n",
        "acc= acc*100\n",
        "acc = np.trunc(acc)\n",
        "\n",
        "print(\"predicted image is of: {} with accuracy {}\".format(name,acc))\n",
        "print(\"Actual class label is: {}\".format(bc))\n",
        "\n"
      ],
      "execution_count": 38,
      "outputs": [
        {
          "output_type": "stream",
          "text": [
            "predicted image is of: character-11-ta with accuracy 97.0\n",
            "Actual class label is: character-11-ta\n"
          ],
          "name": "stdout"
        },
        {
          "output_type": "display_data",
          "data": {
            "image/png": "[encoded data removed]",
            "text/plain": [
              "<Figure size 432x288 with 1 Axes>"
            ]
          },
          "metadata": {
            "tags": []
          }
        }
      ]
    },
    {
      "cell_type": "code",
      "metadata": {
        "id": "8S6af1hIWEPL",
        "colab_type": "code",
        "colab": {}
      },
      "source": [
        ""
      ],
      "execution_count": 0,
      "outputs": []
    },
    {
      "cell_type": "code",
      "metadata": {
        "id": "dvMNB9Kpqeic",
        "colab_type": "code",
        "colab": {}
      },
      "source": [
        "datagen.fit(x_train)"
      ],
      "execution_count": 0,
      "outputs": []
    },
    {
      "cell_type": "code",
      "metadata": {
        "id": "Xw1lLQ9QxMt6",
        "colab_type": "code",
        "colab": {}
      },
      "source": [
        ""
      ],
      "execution_count": 0,
      "outputs": []
    }
  ]
}