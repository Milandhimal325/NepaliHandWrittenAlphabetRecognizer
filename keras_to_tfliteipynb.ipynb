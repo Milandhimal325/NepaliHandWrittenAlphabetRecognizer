{
  "nbformat": 4,
  "nbformat_minor": 0,
  "metadata": {
    "colab": {
      "name": "keras to tfliteipynb",
      "version": "0.3.2",
      "provenance": [],
      "include_colab_link": true
    },
    "kernelspec": {
      "name": "python3",
      "display_name": "Python 3"
    },
    "accelerator": "GPU"
  },
  "cells": [
    {
      "cell_type": "markdown",
      "metadata": {
        "id": "view-in-github",
        "colab_type": "text"
      },
      "source": [
        "<a href=\"https://colab.research.google.com/github/Rojan116/NepaliHandWrittenAlphabetRecognizer/blob/master/keras_to_tfliteipynb.ipynb\" target=\"_parent\"><img src=\"https://colab.research.google.com/assets/colab-badge.svg\" alt=\"Open In Colab\"/></a>"
      ]
    },
    {
      "cell_type": "code",
      "metadata": {
        "id": "6Uhar1qmMeGi",
        "colab_type": "code",
        "outputId": "4bbb425e-bcd1-44f7-c32f-fe800380046a",
        "colab": {
          "base_uri": "https://localhost:8080/",
          "height": 34
        }
      },
      "source": [
        "!git clone https://github.com/Rojan116/NepaliHandWrittenAlphabetRecognizer.git"
      ],
      "execution_count": 1,
      "outputs": [
        {
          "output_type": "stream",
          "text": [
            "fatal: destination path 'NepaliHandWrittenAlphabetRecognizer' already exists and is not an empty directory.\n"
          ],
          "name": "stdout"
        }
      ]
    },
    {
      "cell_type": "code",
      "metadata": {
        "id": "X8kasikyM9hh",
        "colab_type": "code",
        "outputId": "3bfc1f31-7049-4463-ee9d-0b0904d5cbe6",
        "colab": {
          "base_uri": "https://localhost:8080/",
          "height": 34
        }
      },
      "source": [
        "ls"
      ],
      "execution_count": 2,
      "outputs": [
        {
          "output_type": "stream",
          "text": [
            "\u001b[0m\u001b[01;34mNepaliHandWrittenAlphabetRecognizer\u001b[0m/  \u001b[01;34msample_data\u001b[0m/\n"
          ],
          "name": "stdout"
        }
      ]
    },
    {
      "cell_type": "code",
      "metadata": {
        "id": "NSngiJhJNIB7",
        "colab_type": "code",
        "outputId": "9559af61-e218-4f62-cec9-f1610f84f9c0",
        "colab": {
          "base_uri": "https://localhost:8080/",
          "height": 34
        }
      },
      "source": [
        "cd NepaliHandWrittenAlphabetRecognizer"
      ],
      "execution_count": 3,
      "outputs": [
        {
          "output_type": "stream",
          "text": [
            "/content/NepaliHandWrittenAlphabetRecognizer\n"
          ],
          "name": "stdout"
        }
      ]
    },
    {
      "cell_type": "code",
      "metadata": {
        "id": "czGK9iAONLz8",
        "colab_type": "code",
        "colab": {
          "base_uri": "https://localhost:8080/",
          "height": 34
        },
        "outputId": "a17a3e5a-7072-4441-b455-6f950246e93b"
      },
      "source": [
        "import cv2\n",
        "import matplotlib.pyplot as plt\n",
        "import numpy as np\n",
        "import os\n",
        "import tensorflow as tf\n",
        "from tqdm import tqdm\n",
        "import random\n",
        "from keras.utils import to_categorical\n",
        "\n",
        "\n"
      ],
      "execution_count": 4,
      "outputs": [
        {
          "output_type": "stream",
          "text": [
            "Using TensorFlow backend.\n"
          ],
          "name": "stderr"
        }
      ]
    },
    {
      "cell_type": "code",
      "metadata": {
        "id": "LsmtWrIi4xLc",
        "colab_type": "code",
        "colab": {}
      },
      "source": [
        "#%matplotlib.inline \n",
        "\n",
        "PATH = os.getcwd()\n",
        "DATADIR = PATH + '/dhrcdata/Train'\t\t\n",
        "train_data_path = PATH + '/dhrcdata/Train'\n",
        "test_data_path = PATH + '/dhrcdata/Test'\n"
      ],
      "execution_count": 0,
      "outputs": []
    },
    {
      "cell_type": "code",
      "metadata": {
        "id": "X62kwyHO46b0",
        "colab_type": "code",
        "colab": {}
      },
      "source": [
        "\n",
        "\n",
        "CATEGORIES = [\n",
        "\n",
        "\"character_1_ka\",\"character_2_kha\",\"character_3_ga\",\"character_4_gha\",\"character_5_kna\",\n",
        "\"character_6_cha\",\"character_7_chha\",\"character_8_ja\",\"character_9_jha\",\"character_10_yna\",\n",
        "\"character_11_taamatar\",\"character_12_thaa\",\"character_13_daa\",\"character_14_dhaa\",\"character_15_adna\",\n",
        "\"character_16_tabala\",\"character_17_tha\",\"character_18_da\",\"character_19_dha\",\"character_20_na\",\"character_21_pa\",\n",
        "\"character_22_pha\",\"character_23_ba\",\"character_24_bha\",\"character_25_ma\",\"character_26_yaw\",\"character_27_ra\",\n",
        "\"character_28_la\",\"character_29_waw\",\"character_30_motosaw\",\"character_31_petchiryakha\",\"character_32_patalosaw\",\n",
        "\"character_33_ha\",\"character_34_chhya\",\"character_35_tra\",\"character_36_gya\",\"digit_0\",\"digit_1\",\"digit_2\",\"digit_3\",\n",
        "\"digit_4\",\"digit_5\",\"digit_6\",\"digit_7\",\"digit_8\",\"digit_9\"\n",
        "\n",
        "]\n"
      ],
      "execution_count": 0,
      "outputs": []
    },
    {
      "cell_type": "code",
      "metadata": {
        "id": "0goo09384_Ru",
        "colab_type": "code",
        "colab": {}
      },
      "source": [
        "\n",
        "IMG_SIZE = 32\n",
        "training_data = []\n",
        "testing_data = []\n",
        "\n",
        "def create_training_data():\n",
        "  for catagory in CATEGORIES:\n",
        "    path = os.path.join(train_data_path, catagory)\n",
        "    class_num = CATEGORIES.index(catagory)\n",
        "    for img in os.listdir(path):\n",
        "        try:\n",
        "          img_array = cv2.imread(os.path.join(path,img),cv2.IMREAD_GRAYSCALE)\n",
        "          new_array = cv2.resize(img_array,(IMG_SIZE,IMG_SIZE))\n",
        "          training_data.append([new_array,class_num])\n",
        "        except Exception as e:\n",
        "          pass\n",
        "\n",
        "\n",
        "\n",
        "def create_testing_data():\n",
        "  for catagory in CATEGORIES:\n",
        "    path = os.path.join(test_data_path, catagory)\n",
        "    class_num = CATEGORIES.index(catagory)\n",
        "    for img in os.listdir(path):\n",
        "        try:\n",
        "          img_array = cv2.imread(os.path.join(path,img),cv2.IMREAD_GRAYSCALE)\n",
        "          new_array = cv2.resize(img_array,(IMG_SIZE,IMG_SIZE))\n",
        "          testing_data.append([new_array,class_num])\n",
        "        except Exception as e:\n",
        "          pass\n",
        "\n",
        "\n",
        "\n",
        "create_training_data()\n",
        "create_testing_data()\n",
        "\n"
      ],
      "execution_count": 0,
      "outputs": []
    },
    {
      "cell_type": "code",
      "metadata": {
        "id": "fvixuUmT9vLQ",
        "colab_type": "code",
        "colab": {}
      },
      "source": [
        "#for histogram\n",
        "num_class = [i for i in range(47)]\n",
        "counts = []\n",
        "def count_image_in_class():\n",
        "  for catagory in CATEGORIES:\n",
        "    path = os.path.join(train_data_path, catagory)\n",
        "    class_num = CATEGORIES.index(catagory)\n",
        "    for i in range(47):\n",
        "      y = 0\n",
        "      for img in os.listdir(path):\n",
        "        y= y+1\n",
        "      counts.append(y)  \n",
        "        \n",
        "  count = np.array(counts)\n",
        "  #print(count)\n",
        "count_image_in_class()\n",
        "\n"
      ],
      "execution_count": 0,
      "outputs": []
    },
    {
      "cell_type": "code",
      "metadata": {
        "id": "mI20znH9DgF-",
        "colab_type": "code",
        "colab": {}
      },
      "source": [
        ""
      ],
      "execution_count": 0,
      "outputs": []
    },
    {
      "cell_type": "code",
      "metadata": {
        "id": "zQKTlAJuA7ZG",
        "colab_type": "code",
        "outputId": "889bca0f-03ad-47bf-ed58-c3556696c2c3",
        "colab": {
          "base_uri": "https://localhost:8080/",
          "height": 34
        }
      },
      "source": [
        "listofzeros = [0] * 5\n",
        "print(listofzeros)"
      ],
      "execution_count": 9,
      "outputs": [
        {
          "output_type": "stream",
          "text": [
            "[0, 0, 0, 0, 0]\n"
          ],
          "name": "stdout"
        }
      ]
    },
    {
      "cell_type": "code",
      "metadata": {
        "id": "o7hl-nzV5Hxe",
        "colab_type": "code",
        "colab": {}
      },
      "source": [
        "#shuffle training data for trainning diff image set in every batch\n",
        "random.shuffle(training_data)\n",
        "\n",
        "#hot encode image dataset\n",
        "\n",
        "train_x = []\n",
        "train_y = []\n",
        "test_x = []\n",
        "test_y = []\n",
        "\n",
        "\n",
        "\n",
        "#seperating features and labels from list\n",
        "for features, labels in training_data:\n",
        "\ttrain_x.append(features)\n",
        "\ttrain_y.append(labels)\n",
        "\n",
        "for features, labels in testing_data:\n",
        "\ttest_x.append(features)\n",
        "\ttest_y.append(labels)\n",
        "\n",
        "\n",
        "#converting list to array\n",
        "train_y_array = np.array(train_y)\n",
        "test_y_array = np.array(test_y)\n",
        "\n",
        "#converting image dataset to input 32*32 dataset \n",
        "\n",
        "train_image_array = np.array(train_x).reshape(-1,32,32,1)\n",
        "test_image_array = np.array(test_x).reshape(-1,32,32,1)\n",
        "\n",
        "\n",
        "#one hot enoded class \n",
        "train_y = to_categorical(train_y_array)\n",
        "test_y = to_categorical(test_y_array)\n",
        "\n",
        "\n",
        "train_y = np.array(train_y)\n",
        "test_y = np.array(test_y)\n",
        "\n",
        "#all train x, y and test x y are in array form now\n",
        "\n"
      ],
      "execution_count": 0,
      "outputs": []
    },
    {
      "cell_type": "code",
      "metadata": {
        "id": "KqO3vTVn7YhD",
        "colab_type": "code",
        "colab": {}
      },
      "source": [
        ""
      ],
      "execution_count": 0,
      "outputs": []
    },
    {
      "cell_type": "code",
      "metadata": {
        "id": "tP_UgBDT5P6T",
        "colab_type": "code",
        "colab": {
          "base_uri": "https://localhost:8080/",
          "height": 1700
        },
        "outputId": "ad112b51-255f-4443-8f10-ed6f4b5c0ad2"
      },
      "source": [
        "\n",
        "#now creating our model\n",
        "\n",
        "from keras.models import Sequential\n",
        "from keras.layers import *\n",
        "from keras.optimizers import *\n",
        "\n",
        "model = Sequential()\n",
        "\n",
        "model.add(InputLayer(input_shape=(32,32,1)))\n",
        "model.add(Conv2D(filters=64,kernel_size=3,strides=1,padding='same', activation='relu'))\n",
        "model.add(Conv2D(filters=64,kernel_size=3,strides=1,padding='same', activation='relu'))\n",
        "model.add(MaxPool2D(pool_size=5,padding='same'))\n",
        "\n",
        "model.add(Conv2D(filters=32,kernel_size=3,strides=1,padding='same', activation='relu'))\n",
        "model.add(Conv2D(filters=32,kernel_size=3,strides=1,padding='same', activation='relu'))\n",
        "model.add(MaxPool2D(pool_size=5,padding='same'))\n",
        "\n",
        "# model.add(Conv2D(filters=80,kernel_size=3,strides=1,padding='same', activation='relu'))\n",
        "# model.add(MaxPool2D(pool_size=5,padding='same'))\n",
        "\n",
        "model.add(Dropout(0.25))\n",
        "model.add(Flatten())\n",
        "model.add(Dense(512,activation='relu'))\n",
        "model.add(Dropout(0.5))\n",
        "\n",
        "\n",
        "\n",
        "\n",
        "model.add(Dense(46,activation='softmax'))\n",
        "optimizer = Adam(lr=1e-3)\n",
        "\n",
        "model.compile(optimizer=optimizer, loss='categorical_crossentropy',metrics=['accuracy'])\n",
        "model.fit(x=train_image_array,y=train_y,epochs=30,batch_size=100, validation_split=0.3)\n",
        "\n",
        "model.summary()\n",
        "\n"
      ],
      "execution_count": 11,
      "outputs": [
        {
          "output_type": "stream",
          "text": [
            "WARNING:tensorflow:From /usr/local/lib/python3.6/dist-packages/tensorflow/python/framework/op_def_library.py:263: colocate_with (from tensorflow.python.framework.ops) is deprecated and will be removed in a future version.\n",
            "Instructions for updating:\n",
            "Colocations handled automatically by placer.\n",
            "WARNING:tensorflow:From /usr/local/lib/python3.6/dist-packages/keras/backend/tensorflow_backend.py:3445: calling dropout (from tensorflow.python.ops.nn_ops) with keep_prob is deprecated and will be removed in a future version.\n",
            "Instructions for updating:\n",
            "Please use `rate` instead of `keep_prob`. Rate should be set to `rate = 1 - keep_prob`.\n",
            "WARNING:tensorflow:From /usr/local/lib/python3.6/dist-packages/tensorflow/python/ops/math_ops.py:3066: to_int32 (from tensorflow.python.ops.math_ops) is deprecated and will be removed in a future version.\n",
            "Instructions for updating:\n",
            "Use tf.cast instead.\n",
            "Train on 54740 samples, validate on 23460 samples\n",
            "Epoch 1/30\n",
            "54740/54740 [==============================] - 14s 247us/step - loss: 2.8632 - acc: 0.3046 - val_loss: 0.8875 - val_acc: 0.7399\n",
            "Epoch 2/30\n",
            "54740/54740 [==============================] - 7s 130us/step - loss: 0.9068 - acc: 0.7149 - val_loss: 0.4230 - val_acc: 0.8684\n",
            "Epoch 3/30\n",
            "54740/54740 [==============================] - 7s 129us/step - loss: 0.5762 - acc: 0.8190 - val_loss: 0.2903 - val_acc: 0.9114\n",
            "Epoch 4/30\n",
            "54740/54740 [==============================] - 7s 130us/step - loss: 0.4365 - acc: 0.8602 - val_loss: 0.2243 - val_acc: 0.9306\n",
            "Epoch 5/30\n",
            "54740/54740 [==============================] - 7s 130us/step - loss: 0.3640 - acc: 0.8841 - val_loss: 0.2098 - val_acc: 0.9356\n",
            "Epoch 6/30\n",
            "54740/54740 [==============================] - 7s 130us/step - loss: 0.3113 - acc: 0.9031 - val_loss: 0.1598 - val_acc: 0.9508\n",
            "Epoch 7/30\n",
            "54740/54740 [==============================] - 7s 131us/step - loss: 0.2764 - acc: 0.9123 - val_loss: 0.1581 - val_acc: 0.9518\n",
            "Epoch 8/30\n",
            "54740/54740 [==============================] - 7s 131us/step - loss: 0.2482 - acc: 0.9226 - val_loss: 0.1304 - val_acc: 0.9602\n",
            "Epoch 9/30\n",
            "54740/54740 [==============================] - 7s 131us/step - loss: 0.2349 - acc: 0.9264 - val_loss: 0.1425 - val_acc: 0.9592\n",
            "Epoch 10/30\n",
            "54740/54740 [==============================] - 7s 131us/step - loss: 0.2183 - acc: 0.9324 - val_loss: 0.1227 - val_acc: 0.9638\n",
            "Epoch 11/30\n",
            "54740/54740 [==============================] - 7s 132us/step - loss: 0.2042 - acc: 0.9354 - val_loss: 0.1110 - val_acc: 0.9664\n",
            "Epoch 12/30\n",
            "54740/54740 [==============================] - 7s 133us/step - loss: 0.1917 - acc: 0.9401 - val_loss: 0.1124 - val_acc: 0.9643\n",
            "Epoch 13/30\n",
            "54740/54740 [==============================] - 7s 133us/step - loss: 0.1794 - acc: 0.9444 - val_loss: 0.1034 - val_acc: 0.9688\n",
            "Epoch 14/30\n",
            "54740/54740 [==============================] - 7s 132us/step - loss: 0.1726 - acc: 0.9455 - val_loss: 0.0991 - val_acc: 0.9691\n",
            "Epoch 15/30\n",
            "54740/54740 [==============================] - 7s 133us/step - loss: 0.1721 - acc: 0.9457 - val_loss: 0.0988 - val_acc: 0.9701\n",
            "Epoch 16/30\n",
            "54740/54740 [==============================] - 7s 132us/step - loss: 0.1604 - acc: 0.9491 - val_loss: 0.0975 - val_acc: 0.9711\n",
            "Epoch 17/30\n",
            "54740/54740 [==============================] - 7s 132us/step - loss: 0.1587 - acc: 0.9503 - val_loss: 0.0977 - val_acc: 0.9721\n",
            "Epoch 18/30\n",
            "54740/54740 [==============================] - 7s 133us/step - loss: 0.1526 - acc: 0.9525 - val_loss: 0.0919 - val_acc: 0.9720\n",
            "Epoch 19/30\n",
            "54740/54740 [==============================] - 7s 133us/step - loss: 0.1478 - acc: 0.9533 - val_loss: 0.0897 - val_acc: 0.9739\n",
            "Epoch 20/30\n",
            "54740/54740 [==============================] - 7s 132us/step - loss: 0.1406 - acc: 0.9554 - val_loss: 0.0856 - val_acc: 0.9742\n",
            "Epoch 21/30\n",
            "54740/54740 [==============================] - 7s 132us/step - loss: 0.1406 - acc: 0.9552 - val_loss: 0.0873 - val_acc: 0.9747\n",
            "Epoch 22/30\n",
            "54740/54740 [==============================] - 7s 132us/step - loss: 0.1345 - acc: 0.9573 - val_loss: 0.0945 - val_acc: 0.9731\n",
            "Epoch 23/30\n",
            "54740/54740 [==============================] - 7s 132us/step - loss: 0.1387 - acc: 0.9563 - val_loss: 0.0873 - val_acc: 0.9737\n",
            "Epoch 24/30\n",
            "54740/54740 [==============================] - 7s 132us/step - loss: 0.1271 - acc: 0.9605 - val_loss: 0.0862 - val_acc: 0.9749\n",
            "Epoch 25/30\n",
            "54740/54740 [==============================] - 7s 132us/step - loss: 0.1332 - acc: 0.9585 - val_loss: 0.0857 - val_acc: 0.9743\n",
            "Epoch 26/30\n",
            "54740/54740 [==============================] - 7s 131us/step - loss: 0.1316 - acc: 0.9587 - val_loss: 0.0807 - val_acc: 0.9773\n",
            "Epoch 27/30\n",
            "54740/54740 [==============================] - 7s 131us/step - loss: 0.1250 - acc: 0.9606 - val_loss: 0.0844 - val_acc: 0.9753\n",
            "Epoch 28/30\n",
            "54740/54740 [==============================] - 7s 132us/step - loss: 0.1203 - acc: 0.9629 - val_loss: 0.0824 - val_acc: 0.9762\n",
            "Epoch 29/30\n",
            "54740/54740 [==============================] - 7s 132us/step - loss: 0.1209 - acc: 0.9615 - val_loss: 0.0867 - val_acc: 0.9757\n",
            "Epoch 30/30\n",
            "54740/54740 [==============================] - 7s 135us/step - loss: 0.1249 - acc: 0.9611 - val_loss: 0.0821 - val_acc: 0.9768\n",
            "_________________________________________________________________\n",
            "Layer (type)                 Output Shape              Param #   \n",
            "=================================================================\n",
            "conv2d_1 (Conv2D)            (None, 32, 32, 64)        640       \n",
            "_________________________________________________________________\n",
            "conv2d_2 (Conv2D)            (None, 32, 32, 64)        36928     \n",
            "_________________________________________________________________\n",
            "max_pooling2d_1 (MaxPooling2 (None, 7, 7, 64)          0         \n",
            "_________________________________________________________________\n",
            "conv2d_3 (Conv2D)            (None, 7, 7, 32)          18464     \n",
            "_________________________________________________________________\n",
            "conv2d_4 (Conv2D)            (None, 7, 7, 32)          9248      \n",
            "_________________________________________________________________\n",
            "max_pooling2d_2 (MaxPooling2 (None, 2, 2, 32)          0         \n",
            "_________________________________________________________________\n",
            "dropout_1 (Dropout)          (None, 2, 2, 32)          0         \n",
            "_________________________________________________________________\n",
            "flatten_1 (Flatten)          (None, 128)               0         \n",
            "_________________________________________________________________\n",
            "dense_1 (Dense)              (None, 512)               66048     \n",
            "_________________________________________________________________\n",
            "dropout_2 (Dropout)          (None, 512)               0         \n",
            "_________________________________________________________________\n",
            "dense_2 (Dense)              (None, 46)                23598     \n",
            "=================================================================\n",
            "Total params: 154,926\n",
            "Trainable params: 154,926\n",
            "Non-trainable params: 0\n",
            "_________________________________________________________________\n"
          ],
          "name": "stdout"
        }
      ]
    },
    {
      "cell_type": "code",
      "metadata": {
        "id": "y46FbTE7NPAA",
        "colab_type": "code",
        "colab": {}
      },
      "source": [
        "model.save('androidtest_model.h5')\n",
        "model.save_weights('androidtest_weights.h5')\n"
      ],
      "execution_count": 0,
      "outputs": []
    },
    {
      "cell_type": "code",
      "metadata": {
        "id": "-vNTvdFvS_XC",
        "colab_type": "code",
        "outputId": "6aae4327-de80-4a8a-c9cd-98daea9f5282",
        "colab": {
          "base_uri": "https://localhost:8080/",
          "height": 1263
        }
      },
      "source": [
        "#new model\n",
        "\n",
        "# Set the CNN model \n",
        "# my CNN architechture is In -> [[Conv2D->relu]*2 -> MaxPool2D -> Dropout]*2 -> Flatten -> Dense -> Dropout -> Out\n",
        "\n",
        "model = Sequential()\n",
        "\n",
        "model.add(Conv2D(filters = 32, kernel_size = (5,5),padding = 'Same', \n",
        "                 activation ='relu', input_shape = (32,32,1)))\n",
        "model.add(Conv2D(filters = 32, kernel_size = (5,5),padding = 'Same', \n",
        "                 activation ='relu'))\n",
        "model.add(MaxPool2D(pool_size=(2,2)))\n",
        "model.add(Dropout(0.25))\n",
        "\n",
        "\n",
        "model.add(Conv2D(filters = 64, kernel_size = (3,3),padding = 'Same', \n",
        "                 activation ='relu'))\n",
        "model.add(Conv2D(filters = 64, kernel_size = (3,3),padding = 'Same', \n",
        "                 activation ='relu'))\n",
        "model.add(MaxPool2D(pool_size=(2,2), strides=(2,2)))\n",
        "model.add(Dropout(0.25))\n",
        "\n",
        "\n",
        "model.add(Flatten())\n",
        "model.add(Dense(256, activation = \"relu\"))\n",
        "model.add(Dropout(0.5))\n",
        "model.add(Dense(46, activation = \"softmax\"))\n",
        "\n",
        "# Define the optimizer\n",
        "#optimizer = RMSprop(lr=0.001, rho=0.9, epsilon=1e-08, decay=0.0)\n",
        "optimizer = Adam(lr=0.0001)\n",
        "\n",
        "# Compile the model\n",
        "model.compile(optimizer = optimizer , loss = \"categorical_crossentropy\", metrics=[\"accuracy\"])\n",
        "\n",
        "model.summary()\n",
        "\n",
        "model.fit(x=train_image_array,y=train_y,epochs=20,batch_size=100, validation_split=0.3)"
      ],
      "execution_count": 13,
      "outputs": [
        {
          "output_type": "stream",
          "text": [
            "_________________________________________________________________\n",
            "Layer (type)                 Output Shape              Param #   \n",
            "=================================================================\n",
            "conv2d_5 (Conv2D)            (None, 32, 32, 32)        832       \n",
            "_________________________________________________________________\n",
            "conv2d_6 (Conv2D)            (None, 32, 32, 32)        25632     \n",
            "_________________________________________________________________\n",
            "max_pooling2d_3 (MaxPooling2 (None, 16, 16, 32)        0         \n",
            "_________________________________________________________________\n",
            "dropout_3 (Dropout)          (None, 16, 16, 32)        0         \n",
            "_________________________________________________________________\n",
            "conv2d_7 (Conv2D)            (None, 16, 16, 64)        18496     \n",
            "_________________________________________________________________\n",
            "conv2d_8 (Conv2D)            (None, 16, 16, 64)        36928     \n",
            "_________________________________________________________________\n",
            "max_pooling2d_4 (MaxPooling2 (None, 8, 8, 64)          0         \n",
            "_________________________________________________________________\n",
            "dropout_4 (Dropout)          (None, 8, 8, 64)          0         \n",
            "_________________________________________________________________\n",
            "flatten_2 (Flatten)          (None, 4096)              0         \n",
            "_________________________________________________________________\n",
            "dense_3 (Dense)              (None, 256)               1048832   \n",
            "_________________________________________________________________\n",
            "dropout_5 (Dropout)          (None, 256)               0         \n",
            "_________________________________________________________________\n",
            "dense_4 (Dense)              (None, 46)                11822     \n",
            "=================================================================\n",
            "Total params: 1,142,542\n",
            "Trainable params: 1,142,542\n",
            "Non-trainable params: 0\n",
            "_________________________________________________________________\n",
            "Train on 54740 samples, validate on 23460 samples\n",
            "Epoch 1/20\n",
            "54740/54740 [==============================] - 9s 164us/step - loss: 4.4494 - acc: 0.1002 - val_loss: 2.2379 - val_acc: 0.4972\n",
            "Epoch 2/20\n",
            "54740/54740 [==============================] - 8s 149us/step - loss: 1.9296 - acc: 0.4666 - val_loss: 0.6856 - val_acc: 0.8224\n",
            "Epoch 3/20\n",
            "54740/54740 [==============================] - 8s 150us/step - loss: 1.0468 - acc: 0.6946 - val_loss: 0.3833 - val_acc: 0.8999\n",
            "Epoch 4/20\n",
            "54740/54740 [==============================] - 8s 149us/step - loss: 0.7140 - acc: 0.7873 - val_loss: 0.2532 - val_acc: 0.9314\n",
            "Epoch 5/20\n",
            "54740/54740 [==============================] - 8s 148us/step - loss: 0.5335 - acc: 0.8407 - val_loss: 0.1932 - val_acc: 0.9442\n",
            "Epoch 6/20\n",
            "54740/54740 [==============================] - 8s 148us/step - loss: 0.4288 - acc: 0.8697 - val_loss: 0.1583 - val_acc: 0.9550\n",
            "Epoch 7/20\n",
            "54740/54740 [==============================] - 8s 148us/step - loss: 0.3572 - acc: 0.8916 - val_loss: 0.1298 - val_acc: 0.9630\n",
            "Epoch 8/20\n",
            "54740/54740 [==============================] - 8s 148us/step - loss: 0.2997 - acc: 0.9085 - val_loss: 0.1141 - val_acc: 0.9668\n",
            "Epoch 9/20\n",
            "54740/54740 [==============================] - 8s 148us/step - loss: 0.2548 - acc: 0.9229 - val_loss: 0.0955 - val_acc: 0.9717\n",
            "Epoch 10/20\n",
            "54740/54740 [==============================] - 8s 148us/step - loss: 0.2238 - acc: 0.9305 - val_loss: 0.0833 - val_acc: 0.9762\n",
            "Epoch 11/20\n",
            "54740/54740 [==============================] - 8s 148us/step - loss: 0.1995 - acc: 0.9373 - val_loss: 0.0785 - val_acc: 0.9767\n",
            "Epoch 12/20\n",
            "54740/54740 [==============================] - 8s 148us/step - loss: 0.1778 - acc: 0.9446 - val_loss: 0.0743 - val_acc: 0.9777\n",
            "Epoch 13/20\n",
            "54740/54740 [==============================] - 8s 148us/step - loss: 0.1582 - acc: 0.9503 - val_loss: 0.0706 - val_acc: 0.9801\n",
            "Epoch 14/20\n",
            "54740/54740 [==============================] - 8s 148us/step - loss: 0.1420 - acc: 0.9547 - val_loss: 0.0641 - val_acc: 0.9813\n",
            "Epoch 15/20\n",
            "54740/54740 [==============================] - 8s 148us/step - loss: 0.1323 - acc: 0.9592 - val_loss: 0.0623 - val_acc: 0.9820\n",
            "Epoch 16/20\n",
            "54740/54740 [==============================] - 8s 148us/step - loss: 0.1202 - acc: 0.9623 - val_loss: 0.0613 - val_acc: 0.9818\n",
            "Epoch 17/20\n",
            "54740/54740 [==============================] - 8s 148us/step - loss: 0.1142 - acc: 0.9639 - val_loss: 0.0558 - val_acc: 0.9838\n",
            "Epoch 18/20\n",
            "54740/54740 [==============================] - 8s 147us/step - loss: 0.0997 - acc: 0.9680 - val_loss: 0.0523 - val_acc: 0.9851\n",
            "Epoch 19/20\n",
            "54740/54740 [==============================] - 8s 147us/step - loss: 0.0955 - acc: 0.9692 - val_loss: 0.0523 - val_acc: 0.9846\n",
            "Epoch 20/20\n",
            "54740/54740 [==============================] - 8s 147us/step - loss: 0.0908 - acc: 0.9713 - val_loss: 0.0493 - val_acc: 0.9856\n"
          ],
          "name": "stdout"
        },
        {
          "output_type": "execute_result",
          "data": {
            "text/plain": [
              "<keras.callbacks.History at 0x7fe88455d0b8>"
            ]
          },
          "metadata": {
            "tags": []
          },
          "execution_count": 13
        }
      ]
    },
    {
      "cell_type": "code",
      "metadata": {
        "id": "2Czx3XYLRpfF",
        "colab_type": "code",
        "colab": {}
      },
      "source": [
        "model.save('model.h5')\n",
        "model.save_weights('model_weights.h5')"
      ],
      "execution_count": 0,
      "outputs": []
    },
    {
      "cell_type": "code",
      "metadata": {
        "id": "ikvDqJLxNg4q",
        "colab_type": "code",
        "colab": {
          "base_uri": "https://localhost:8080/",
          "height": 188
        },
        "outputId": "3815dcd0-8b9c-42f4-8319-aca830fefb78"
      },
      "source": [
        "from tensorflow.contrib import lite\n",
        "converter = lite.TFLiteConverter.from_keras_model_file( 'model.h5' ) # Your model's name\n",
        "model = converter.convert()\n",
        "file = open( 'model.tflite' , 'wb' ) \n",
        "file.write( model )"
      ],
      "execution_count": 18,
      "outputs": [
        {
          "output_type": "stream",
          "text": [
            "WARNING:tensorflow:From /usr/local/lib/python3.6/dist-packages/tensorflow/lite/python/lite.py:591: convert_variables_to_constants (from tensorflow.python.framework.graph_util_impl) is deprecated and will be removed in a future version.\n",
            "Instructions for updating:\n",
            "Use tf.compat.v1.graph_util.convert_variables_to_constants\n",
            "WARNING:tensorflow:From /usr/local/lib/python3.6/dist-packages/tensorflow/python/framework/graph_util_impl.py:245: extract_sub_graph (from tensorflow.python.framework.graph_util_impl) is deprecated and will be removed in a future version.\n",
            "Instructions for updating:\n",
            "Use tf.compat.v1.graph_util.extract_sub_graph\n",
            "INFO:tensorflow:Froze 12 variables.\n",
            "INFO:tensorflow:Converted 12 variables to const ops.\n"
          ],
          "name": "stdout"
        },
        {
          "output_type": "execute_result",
          "data": {
            "text/plain": [
              "4572940"
            ]
          },
          "metadata": {
            "tags": []
          },
          "execution_count": 18
        }
      ]
    },
    {
      "cell_type": "code",
      "metadata": {
        "id": "vYn28IBfP5bE",
        "colab_type": "code",
        "colab": {}
      },
      "source": [
        "from google.colab import files"
      ],
      "execution_count": 0,
      "outputs": []
    },
    {
      "cell_type": "code",
      "metadata": {
        "id": "oIQSmfE3QAaa",
        "colab_type": "code",
        "colab": {}
      },
      "source": [
        "files.download('model.tflite')"
      ],
      "execution_count": 0,
      "outputs": []
    },
    {
      "cell_type": "code",
      "metadata": {
        "id": "y00BwPRUQELs",
        "colab_type": "code",
        "colab": {}
      },
      "source": [
        ""
      ],
      "execution_count": 0,
      "outputs": []
    }
  ]
}