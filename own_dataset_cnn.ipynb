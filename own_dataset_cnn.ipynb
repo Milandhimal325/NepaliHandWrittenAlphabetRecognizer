{
  "nbformat": 4,
  "nbformat_minor": 0,
  "metadata": {
    "colab": {
      "name": "own_dataset_cnn.ipynb",
      "version": "0.3.2",
      "provenance": [],
      "collapsed_sections": [],
      "include_colab_link": true
    },
    "kernelspec": {
      "name": "python3",
      "display_name": "Python 3"
    },
    "accelerator": "GPU"
  },
  "cells": [
    {
      "cell_type": "markdown",
      "metadata": {
        "id": "view-in-github",
        "colab_type": "text"
      },
      "source": [
        "<a href=\"https://colab.research.google.com/github/Rojan116/NepaliHandWrittenAlphabetRecognizer/blob/master/own_dataset_cnn.ipynb\" target=\"_parent\"><img src=\"https://colab.research.google.com/assets/colab-badge.svg\" alt=\"Open In Colab\"/></a>"
      ]
    },
    {
      "cell_type": "code",
      "metadata": {
        "id": "Fa0w7bIx81Sq",
        "colab_type": "code",
        "outputId": "70901e95-af64-4968-cd0d-db3a5cb25da3",
        "colab": {
          "base_uri": "https://localhost:8080/",
          "height": 153
        }
      },
      "source": [
        "!git clone https://github.com/Rojan116/NepaliHandWrittenAlphabetRecognizer.git"
      ],
      "execution_count": 14,
      "outputs": [
        {
          "output_type": "stream",
          "text": [
            "Cloning into 'NepaliHandWrittenAlphabetRecognizer'...\n",
            "remote: Enumerating objects: 1827, done.\u001b[K\n",
            "remote: Counting objects: 100% (1827/1827), done.\u001b[K\n",
            "remote: Compressing objects: 100% (1825/1825), done.\u001b[K\n",
            "remote: Total 99358 (delta 2), reused 1826 (delta 2), pack-reused 97531\u001b[K\n",
            "Receiving objects: 100% (99358/99358), 137.61 MiB | 8.46 MiB/s, done.\n",
            "Resolving deltas: 100% (1552/1552), done.\n",
            "Checking out files: 100% (93803/93803), done.\n"
          ],
          "name": "stdout"
        }
      ]
    },
    {
      "cell_type": "code",
      "metadata": {
        "id": "jHtN-fzK9KOB",
        "colab_type": "code",
        "outputId": "32456252-f17c-4ca3-9b53-0203a3f35517",
        "colab": {
          "base_uri": "https://localhost:8080/",
          "height": 170
        }
      },
      "source": [
        "ls"
      ],
      "execution_count": 15,
      "outputs": [
        {
          "output_type": "stream",
          "text": [
            "augmented_cnn_36_class.ipynb   \u001b[0m\u001b[01;34mnepalibarna\u001b[0m/\n",
            "augmented_cnn.ipynb            \u001b[01;34mNepaliHandWrittenAlphabetRecognizer\u001b[0m/\n",
            "augmented_cnn_predicted.ipynb  new_cnn_9766_acc.ipynb\n",
            "cnn_98_.ipynb                  new_cnn_98%.ipynb\n",
            "CNN.ipynb                      new_cnn.ipynb\n",
            "custom_model.ipynb             new_cnn_may14.ipynb\n",
            "dev.py                         new_cnn_may15.ipynb\n",
            "\u001b[01;34mdhrcdata\u001b[0m/                      new_cnn_may16.ipynb\n",
            "image_augmentation.ipynb       Untitled.ipynb\n"
          ],
          "name": "stdout"
        }
      ]
    },
    {
      "cell_type": "code",
      "metadata": {
        "id": "6-Y4SAWO9Q1G",
        "colab_type": "code",
        "outputId": "f81bc4f6-f968-41df-dd40-cec383f7f96f",
        "colab": {
          "base_uri": "https://localhost:8080/",
          "height": 34
        }
      },
      "source": [
        "cd NepaliHandWrittenAlphabetRecognizer"
      ],
      "execution_count": 16,
      "outputs": [
        {
          "output_type": "stream",
          "text": [
            "/content/NepaliHandWrittenAlphabetRecognizer/NepaliHandWrittenAlphabetRecognizer\n"
          ],
          "name": "stdout"
        }
      ]
    },
    {
      "cell_type": "code",
      "metadata": {
        "id": "v_xvSHzeG_RV",
        "colab_type": "code",
        "colab": {
          "base_uri": "https://localhost:8080/",
          "height": 119
        },
        "outputId": "3f19b9b4-5533-4816-fff1-cee3ed3c19ba"
      },
      "source": [
        "ls"
      ],
      "execution_count": 17,
      "outputs": [
        {
          "output_type": "stream",
          "text": [
            "augmented_cnn_36_class.ipynb   dev.py                    new_cnn.ipynb\n",
            "augmented_cnn.ipynb            \u001b[0m\u001b[01;34mdhrcdata\u001b[0m/                 new_cnn_may14.ipynb\n",
            "augmented_cnn_predicted.ipynb  image_augmentation.ipynb  new_cnn_may15.ipynb\n",
            "cnn_98_.ipynb                  \u001b[01;34mnepalibarna\u001b[0m/              new_cnn_may16.ipynb\n",
            "CNN.ipynb                      new_cnn_9766_acc.ipynb    Untitled.ipynb\n",
            "custom_model.ipynb             new_cnn_98%.ipynb\n"
          ],
          "name": "stdout"
        }
      ]
    },
    {
      "cell_type": "code",
      "metadata": {
        "id": "AK0RS0g19VaY",
        "colab_type": "code",
        "colab": {}
      },
      "source": [
        "import cv2\n",
        "import matplotlib.pyplot as plt\n",
        "import numpy as np\n",
        "import os\n",
        "import tensorflow as tf\n",
        "from tqdm import tqdm\n",
        "import random\n",
        "from keras.utils import to_categorical\n",
        "from keras.preprocessing.image import ImageDataGenerator\n",
        "from keras.callbacks import ReduceLROnPlateau\n",
        "\n",
        "from keras.models import Sequential\n",
        "from keras.layers import *\n",
        "from keras.optimizers import *"
      ],
      "execution_count": 0,
      "outputs": []
    },
    {
      "cell_type": "code",
      "metadata": {
        "id": "XUB5C0nB9YOg",
        "colab_type": "code",
        "colab": {}
      },
      "source": [
        "PATH = os.getcwd()\n",
        "DATADIR = PATH + '/nepalibarna'\t\t\n",
        "train_data_path = PATH + '/nepalibarna'\n",
        "test_data_path = PATH + '/nepalibarna'\n"
      ],
      "execution_count": 0,
      "outputs": []
    },
    {
      "cell_type": "code",
      "metadata": {
        "id": "MOK18pvNNPTZ",
        "colab_type": "code",
        "outputId": "05b8b220-c64b-42b7-98cc-2f83d68b920c",
        "colab": {
          "base_uri": "https://localhost:8080/",
          "height": 71
        }
      },
      "source": [
        "#counting categories\n",
        "new_cat = []\n",
        "for x in os.listdir(train_data_path):\n",
        "  new_cat.append(x)\n",
        "\n",
        "print(new_cat)  \n",
        "classes = np.unique(new_cat)\n",
        "print(len(classes))\n"
      ],
      "execution_count": 24,
      "outputs": [
        {
          "output_type": "stream",
          "text": [
            "['character_22_pha', 'character_14_dha', 'character_33_ha', 'character_31_sa', 'character_17_tha', 'character_15_na', 'character_28_la', 'character_01_ka', 'character_05_n..a', 'character_03_ga', 'character_21_pa', 'character_19_dha', 'character_13_da', 'character_34_chyan', 'character_09_jha', 'character_04_gha', 'character_30_sa', 'character_36_gyan', 'character_07_chha', 'character_20_na', 'character_12_tha', 'character_26_ya', 'character_08_ja', 'character_16_ta', 'character_27_ra', 'character_25_ma', 'character_29_wa', 'character_11_ta', 'character_18_da', 'character_24_bha', 'character_23_ba', 'character_02_kha', 'character_32_sa', 'character_06_cha', 'character_35_tra', 'character_10_yaa']\n",
            "36\n"
          ],
          "name": "stdout"
        }
      ]
    },
    {
      "cell_type": "code",
      "metadata": {
        "id": "kTFBK9wD9aqu",
        "colab_type": "code",
        "colab": {}
      },
      "source": [
        "CATEGORIES = [\n",
        "\n",
        "\"character_01_ka\",\"character_02_kha\",\"character_03_ga\",\"character_04_gha\",\"character_05_n..a\",\n",
        "\"character_06_cha\",\"character_07_chha\",\"character_08_ja\",\"character_09_jha\",\"character_10_yaa\",\n",
        "\"character_11_ta\",\"character_12_tha\",\"character_13_da\",\"character_14_dha\",\"character_15_na\",\n",
        "\"character_16_ta\",\"character_17_tha\",\"character_18_da\",\"character_19_dha\",\"character_20_na\",\"character_21_pa\",\n",
        "\"character_22_pha\",\"character_23_ba\",\"character_24_bha\",\"character_25_ma\",\"character_26_ya\",\"character_27_ra\",\n",
        "\"character_28_la\",\"character_29_wa\",\"character_30_sa\",\"character_31_sa\",\"character_32_sa\",\n",
        "\"character_33_ha\",\"character_34_chyan\",\"character_35_tra\",\"character_36_gyan\"\n",
        "\n",
        "]\n"
      ],
      "execution_count": 0,
      "outputs": []
    },
    {
      "cell_type": "code",
      "metadata": {
        "id": "as1xbqAW9d5P",
        "colab_type": "code",
        "colab": {}
      },
      "source": [
        "IMG_SIZE = 32\n",
        "training_data = []\n",
        "testing_data = []\n",
        "\n",
        "def create_training_data():\n",
        "  for catagory in CATEGORIES:\n",
        "    path = os.path.join(train_data_path, catagory)\n",
        "    class_num = CATEGORIES.index(catagory)\n",
        "    for img in os.listdir(path):\n",
        "        try:\n",
        "          img_array = cv2.imread(os.path.join(path,img),cv2.IMREAD_GRAYSCALE)\n",
        "          new_array = cv2.resize(img_array,(IMG_SIZE,IMG_SIZE))\n",
        "          training_data.append([new_array,class_num])\n",
        "        except Exception as e:\n",
        "          pass\n",
        "\n",
        "\n",
        "\n",
        "\n",
        "create_training_data()\n"
      ],
      "execution_count": 0,
      "outputs": []
    },
    {
      "cell_type": "code",
      "metadata": {
        "id": "_7a9Hftp9kSg",
        "colab_type": "code",
        "outputId": "6df558a9-3392-4838-f5a5-9827e968b263",
        "colab": {
          "base_uri": "https://localhost:8080/",
          "height": 68
        }
      },
      "source": [
        "#shuffle training data for trainning diff image set in every batch\n",
        "random.shuffle(training_data)\n",
        "\n",
        "#hot encode image dataset\n",
        "\n",
        "train_x = []\n",
        "train_y = []\n",
        "\n",
        "\n",
        "#seperating features and labels from list\n",
        "for features, labels in training_data:\n",
        "\ttrain_x.append(features)\n",
        "\ttrain_y.append(labels)\n",
        "\n",
        "\n",
        "#converting list to array\n",
        "train_y_array = np.array(train_y)\n",
        "\n",
        "#converting image dataset to input 32*32 dataset \n",
        "\n",
        "train_image_array = np.array(train_x).reshape(-1,32,32,1)\n",
        "\n",
        "#counting total number of class in dataset\n",
        "classes = np.unique(train_y_array)\n",
        "print(classes)\n",
        "print(\"total number of class={} \".format(len(classes)))\n",
        "\n"
      ],
      "execution_count": 34,
      "outputs": [
        {
          "output_type": "stream",
          "text": [
            "[ 0  1  2  3  4  5  6  7  8  9 10 11 12 13 14 15 16 17 18 19 20 21 22 23\n",
            " 24 25 26 27 28 29 30 31 32 33 34 35]\n",
            "total number of class=36 \n"
          ],
          "name": "stdout"
        }
      ]
    },
    {
      "cell_type": "code",
      "metadata": {
        "id": "DJyBFLIrFs_G",
        "colab_type": "code",
        "outputId": "5fbd5172-df52-41c7-d5e4-21b0126aec9d",
        "colab": {
          "base_uri": "https://localhost:8080/",
          "height": 269
        }
      },
      "source": [
        "# convert from int to float\n",
        "x_train = train_image_array.astype('float32')\n",
        "# define data preparation\n",
        "datagen = ImageDataGenerator(featurewise_center=True,\n",
        "                             featurewise_std_normalization=True,\n",
        "                             rotation_range=15,\n",
        "                             width_shift_range=0.1,\n",
        "                             height_shift_range=0.1,\n",
        "                              zoom_range=0.2\n",
        "                            )\n",
        "# fit parameters from data\n",
        "datagen.fit(x_train)\n",
        "# configure batch size and retrieve one batch of images\n",
        "for X_batch, y_batch in datagen.flow(x_train, train_y, batch_size=9):\n",
        "\t# create a grid of 3x3 images\n",
        "\tfor i in range(0, 9):\n",
        "\t\tplt.subplot(330 + 1 + i)\n",
        "\t\tplt.imshow(X_batch[i].reshape(32, 32), cmap=plt.get_cmap('gray'))\n",
        "\t# show the plot\n",
        "\tplt.show()\n",
        "\tbreak"
      ],
      "execution_count": 36,
      "outputs": [
        {
          "output_type": "display_data",
          "data": {
            "image/png": "[encoded data removed]",
            "text/plain": [
              "<Figure size 432x288 with 9 Axes>"
            ]
          },
          "metadata": {
            "tags": []
          }
        }
      ]
    },
    {
      "cell_type": "code",
      "metadata": {
        "id": "OcD8KB1rGHpt",
        "colab_type": "code",
        "colab": {}
      },
      "source": [
        "\n",
        "#one hot enoded class \n",
        "train_y = to_categorical(train_y_array)\n",
        "\n",
        "\n",
        "train_y = np.array(train_y)\n",
        "\n",
        "#all train x, y and test x y are in array form now\n"
      ],
      "execution_count": 0,
      "outputs": []
    },
    {
      "cell_type": "code",
      "metadata": {
        "id": "HTyQPCKc9AuW",
        "colab_type": "code",
        "outputId": "9f5a788b-4c9d-4ac2-e945-ce5182f30000",
        "colab": {
          "base_uri": "https://localhost:8080/",
          "height": 887
        }
      },
      "source": [
        "#new model\n",
        "\n",
        "# Set the CNN model \n",
        "# my CNN architechture is In -> [[Conv2D->relu]*2 -> MaxPool2D -> Dropout]*2 -> Flatten -> Dense -> Dropout -> Out\n",
        "\n",
        "model = Sequential()\n",
        "\n",
        "model.add(Conv2D(filters = 32, kernel_size = (5,5),padding = 'Same', \n",
        "                 activation ='relu', input_shape = (32,32,1)))\n",
        "model.add(Conv2D(filters = 32, kernel_size = (5,5),padding = 'Same', \n",
        "                 activation ='relu'))\n",
        "model.add(MaxPool2D(pool_size=(2,2)))\n",
        "model.add(Dropout(0.25))\n",
        "\n",
        "\n",
        "model.add(Conv2D(filters = 64, kernel_size = (3,3),padding = 'Same', \n",
        "                 activation ='relu'))\n",
        "model.add(Conv2D(filters = 64, kernel_size = (3,3),padding = 'Same', \n",
        "                 activation ='relu'))\n",
        "model.add(MaxPool2D(pool_size=(2,2), strides=(2,2)))\n",
        "model.add(Dropout(0.25))\n",
        "\n",
        "\n",
        "model.add(Flatten())\n",
        "model.add(Dense(256, activation = \"relu\"))\n",
        "model.add(Dropout(0.5))\n",
        "model.add(Dense(36, activation = \"softmax\"))\n",
        "\n",
        "# Define the optimizer\n",
        "#optimizer = RMSprop(lr=0.001, rho=0.9, epsilon=1e-08, decay=0.0)\n",
        "optimizer = Adam(lr=0.0001)\n",
        "\n",
        "# Compile the model\n",
        "model.compile(optimizer = optimizer , loss = \"categorical_crossentropy\", metrics=[\"accuracy\"])\n",
        "\n",
        "#model.summary()\n",
        "\n",
        "history = model.fit(x=train_image_array,y=train_y,epochs=20,batch_size=100, validation_split=0.3)"
      ],
      "execution_count": 38,
      "outputs": [
        {
          "output_type": "stream",
          "text": [
            "WARNING:tensorflow:From /usr/local/lib/python3.6/dist-packages/tensorflow/python/framework/op_def_library.py:263: colocate_with (from tensorflow.python.framework.ops) is deprecated and will be removed in a future version.\n",
            "Instructions for updating:\n",
            "Colocations handled automatically by placer.\n",
            "WARNING:tensorflow:From /usr/local/lib/python3.6/dist-packages/keras/backend/tensorflow_backend.py:3445: calling dropout (from tensorflow.python.ops.nn_ops) with keep_prob is deprecated and will be removed in a future version.\n",
            "Instructions for updating:\n",
            "Please use `rate` instead of `keep_prob`. Rate should be set to `rate = 1 - keep_prob`.\n",
            "WARNING:tensorflow:From /usr/local/lib/python3.6/dist-packages/tensorflow/python/ops/math_ops.py:3066: to_int32 (from tensorflow.python.ops.math_ops) is deprecated and will be removed in a future version.\n",
            "Instructions for updating:\n",
            "Use tf.cast instead.\n",
            "Train on 1251 samples, validate on 537 samples\n",
            "Epoch 1/20\n",
            "1251/1251 [==============================] - 6s 5ms/step - loss: 15.1417 - acc: 0.0304 - val_loss: 14.5671 - val_acc: 0.0242\n",
            "Epoch 2/20\n",
            "1251/1251 [==============================] - 0s 164us/step - loss: 14.9515 - acc: 0.0344 - val_loss: 12.4449 - val_acc: 0.0354\n",
            "Epoch 3/20\n",
            "1251/1251 [==============================] - 0s 162us/step - loss: 14.4342 - acc: 0.0408 - val_loss: 8.8655 - val_acc: 0.0745\n",
            "Epoch 4/20\n",
            "1251/1251 [==============================] - 0s 156us/step - loss: 12.6343 - acc: 0.0448 - val_loss: 4.6575 - val_acc: 0.0875\n",
            "Epoch 5/20\n",
            "1251/1251 [==============================] - 0s 158us/step - loss: 6.2508 - acc: 0.0568 - val_loss: 3.5101 - val_acc: 0.0670\n",
            "Epoch 6/20\n",
            "1251/1251 [==============================] - 0s 160us/step - loss: 3.7038 - acc: 0.0400 - val_loss: 3.5342 - val_acc: 0.0708\n",
            "Epoch 7/20\n",
            "1251/1251 [==============================] - 0s 157us/step - loss: 3.5596 - acc: 0.0504 - val_loss: 3.5258 - val_acc: 0.0745\n",
            "Epoch 8/20\n",
            "1251/1251 [==============================] - 0s 166us/step - loss: 3.5287 - acc: 0.0584 - val_loss: 3.4990 - val_acc: 0.0931\n",
            "Epoch 9/20\n",
            "1251/1251 [==============================] - 0s 156us/step - loss: 3.4772 - acc: 0.0703 - val_loss: 3.4506 - val_acc: 0.1285\n",
            "Epoch 10/20\n",
            "1251/1251 [==============================] - 0s 158us/step - loss: 3.4491 - acc: 0.0839 - val_loss: 3.3863 - val_acc: 0.1732\n",
            "Epoch 11/20\n",
            "1251/1251 [==============================] - 0s 158us/step - loss: 3.3993 - acc: 0.0935 - val_loss: 3.3144 - val_acc: 0.2104\n",
            "Epoch 12/20\n",
            "1251/1251 [==============================] - 0s 161us/step - loss: 3.2823 - acc: 0.1047 - val_loss: 3.1926 - val_acc: 0.2533\n",
            "Epoch 13/20\n",
            "1251/1251 [==============================] - 0s 161us/step - loss: 3.2136 - acc: 0.1351 - val_loss: 3.0564 - val_acc: 0.3091\n",
            "Epoch 14/20\n",
            "1251/1251 [==============================] - 0s 169us/step - loss: 3.1430 - acc: 0.1367 - val_loss: 2.9338 - val_acc: 0.3557\n",
            "Epoch 15/20\n",
            "1251/1251 [==============================] - 0s 161us/step - loss: 3.0495 - acc: 0.1735 - val_loss: 2.7583 - val_acc: 0.3911\n",
            "Epoch 16/20\n",
            "1251/1251 [==============================] - 0s 160us/step - loss: 2.9245 - acc: 0.1934 - val_loss: 2.5972 - val_acc: 0.4749\n",
            "Epoch 17/20\n",
            "1251/1251 [==============================] - 0s 160us/step - loss: 2.7549 - acc: 0.2342 - val_loss: 2.3643 - val_acc: 0.5196\n",
            "Epoch 18/20\n",
            "1251/1251 [==============================] - 0s 160us/step - loss: 2.6011 - acc: 0.2742 - val_loss: 2.0671 - val_acc: 0.6629\n",
            "Epoch 19/20\n",
            "1251/1251 [==============================] - 0s 162us/step - loss: 2.3614 - acc: 0.3317 - val_loss: 1.8110 - val_acc: 0.6853\n",
            "Epoch 20/20\n",
            "1251/1251 [==============================] - 0s 158us/step - loss: 2.2062 - acc: 0.3741 - val_loss: 1.5561 - val_acc: 0.7393\n"
          ],
          "name": "stdout"
        }
      ]
    },
    {
      "cell_type": "code",
      "metadata": {
        "id": "7X2QnE15CTcr",
        "colab_type": "code",
        "outputId": "ab59fee7-0d06-4198-e952-cc5792f1a27b",
        "colab": {
          "base_uri": "https://localhost:8080/",
          "height": 573
        }
      },
      "source": [
        "# summarize history for accuracy\n",
        "plt.plot(history.history['acc'])\n",
        "plt.plot(history.history['val_acc'])\n",
        "plt.title('model accuracy')\n",
        "plt.ylabel('accuracy')\n",
        "plt.xlabel('epoch')\n",
        "plt.legend(['train', 'test'], loc='upper left')\n",
        "plt.show()\n",
        "# summarize history for loss\n",
        "plt.plot(history.history['loss'])\n",
        "plt.plot(history.history['val_loss'])\n",
        "plt.title('model loss')\n",
        "plt.ylabel('loss')\n",
        "plt.xlabel('epoch')\n",
        "plt.legend(['train', 'test'], loc='upper left')\n",
        "plt.show()"
      ],
      "execution_count": 39,
      "outputs": [
        {
          "output_type": "display_data",
          "data": {
            "image/png": "[encoded data removed]",
            "text/plain": [
              "<Figure size 432x288 with 1 Axes>"
            ]
          },
          "metadata": {
            "tags": []
          }
        },
        {
          "output_type": "display_data",
          "data": {
            "image/png": "[encoded data removed]",
            "text/plain": [
              "<Figure size 432x288 with 1 Axes>"
            ]
          },
          "metadata": {
            "tags": []
          }
        }
      ]
    },
    {
      "cell_type": "code",
      "metadata": {
        "id": "nBNlMFqHKzvT",
        "colab_type": "code",
        "colab": {}
      },
      "source": [
        "img = train_x[500].reshape(-1,32,32,1)\n",
        "belongs_to_class = train_y[500]"
      ],
      "execution_count": 0,
      "outputs": []
    },
    {
      "cell_type": "code",
      "metadata": {
        "id": "Xtl0LNcwK9Mi",
        "colab_type": "code",
        "outputId": "1f60eec7-395e-46d0-dac7-39db1207f96b",
        "colab": {
          "base_uri": "https://localhost:8080/",
          "height": 34
        }
      },
      "source": [
        "print(img.shape)"
      ],
      "execution_count": 43,
      "outputs": [
        {
          "output_type": "stream",
          "text": [
            "(1, 32, 32, 1)\n"
          ],
          "name": "stdout"
        }
      ]
    },
    {
      "cell_type": "code",
      "metadata": {
        "id": "wfkrVqc61jYz",
        "colab_type": "code",
        "colab": {}
      },
      "source": [
        "x = model.predict(img)"
      ],
      "execution_count": 0,
      "outputs": []
    },
    {
      "cell_type": "code",
      "metadata": {
        "id": "nFRTZVJLSXUq",
        "colab_type": "code",
        "outputId": "43a6a3af-41fc-4df3-b468-a8aa64641e50",
        "colab": {
          "base_uri": "https://localhost:8080/",
          "height": 119
        }
      },
      "source": [
        "print(x)"
      ],
      "execution_count": 45,
      "outputs": [
        {
          "output_type": "stream",
          "text": [
            "[[0.01382816 0.01377816 0.0045843  0.01904106 0.15585573 0.00206233\n",
            "  0.01892174 0.00471483 0.02681716 0.00823716 0.01493545 0.00955976\n",
            "  0.3003277  0.05339213 0.00194533 0.00567723 0.02937835 0.03095538\n",
            "  0.01612666 0.00393626 0.00966468 0.01471926 0.01413449 0.00734408\n",
            "  0.02236115 0.03143315 0.01652023 0.01559718 0.00871305 0.01259963\n",
            "  0.01066462 0.01432278 0.02847598 0.04134345 0.01430448 0.00372703]]\n"
          ],
          "name": "stdout"
        }
      ]
    },
    {
      "cell_type": "code",
      "metadata": {
        "id": "nK7scl2HR_ow",
        "colab_type": "code",
        "colab": {}
      },
      "source": [
        "name = CATEGORIES[np.argmax(x)]\n",
        "bc = CATEGORIES[np.argmax(belongs_to_class)]"
      ],
      "execution_count": 0,
      "outputs": []
    },
    {
      "cell_type": "code",
      "metadata": {
        "id": "8r1OJfbnVpJt",
        "colab_type": "code",
        "outputId": "a57b1582-12a1-4a4c-966e-632090f05e4e",
        "colab": {
          "base_uri": "https://localhost:8080/",
          "height": 303
        }
      },
      "source": [
        "%matplotlib inline\n",
        "imgplot = plt.imshow(train_x[500])\n",
        "i=np.argmax(history.history['acc'])\n",
        "acc= history.history['val_acc'][19]\n",
        "acc= acc*100\n",
        "acc = np.trunc(acc)\n",
        "\n",
        "print(\"predicted image is of: {} with accuracy {}\".format(name,acc))\n",
        "print(\"Actual class label is: {}\".format(bc))\n",
        "\n"
      ],
      "execution_count": 48,
      "outputs": [
        {
          "output_type": "stream",
          "text": [
            "predicted image is of: character_13_da with accuracy 73.0\n",
            "Actual class label is: character_13_da\n"
          ],
          "name": "stdout"
        },
        {
          "output_type": "display_data",
          "data": {
            "image/png": "[encoded data removed]",
            "text/plain": [
              "<Figure size 432x288 with 1 Axes>"
            ]
          },
          "metadata": {
            "tags": []
          }
        }
      ]
    },
    {
      "cell_type": "code",
      "metadata": {
        "id": "8S6af1hIWEPL",
        "colab_type": "code",
        "outputId": "30ee56ae-b7c4-4a5b-f04c-9825551cb6ca",
        "colab": {
          "base_uri": "https://localhost:8080/",
          "height": 34
        }
      },
      "source": [
        ""
      ],
      "execution_count": 0,
      "outputs": [
        {
          "output_type": "stream",
          "text": [
            "0.9821350877710937\n"
          ],
          "name": "stdout"
        }
      ]
    },
    {
      "cell_type": "code",
      "metadata": {
        "id": "dvMNB9Kpqeic",
        "colab_type": "code",
        "colab": {}
      },
      "source": [
        ""
      ],
      "execution_count": 0,
      "outputs": []
    }
  ]
}