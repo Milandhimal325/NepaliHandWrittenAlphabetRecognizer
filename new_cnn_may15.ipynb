{
  "nbformat": 4,
  "nbformat_minor": 0,
  "metadata": {
    "colab": {
      "name": "new_cnn_may14.ipynb",
      "version": "0.3.2",
      "provenance": [],
      "include_colab_link": true
    },
    "kernelspec": {
      "name": "python3",
      "display_name": "Python 3"
    },
    "accelerator": "GPU"
  },
  "cells": [
    {
      "cell_type": "markdown",
      "metadata": {
        "id": "view-in-github",
        "colab_type": "text"
      },
      "source": [
        "<a href=\"https://colab.research.google.com/github/Rojan116/NepaliHandWrittenAlphabetRecognizer/blob/master/new_cnn_may15.ipynb\" target=\"_parent\"><img src=\"https://colab.research.google.com/assets/colab-badge.svg\" alt=\"Open In Colab\"/></a>"
      ]
    },
    {
      "cell_type": "code",
      "metadata": {
        "id": "6Uhar1qmMeGi",
        "colab_type": "code",
        "outputId": "13f3260e-58a6-4990-b274-7313b98d234d",
        "colab": {
          "base_uri": "https://localhost:8080/",
          "height": 153
        }
      },
      "source": [
        "!git clone https://github.com/Rojan116/NepaliHandWrittenAlphabetRecognizer.git"
      ],
      "execution_count": 1,
      "outputs": [
        {
          "output_type": "stream",
          "text": [
            "Cloning into 'NepaliHandWrittenAlphabetRecognizer'...\n",
            "remote: Enumerating objects: 92082, done.\u001b[K\n",
            "remote: Counting objects: 100% (92082/92082), done.\u001b[K\n",
            "remote: Compressing objects: 100% (92082/92082), done.\u001b[K\n",
            "remote: Total 92082 (delta 3), reused 92073 (delta 0), pack-reused 0\u001b[K\n",
            "Receiving objects: 100% (92082/92082), 56.75 MiB | 33.99 MiB/s, done.\n",
            "Resolving deltas: 100% (3/3), done.\n",
            "Checking out files: 100% (92004/92004), done.\n"
          ],
          "name": "stdout"
        }
      ]
    },
    {
      "cell_type": "code",
      "metadata": {
        "id": "X8kasikyM9hh",
        "colab_type": "code",
        "outputId": "88f72155-7d9c-4ee1-ce00-3d375652e319",
        "colab": {
          "base_uri": "https://localhost:8080/",
          "height": 34
        }
      },
      "source": [
        "ls"
      ],
      "execution_count": 2,
      "outputs": [
        {
          "output_type": "stream",
          "text": [
            "\u001b[0m\u001b[01;34mNepaliHandWrittenAlphabetRecognizer\u001b[0m/  \u001b[01;34msample_data\u001b[0m/\n"
          ],
          "name": "stdout"
        }
      ]
    },
    {
      "cell_type": "code",
      "metadata": {
        "id": "NSngiJhJNIB7",
        "colab_type": "code",
        "outputId": "7e4015d8-4ab2-4668-ed50-4a720cf305d3",
        "colab": {
          "base_uri": "https://localhost:8080/",
          "height": 34
        }
      },
      "source": [
        "cd NepaliHandWrittenAlphabetRecognizer"
      ],
      "execution_count": 3,
      "outputs": [
        {
          "output_type": "stream",
          "text": [
            "/content/NepaliHandWrittenAlphabetRecognizer\n"
          ],
          "name": "stdout"
        }
      ]
    },
    {
      "cell_type": "code",
      "metadata": {
        "id": "czGK9iAONLz8",
        "colab_type": "code",
        "outputId": "5a93c293-9155-434a-a03a-0ff8293a959f",
        "colab": {
          "base_uri": "https://localhost:8080/",
          "height": 1547
        }
      },
      "source": [
        "import cv2\n",
        "import matplotlib.pyplot as plt\n",
        "import numpy as np\n",
        "import os\n",
        "import tensorflow as tf\n",
        "from tqdm import tqdm\n",
        "import random\n",
        "from keras.utils import to_categorical\n",
        "\n",
        "\n",
        "#%matplotlib.inline \n",
        "\n",
        "PATH = os.getcwd()\n",
        "DATADIR = PATH + '/dhrcdata/Train'\t\t\n",
        "train_data_path = PATH + '/dhrcdata/Train'\n",
        "test_data_path = PATH + '/dhrcdata/Test'\n",
        "\n",
        "\n",
        "CATEGORIES = [\n",
        "\n",
        "\"character_1_ka\",\"character_2_kha\",\"character_3_ga\",\"character_4_gha\",\"character_5_kna\",\n",
        "\"character_6_cha\",\"character_7_chha\",\"character_8_ja\",\"character_9_jha\",\"character_10_yna\",\n",
        "\"character_11_taamatar\",\"character_12_thaa\",\"character_13_daa\",\"character_14_dhaa\",\"character_15_adna\",\n",
        "\"character_16_tabala\",\"character_17_tha\",\"character_18_da\",\"character_19_dha\",\"character_20_na\",\"character_21_pa\",\n",
        "\"character_22_pha\",\"character_23_ba\",\"character_24_bha\",\"character_25_ma\",\"character_26_yaw\",\"character_27_ra\",\n",
        "\"character_28_la\",\"character_29_waw\",\"character_30_motosaw\",\"character_31_petchiryakha\",\"character_32_patalosaw\",\n",
        "\"character_33_ha\",\"character_34_chhya\",\"character_35_tra\",\"character_36_gya\",\"digit_0\",\"digit_1\",\"digit_2\",\"digit_3\",\n",
        "\"digit_4\",\"digit_5\",\"digit_6\",\"digit_7\",\"digit_8\",\"digit_9\"\n",
        "\n",
        "]\n",
        "\n",
        "IMG_SIZE = 32\n",
        "training_data = []\n",
        "testing_data = []\n",
        "\n",
        "def create_training_data():\n",
        "  for catagory in CATEGORIES:\n",
        "    path = os.path.join(train_data_path, catagory)\n",
        "    class_num = CATEGORIES.index(catagory)\n",
        "    for img in os.listdir(path):\n",
        "        try:\n",
        "          img_array = cv2.imread(os.path.join(path,img),cv2.IMREAD_GRAYSCALE)\n",
        "          new_array = cv2.resize(img_array,(IMG_SIZE,IMG_SIZE))\n",
        "          training_data.append([new_array,class_num])\n",
        "        except Exception as e:\n",
        "          pass\n",
        "\n",
        "\n",
        "\n",
        "def create_testing_data():\n",
        "  for catagory in CATEGORIES:\n",
        "    path = os.path.join(test_data_path, catagory)\n",
        "    class_num = CATEGORIES.index(catagory)\n",
        "    for img in os.listdir(path):\n",
        "        try:\n",
        "          img_array = cv2.imread(os.path.join(path,img),cv2.IMREAD_GRAYSCALE)\n",
        "          new_array = cv2.resize(img_array,(IMG_SIZE,IMG_SIZE))\n",
        "          testing_data.append([new_array,class_num])\n",
        "        except Exception as e:\n",
        "          pass\n",
        "\n",
        "\n",
        "\n",
        "create_training_data()\n",
        "create_testing_data()\n",
        "\n",
        "#shuffle training data for trainning diff image set in every batch\n",
        "random.shuffle(training_data)\n",
        "\n",
        "#hot encode image dataset\n",
        "\n",
        "train_x = []\n",
        "train_y = []\n",
        "test_x = []\n",
        "test_y = []\n",
        "\n",
        "\n",
        "\n",
        "#seperating features and labels from list\n",
        "for features, labels in training_data:\n",
        "\ttrain_x.append(features)\n",
        "\ttrain_y.append(labels)\n",
        "\n",
        "for features, labels in testing_data:\n",
        "\ttest_x.append(features)\n",
        "\ttest_y.append(labels)\n",
        "\n",
        "\n",
        "#converting list to array\n",
        "train_y_array = np.array(train_y)\n",
        "test_y_array = np.array(test_y)\n",
        "\n",
        "#converting image dataset to input 32*32 dataset \n",
        "\n",
        "train_image_array = np.array(train_x).reshape(-1,32,32,1)\n",
        "test_image_array = np.array(test_x).reshape(-1,32,32,1)\n",
        "\n",
        "\n",
        "#one hot enoded class \n",
        "train_y = to_categorical(train_y_array)\n",
        "test_y = to_categorical(test_y_array)\n",
        "\n",
        "\n",
        "train_y = np.array(train_y)\n",
        "test_y = np.array(test_y)\n",
        "\n",
        "#all train x, y and test x y are in array form now\n",
        "\n",
        "\n",
        "#now creating our model\n",
        "\n",
        "from keras.models import Sequential\n",
        "from keras.layers import *\n",
        "from keras.optimizers import *\n",
        "\n",
        "model = Sequential()\n",
        "\n",
        "model.add(InputLayer(input_shape=(32,32,1)))\n",
        "model.add(Conv2D(filters=32,kernel_size=3,strides=1,padding='same', activation='relu'))\n",
        "model.add(MaxPool2D(pool_size=5,padding='same'))\n",
        "\n",
        "model.add(Conv2D(filters=50,kernel_size=3,strides=1,padding='same', activation='relu'))\n",
        "model.add(MaxPool2D(pool_size=5,padding='same'))\n",
        "\n",
        "model.add(Conv2D(filters=80,kernel_size=3,strides=1,padding='same', activation='relu'))\n",
        "model.add(MaxPool2D(pool_size=5,padding='same'))\n",
        "\n",
        "model.add(Dropout(0.25))\n",
        "model.add(Flatten())\n",
        "model.add(Dense(512,activation='relu'))\n",
        "model.add(Dropout(0.5))\n",
        "\n",
        "\n",
        "\n",
        "\n",
        "model.add(Dense(46,activation='softmax'))\n",
        "optimizer = Adam(lr=1e-3)\n",
        "\n",
        "model.compile(optimizer=optimizer, loss='categorical_crossentropy',metrics=['accuracy'])\n",
        "model.fit(x=train_image_array,y=train_y,epochs=30,batch_size=100, validation_split=0.3)\n",
        "\n",
        "model.summary()\n",
        "\n"
      ],
      "execution_count": 10,
      "outputs": [
        {
          "output_type": "stream",
          "text": [
            "Train on 54740 samples, validate on 23460 samples\n",
            "Epoch 1/30\n",
            "54740/54740 [==============================] - 4s 74us/step - loss: 3.1583 - acc: 0.3715 - val_loss: 0.8026 - val_acc: 0.7541\n",
            "Epoch 2/30\n",
            "54740/54740 [==============================] - 3s 60us/step - loss: 0.8692 - acc: 0.7283 - val_loss: 0.4600 - val_acc: 0.8556\n",
            "Epoch 3/30\n",
            "54740/54740 [==============================] - 3s 59us/step - loss: 0.6045 - acc: 0.8120 - val_loss: 0.3692 - val_acc: 0.8850\n",
            "Epoch 4/30\n",
            "54740/54740 [==============================] - 3s 60us/step - loss: 0.4959 - acc: 0.8457 - val_loss: 0.3066 - val_acc: 0.9050\n",
            "Epoch 5/30\n",
            "54740/54740 [==============================] - 3s 60us/step - loss: 0.4279 - acc: 0.8677 - val_loss: 0.2668 - val_acc: 0.9182\n",
            "Epoch 6/30\n",
            "54740/54740 [==============================] - 3s 60us/step - loss: 0.3819 - acc: 0.8798 - val_loss: 0.2385 - val_acc: 0.9263\n",
            "Epoch 7/30\n",
            "54740/54740 [==============================] - 3s 60us/step - loss: 0.3472 - acc: 0.8914 - val_loss: 0.2789 - val_acc: 0.9128\n",
            "Epoch 8/30\n",
            "54740/54740 [==============================] - 3s 60us/step - loss: 0.3366 - acc: 0.8955 - val_loss: 0.2401 - val_acc: 0.9254\n",
            "Epoch 9/30\n",
            "54740/54740 [==============================] - 3s 60us/step - loss: 0.3051 - acc: 0.9063 - val_loss: 0.2137 - val_acc: 0.9359\n",
            "Epoch 10/30\n",
            "54740/54740 [==============================] - 3s 60us/step - loss: 0.2990 - acc: 0.9084 - val_loss: 0.2069 - val_acc: 0.9366\n",
            "Epoch 11/30\n",
            "54740/54740 [==============================] - 3s 60us/step - loss: 0.2822 - acc: 0.9129 - val_loss: 0.2086 - val_acc: 0.9355\n",
            "Epoch 12/30\n",
            "54740/54740 [==============================] - 3s 60us/step - loss: 0.2751 - acc: 0.9142 - val_loss: 0.2199 - val_acc: 0.9311\n",
            "Epoch 13/30\n",
            "54740/54740 [==============================] - 3s 60us/step - loss: 0.2649 - acc: 0.9196 - val_loss: 0.1926 - val_acc: 0.9409\n",
            "Epoch 14/30\n",
            "54740/54740 [==============================] - 3s 60us/step - loss: 0.2658 - acc: 0.9188 - val_loss: 0.2090 - val_acc: 0.9339\n",
            "Epoch 15/30\n",
            "54740/54740 [==============================] - 3s 60us/step - loss: 0.2536 - acc: 0.9228 - val_loss: 0.2059 - val_acc: 0.9411\n",
            "Epoch 16/30\n",
            "54740/54740 [==============================] - 3s 60us/step - loss: 0.2353 - acc: 0.9269 - val_loss: 0.1855 - val_acc: 0.9442\n",
            "Epoch 17/30\n",
            "54740/54740 [==============================] - 3s 60us/step - loss: 0.2420 - acc: 0.9277 - val_loss: 0.1761 - val_acc: 0.9462\n",
            "Epoch 18/30\n",
            "54740/54740 [==============================] - 3s 60us/step - loss: 0.2368 - acc: 0.9288 - val_loss: 0.1799 - val_acc: 0.9474\n",
            "Epoch 19/30\n",
            "54740/54740 [==============================] - 3s 60us/step - loss: 0.2230 - acc: 0.9318 - val_loss: 0.1834 - val_acc: 0.9448\n",
            "Epoch 20/30\n",
            "54740/54740 [==============================] - 3s 60us/step - loss: 0.2285 - acc: 0.9294 - val_loss: 0.1895 - val_acc: 0.9431\n",
            "Epoch 21/30\n",
            "54740/54740 [==============================] - 3s 60us/step - loss: 0.2289 - acc: 0.9322 - val_loss: 0.1858 - val_acc: 0.9459\n",
            "Epoch 22/30\n",
            "54740/54740 [==============================] - 4s 65us/step - loss: 0.2174 - acc: 0.9331 - val_loss: 0.1719 - val_acc: 0.9491\n",
            "Epoch 23/30\n",
            "54740/54740 [==============================] - 4s 67us/step - loss: 0.2199 - acc: 0.9330 - val_loss: 0.1744 - val_acc: 0.9486\n",
            "Epoch 24/30\n",
            "54740/54740 [==============================] - 4s 66us/step - loss: 0.2199 - acc: 0.9340 - val_loss: 0.1928 - val_acc: 0.9422\n",
            "Epoch 25/30\n",
            "54740/54740 [==============================] - 3s 60us/step - loss: 0.2140 - acc: 0.9351 - val_loss: 0.1871 - val_acc: 0.9463\n",
            "Epoch 26/30\n",
            "54740/54740 [==============================] - 3s 60us/step - loss: 0.2083 - acc: 0.9379 - val_loss: 0.1689 - val_acc: 0.9515\n",
            "Epoch 27/30\n",
            "54740/54740 [==============================] - 3s 60us/step - loss: 0.2164 - acc: 0.9349 - val_loss: 0.1779 - val_acc: 0.9486\n",
            "Epoch 28/30\n",
            "54740/54740 [==============================] - 3s 60us/step - loss: 0.2032 - acc: 0.9384 - val_loss: 0.1797 - val_acc: 0.9480\n",
            "Epoch 29/30\n",
            "54740/54740 [==============================] - 3s 60us/step - loss: 0.1967 - acc: 0.9426 - val_loss: 0.1778 - val_acc: 0.9477\n",
            "Epoch 30/30\n",
            "54740/54740 [==============================] - 3s 60us/step - loss: 0.2025 - acc: 0.9396 - val_loss: 0.1692 - val_acc: 0.9520\n",
            "_________________________________________________________________\n",
            "Layer (type)                 Output Shape              Param #   \n",
            "=================================================================\n",
            "conv2d_13 (Conv2D)           (None, 32, 32, 32)        320       \n",
            "_________________________________________________________________\n",
            "max_pooling2d_13 (MaxPooling (None, 7, 7, 32)          0         \n",
            "_________________________________________________________________\n",
            "conv2d_14 (Conv2D)           (None, 7, 7, 50)          14450     \n",
            "_________________________________________________________________\n",
            "max_pooling2d_14 (MaxPooling (None, 2, 2, 50)          0         \n",
            "_________________________________________________________________\n",
            "conv2d_15 (Conv2D)           (None, 2, 2, 80)          36080     \n",
            "_________________________________________________________________\n",
            "max_pooling2d_15 (MaxPooling (None, 1, 1, 80)          0         \n",
            "_________________________________________________________________\n",
            "dropout_12 (Dropout)         (None, 1, 1, 80)          0         \n",
            "_________________________________________________________________\n",
            "flatten_5 (Flatten)          (None, 80)                0         \n",
            "_________________________________________________________________\n",
            "dense_12 (Dense)             (None, 512)               41472     \n",
            "_________________________________________________________________\n",
            "dropout_13 (Dropout)         (None, 512)               0         \n",
            "_________________________________________________________________\n",
            "dense_13 (Dense)             (None, 46)                23598     \n",
            "=================================================================\n",
            "Total params: 115,920\n",
            "Trainable params: 115,920\n",
            "Non-trainable params: 0\n",
            "_________________________________________________________________\n"
          ],
          "name": "stdout"
        }
      ]
    },
    {
      "cell_type": "code",
      "metadata": {
        "id": "y46FbTE7NPAA",
        "colab_type": "code",
        "colab": {}
      },
      "source": [
        "model.save('androidtest_model.h5')\n",
        "model.save_weights('androidtest_weights.h5')\n"
      ],
      "execution_count": 0,
      "outputs": []
    },
    {
      "cell_type": "code",
      "metadata": {
        "id": "-vNTvdFvS_XC",
        "colab_type": "code",
        "outputId": "742c85ca-0282-499c-bd20-1be53a1576c6",
        "colab": {
          "base_uri": "https://localhost:8080/",
          "height": 51
        }
      },
      "source": [
        "ls"
      ],
      "execution_count": 6,
      "outputs": [
        {
          "output_type": "stream",
          "text": [
            "androidtest_model.h5    CNN.ipynb  \u001b[0m\u001b[01;34mdhrcdata\u001b[0m/            Untitled.ipynb\n",
            "androidtest_weights.h5  dev.py     new_cnn_may14.ipynb\n"
          ],
          "name": "stdout"
        }
      ]
    }
  ]
}