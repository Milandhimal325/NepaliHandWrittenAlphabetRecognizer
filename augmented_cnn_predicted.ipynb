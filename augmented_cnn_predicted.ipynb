{
  "nbformat": 4,
  "nbformat_minor": 0,
  "metadata": {
    "colab": {
      "name": "augmented_cnn_predicted.ipynb",
      "version": "0.3.2",
      "provenance": [],
      "collapsed_sections": [],
      "include_colab_link": true
    },
    "kernelspec": {
      "name": "python3",
      "display_name": "Python 3"
    },
    "accelerator": "GPU"
  },
  "cells": [
    {
      "cell_type": "markdown",
      "metadata": {
        "id": "view-in-github",
        "colab_type": "text"
      },
      "source": [
        "<a href=\"https://colab.research.google.com/github/Rojan116/NepaliHandWrittenAlphabetRecognizer/blob/master/augmented_cnn_predicted.ipynb\" target=\"_parent\"><img src=\"https://colab.research.google.com/assets/colab-badge.svg\" alt=\"Open In Colab\"/></a>"
      ]
    },
    {
      "cell_type": "code",
      "metadata": {
        "id": "Fa0w7bIx81Sq",
        "colab_type": "code",
        "outputId": "01fd6a91-6516-4037-915f-23e2ce0dc3e4",
        "colab": {
          "base_uri": "https://localhost:8080/",
          "height": 153
        }
      },
      "source": [
        "!git clone https://github.com/Rojan116/NepaliHandWrittenAlphabetRecognizer.git"
      ],
      "execution_count": 1,
      "outputs": [
        {
          "output_type": "stream",
          "text": [
            "Cloning into 'NepaliHandWrittenAlphabetRecognizer'...\n",
            "remote: Enumerating objects: 92106, done.\u001b[K\n",
            "remote: Counting objects:   0% (1/92106)   \u001b[K\rremote: Counting objects:   1% (922/92106)   \u001b[K\rremote: Counting objects:   2% (1843/92106)   \u001b[K\rremote: Counting objects:   3% (2764/92106)   \u001b[K\rremote: Counting objects:   4% (3685/92106)   \u001b[K\rremote: Counting objects:   5% (4606/92106)   \u001b[K\rremote: Counting objects:   6% (5527/92106)   \u001b[K\rremote: Counting objects:   7% (6448/92106)   \u001b[K\rremote: Counting objects:   8% (7369/92106)   \u001b[K\rremote: Counting objects:   9% (8290/92106)   \u001b[K\rremote: Counting objects:  10% (9211/92106)   \u001b[K\rremote: Counting objects:  11% (10132/92106)   \u001b[K\rremote: Counting objects:  12% (11053/92106)   \u001b[K\rremote: Counting objects:  13% (11974/92106)   \u001b[K\rremote: Counting objects:  14% (12895/92106)   \u001b[K\rremote: Counting objects:  15% (13816/92106)   \u001b[K\rremote: Counting objects:  16% (14737/92106)   \u001b[K\rremote: Counting objects:  17% (15659/92106)   \u001b[K\rremote: Counting objects:  18% (16580/92106)   \u001b[K\rremote: Counting objects:  19% (17501/92106)   \u001b[K\rremote: Counting objects:  20% (18422/92106)   \u001b[K\rremote: Counting objects:  21% (19343/92106)   \u001b[K\rremote: Counting objects:  22% (20264/92106)   \u001b[K\rremote: Counting objects:  23% (21185/92106)   \u001b[K\rremote: Counting objects:  24% (22106/92106)   \u001b[K\rremote: Counting objects:  25% (23027/92106)   \u001b[K\rremote: Counting objects:  26% (23948/92106)   \u001b[K\rremote: Counting objects:  27% (24869/92106)   \u001b[K\rremote: Counting objects:  28% (25790/92106)   \u001b[K\rremote: Counting objects:  29% (26711/92106)   \u001b[K\rremote: Counting objects:  30% (27632/92106)   \u001b[K\rremote: Counting objects:  31% (28553/92106)   \u001b[K\rremote: Counting objects:  32% (29474/92106)   \u001b[K\rremote: Counting objects:  33% (30395/92106)   \u001b[K\rremote: Counting objects:  34% (31317/92106)   \u001b[K\rremote: Counting objects:  35% (32238/92106)   \u001b[K\rremote: Counting objects:  36% (33159/92106)   \u001b[K\rremote: Counting objects:  37% (34080/92106)   \u001b[K\rremote: Counting objects:  38% (35001/92106)   \u001b[K\rremote: Counting objects:  39% (35922/92106)   \u001b[K\rremote: Counting objects:  40% (36843/92106)   \u001b[K\rremote: Counting objects:  41% (37764/92106)   \u001b[K\rremote: Counting objects:  42% (38685/92106)   \u001b[K\rremote: Counting objects:  43% (39606/92106)   \u001b[K\rremote: Counting objects:  44% (40527/92106)   \u001b[K\rremote: Counting objects:  45% (41448/92106)   \u001b[K\rremote: Counting objects:  46% (42369/92106)   \u001b[K\rremote: Counting objects:  47% (43290/92106)   \u001b[K\rremote: Counting objects:  48% (44211/92106)   \u001b[K\rremote: Counting objects:  49% (45132/92106)   \u001b[K\rremote: Counting objects:  50% (46053/92106)   \u001b[K\rremote: Counting objects:  51% (46975/92106)   \u001b[K\rremote: Counting objects:  52% (47896/92106)   \u001b[K\rremote: Counting objects:  53% (48817/92106)   \u001b[K\rremote: Counting objects:  54% (49738/92106)   \u001b[K\rremote: Counting objects:  55% (50659/92106)   \u001b[K\rremote: Counting objects:  56% (51580/92106)   \u001b[K\rremote: Counting objects:  57% (52501/92106)   \u001b[K\rremote: Counting objects:  58% (53422/92106)   \u001b[K\rremote: Counting objects:  59% (54343/92106)   \u001b[K\rremote: Counting objects:  60% (55264/92106)   \u001b[K\rremote: Counting objects:  61% (56185/92106)   \u001b[K\rremote: Counting objects:  62% (57106/92106)   \u001b[K\rremote: Counting objects:  63% (58027/92106)   \u001b[K\rremote: Counting objects:  64% (58948/92106)   \u001b[K\rremote: Counting objects:  65% (59869/92106)   \u001b[K\rremote: Counting objects:  66% (60790/92106)   \u001b[K\rremote: Counting objects:  67% (61712/92106)   \u001b[K\rremote: Counting objects:  68% (62633/92106)   \u001b[K\rremote: Counting objects:  69% (63554/92106)   \u001b[K\rremote: Counting objects:  70% (64475/92106)   \u001b[K\rremote: Counting objects:  71% (65396/92106)   \u001b[K\rremote: Counting objects:  72% (66317/92106)   \u001b[K\rremote: Counting objects:  73% (67238/92106)   \u001b[K\rremote: Counting objects:  74% (68159/92106)   \u001b[K\rremote: Counting objects:  75% (69080/92106)   \u001b[K\rremote: Counting objects:  76% (70001/92106)   \u001b[K\rremote: Counting objects:  77% (70922/92106)   \u001b[K\rremote: Counting objects:  78% (71843/92106)   \u001b[K\rremote: Counting objects:  79% (72764/92106)   \u001b[K\rremote: Counting objects:  80% (73685/92106)   \u001b[K\rremote: Counting objects:  81% (74606/92106)   \u001b[K\rremote: Counting objects:  82% (75527/92106)   \u001b[K\rremote: Counting objects:  83% (76448/92106)   \u001b[K\rremote: Counting objects:  84% (77370/92106)   \u001b[K\rremote: Counting objects:  85% (78291/92106)   \u001b[K\rremote: Counting objects:  86% (79212/92106)   \u001b[K\rremote: Counting objects:  87% (80133/92106)   \u001b[K\rremote: Counting objects:  88% (81054/92106)   \u001b[K\rremote: Counting objects:  89% (81975/92106)   \u001b[K\rremote: Counting objects:  90% (82896/92106)   \u001b[K\rremote: Counting objects:  91% (83817/92106)   \u001b[K\rremote: Counting objects:  92% (84738/92106)   \u001b[K\rremote: Counting objects:  93% (85659/92106)   \u001b[K\rremote: Counting objects:  94% (86580/92106)   \u001b[K\rremote: Counting objects:  95% (87501/92106)   \u001b[K\rremote: Counting objects:  96% (88422/92106)   \u001b[K\rremote: Counting objects:  97% (89343/92106)   \u001b[K\rremote: Counting objects:  98% (90264/92106)   \u001b[K\rremote: Counting objects:  99% (91185/92106)   \u001b[K\rremote: Counting objects: 100% (92106/92106)   \u001b[K\rremote: Counting objects: 100% (92106/92106), done.\u001b[K\n",
            "remote: Compressing objects:   0% (1/92106)   \u001b[K\rremote: Compressing objects:   1% (922/92106)   \u001b[K\rremote: Compressing objects:   2% (1843/92106)   \u001b[K\rremote: Compressing objects:   3% (2764/92106)   \u001b[K\rremote: Compressing objects:   4% (3685/92106)   \u001b[K\rremote: Compressing objects:   5% (4606/92106)   \u001b[K\rremote: Compressing objects:   6% (5527/92106)   \u001b[K\rremote: Compressing objects:   7% (6448/92106)   \u001b[K\rremote: Compressing objects:   8% (7369/92106)   \u001b[K\rremote: Compressing objects:   9% (8290/92106)   \u001b[K\rremote: Compressing objects:  10% (9211/92106)   \u001b[K\rremote: Compressing objects:  11% (10132/92106)   \u001b[K\rremote: Compressing objects:  12% (11053/92106)   \u001b[K\rremote: Compressing objects:  13% (11974/92106)   \u001b[K\rremote: Compressing objects:  14% (12895/92106)   \u001b[K\rremote: Compressing objects:  15% (13816/92106)   \u001b[K\rremote: Compressing objects:  16% (14737/92106)   \u001b[K\rremote: Compressing objects:  17% (15659/92106)   \u001b[K\rremote: Compressing objects:  18% (16580/92106)   \u001b[K\rremote: Compressing objects:  19% (17501/92106)   \u001b[K\rremote: Compressing objects:  20% (18422/92106)   \u001b[K\rremote: Compressing objects:  21% (19343/92106)   \u001b[K\rremote: Compressing objects:  22% (20264/92106)   \u001b[K\rremote: Compressing objects:  23% (21185/92106)   \u001b[K\rremote: Compressing objects:  24% (22106/92106)   \u001b[K\rremote: Compressing objects:  25% (23027/92106)   \u001b[K\rremote: Compressing objects:  26% (23948/92106)   \u001b[K\rremote: Compressing objects:  27% (24869/92106)   \u001b[K\rremote: Compressing objects:  28% (25790/92106)   \u001b[K\rremote: Compressing objects:  29% (26711/92106)   \u001b[K\rremote: Compressing objects:  30% (27632/92106)   \u001b[K\rremote: Compressing objects:  31% (28553/92106)   \u001b[K\rremote: Compressing objects:  32% (29474/92106)   \u001b[K\rremote: Compressing objects:  33% (30395/92106)   \u001b[K\rremote: Compressing objects:  34% (31317/92106)   \u001b[K\rremote: Compressing objects:  35% (32238/92106)   \u001b[K\rremote: Compressing objects:  36% (33159/92106)   \u001b[K\rremote: Compressing objects:  37% (34080/92106)   \u001b[K\rremote: Compressing objects:  38% (35001/92106)   \u001b[K\rremote: Compressing objects:  39% (35922/92106)   \u001b[K\rremote: Compressing objects:  40% (36843/92106)   \u001b[K\rremote: Compressing objects:  41% (37764/92106)   \u001b[K\rremote: Compressing objects:  42% (38685/92106)   \u001b[K\rremote: Compressing objects:  43% (39606/92106)   \u001b[K\rremote: Compressing objects:  44% (40527/92106)   \u001b[K\rremote: Compressing objects:  45% (41448/92106)   \u001b[K\rremote: Compressing objects:  46% (42369/92106)   \u001b[K\rremote: Compressing objects:  47% (43290/92106)   \u001b[K\rremote: Compressing objects:  48% (44211/92106)   \u001b[K\rremote: Compressing objects:  49% (45132/92106)   \u001b[K\rremote: Compressing objects:  50% (46053/92106)   \u001b[K\rremote: Compressing objects:  51% (46975/92106)   \u001b[K\rremote: Compressing objects:  52% (47896/92106)   \u001b[K\rremote: Compressing objects:  53% (48817/92106)   \u001b[K\rremote: Compressing objects:  54% (49738/92106)   \u001b[K\rremote: Compressing objects:  55% (50659/92106)   \u001b[K\rremote: Compressing objects:  56% (51580/92106)   \u001b[K\rremote: Compressing objects:  57% (52501/92106)   \u001b[K\rremote: Compressing objects:  58% (53422/92106)   \u001b[K\rremote: Compressing objects:  59% (54343/92106)   \u001b[K\rremote: Compressing objects:  60% (55264/92106)   \u001b[K\rremote: Compressing objects:  61% (56185/92106)   \u001b[K\rremote: Compressing objects:  62% (57106/92106)   \u001b[K\rremote: Compressing objects:  63% (58027/92106)   \u001b[K\rremote: Compressing objects:  64% (58948/92106)   \u001b[K\rremote: Compressing objects:  65% (59869/92106)   \u001b[K\rremote: Compressing objects:  66% (60790/92106)   \u001b[K\rremote: Compressing objects:  67% (61712/92106)   \u001b[K\rremote: Compressing objects:  68% (62633/92106)   \u001b[K\rremote: Compressing objects:  69% (63554/92106)   \u001b[K\rremote: Compressing objects:  70% (64475/92106)   \u001b[K\rremote: Compressing objects:  71% (65396/92106)   \u001b[K\rremote: Compressing objects:  72% (66317/92106)   \u001b[K\rremote: Compressing objects:  73% (67238/92106)   \u001b[K\rremote: Compressing objects:  74% (68159/92106)   \u001b[K\rremote: Compressing objects:  75% (69080/92106)   \u001b[K\rremote: Compressing objects:  76% (70001/92106)   \u001b[K\rremote: Compressing objects:  77% (70922/92106)   \u001b[K\rremote: Compressing objects:  78% (71843/92106)   \u001b[K\rremote: Compressing objects:  79% (72764/92106)   \u001b[K\rremote: Compressing objects:  80% (73685/92106)   \u001b[K\rremote: Compressing objects:  81% (74606/92106)   \u001b[K\rremote: Compressing objects:  82% (75527/92106)   \u001b[K\rremote: Compressing objects:  83% (76448/92106)   \u001b[K\rremote: Compressing objects:  84% (77370/92106)   \u001b[K\rremote: Compressing objects:  85% (78291/92106)   \u001b[K\rremote: Compressing objects:  86% (79212/92106)   \u001b[K\rremote: Compressing objects:  87% (80133/92106)   \u001b[K\rremote: Compressing objects:  88% (81054/92106)   \u001b[K\rremote: Compressing objects:  89% (81975/92106)   \u001b[K\rremote: Compressing objects:  90% (82896/92106)   \u001b[K\rremote: Compressing objects:  91% (83817/92106)   \u001b[K\rremote: Compressing objects:  92% (84738/92106)   \u001b[K\rremote: Compressing objects:  93% (85659/92106)   \u001b[K\rremote: Compressing objects:  94% (86580/92106)   \u001b[K\rremote: Compressing objects:  95% (87501/92106)   \u001b[K\rremote: Compressing objects:  96% (88422/92106)   \u001b[K\rremote: Compressing objects:  97% (89343/92106)   \u001b[K\rremote: Compressing objects:  98% (90264/92106)   \u001b[K\rremote: Compressing objects:  99% (91185/92106)   \u001b[K\rremote: Compressing objects: 100% (92106/92106)   \u001b[K\rremote: Compressing objects: 100% (92106/92106), done.\u001b[K\n",
            "Receiving objects:   0% (1/92106)   \rReceiving objects:   1% (922/92106)   \rReceiving objects:   2% (1843/92106)   \rReceiving objects:   3% (2764/92106)   \rReceiving objects:   4% (3685/92106)   \rReceiving objects:   5% (4606/92106)   \rReceiving objects:   6% (5527/92106)   \rReceiving objects:   7% (6448/92106)   \rReceiving objects:   8% (7369/92106)   \rReceiving objects:   9% (8290/92106), 4.80 MiB | 9.59 MiB/s   \rReceiving objects:  10% (9211/92106), 4.80 MiB | 9.59 MiB/s   \rReceiving objects:  11% (10132/92106), 4.80 MiB | 9.59 MiB/s   \rReceiving objects:  12% (11053/92106), 4.80 MiB | 9.59 MiB/s   \rReceiving objects:  13% (11974/92106), 4.80 MiB | 9.59 MiB/s   \rReceiving objects:  14% (12895/92106), 4.80 MiB | 9.59 MiB/s   \rReceiving objects:  15% (13816/92106), 4.80 MiB | 9.59 MiB/s   \rReceiving objects:  16% (14737/92106), 4.80 MiB | 9.59 MiB/s   \rReceiving objects:  17% (15659/92106), 4.80 MiB | 9.59 MiB/s   \rReceiving objects:  18% (16580/92106), 4.80 MiB | 9.59 MiB/s   \rReceiving objects:  19% (17501/92106), 4.80 MiB | 9.59 MiB/s   \rReceiving objects:  20% (18422/92106), 4.80 MiB | 9.59 MiB/s   \rReceiving objects:  21% (19343/92106), 4.80 MiB | 9.59 MiB/s   \rReceiving objects:  22% (20264/92106), 4.80 MiB | 9.59 MiB/s   \rReceiving objects:  23% (21185/92106), 4.80 MiB | 9.59 MiB/s   \rReceiving objects:  24% (22106/92106), 4.80 MiB | 9.59 MiB/s   \rReceiving objects:  25% (23027/92106), 4.80 MiB | 9.59 MiB/s   \rReceiving objects:  26% (23948/92106), 4.80 MiB | 9.59 MiB/s   \rReceiving objects:  27% (24869/92106), 4.80 MiB | 9.59 MiB/s   \rReceiving objects:  28% (25790/92106), 4.80 MiB | 9.59 MiB/s   \rReceiving objects:  29% (26711/92106), 4.80 MiB | 9.59 MiB/s   \rReceiving objects:  30% (27632/92106), 4.80 MiB | 9.59 MiB/s   \rReceiving objects:  31% (28553/92106), 4.80 MiB | 9.59 MiB/s   \rReceiving objects:  32% (29474/92106), 4.80 MiB | 9.59 MiB/s   \rReceiving objects:  33% (30395/92106), 4.80 MiB | 9.59 MiB/s   \rReceiving objects:  34% (31317/92106), 4.80 MiB | 9.59 MiB/s   \rReceiving objects:  35% (32238/92106), 4.80 MiB | 9.59 MiB/s   \rReceiving objects:  36% (33159/92106), 4.80 MiB | 9.59 MiB/s   \rReceiving objects:  37% (34080/92106), 4.80 MiB | 9.59 MiB/s   \rReceiving objects:  38% (35001/92106), 4.80 MiB | 9.59 MiB/s   \rReceiving objects:  39% (35922/92106), 4.80 MiB | 9.59 MiB/s   \rReceiving objects:  39% (36442/92106), 22.47 MiB | 22.46 MiB/s   \rReceiving objects:  40% (36843/92106), 22.47 MiB | 22.46 MiB/s   \rReceiving objects:  41% (37764/92106), 22.47 MiB | 22.46 MiB/s   \rReceiving objects:  42% (38685/92106), 22.47 MiB | 22.46 MiB/s   \rReceiving objects:  43% (39606/92106), 22.47 MiB | 22.46 MiB/s   \rReceiving objects:  44% (40527/92106), 22.47 MiB | 22.46 MiB/s   \rReceiving objects:  45% (41448/92106), 22.47 MiB | 22.46 MiB/s   \rReceiving objects:  46% (42369/92106), 22.47 MiB | 22.46 MiB/s   \rReceiving objects:  47% (43290/92106), 22.47 MiB | 22.46 MiB/s   \rReceiving objects:  48% (44211/92106), 22.47 MiB | 22.46 MiB/s   \rReceiving objects:  49% (45132/92106), 22.47 MiB | 22.46 MiB/s   \rReceiving objects:  50% (46053/92106), 22.47 MiB | 22.46 MiB/s   \rReceiving objects:  51% (46975/92106), 22.47 MiB | 22.46 MiB/s   \rReceiving objects:  52% (47896/92106), 22.47 MiB | 22.46 MiB/s   \rReceiving objects:  53% (48817/92106), 22.47 MiB | 22.46 MiB/s   \rReceiving objects:  54% (49738/92106), 22.47 MiB | 22.46 MiB/s   \rReceiving objects:  55% (50659/92106), 22.47 MiB | 22.46 MiB/s   \rReceiving objects:  56% (51580/92106), 22.47 MiB | 22.46 MiB/s   \rReceiving objects:  57% (52501/92106), 22.47 MiB | 22.46 MiB/s   \rReceiving objects:  58% (53422/92106), 22.47 MiB | 22.46 MiB/s   \rReceiving objects:  59% (54343/92106), 22.47 MiB | 22.46 MiB/s   \rReceiving objects:  60% (55264/92106), 22.47 MiB | 22.46 MiB/s   \rReceiving objects:  61% (56185/92106), 22.47 MiB | 22.46 MiB/s   \rReceiving objects:  62% (57106/92106), 22.47 MiB | 22.46 MiB/s   \rReceiving objects:  63% (58027/92106), 22.47 MiB | 22.46 MiB/s   \rReceiving objects:  64% (58948/92106), 22.47 MiB | 22.46 MiB/s   \rReceiving objects:  65% (59869/92106), 22.47 MiB | 22.46 MiB/s   \rReceiving objects:  66% (60790/92106), 22.47 MiB | 22.46 MiB/s   \rReceiving objects:  67% (61712/92106), 22.47 MiB | 22.46 MiB/s   \rReceiving objects:  68% (62633/92106), 22.47 MiB | 22.46 MiB/s   \rReceiving objects:  69% (63554/92106), 22.47 MiB | 22.46 MiB/s   \rReceiving objects:  70% (64475/92106), 22.47 MiB | 22.46 MiB/s   \rReceiving objects:  71% (65396/92106), 22.47 MiB | 22.46 MiB/s   \rReceiving objects:  72% (66317/92106), 22.47 MiB | 22.46 MiB/s   \rReceiving objects:  73% (67238/92106), 41.21 MiB | 27.42 MiB/s   \rReceiving objects:  74% (68159/92106), 41.21 MiB | 27.42 MiB/s   \rReceiving objects:  75% (69080/92106), 41.21 MiB | 27.42 MiB/s   \rReceiving objects:  76% (70001/92106), 41.21 MiB | 27.42 MiB/s   \rReceiving objects:  77% (70922/92106), 41.21 MiB | 27.42 MiB/s   \rReceiving objects:  78% (71843/92106), 41.21 MiB | 27.42 MiB/s   \rReceiving objects:  79% (72764/92106), 41.21 MiB | 27.42 MiB/s   \rReceiving objects:  80% (73685/92106), 41.21 MiB | 27.42 MiB/s   \rReceiving objects:  81% (74606/92106), 41.21 MiB | 27.42 MiB/s   \rReceiving objects:  82% (75527/92106), 41.21 MiB | 27.42 MiB/s   \rReceiving objects:  83% (76448/92106), 41.21 MiB | 27.42 MiB/s   \rReceiving objects:  84% (77370/92106), 41.21 MiB | 27.42 MiB/s   \rReceiving objects:  85% (78291/92106), 41.21 MiB | 27.42 MiB/s   \rReceiving objects:  86% (79212/92106), 41.21 MiB | 27.42 MiB/s   \rReceiving objects:  87% (80133/92106), 41.21 MiB | 27.42 MiB/s   \rReceiving objects:  88% (81054/92106), 41.21 MiB | 27.42 MiB/s   \rReceiving objects:  89% (81975/92106), 41.21 MiB | 27.42 MiB/s   \rReceiving objects:  90% (82896/92106), 41.21 MiB | 27.42 MiB/s   \rReceiving objects:  91% (83817/92106), 41.21 MiB | 27.42 MiB/s   \rReceiving objects:  92% (84738/92106), 41.21 MiB | 27.42 MiB/s   \rReceiving objects:  93% (85659/92106), 41.21 MiB | 27.42 MiB/s   \rReceiving objects:  94% (86580/92106), 41.21 MiB | 27.42 MiB/s   \rReceiving objects:  95% (87501/92106), 41.21 MiB | 27.42 MiB/s   \rReceiving objects:  96% (88422/92106), 41.21 MiB | 27.42 MiB/s   \rReceiving objects:  97% (89343/92106), 41.21 MiB | 27.42 MiB/s   \rReceiving objects:  98% (90264/92106), 41.21 MiB | 27.42 MiB/s   \rReceiving objects:  99% (91185/92106), 41.21 MiB | 27.42 MiB/s   \rremote: Total 92106 (delta 16), reused 92073 (delta 0), pack-reused 0\u001b[K\n",
            "Receiving objects: 100% (92106/92106), 41.21 MiB | 27.42 MiB/s   \rReceiving objects: 100% (92106/92106), 56.82 MiB | 29.90 MiB/s, done.\n",
            "Resolving deltas: 100% (16/16), done.\n",
            "Checking out files: 100% (92012/92012), done.\n"
          ],
          "name": "stdout"
        }
      ]
    },
    {
      "cell_type": "code",
      "metadata": {
        "id": "jHtN-fzK9KOB",
        "colab_type": "code",
        "outputId": "2055f3f1-6e7c-4259-a070-ce74b3e0b621",
        "colab": {
          "base_uri": "https://localhost:8080/",
          "height": 51
        }
      },
      "source": [
        "ls"
      ],
      "execution_count": 2,
      "outputs": [
        {
          "output_type": "stream",
          "text": [
            "\u001b[0m\u001b[01;34mConvolutional_neural_network\u001b[0m/         \u001b[01;34msample_data\u001b[0m/\n",
            "\u001b[01;34mNepaliHandWrittenAlphabetRecognizer\u001b[0m/\n"
          ],
          "name": "stdout"
        }
      ]
    },
    {
      "cell_type": "code",
      "metadata": {
        "id": "6-Y4SAWO9Q1G",
        "colab_type": "code",
        "outputId": "bcc9d729-7803-4335-dbc0-019599e17ddb",
        "colab": {
          "base_uri": "https://localhost:8080/",
          "height": 34
        }
      },
      "source": [
        "cd NepaliHandWrittenAlphabetRecognizer"
      ],
      "execution_count": 3,
      "outputs": [
        {
          "output_type": "stream",
          "text": [
            "/content/NepaliHandWrittenAlphabetRecognizer\n"
          ],
          "name": "stdout"
        }
      ]
    },
    {
      "cell_type": "code",
      "metadata": {
        "id": "AK0RS0g19VaY",
        "colab_type": "code",
        "outputId": "b5c0a0b0-145d-4f9b-f591-10410b7fd3f2",
        "colab": {
          "base_uri": "https://localhost:8080/",
          "height": 34
        }
      },
      "source": [
        "import cv2\n",
        "import matplotlib.pyplot as plt\n",
        "import numpy as np\n",
        "import os\n",
        "import tensorflow as tf\n",
        "from tqdm import tqdm\n",
        "import random\n",
        "from keras.utils import to_categorical\n",
        "from keras.preprocessing.image import ImageDataGenerator\n",
        "from keras.callbacks import ReduceLROnPlateau\n",
        "\n",
        "from keras.models import Sequential\n",
        "from keras.layers import *\n",
        "from keras.optimizers import *"
      ],
      "execution_count": 4,
      "outputs": [
        {
          "output_type": "stream",
          "text": [
            "Using TensorFlow backend.\n"
          ],
          "name": "stderr"
        }
      ]
    },
    {
      "cell_type": "code",
      "metadata": {
        "id": "XUB5C0nB9YOg",
        "colab_type": "code",
        "colab": {}
      },
      "source": [
        "PATH = os.getcwd()\n",
        "DATADIR = PATH + '/dhrcdata/Train'\t\t\n",
        "train_data_path = PATH + '/dhrcdata/Train'\n",
        "test_data_path = PATH + '/dhrcdata/Test'\n"
      ],
      "execution_count": 0,
      "outputs": []
    },
    {
      "cell_type": "code",
      "metadata": {
        "id": "MOK18pvNNPTZ",
        "colab_type": "code",
        "outputId": "74a53b03-e573-4894-9a3e-14deb71e7aa2",
        "colab": {
          "base_uri": "https://localhost:8080/",
          "height": 71
        }
      },
      "source": [
        "#counting categories\n",
        "new_cat = []\n",
        "for x in os.listdir(train_data_path):\n",
        "  new_cat.append(x)\n",
        "\n",
        "print(new_cat)  \n",
        "classes = np.unique(new_cat)\n",
        "print(len(classes))\n"
      ],
      "execution_count": 6,
      "outputs": [
        {
          "output_type": "stream",
          "text": [
            "['character_27_ra', 'character_30_motosaw', 'character_22_pha', 'digit_9', 'character_24_bha', 'character_23_ba', 'character_5_kna', 'character_13_daa', 'digit_5', 'digit_0', 'character_29_waw', 'character_3_ga', 'digit_4', 'character_35_tra', 'character_21_pa', 'character_2_kha', 'character_15_adna', 'character_20_na', 'character_10_yna', 'digit_1', 'character_8_ja', 'digit_6', 'character_31_petchiryakha', 'digit_7', 'digit_3', 'character_1_ka', 'character_7_chha', 'character_14_dhaa', 'character_18_da', 'character_33_ha', 'character_32_patalosaw', 'character_25_ma', 'character_36_gya', 'character_9_jha', 'character_17_tha', 'character_6_cha', 'character_12_thaa', 'character_4_gha', 'character_11_taamatar', 'character_34_chhya', 'digit_2', 'character_28_la', 'character_26_yaw', 'character_19_dha', 'digit_8', 'character_16_tabala']\n",
            "46\n"
          ],
          "name": "stdout"
        }
      ]
    },
    {
      "cell_type": "code",
      "metadata": {
        "id": "kTFBK9wD9aqu",
        "colab_type": "code",
        "colab": {}
      },
      "source": [
        "CATEGORIES = [\n",
        "\n",
        "\"character_1_ka\",\"character_2_kha\",\"character_3_ga\",\"character_4_gha\",\"character_5_kna\",\n",
        "\"character_6_cha\",\"character_7_chha\",\"character_8_ja\",\"character_9_jha\",\"character_10_yna\",\n",
        "\"character_11_taamatar\",\"character_12_thaa\",\"character_13_daa\",\"character_14_dhaa\",\"character_15_adna\",\n",
        "\"character_16_tabala\",\"character_17_tha\",\"character_18_da\",\"character_19_dha\",\"character_20_na\",\"character_21_pa\",\n",
        "\"character_22_pha\",\"character_23_ba\",\"character_24_bha\",\"character_25_ma\",\"character_26_yaw\",\"character_27_ra\",\n",
        "\"character_28_la\",\"character_29_waw\",\"character_30_motosaw\",\"character_31_petchiryakha\",\"character_32_patalosaw\",\n",
        "\"character_33_ha\",\"character_34_chhya\",\"character_35_tra\",\"character_36_gya\",\"digit_0\",\"digit_1\",\"digit_2\",\"digit_3\",\n",
        "\"digit_4\",\"digit_5\",\"digit_6\",\"digit_7\",\"digit_8\",\"digit_9\"\n",
        "\n",
        "]\n"
      ],
      "execution_count": 0,
      "outputs": []
    },
    {
      "cell_type": "code",
      "metadata": {
        "id": "as1xbqAW9d5P",
        "colab_type": "code",
        "colab": {}
      },
      "source": [
        "IMG_SIZE = 32\n",
        "training_data = []\n",
        "testing_data = []\n",
        "\n",
        "def create_training_data():\n",
        "  for catagory in CATEGORIES:\n",
        "    path = os.path.join(train_data_path, catagory)\n",
        "    class_num = CATEGORIES.index(catagory)\n",
        "    for img in os.listdir(path):\n",
        "        try:\n",
        "          img_array = cv2.imread(os.path.join(path,img),cv2.IMREAD_GRAYSCALE)\n",
        "          new_array = cv2.resize(img_array,(IMG_SIZE,IMG_SIZE))\n",
        "          training_data.append([new_array,class_num])\n",
        "        except Exception as e:\n",
        "          pass\n",
        "\n",
        "\n",
        "\n",
        "def create_testing_data():\n",
        "  for catagory in CATEGORIES:\n",
        "    path = os.path.join(test_data_path, catagory)\n",
        "    class_num = CATEGORIES.index(catagory)\n",
        "    for img in os.listdir(path):\n",
        "        try:\n",
        "          img_array = cv2.imread(os.path.join(path,img),cv2.IMREAD_GRAYSCALE)\n",
        "          new_array = cv2.resize(img_array,(IMG_SIZE,IMG_SIZE))\n",
        "          testing_data.append([new_array,class_num])\n",
        "        except Exception as e:\n",
        "          pass\n",
        "\n",
        "\n",
        "\n",
        "create_training_data()\n",
        "create_testing_data()\n"
      ],
      "execution_count": 0,
      "outputs": []
    },
    {
      "cell_type": "code",
      "metadata": {
        "id": "_7a9Hftp9kSg",
        "colab_type": "code",
        "outputId": "5fa496ba-5af1-43aa-e968-548f19bee98e",
        "colab": {
          "base_uri": "https://localhost:8080/",
          "height": 68
        }
      },
      "source": [
        "#shuffle training data for trainning diff image set in every batch\n",
        "random.shuffle(training_data)\n",
        "\n",
        "#hot encode image dataset\n",
        "\n",
        "train_x = []\n",
        "train_y = []\n",
        "test_x = []\n",
        "test_y = []\n",
        "\n",
        "\n",
        "\n",
        "#seperating features and labels from list\n",
        "for features, labels in training_data:\n",
        "\ttrain_x.append(features)\n",
        "\ttrain_y.append(labels)\n",
        "\n",
        "for features, labels in testing_data:\n",
        "\ttest_x.append(features)\n",
        "\ttest_y.append(labels)\n",
        "\n",
        "\n",
        "#converting list to array\n",
        "train_y_array = np.array(train_y)\n",
        "test_y_array = np.array(test_y)\n",
        "\n",
        "#converting image dataset to input 32*32 dataset \n",
        "\n",
        "train_image_array = np.array(train_x).reshape(-1,32,32,1)\n",
        "test_image_array = np.array(test_x).reshape(-1,32,32,1)\n",
        "\n",
        "#counting total number of class in dataset\n",
        "classes = np.unique(test_y_array)\n",
        "print(classes)\n",
        "print(\"total number of class={} \".format(len(classes)))\n",
        "\n"
      ],
      "execution_count": 9,
      "outputs": [
        {
          "output_type": "stream",
          "text": [
            "[ 0  1  2  3  4  5  6  7  8  9 10 11 12 13 14 15 16 17 18 19 20 21 22 23\n",
            " 24 25 26 27 28 29 30 31 32 33 34 35 36 37 38 39 40 41 42 43 44 45]\n",
            "total number of class=46 \n"
          ],
          "name": "stdout"
        }
      ]
    },
    {
      "cell_type": "code",
      "metadata": {
        "id": "DJyBFLIrFs_G",
        "colab_type": "code",
        "outputId": "48fafa33-1a67-446d-bd63-735b42836f67",
        "colab": {
          "base_uri": "https://localhost:8080/",
          "height": 269
        }
      },
      "source": [
        "# convert from int to float\n",
        "x_train = train_image_array.astype('float32')\n",
        "x_test = test_image_array.astype('float32')\n",
        "# define data preparation\n",
        "datagen = ImageDataGenerator(featurewise_center=True,\n",
        "                             featurewise_std_normalization=True,\n",
        "                             rotation_range=15,\n",
        "                             width_shift_range=0.1,\n",
        "                             height_shift_range=0.1,\n",
        "                              zoom_range=0.2\n",
        "                            )\n",
        "# fit parameters from data\n",
        "datagen.fit(x_train)\n",
        "# configure batch size and retrieve one batch of images\n",
        "for X_batch, y_batch in datagen.flow(x_train, train_y, batch_size=9):\n",
        "\t# create a grid of 3x3 images\n",
        "\tfor i in range(0, 9):\n",
        "\t\tplt.subplot(330 + 1 + i)\n",
        "\t\tplt.imshow(X_batch[i].reshape(32, 32), cmap=plt.get_cmap('gray'))\n",
        "\t# show the plot\n",
        "\tplt.show()\n",
        "\tbreak"
      ],
      "execution_count": 10,
      "outputs": [
        {
          "output_type": "display_data",
          "data": {
            "image/png": "[encoded data removed]",
            "text/plain": [
              "<Figure size 432x288 with 9 Axes>"
            ]
          },
          "metadata": {
            "tags": []
          }
        }
      ]
    },
    {
      "cell_type": "code",
      "metadata": {
        "id": "OcD8KB1rGHpt",
        "colab_type": "code",
        "colab": {}
      },
      "source": [
        "\n",
        "#one hot enoded class \n",
        "train_y = to_categorical(train_y_array)\n",
        "test_y = to_categorical(test_y_array)\n",
        "\n",
        "\n",
        "train_y = np.array(train_y)\n",
        "test_y = np.array(test_y)\n",
        "\n",
        "#all train x, y and test x y are in array form now\n"
      ],
      "execution_count": 0,
      "outputs": []
    },
    {
      "cell_type": "code",
      "metadata": {
        "id": "HTyQPCKc9AuW",
        "colab_type": "code",
        "outputId": "9a4901ea-adfd-4e16-c0e5-877582104e22",
        "colab": {
          "base_uri": "https://localhost:8080/",
          "height": 887
        }
      },
      "source": [
        "#new model\n",
        "\n",
        "# Set the CNN model \n",
        "# my CNN architechture is In -> [[Conv2D->relu]*2 -> MaxPool2D -> Dropout]*2 -> Flatten -> Dense -> Dropout -> Out\n",
        "\n",
        "model = Sequential()\n",
        "\n",
        "model.add(Conv2D(filters = 32, kernel_size = (5,5),padding = 'Same', \n",
        "                 activation ='relu', input_shape = (32,32,1)))\n",
        "model.add(Conv2D(filters = 32, kernel_size = (5,5),padding = 'Same', \n",
        "                 activation ='relu'))\n",
        "model.add(MaxPool2D(pool_size=(2,2)))\n",
        "model.add(Dropout(0.25))\n",
        "\n",
        "\n",
        "model.add(Conv2D(filters = 64, kernel_size = (3,3),padding = 'Same', \n",
        "                 activation ='relu'))\n",
        "model.add(Conv2D(filters = 64, kernel_size = (3,3),padding = 'Same', \n",
        "                 activation ='relu'))\n",
        "model.add(MaxPool2D(pool_size=(2,2), strides=(2,2)))\n",
        "model.add(Dropout(0.25))\n",
        "\n",
        "\n",
        "model.add(Flatten())\n",
        "model.add(Dense(256, activation = \"relu\"))\n",
        "model.add(Dropout(0.5))\n",
        "model.add(Dense(46, activation = \"softmax\"))\n",
        "\n",
        "# Define the optimizer\n",
        "#optimizer = RMSprop(lr=0.001, rho=0.9, epsilon=1e-08, decay=0.0)\n",
        "optimizer = Adam(lr=0.0001)\n",
        "\n",
        "# Compile the model\n",
        "model.compile(optimizer = optimizer , loss = \"categorical_crossentropy\", metrics=[\"accuracy\"])\n",
        "\n",
        "#model.summary()\n",
        "\n",
        "history = model.fit(x=train_image_array,y=train_y,epochs=20,batch_size=100, validation_split=0.3)"
      ],
      "execution_count": 12,
      "outputs": [
        {
          "output_type": "stream",
          "text": [
            "WARNING:tensorflow:From /usr/local/lib/python3.6/dist-packages/tensorflow/python/framework/op_def_library.py:263: colocate_with (from tensorflow.python.framework.ops) is deprecated and will be removed in a future version.\n",
            "Instructions for updating:\n",
            "Colocations handled automatically by placer.\n",
            "WARNING:tensorflow:From /usr/local/lib/python3.6/dist-packages/keras/backend/tensorflow_backend.py:3445: calling dropout (from tensorflow.python.ops.nn_ops) with keep_prob is deprecated and will be removed in a future version.\n",
            "Instructions for updating:\n",
            "Please use `rate` instead of `keep_prob`. Rate should be set to `rate = 1 - keep_prob`.\n",
            "WARNING:tensorflow:From /usr/local/lib/python3.6/dist-packages/tensorflow/python/ops/math_ops.py:3066: to_int32 (from tensorflow.python.ops.math_ops) is deprecated and will be removed in a future version.\n",
            "Instructions for updating:\n",
            "Use tf.cast instead.\n",
            "Train on 54740 samples, validate on 23460 samples\n",
            "Epoch 1/20\n",
            "54740/54740 [==============================] - 13s 239us/step - loss: 5.9896 - acc: 0.0935 - val_loss: 2.3613 - val_acc: 0.4512\n",
            "Epoch 2/20\n",
            "54740/54740 [==============================] - 8s 147us/step - loss: 1.9949 - acc: 0.4479 - val_loss: 0.7467 - val_acc: 0.8164\n",
            "Epoch 3/20\n",
            "54740/54740 [==============================] - 8s 147us/step - loss: 1.0709 - acc: 0.6862 - val_loss: 0.3748 - val_acc: 0.8988\n",
            "Epoch 4/20\n",
            "54740/54740 [==============================] - 8s 148us/step - loss: 0.7182 - acc: 0.7865 - val_loss: 0.2560 - val_acc: 0.9297\n",
            "Epoch 5/20\n",
            "54740/54740 [==============================] - 8s 148us/step - loss: 0.5404 - acc: 0.8394 - val_loss: 0.2004 - val_acc: 0.9429\n",
            "Epoch 6/20\n",
            "54740/54740 [==============================] - 8s 149us/step - loss: 0.4323 - acc: 0.8692 - val_loss: 0.1623 - val_acc: 0.9532\n",
            "Epoch 7/20\n",
            "54740/54740 [==============================] - 8s 155us/step - loss: 0.3552 - acc: 0.8936 - val_loss: 0.1302 - val_acc: 0.9619\n",
            "Epoch 8/20\n",
            "54740/54740 [==============================] - 8s 152us/step - loss: 0.3058 - acc: 0.9072 - val_loss: 0.1153 - val_acc: 0.9673\n",
            "Epoch 9/20\n",
            "54740/54740 [==============================] - 9s 158us/step - loss: 0.2703 - acc: 0.9178 - val_loss: 0.1065 - val_acc: 0.9690\n",
            "Epoch 10/20\n",
            "54740/54740 [==============================] - 8s 152us/step - loss: 0.2257 - acc: 0.9305 - val_loss: 0.0861 - val_acc: 0.9739\n",
            "Epoch 11/20\n",
            "54740/54740 [==============================] - 8s 152us/step - loss: 0.2021 - acc: 0.9379 - val_loss: 0.0792 - val_acc: 0.9759\n",
            "Epoch 12/20\n",
            "54740/54740 [==============================] - 9s 155us/step - loss: 0.1740 - acc: 0.9452 - val_loss: 0.0756 - val_acc: 0.9777\n",
            "Epoch 13/20\n",
            "54740/54740 [==============================] - 8s 151us/step - loss: 0.1661 - acc: 0.9481 - val_loss: 0.0701 - val_acc: 0.9800\n",
            "Epoch 14/20\n",
            "54740/54740 [==============================] - 8s 151us/step - loss: 0.1434 - acc: 0.9539 - val_loss: 0.0619 - val_acc: 0.9822\n",
            "Epoch 15/20\n",
            "54740/54740 [==============================] - 8s 150us/step - loss: 0.1358 - acc: 0.9570 - val_loss: 0.0631 - val_acc: 0.9818\n",
            "Epoch 16/20\n",
            "54740/54740 [==============================] - 8s 152us/step - loss: 0.1196 - acc: 0.9624 - val_loss: 0.0593 - val_acc: 0.9835\n",
            "Epoch 17/20\n",
            "54740/54740 [==============================] - 8s 153us/step - loss: 0.1114 - acc: 0.9649 - val_loss: 0.0527 - val_acc: 0.9855\n",
            "Epoch 18/20\n",
            "54740/54740 [==============================] - 8s 150us/step - loss: 0.1044 - acc: 0.9663 - val_loss: 0.0522 - val_acc: 0.9844\n",
            "Epoch 19/20\n",
            "54740/54740 [==============================] - 8s 150us/step - loss: 0.0936 - acc: 0.9702 - val_loss: 0.0507 - val_acc: 0.9854\n",
            "Epoch 20/20\n",
            "54740/54740 [==============================] - 8s 151us/step - loss: 0.0895 - acc: 0.9713 - val_loss: 0.0505 - val_acc: 0.9860\n"
          ],
          "name": "stdout"
        }
      ]
    },
    {
      "cell_type": "code",
      "metadata": {
        "id": "7X2QnE15CTcr",
        "colab_type": "code",
        "outputId": "5fa0784a-67cd-4dfc-a775-87bd8104a166",
        "colab": {
          "base_uri": "https://localhost:8080/",
          "height": 573
        }
      },
      "source": [
        "# summarize history for accuracy\n",
        "plt.plot(history.history['acc'])\n",
        "plt.plot(history.history['val_acc'])\n",
        "plt.title('model accuracy')\n",
        "plt.ylabel('accuracy')\n",
        "plt.xlabel('epoch')\n",
        "plt.legend(['train', 'test'], loc='upper left')\n",
        "plt.show()\n",
        "# summarize history for loss\n",
        "plt.plot(history.history['loss'])\n",
        "plt.plot(history.history['val_loss'])\n",
        "plt.title('model loss')\n",
        "plt.ylabel('loss')\n",
        "plt.xlabel('epoch')\n",
        "plt.legend(['train', 'test'], loc='upper left')\n",
        "plt.show()"
      ],
      "execution_count": 13,
      "outputs": [
        {
          "output_type": "display_data",
          "data": {
            "image/png": "[encoded data removed]",
            "text/plain": [
              "<Figure size 432x288 with 1 Axes>"
            ]
          },
          "metadata": {
            "tags": []
          }
        },
        {
          "output_type": "display_data",
          "data": {
            "image/png": "[encoded data removed]",
            "text/plain": [
              "<Figure size 432x288 with 1 Axes>"
            ]
          },
          "metadata": {
            "tags": []
          }
        }
      ]
    },
    {
      "cell_type": "code",
      "metadata": {
        "id": "nBNlMFqHKzvT",
        "colab_type": "code",
        "colab": {}
      },
      "source": [
        "img = test_x[500].reshape(-1,32,32,1)\n",
        "belongs_to_class = test_y[500]"
      ],
      "execution_count": 0,
      "outputs": []
    },
    {
      "cell_type": "code",
      "metadata": {
        "id": "Xtl0LNcwK9Mi",
        "colab_type": "code",
        "outputId": "ab3e02d3-a066-4bd4-ff84-6cbdb8a260fb",
        "colab": {
          "base_uri": "https://localhost:8080/",
          "height": 34
        }
      },
      "source": [
        "print(img.shape)"
      ],
      "execution_count": 88,
      "outputs": [
        {
          "output_type": "stream",
          "text": [
            "(1, 32, 32, 1)\n"
          ],
          "name": "stdout"
        }
      ]
    },
    {
      "cell_type": "code",
      "metadata": {
        "id": "wfkrVqc61jYz",
        "colab_type": "code",
        "colab": {}
      },
      "source": [
        "x = model.predict(img)"
      ],
      "execution_count": 0,
      "outputs": []
    },
    {
      "cell_type": "code",
      "metadata": {
        "id": "nFRTZVJLSXUq",
        "colab_type": "code",
        "colab": {
          "base_uri": "https://localhost:8080/",
          "height": 187
        },
        "outputId": "0d3f8d2d-4c5b-4014-b9eb-00eb6ae9c604"
      },
      "source": [
        "print(x)"
      ],
      "execution_count": 90,
      "outputs": [
        {
          "output_type": "stream",
          "text": [
            "[[1.5609588e-09 9.5359713e-01 2.0783050e-10 1.5677699e-10 6.2144622e-08\n",
            "  1.4626593e-12 3.4075768e-08 4.0296739e-09 2.4571571e-09 8.8257917e-09\n",
            "  3.7078902e-11 1.0557353e-11 3.7274432e-09 6.2973391e-09 6.7518519e-11\n",
            "  6.8281032e-08 1.0767746e-09 3.9824286e-10 2.1119638e-10 2.6516034e-07\n",
            "  3.2462447e-13 5.0293162e-11 1.9039636e-06 3.6513015e-08 3.9522025e-08\n",
            "  7.1495525e-09 3.4609297e-07 1.0146335e-09 2.0428534e-08 9.7926738e-07\n",
            "  3.5217468e-07 4.6333238e-02 5.5608261e-06 3.5490331e-05 1.1910258e-06\n",
            "  2.3211422e-05 1.1141458e-14 7.1011766e-11 2.3160494e-11 4.0165449e-09\n",
            "  3.1742526e-13 1.7141187e-10 1.3437217e-10 8.5637010e-13 5.6336782e-13\n",
            "  3.4163913e-10]]\n"
          ],
          "name": "stdout"
        }
      ]
    },
    {
      "cell_type": "code",
      "metadata": {
        "id": "nK7scl2HR_ow",
        "colab_type": "code",
        "colab": {}
      },
      "source": [
        "name = CATEGORIES[np.argmax(x)]\n",
        "bc = CATEGORIES[np.argmax(belongs_to_class)]"
      ],
      "execution_count": 0,
      "outputs": []
    },
    {
      "cell_type": "code",
      "metadata": {
        "id": "8r1OJfbnVpJt",
        "colab_type": "code",
        "colab": {
          "base_uri": "https://localhost:8080/",
          "height": 320
        },
        "outputId": "009731ea-c6c6-404c-c809-140ece2c9f63"
      },
      "source": [
        "%matplotlib inline\n",
        "\n",
        "print(\"predicted image is of: {}\".format(name))\n",
        "print(\"Actual class label is: {}\".format(test_y[0]))\n",
        "imgplot = plt.imshow(test_x[500])\n",
        "\n"
      ],
      "execution_count": 92,
      "outputs": [
        {
          "output_type": "stream",
          "text": [
            "predicted image is of: character_2_kha\n",
            "Actual class label is: [1. 0. 0. 0. 0. 0. 0. 0. 0. 0. 0. 0. 0. 0. 0. 0. 0. 0. 0. 0. 0. 0. 0. 0.\n",
            " 0. 0. 0. 0. 0. 0. 0. 0. 0. 0. 0. 0. 0. 0. 0. 0. 0. 0. 0. 0. 0. 0.]\n"
          ],
          "name": "stdout"
        },
        {
          "output_type": "display_data",
          "data": {
            "image/png": "[encoded data removed]",
            "text/plain": [
              "<Figure size 432x288 with 1 Axes>"
            ]
          },
          "metadata": {
            "tags": []
          }
        }
      ]
    },
    {
      "cell_type": "code",
      "metadata": {
        "id": "8S6af1hIWEPL",
        "colab_type": "code",
        "colab": {}
      },
      "source": [
        ""
      ],
      "execution_count": 0,
      "outputs": []
    }
  ]
}