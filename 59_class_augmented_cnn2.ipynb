{
  "nbformat": 4,
  "nbformat_minor": 0,
  "metadata": {
    "colab": {
      "name": "59 class augmented_cnn 1.ipynb",
      "version": "0.3.2",
      "provenance": [],
      "collapsed_sections": [],
      "include_colab_link": true
    },
    "kernelspec": {
      "name": "python3",
      "display_name": "Python 3"
    },
    "accelerator": "GPU"
  },
  "cells": [
    {
      "cell_type": "markdown",
      "metadata": {
        "id": "view-in-github",
        "colab_type": "text"
      },
      "source": [
        "<a href=\"https://colab.research.google.com/github/Rojan116/NepaliHandWrittenAlphabetRecognizer/blob/master/59_class_augmented_cnn2.ipynb\" target=\"_parent\"><img src=\"https://colab.research.google.com/assets/colab-badge.svg\" alt=\"Open In Colab\"/></a>"
      ]
    },
    {
      "cell_type": "code",
      "metadata": {
        "id": "Fa0w7bIx81Sq",
        "colab_type": "code",
        "outputId": "eb39458b-11be-41e7-a194-7edad0564eb5",
        "colab": {
          "base_uri": "https://localhost:8080/",
          "height": 153
        }
      },
      "source": [
        "!git clone https://github.com/Rojan116/NepaliHandWrittenAlphabetRecognizer.git"
      ],
      "execution_count": 1,
      "outputs": [
        {
          "output_type": "stream",
          "text": [
            "Cloning into 'NepaliHandWrittenAlphabetRecognizer'...\n",
            "remote: Enumerating objects: 8029, done.\u001b[K\n",
            "remote: Counting objects: 100% (8029/8029), done.\u001b[K\n",
            "remote: Compressing objects: 100% (7993/7993), done.\u001b[K\n",
            "remote: Total 105560 (delta 168), reused 7883 (delta 35), pack-reused 97531\n",
            "Receiving objects: 100% (105560/105560), 139.76 MiB | 17.24 MiB/s, done.\n",
            "Resolving deltas: 100% (1718/1718), done.\n",
            "Checking out files: 100% (106172/106172), done.\n"
          ],
          "name": "stdout"
        }
      ]
    },
    {
      "cell_type": "code",
      "metadata": {
        "id": "jHtN-fzK9KOB",
        "colab_type": "code",
        "outputId": "914fcadd-4ac0-43e4-d789-3ecd58e4b1c1",
        "colab": {
          "base_uri": "https://localhost:8080/",
          "height": 34
        }
      },
      "source": [
        "ls"
      ],
      "execution_count": 2,
      "outputs": [
        {
          "output_type": "stream",
          "text": [
            "\u001b[0m\u001b[01;34mNepaliHandWrittenAlphabetRecognizer\u001b[0m/  \u001b[01;34msample_data\u001b[0m/\n"
          ],
          "name": "stdout"
        }
      ]
    },
    {
      "cell_type": "code",
      "metadata": {
        "id": "6-Y4SAWO9Q1G",
        "colab_type": "code",
        "outputId": "165316fa-f158-4253-d86d-8c69d0b99d3e",
        "colab": {
          "base_uri": "https://localhost:8080/",
          "height": 34
        }
      },
      "source": [
        "cd NepaliHandWrittenAlphabetRecognizer"
      ],
      "execution_count": 3,
      "outputs": [
        {
          "output_type": "stream",
          "text": [
            "/content/NepaliHandWrittenAlphabetRecognizer\n"
          ],
          "name": "stdout"
        }
      ]
    },
    {
      "cell_type": "code",
      "metadata": {
        "id": "AK0RS0g19VaY",
        "colab_type": "code",
        "outputId": "4cf40dac-cb37-4c21-bd3c-17c914663b2f",
        "colab": {
          "base_uri": "https://localhost:8080/",
          "height": 34
        }
      },
      "source": [
        "import cv2\n",
        "import matplotlib.pyplot as plt\n",
        "import numpy as np\n",
        "import os\n",
        "import tensorflow as tf\n",
        "from tqdm import tqdm\n",
        "import random\n",
        "from keras.utils import to_categorical\n",
        "from keras.preprocessing.image import ImageDataGenerator\n",
        "from keras.callbacks import ReduceLROnPlateau\n",
        "\n",
        "from keras.models import Sequential\n",
        "from keras.layers import *\n",
        "from keras.optimizers import *\n",
        "import seaborn as sns\n",
        "from sklearn.metrics import classification_report, confusion_matrix"
      ],
      "execution_count": 4,
      "outputs": [
        {
          "output_type": "stream",
          "text": [
            "Using TensorFlow backend.\n"
          ],
          "name": "stderr"
        }
      ]
    },
    {
      "cell_type": "code",
      "metadata": {
        "id": "XUB5C0nB9YOg",
        "colab_type": "code",
        "colab": {}
      },
      "source": [
        "PATH = os.getcwd()\n",
        "DATADIR = PATH + '/nepalibarnasnew/Train'   \n",
        "train_data_path = PATH + '/nepalibarnasnew/Train'\n",
        "test_data_path = PATH + '/nepalibarnasnew/Test'\n"
      ],
      "execution_count": 0,
      "outputs": []
    },
    {
      "cell_type": "code",
      "metadata": {
        "id": "MOK18pvNNPTZ",
        "colab_type": "code",
        "outputId": "70f396f5-8fb3-44fc-a8b7-73de1d88c263",
        "colab": {
          "base_uri": "https://localhost:8080/",
          "height": 71
        }
      },
      "source": [
        "#counting categories\n",
        "new_cat = []\n",
        "for x in os.listdir(train_data_path):\n",
        "  new_cat.append(x)\n",
        "\n",
        "print(new_cat)  \n",
        "classes = np.unique(new_cat)\n",
        "print(len(classes))\n"
      ],
      "execution_count": 6,
      "outputs": [
        {
          "output_type": "stream",
          "text": [
            "['character-34-chyan', 'digits_4', 'character-12-tha', 'digits_9', 'character-32-sa', 'digits_6', 'vowel_7_e', 'character-05-n..a', 'vowel_0_a', 'character-22-pha', 'character-28-la', 'character-20-na', 'digits_7', 'character-03-ga', 'vowel_11_am', 'character-24-bha', 'character-29-wa', 'vowel_4_u', 'vowel_2_i', 'character-15-na', 'digits_8', 'character-08-ja', 'character-09-jha', 'character-30-sa', 'character-35-tra', 'character-17-tha', 'digits_5', 'character-10-yaa', 'character-26-ya', 'character-13-da', 'character-01-ka', 'vowel_5_uu', 'vowel_12_ah', 'character-16-ta', 'character-31-sa', 'character-11-ta', 'character-19-dha', 'character-36-gyan', 'character-04-gha', 'digits_1', 'vowel_10_au', 'character-02-kha', 'character-25-ma', 'character-06-cha', 'character-21-pa', 'character-33-ha', 'character-27-ra', 'vowel_8_ei', 'digits_0', 'digits_2', 'character-14-dha', 'vowel_6_re', 'character-18-da', 'vowel_9_o', 'character-07-chha', 'vowel_1_aa', 'vowel_3_ii', 'digits_3', 'character-23-ba']\n",
            "59\n"
          ],
          "name": "stdout"
        }
      ]
    },
    {
      "cell_type": "code",
      "metadata": {
        "id": "kTFBK9wD9aqu",
        "colab_type": "code",
        "colab": {}
      },
      "source": [
        "CATEGORIES =[\n",
        "\n",
        "\"character-01-ka\",\"character-02-kha\",\"character-03-ga\",\"character-04-gha\",\"character-05-n..a\",\n",
        "\"character-06-cha\",\"character-07-chha\",\"character-08-ja\",\"character-09-jha\",\"character-10-yaa\",\n",
        "\"character-11-ta\",\"character-12-tha\",\"character-13-da\",\"character-14-dha\",\"character-15-na\",\n",
        "\"character-16-ta\",\"character-17-tha\",\"character-18-da\",\"character-19-dha\",\"character-20-na\",\"character-21-pa\",\n",
        "\"character-22-pha\",\"character-23-ba\",\"character-24-bha\",\"character-25-ma\",\"character-26-ya\",\"character-27-ra\",\n",
        "\"character-28-la\",\"character-29-wa\",\"character-30-sa\",\"character-31-sa\",\"character-32-sa\",\n",
        "\"character-33-ha\",\"character-34-chyan\",\"character-35-tra\",\"character-36-gyan\",\"digits_0\",\"digits_1\",\"digits_2\",\"digits_3\",\n",
        "\"digits_4\",\"digits_5\",\"digits_6\",\"digits_7\",\"digits_8\",\"digits_9\",\"vowel_0_a\",\"vowel_1_aa\",\"vowel_2_i\",\"vowel_3_ii\",\"vowel_4_u\",\n",
        "\"vowel_5_uu\",\"vowel_6_re\",\"vowel_7_e\",\"vowel_8_ei\",\"vowel_9_o\",\"vowel_10_au\",\"vowel_11_am\",\"vowel_12_ah\"\n",
        "\n",
        "]"
      ],
      "execution_count": 0,
      "outputs": []
    },
    {
      "cell_type": "code",
      "metadata": {
        "id": "as1xbqAW9d5P",
        "colab_type": "code",
        "colab": {}
      },
      "source": [
        "IMG_SIZE = 32\n",
        "training_data = []\n",
        "testing_data = []\n",
        "\n",
        "def create_training_data():\n",
        "  for catagory in CATEGORIES:\n",
        "    path = os.path.join(train_data_path, catagory)\n",
        "    class_num = CATEGORIES.index(catagory)\n",
        "    for img in os.listdir(path):\n",
        "        try:\n",
        "          img_array = cv2.imread(os.path.join(path,img),cv2.IMREAD_GRAYSCALE)\n",
        "          new_array = cv2.resize(img_array,(IMG_SIZE,IMG_SIZE))\n",
        "          training_data.append([new_array,class_num])\n",
        "        except Exception as e:\n",
        "          pass\n",
        "\n",
        "\n",
        "\n",
        "def create_testing_data():\n",
        "  for catagory in CATEGORIES:\n",
        "    path = os.path.join(test_data_path, catagory)\n",
        "    class_num = CATEGORIES.index(catagory)\n",
        "    for img in os.listdir(path):\n",
        "        try:\n",
        "          img_array = cv2.imread(os.path.join(path,img),cv2.IMREAD_GRAYSCALE)\n",
        "          new_array = cv2.resize(img_array,(IMG_SIZE,IMG_SIZE))\n",
        "          testing_data.append([new_array,class_num])\n",
        "        except Exception as e:\n",
        "          pass\n",
        "\n",
        "\n",
        "\n",
        "create_training_data()\n",
        "create_testing_data()\n"
      ],
      "execution_count": 0,
      "outputs": []
    },
    {
      "cell_type": "code",
      "metadata": {
        "id": "_7a9Hftp9kSg",
        "colab_type": "code",
        "outputId": "50f6ec0c-2fc0-4cb4-e899-d1d137cb6f0f",
        "colab": {
          "base_uri": "https://localhost:8080/",
          "height": 85
        }
      },
      "source": [
        "#shuffle training data for trainning diff image set in every batch\n",
        "random.shuffle(training_data)\n",
        "\n",
        "#hot encode image dataset\n",
        "\n",
        "train_x = []\n",
        "train_y = []\n",
        "test_x = []\n",
        "test_y = []\n",
        "\n",
        "\n",
        "\n",
        "#seperating features and labels from list\n",
        "for features, labels in training_data:\n",
        "\ttrain_x.append(features)\n",
        "\ttrain_y.append(labels)\n",
        "\n",
        "for features, labels in testing_data:\n",
        "\ttest_x.append(features)\n",
        "\ttest_y.append(labels)\n",
        "\n",
        "\n",
        "#converting list to array\n",
        "train_y_array = np.array(train_y)\n",
        "test_y_array = np.array(test_y)\n",
        "\n",
        "#converting image dataset to input 32*32 dataset \n",
        "\n",
        "train_image_array = np.array(train_x).reshape(-1,32,32,1)\n",
        "test_image_array = np.array(test_x).reshape(-1,32,32,1)\n",
        "\n",
        "#counting total number of class in dataset\n",
        "classes = np.unique(test_y_array)\n",
        "print(classes)\n",
        "print(\"total number of class={} \".format(len(classes)))\n",
        "\n"
      ],
      "execution_count": 9,
      "outputs": [
        {
          "output_type": "stream",
          "text": [
            "[ 0  1  2  3  4  5  6  7  8  9 10 11 12 13 14 15 16 17 18 19 20 21 22 23\n",
            " 24 25 26 27 28 29 30 31 32 33 34 35 36 37 38 39 40 41 42 43 44 45 46 47\n",
            " 48 49 50 51 52 53 54 55 56 57 58]\n",
            "total number of class=59 \n"
          ],
          "name": "stdout"
        }
      ]
    },
    {
      "cell_type": "code",
      "metadata": {
        "id": "DJyBFLIrFs_G",
        "colab_type": "code",
        "outputId": "af4e914d-07c6-423f-a016-9c6d261a773a",
        "colab": {
          "base_uri": "https://localhost:8080/",
          "height": 269
        }
      },
      "source": [
        "# convert from int to float\n",
        "x_train = train_image_array.astype('float32')\n",
        "x_test = test_image_array.astype('float32')\n",
        "# define data preparation\n",
        "datagen = ImageDataGenerator(featurewise_center=True,\n",
        "                             featurewise_std_normalization=True,\n",
        "                             rotation_range=15,\n",
        "                             width_shift_range=0.1,\n",
        "                             height_shift_range=0.1,\n",
        "                              zoom_range=0.2\n",
        "                            )\n",
        "# fit parameters from data\n",
        "datagen.fit(x_train)\n",
        "# configure batch size and retrieve one batch of images\n",
        "for X_batch, y_batch in datagen.flow(x_train, train_y, batch_size=9):\n",
        "\t# create a grid of 3x3 images\n",
        "\tfor i in range(0, 9):\n",
        "\t\tplt.subplot(330 + 1 + i)\n",
        "\t\tplt.imshow(X_batch[i].reshape(32, 32), cmap=plt.get_cmap('gray'))\n",
        "\t# show the plot\n",
        "\tplt.show()\n",
        "\tbreak"
      ],
      "execution_count": 10,
      "outputs": [
        {
          "output_type": "display_data",
          "data": {
            "image/png": "[encoded data removed]",
            "text/plain": [
              "<Figure size 432x288 with 9 Axes>"
            ]
          },
          "metadata": {
            "tags": []
          }
        }
      ]
    },
    {
      "cell_type": "code",
      "metadata": {
        "id": "OcD8KB1rGHpt",
        "colab_type": "code",
        "colab": {}
      },
      "source": [
        "\n",
        "#one hot enoded class \n",
        "train_y = to_categorical(train_y_array)\n",
        "test_y = to_categorical(test_y_array)\n",
        "\n",
        "\n",
        "train_y = np.array(train_y)\n",
        "test_y = np.array(test_y)\n",
        "\n",
        "#all train x, y and test x y are in array form now\n"
      ],
      "execution_count": 0,
      "outputs": []
    },
    {
      "cell_type": "code",
      "metadata": {
        "id": "HTyQPCKc9AuW",
        "colab_type": "code",
        "colab": {
          "base_uri": "https://localhost:8080/",
          "height": 343
        },
        "outputId": "8222c2da-e40e-41b9-d78d-e5f4d1e3e08e"
      },
      "source": [
        "#new model\n",
        "\n",
        "# Set the CNN model \n",
        "# my CNN architechture is In -> [[Conv2D->relu]*2 -> MaxPool2D -> Dropout]*2 -> Flatten -> Dense -> Dropout -> Out\n",
        "\n",
        "model = Sequential()\n",
        "\n",
        "model.add(Conv2D(filters = 32, kernel_size = (5,5),padding = 'Same', \n",
        "                 activation ='relu', input_shape = (32,32,1)))\n",
        "model.add(Conv2D(filters = 32, kernel_size = (5,5),padding = 'Same', \n",
        "                 activation ='relu'))\n",
        "model.add(MaxPool2D(pool_size=(2,2)))\n",
        "model.add(Dropout(0.25))\n",
        "\n",
        "\n",
        "model.add(Conv2D(filters = 64, kernel_size = (3,3),padding = 'Same', \n",
        "                 activation ='relu'))\n",
        "model.add(Conv2D(filters = 64, kernel_size = (3,3),padding = 'Same', \n",
        "                 activation ='relu'))\n",
        "model.add(MaxPool2D(pool_size=(2,2), strides=(2,2)))\n",
        "model.add(Dropout(0.25))\n",
        "\n",
        "\n",
        "model.add(Flatten())\n",
        "model.add(Dense(256, activation = \"relu\"))\n",
        "model.add(Dropout(0.5))\n",
        "model.add(Dense(59, activation = \"softmax\"))\n",
        "\n",
        "# Define the optimizer\n",
        "#optimizer = RMSprop(lr=0.001, rho=0.9, epsilon=1e-08, decay=0.0)\n",
        "optimizer = Adam(lr=0.0001)\n",
        "\n",
        "# Compile the model\n",
        "model.compile(optimizer = optimizer , loss = \"categorical_crossentropy\", metrics=[\"accuracy\"])\n",
        "\n",
        "#model.summary()\n",
        "\n"
      ],
      "execution_count": 12,
      "outputs": [
        {
          "output_type": "stream",
          "text": [
            "WARNING: Logging before flag parsing goes to stderr.\n",
            "W0731 19:30:05.477228 139882984032128 deprecation_wrapper.py:119] From /usr/local/lib/python3.6/dist-packages/keras/backend/tensorflow_backend.py:74: The name tf.get_default_graph is deprecated. Please use tf.compat.v1.get_default_graph instead.\n",
            "\n",
            "W0731 19:30:05.512887 139882984032128 deprecation_wrapper.py:119] From /usr/local/lib/python3.6/dist-packages/keras/backend/tensorflow_backend.py:517: The name tf.placeholder is deprecated. Please use tf.compat.v1.placeholder instead.\n",
            "\n",
            "W0731 19:30:05.521300 139882984032128 deprecation_wrapper.py:119] From /usr/local/lib/python3.6/dist-packages/keras/backend/tensorflow_backend.py:4138: The name tf.random_uniform is deprecated. Please use tf.random.uniform instead.\n",
            "\n",
            "W0731 19:30:05.557316 139882984032128 deprecation_wrapper.py:119] From /usr/local/lib/python3.6/dist-packages/keras/backend/tensorflow_backend.py:3976: The name tf.nn.max_pool is deprecated. Please use tf.nn.max_pool2d instead.\n",
            "\n",
            "W0731 19:30:05.561678 139882984032128 deprecation_wrapper.py:119] From /usr/local/lib/python3.6/dist-packages/keras/backend/tensorflow_backend.py:133: The name tf.placeholder_with_default is deprecated. Please use tf.compat.v1.placeholder_with_default instead.\n",
            "\n",
            "W0731 19:30:05.570697 139882984032128 deprecation.py:506] From /usr/local/lib/python3.6/dist-packages/keras/backend/tensorflow_backend.py:3445: calling dropout (from tensorflow.python.ops.nn_ops) with keep_prob is deprecated and will be removed in a future version.\n",
            "Instructions for updating:\n",
            "Please use `rate` instead of `keep_prob`. Rate should be set to `rate = 1 - keep_prob`.\n",
            "W0731 19:30:05.682992 139882984032128 deprecation_wrapper.py:119] From /usr/local/lib/python3.6/dist-packages/keras/optimizers.py:790: The name tf.train.Optimizer is deprecated. Please use tf.compat.v1.train.Optimizer instead.\n",
            "\n",
            "W0731 19:30:05.692501 139882984032128 deprecation_wrapper.py:119] From /usr/local/lib/python3.6/dist-packages/keras/backend/tensorflow_backend.py:3295: The name tf.log is deprecated. Please use tf.math.log instead.\n",
            "\n"
          ],
          "name": "stderr"
        }
      ]
    },
    {
      "cell_type": "code",
      "metadata": {
        "id": "ReKcDMub5t6r",
        "colab_type": "code",
        "outputId": "7fe5e6e5-7533-4608-de4a-fd078e90d327",
        "colab": {
          "base_uri": "https://localhost:8080/",
          "height": 1000
        }
      },
      "source": [
        "history = model.fit(x=train_image_array,y=train_y,epochs=200,batch_size=100, validation_split=0.3)"
      ],
      "execution_count": 13,
      "outputs": [
        {
          "output_type": "stream",
          "text": [
            "W0731 19:30:05.813490 139882984032128 deprecation.py:323] From /usr/local/lib/python3.6/dist-packages/tensorflow/python/ops/math_grad.py:1250: add_dispatch_support.<locals>.wrapper (from tensorflow.python.ops.array_ops) is deprecated and will be removed in a future version.\n",
            "Instructions for updating:\n",
            "Use tf.where in 2.0, which has the same broadcast rule as np.where\n"
          ],
          "name": "stderr"
        },
        {
          "output_type": "stream",
          "text": [
            "Train on 5723 samples, validate on 2453 samples\n",
            "Epoch 1/200\n",
            "5723/5723 [==============================] - 7s 1ms/step - loss: 15.3428 - acc: 0.0180 - val_loss: 8.0036 - val_acc: 0.0457\n",
            "Epoch 2/200\n",
            "5723/5723 [==============================] - 1s 150us/step - loss: 5.8465 - acc: 0.0211 - val_loss: 4.0608 - val_acc: 0.0245\n",
            "Epoch 3/200\n",
            "5723/5723 [==============================] - 1s 150us/step - loss: 4.0579 - acc: 0.0257 - val_loss: 4.0259 - val_acc: 0.0428\n",
            "Epoch 4/200\n",
            "5723/5723 [==============================] - 1s 149us/step - loss: 4.0168 - acc: 0.0346 - val_loss: 3.9209 - val_acc: 0.0901\n",
            "Epoch 5/200\n",
            "5723/5723 [==============================] - 1s 151us/step - loss: 3.9233 - acc: 0.0453 - val_loss: 3.7137 - val_acc: 0.1822\n",
            "Epoch 6/200\n",
            "5723/5723 [==============================] - 1s 151us/step - loss: 3.7220 - acc: 0.0877 - val_loss: 3.2896 - val_acc: 0.3278\n",
            "Epoch 7/200\n",
            "5723/5723 [==============================] - 1s 151us/step - loss: 3.3832 - acc: 0.1496 - val_loss: 2.6990 - val_acc: 0.4647\n",
            "Epoch 8/200\n",
            "5723/5723 [==============================] - 1s 150us/step - loss: 2.9206 - acc: 0.2450 - val_loss: 2.1307 - val_acc: 0.5846\n",
            "Epoch 9/200\n",
            "5723/5723 [==============================] - 1s 154us/step - loss: 2.5272 - acc: 0.3269 - val_loss: 1.6806 - val_acc: 0.6820\n",
            "Epoch 10/200\n",
            "5723/5723 [==============================] - 1s 150us/step - loss: 2.2079 - acc: 0.3993 - val_loss: 1.2280 - val_acc: 0.7428\n",
            "Epoch 11/200\n",
            "5723/5723 [==============================] - 1s 150us/step - loss: 1.8346 - acc: 0.4898 - val_loss: 0.8695 - val_acc: 0.7970\n",
            "Epoch 12/200\n",
            "5723/5723 [==============================] - 1s 150us/step - loss: 1.5877 - acc: 0.5415 - val_loss: 0.7190 - val_acc: 0.8512\n",
            "Epoch 13/200\n",
            "5723/5723 [==============================] - 1s 151us/step - loss: 1.3951 - acc: 0.5950 - val_loss: 0.5513 - val_acc: 0.8806\n",
            "Epoch 14/200\n",
            "5723/5723 [==============================] - 1s 152us/step - loss: 1.2495 - acc: 0.6318 - val_loss: 0.4675 - val_acc: 0.8956\n",
            "Epoch 15/200\n",
            "5723/5723 [==============================] - 1s 151us/step - loss: 1.0990 - acc: 0.6745 - val_loss: 0.3692 - val_acc: 0.9099\n",
            "Epoch 16/200\n",
            "5723/5723 [==============================] - 1s 151us/step - loss: 1.0014 - acc: 0.7028 - val_loss: 0.3303 - val_acc: 0.9103\n",
            "Epoch 17/200\n",
            "5723/5723 [==============================] - 1s 152us/step - loss: 0.8994 - acc: 0.7318 - val_loss: 0.2821 - val_acc: 0.9242\n",
            "Epoch 18/200\n",
            "5723/5723 [==============================] - 1s 152us/step - loss: 0.8050 - acc: 0.7615 - val_loss: 0.2520 - val_acc: 0.9352\n",
            "Epoch 19/200\n",
            "5723/5723 [==============================] - 1s 151us/step - loss: 0.7138 - acc: 0.7830 - val_loss: 0.2168 - val_acc: 0.9368\n",
            "Epoch 20/200\n",
            "5723/5723 [==============================] - 1s 152us/step - loss: 0.6904 - acc: 0.7886 - val_loss: 0.1968 - val_acc: 0.9450\n",
            "Epoch 21/200\n",
            "5723/5723 [==============================] - 1s 154us/step - loss: 0.6190 - acc: 0.8083 - val_loss: 0.1823 - val_acc: 0.9446\n",
            "Epoch 22/200\n",
            "5723/5723 [==============================] - 1s 151us/step - loss: 0.5826 - acc: 0.8183 - val_loss: 0.1571 - val_acc: 0.9543\n",
            "Epoch 23/200\n",
            "5723/5723 [==============================] - 1s 152us/step - loss: 0.5214 - acc: 0.8387 - val_loss: 0.1498 - val_acc: 0.9543\n",
            "Epoch 24/200\n",
            "5723/5723 [==============================] - 1s 152us/step - loss: 0.4924 - acc: 0.8408 - val_loss: 0.1365 - val_acc: 0.9576\n",
            "Epoch 25/200\n",
            "5723/5723 [==============================] - 1s 152us/step - loss: 0.4869 - acc: 0.8448 - val_loss: 0.1287 - val_acc: 0.9584\n",
            "Epoch 26/200\n",
            "5723/5723 [==============================] - 1s 152us/step - loss: 0.4589 - acc: 0.8546 - val_loss: 0.1157 - val_acc: 0.9641\n",
            "Epoch 27/200\n",
            "5723/5723 [==============================] - 1s 152us/step - loss: 0.4036 - acc: 0.8784 - val_loss: 0.1165 - val_acc: 0.9609\n",
            "Epoch 28/200\n",
            "5723/5723 [==============================] - 1s 152us/step - loss: 0.3801 - acc: 0.8761 - val_loss: 0.0985 - val_acc: 0.9645\n",
            "Epoch 29/200\n",
            "5723/5723 [==============================] - 1s 153us/step - loss: 0.3356 - acc: 0.8934 - val_loss: 0.0966 - val_acc: 0.9678\n",
            "Epoch 30/200\n",
            "5723/5723 [==============================] - 1s 153us/step - loss: 0.3203 - acc: 0.8971 - val_loss: 0.0957 - val_acc: 0.9711\n",
            "Epoch 31/200\n",
            "5723/5723 [==============================] - 1s 153us/step - loss: 0.3138 - acc: 0.8960 - val_loss: 0.0943 - val_acc: 0.9653\n",
            "Epoch 32/200\n",
            "5723/5723 [==============================] - 1s 153us/step - loss: 0.3088 - acc: 0.9006 - val_loss: 0.0867 - val_acc: 0.9711\n",
            "Epoch 33/200\n",
            "5723/5723 [==============================] - 1s 154us/step - loss: 0.2755 - acc: 0.9067 - val_loss: 0.0806 - val_acc: 0.9751\n",
            "Epoch 34/200\n",
            "5723/5723 [==============================] - 1s 153us/step - loss: 0.2691 - acc: 0.9151 - val_loss: 0.0812 - val_acc: 0.9715\n",
            "Epoch 35/200\n",
            "5723/5723 [==============================] - 1s 153us/step - loss: 0.2592 - acc: 0.9160 - val_loss: 0.0759 - val_acc: 0.9719\n",
            "Epoch 36/200\n",
            "5723/5723 [==============================] - 1s 154us/step - loss: 0.2426 - acc: 0.9221 - val_loss: 0.0647 - val_acc: 0.9772\n",
            "Epoch 37/200\n",
            "5723/5723 [==============================] - 1s 154us/step - loss: 0.2468 - acc: 0.9191 - val_loss: 0.0676 - val_acc: 0.9759\n",
            "Epoch 38/200\n",
            "5723/5723 [==============================] - 1s 154us/step - loss: 0.2306 - acc: 0.9243 - val_loss: 0.0641 - val_acc: 0.9772\n",
            "Epoch 39/200\n",
            "5723/5723 [==============================] - 1s 154us/step - loss: 0.2056 - acc: 0.9322 - val_loss: 0.0626 - val_acc: 0.9755\n",
            "Epoch 40/200\n",
            "5723/5723 [==============================] - 1s 154us/step - loss: 0.1942 - acc: 0.9392 - val_loss: 0.0611 - val_acc: 0.9776\n",
            "Epoch 41/200\n",
            "5723/5723 [==============================] - 1s 154us/step - loss: 0.1809 - acc: 0.9422 - val_loss: 0.0632 - val_acc: 0.9768\n",
            "Epoch 42/200\n",
            "5723/5723 [==============================] - 1s 154us/step - loss: 0.1845 - acc: 0.9380 - val_loss: 0.0574 - val_acc: 0.9792\n",
            "Epoch 43/200\n",
            "5723/5723 [==============================] - 1s 154us/step - loss: 0.1714 - acc: 0.9439 - val_loss: 0.0526 - val_acc: 0.9817\n",
            "Epoch 44/200\n",
            "5723/5723 [==============================] - 1s 153us/step - loss: 0.1662 - acc: 0.9469 - val_loss: 0.0528 - val_acc: 0.9800\n",
            "Epoch 45/200\n",
            "5723/5723 [==============================] - 1s 155us/step - loss: 0.1605 - acc: 0.9465 - val_loss: 0.0533 - val_acc: 0.9800\n",
            "Epoch 46/200\n",
            "5723/5723 [==============================] - 1s 153us/step - loss: 0.1467 - acc: 0.9523 - val_loss: 0.0521 - val_acc: 0.9817\n",
            "Epoch 47/200\n",
            "5723/5723 [==============================] - 1s 153us/step - loss: 0.1622 - acc: 0.9471 - val_loss: 0.0510 - val_acc: 0.9800\n",
            "Epoch 48/200\n",
            "5723/5723 [==============================] - 1s 154us/step - loss: 0.1466 - acc: 0.9523 - val_loss: 0.0504 - val_acc: 0.9821\n",
            "Epoch 49/200\n",
            "5723/5723 [==============================] - 1s 155us/step - loss: 0.1395 - acc: 0.9546 - val_loss: 0.0581 - val_acc: 0.9780\n",
            "Epoch 50/200\n",
            "5723/5723 [==============================] - 1s 155us/step - loss: 0.1344 - acc: 0.9533 - val_loss: 0.0442 - val_acc: 0.9845\n",
            "Epoch 51/200\n",
            "5723/5723 [==============================] - 1s 154us/step - loss: 0.1273 - acc: 0.9588 - val_loss: 0.0431 - val_acc: 0.9853\n",
            "Epoch 52/200\n",
            "5723/5723 [==============================] - 1s 155us/step - loss: 0.1264 - acc: 0.9616 - val_loss: 0.0435 - val_acc: 0.9853\n",
            "Epoch 53/200\n",
            "5723/5723 [==============================] - 1s 154us/step - loss: 0.1172 - acc: 0.9602 - val_loss: 0.0400 - val_acc: 0.9874\n",
            "Epoch 54/200\n",
            "5723/5723 [==============================] - 1s 153us/step - loss: 0.1133 - acc: 0.9628 - val_loss: 0.0431 - val_acc: 0.9857\n",
            "Epoch 55/200\n",
            "5723/5723 [==============================] - 1s 153us/step - loss: 0.1275 - acc: 0.9591 - val_loss: 0.0433 - val_acc: 0.9865\n",
            "Epoch 56/200\n",
            "5723/5723 [==============================] - 1s 154us/step - loss: 0.1126 - acc: 0.9638 - val_loss: 0.0447 - val_acc: 0.9853\n",
            "Epoch 57/200\n",
            "5723/5723 [==============================] - 1s 154us/step - loss: 0.1162 - acc: 0.9619 - val_loss: 0.0416 - val_acc: 0.9882\n",
            "Epoch 58/200\n",
            "5723/5723 [==============================] - 1s 157us/step - loss: 0.1047 - acc: 0.9670 - val_loss: 0.0373 - val_acc: 0.9861\n",
            "Epoch 59/200\n",
            "5723/5723 [==============================] - 1s 153us/step - loss: 0.1079 - acc: 0.9645 - val_loss: 0.0377 - val_acc: 0.9865\n",
            "Epoch 60/200\n",
            "5723/5723 [==============================] - 1s 154us/step - loss: 0.1027 - acc: 0.9656 - val_loss: 0.0353 - val_acc: 0.9890\n",
            "Epoch 61/200\n",
            "5723/5723 [==============================] - 1s 153us/step - loss: 0.0983 - acc: 0.9678 - val_loss: 0.0362 - val_acc: 0.9870\n",
            "Epoch 62/200\n",
            "5723/5723 [==============================] - 1s 154us/step - loss: 0.0804 - acc: 0.9691 - val_loss: 0.0367 - val_acc: 0.9878\n",
            "Epoch 63/200\n",
            "5723/5723 [==============================] - 1s 154us/step - loss: 0.0911 - acc: 0.9698 - val_loss: 0.0348 - val_acc: 0.9865\n",
            "Epoch 64/200\n",
            "5723/5723 [==============================] - 1s 154us/step - loss: 0.0914 - acc: 0.9699 - val_loss: 0.0319 - val_acc: 0.9861\n",
            "Epoch 65/200\n",
            "5723/5723 [==============================] - 1s 154us/step - loss: 0.0894 - acc: 0.9665 - val_loss: 0.0315 - val_acc: 0.9870\n",
            "Epoch 66/200\n",
            "5723/5723 [==============================] - 1s 154us/step - loss: 0.0905 - acc: 0.9694 - val_loss: 0.0365 - val_acc: 0.9861\n",
            "Epoch 67/200\n",
            "5723/5723 [==============================] - 1s 153us/step - loss: 0.0793 - acc: 0.9731 - val_loss: 0.0266 - val_acc: 0.9886\n",
            "Epoch 68/200\n",
            "5723/5723 [==============================] - 1s 153us/step - loss: 0.0712 - acc: 0.9759 - val_loss: 0.0312 - val_acc: 0.9902\n",
            "Epoch 69/200\n",
            "5723/5723 [==============================] - 1s 154us/step - loss: 0.0783 - acc: 0.9741 - val_loss: 0.0303 - val_acc: 0.9910\n",
            "Epoch 70/200\n",
            "5723/5723 [==============================] - 1s 153us/step - loss: 0.0831 - acc: 0.9720 - val_loss: 0.0285 - val_acc: 0.9898\n",
            "Epoch 71/200\n",
            "5723/5723 [==============================] - 1s 154us/step - loss: 0.0817 - acc: 0.9733 - val_loss: 0.0287 - val_acc: 0.9902\n",
            "Epoch 72/200\n",
            "5723/5723 [==============================] - 1s 154us/step - loss: 0.0714 - acc: 0.9775 - val_loss: 0.0279 - val_acc: 0.9914\n",
            "Epoch 73/200\n",
            "5723/5723 [==============================] - 1s 152us/step - loss: 0.0632 - acc: 0.9789 - val_loss: 0.0273 - val_acc: 0.9914\n",
            "Epoch 74/200\n",
            "5723/5723 [==============================] - 1s 153us/step - loss: 0.0641 - acc: 0.9790 - val_loss: 0.0278 - val_acc: 0.9914\n",
            "Epoch 75/200\n",
            "5723/5723 [==============================] - 1s 153us/step - loss: 0.0679 - acc: 0.9789 - val_loss: 0.0289 - val_acc: 0.9902\n",
            "Epoch 76/200\n",
            "5723/5723 [==============================] - 1s 152us/step - loss: 0.0645 - acc: 0.9759 - val_loss: 0.0274 - val_acc: 0.9914\n",
            "Epoch 77/200\n",
            "5723/5723 [==============================] - 1s 153us/step - loss: 0.0650 - acc: 0.9773 - val_loss: 0.0312 - val_acc: 0.9894\n",
            "Epoch 78/200\n",
            "5723/5723 [==============================] - 1s 153us/step - loss: 0.0599 - acc: 0.9801 - val_loss: 0.0294 - val_acc: 0.9906\n",
            "Epoch 79/200\n",
            "5723/5723 [==============================] - 1s 153us/step - loss: 0.0614 - acc: 0.9790 - val_loss: 0.0302 - val_acc: 0.9886\n",
            "Epoch 80/200\n",
            "5723/5723 [==============================] - 1s 153us/step - loss: 0.0579 - acc: 0.9808 - val_loss: 0.0305 - val_acc: 0.9890\n",
            "Epoch 81/200\n",
            "5723/5723 [==============================] - 1s 153us/step - loss: 0.0457 - acc: 0.9841 - val_loss: 0.0298 - val_acc: 0.9894\n",
            "Epoch 82/200\n",
            "5723/5723 [==============================] - 1s 151us/step - loss: 0.0575 - acc: 0.9787 - val_loss: 0.0284 - val_acc: 0.9914\n",
            "Epoch 83/200\n",
            "5723/5723 [==============================] - 1s 153us/step - loss: 0.0604 - acc: 0.9796 - val_loss: 0.0286 - val_acc: 0.9902\n",
            "Epoch 84/200\n",
            "5723/5723 [==============================] - 1s 154us/step - loss: 0.0464 - acc: 0.9846 - val_loss: 0.0267 - val_acc: 0.9902\n",
            "Epoch 85/200\n",
            "5723/5723 [==============================] - 1s 153us/step - loss: 0.0591 - acc: 0.9806 - val_loss: 0.0247 - val_acc: 0.9902\n",
            "Epoch 86/200\n",
            "5723/5723 [==============================] - 1s 153us/step - loss: 0.0450 - acc: 0.9837 - val_loss: 0.0260 - val_acc: 0.9902\n",
            "Epoch 87/200\n",
            "5723/5723 [==============================] - 1s 152us/step - loss: 0.0410 - acc: 0.9855 - val_loss: 0.0251 - val_acc: 0.9910\n",
            "Epoch 88/200\n",
            "5723/5723 [==============================] - 1s 153us/step - loss: 0.0455 - acc: 0.9851 - val_loss: 0.0223 - val_acc: 0.9910\n",
            "Epoch 89/200\n",
            "5723/5723 [==============================] - 1s 151us/step - loss: 0.0441 - acc: 0.9843 - val_loss: 0.0269 - val_acc: 0.9906\n",
            "Epoch 90/200\n",
            "5723/5723 [==============================] - 1s 152us/step - loss: 0.0496 - acc: 0.9841 - val_loss: 0.0312 - val_acc: 0.9870\n",
            "Epoch 91/200\n",
            "5723/5723 [==============================] - 1s 153us/step - loss: 0.0450 - acc: 0.9843 - val_loss: 0.0287 - val_acc: 0.9910\n",
            "Epoch 92/200\n",
            "5723/5723 [==============================] - 1s 153us/step - loss: 0.0429 - acc: 0.9853 - val_loss: 0.0252 - val_acc: 0.9914\n",
            "Epoch 93/200\n",
            "5723/5723 [==============================] - 1s 151us/step - loss: 0.0433 - acc: 0.9850 - val_loss: 0.0249 - val_acc: 0.9906\n",
            "Epoch 94/200\n",
            "5723/5723 [==============================] - 1s 152us/step - loss: 0.0402 - acc: 0.9872 - val_loss: 0.0205 - val_acc: 0.9918\n",
            "Epoch 95/200\n",
            "5723/5723 [==============================] - 1s 153us/step - loss: 0.0397 - acc: 0.9864 - val_loss: 0.0215 - val_acc: 0.9923\n",
            "Epoch 96/200\n",
            "5723/5723 [==============================] - 1s 152us/step - loss: 0.0438 - acc: 0.9853 - val_loss: 0.0210 - val_acc: 0.9914\n",
            "Epoch 97/200\n",
            "5723/5723 [==============================] - 1s 152us/step - loss: 0.0519 - acc: 0.9831 - val_loss: 0.0268 - val_acc: 0.9886\n",
            "Epoch 98/200\n",
            "5723/5723 [==============================] - 1s 152us/step - loss: 0.0350 - acc: 0.9878 - val_loss: 0.0255 - val_acc: 0.9923\n",
            "Epoch 99/200\n",
            "5723/5723 [==============================] - 1s 152us/step - loss: 0.0437 - acc: 0.9844 - val_loss: 0.0269 - val_acc: 0.9906\n",
            "Epoch 100/200\n",
            "5723/5723 [==============================] - 1s 151us/step - loss: 0.0351 - acc: 0.9874 - val_loss: 0.0248 - val_acc: 0.9918\n",
            "Epoch 101/200\n",
            "5723/5723 [==============================] - 1s 152us/step - loss: 0.0351 - acc: 0.9890 - val_loss: 0.0187 - val_acc: 0.9927\n",
            "Epoch 102/200\n",
            "5723/5723 [==============================] - 1s 152us/step - loss: 0.0396 - acc: 0.9876 - val_loss: 0.0219 - val_acc: 0.9918\n",
            "Epoch 103/200\n",
            "5723/5723 [==============================] - 1s 152us/step - loss: 0.0334 - acc: 0.9902 - val_loss: 0.0208 - val_acc: 0.9939\n",
            "Epoch 104/200\n",
            "5723/5723 [==============================] - 1s 152us/step - loss: 0.0333 - acc: 0.9871 - val_loss: 0.0200 - val_acc: 0.9927\n",
            "Epoch 105/200\n",
            "5723/5723 [==============================] - 1s 152us/step - loss: 0.0339 - acc: 0.9886 - val_loss: 0.0220 - val_acc: 0.9914\n",
            "Epoch 106/200\n",
            "5723/5723 [==============================] - 1s 152us/step - loss: 0.0352 - acc: 0.9876 - val_loss: 0.0210 - val_acc: 0.9923\n",
            "Epoch 107/200\n",
            "5723/5723 [==============================] - 1s 152us/step - loss: 0.0376 - acc: 0.9865 - val_loss: 0.0254 - val_acc: 0.9923\n",
            "Epoch 108/200\n",
            "5723/5723 [==============================] - 1s 152us/step - loss: 0.0334 - acc: 0.9885 - val_loss: 0.0209 - val_acc: 0.9931\n",
            "Epoch 109/200\n",
            "5723/5723 [==============================] - 1s 152us/step - loss: 0.0328 - acc: 0.9892 - val_loss: 0.0204 - val_acc: 0.9931\n",
            "Epoch 110/200\n",
            "5723/5723 [==============================] - 1s 154us/step - loss: 0.0380 - acc: 0.9881 - val_loss: 0.0187 - val_acc: 0.9931\n",
            "Epoch 111/200\n",
            "5723/5723 [==============================] - 1s 152us/step - loss: 0.0287 - acc: 0.9913 - val_loss: 0.0229 - val_acc: 0.9910\n",
            "Epoch 112/200\n",
            "5723/5723 [==============================] - 1s 152us/step - loss: 0.0292 - acc: 0.9906 - val_loss: 0.0244 - val_acc: 0.9914\n",
            "Epoch 113/200\n",
            "5723/5723 [==============================] - 1s 153us/step - loss: 0.0337 - acc: 0.9892 - val_loss: 0.0187 - val_acc: 0.9947\n",
            "Epoch 114/200\n",
            "5723/5723 [==============================] - 1s 153us/step - loss: 0.0315 - acc: 0.9893 - val_loss: 0.0197 - val_acc: 0.9935\n",
            "Epoch 115/200\n",
            "5723/5723 [==============================] - 1s 152us/step - loss: 0.0257 - acc: 0.9913 - val_loss: 0.0230 - val_acc: 0.9931\n",
            "Epoch 116/200\n",
            "5723/5723 [==============================] - 1s 152us/step - loss: 0.0302 - acc: 0.9902 - val_loss: 0.0195 - val_acc: 0.9910\n",
            "Epoch 117/200\n",
            "5723/5723 [==============================] - 1s 153us/step - loss: 0.0231 - acc: 0.9918 - val_loss: 0.0199 - val_acc: 0.9939\n",
            "Epoch 118/200\n",
            "5723/5723 [==============================] - 1s 152us/step - loss: 0.0233 - acc: 0.9925 - val_loss: 0.0226 - val_acc: 0.9927\n",
            "Epoch 119/200\n",
            "5723/5723 [==============================] - 1s 152us/step - loss: 0.0285 - acc: 0.9895 - val_loss: 0.0200 - val_acc: 0.9935\n",
            "Epoch 120/200\n",
            "5723/5723 [==============================] - 1s 152us/step - loss: 0.0334 - acc: 0.9890 - val_loss: 0.0186 - val_acc: 0.9943\n",
            "Epoch 121/200\n",
            "5723/5723 [==============================] - 1s 153us/step - loss: 0.0222 - acc: 0.9925 - val_loss: 0.0223 - val_acc: 0.9927\n",
            "Epoch 122/200\n",
            "5723/5723 [==============================] - 1s 153us/step - loss: 0.0274 - acc: 0.9918 - val_loss: 0.0222 - val_acc: 0.9935\n",
            "Epoch 123/200\n",
            "5723/5723 [==============================] - 1s 153us/step - loss: 0.0226 - acc: 0.9918 - val_loss: 0.0201 - val_acc: 0.9931\n",
            "Epoch 124/200\n",
            "5723/5723 [==============================] - 1s 152us/step - loss: 0.0404 - acc: 0.9865 - val_loss: 0.0197 - val_acc: 0.9943\n",
            "Epoch 125/200\n",
            "5723/5723 [==============================] - 1s 152us/step - loss: 0.0243 - acc: 0.9920 - val_loss: 0.0238 - val_acc: 0.9923\n",
            "Epoch 126/200\n",
            "5723/5723 [==============================] - 1s 152us/step - loss: 0.0240 - acc: 0.9914 - val_loss: 0.0255 - val_acc: 0.9927\n",
            "Epoch 127/200\n",
            "5723/5723 [==============================] - 1s 153us/step - loss: 0.0257 - acc: 0.9909 - val_loss: 0.0233 - val_acc: 0.9939\n",
            "Epoch 128/200\n",
            "5723/5723 [==============================] - 1s 153us/step - loss: 0.0255 - acc: 0.9906 - val_loss: 0.0248 - val_acc: 0.9947\n",
            "Epoch 129/200\n",
            "5723/5723 [==============================] - 1s 153us/step - loss: 0.0226 - acc: 0.9920 - val_loss: 0.0207 - val_acc: 0.9943\n",
            "Epoch 130/200\n",
            "5723/5723 [==============================] - 1s 152us/step - loss: 0.0280 - acc: 0.9897 - val_loss: 0.0223 - val_acc: 0.9931\n",
            "Epoch 131/200\n",
            "5723/5723 [==============================] - 1s 152us/step - loss: 0.0300 - acc: 0.9895 - val_loss: 0.0242 - val_acc: 0.9914\n",
            "Epoch 132/200\n",
            "5723/5723 [==============================] - 1s 152us/step - loss: 0.0311 - acc: 0.9907 - val_loss: 0.0226 - val_acc: 0.9910\n",
            "Epoch 133/200\n",
            "5723/5723 [==============================] - 1s 153us/step - loss: 0.0275 - acc: 0.9921 - val_loss: 0.0214 - val_acc: 0.9927\n",
            "Epoch 134/200\n",
            "5723/5723 [==============================] - 1s 152us/step - loss: 0.0194 - acc: 0.9935 - val_loss: 0.0226 - val_acc: 0.9927\n",
            "Epoch 135/200\n",
            "5723/5723 [==============================] - 1s 152us/step - loss: 0.0232 - acc: 0.9914 - val_loss: 0.0187 - val_acc: 0.9939\n",
            "Epoch 136/200\n",
            "5723/5723 [==============================] - 1s 154us/step - loss: 0.0237 - acc: 0.9923 - val_loss: 0.0215 - val_acc: 0.9927\n",
            "Epoch 137/200\n",
            "5723/5723 [==============================] - 1s 151us/step - loss: 0.0256 - acc: 0.9909 - val_loss: 0.0224 - val_acc: 0.9927\n",
            "Epoch 138/200\n",
            "5723/5723 [==============================] - 1s 152us/step - loss: 0.0248 - acc: 0.9914 - val_loss: 0.0280 - val_acc: 0.9910\n",
            "Epoch 139/200\n",
            "5723/5723 [==============================] - 1s 152us/step - loss: 0.0198 - acc: 0.9932 - val_loss: 0.0160 - val_acc: 0.9951\n",
            "Epoch 140/200\n",
            "5723/5723 [==============================] - 1s 152us/step - loss: 0.0366 - acc: 0.9878 - val_loss: 0.0174 - val_acc: 0.9943\n",
            "Epoch 141/200\n",
            "5723/5723 [==============================] - 1s 152us/step - loss: 0.0278 - acc: 0.9921 - val_loss: 0.0188 - val_acc: 0.9947\n",
            "Epoch 142/200\n",
            "5723/5723 [==============================] - 1s 152us/step - loss: 0.0185 - acc: 0.9941 - val_loss: 0.0161 - val_acc: 0.9955\n",
            "Epoch 143/200\n",
            "5723/5723 [==============================] - 1s 153us/step - loss: 0.0208 - acc: 0.9934 - val_loss: 0.0165 - val_acc: 0.9955\n",
            "Epoch 144/200\n",
            "5723/5723 [==============================] - 1s 152us/step - loss: 0.0185 - acc: 0.9934 - val_loss: 0.0174 - val_acc: 0.9951\n",
            "Epoch 145/200\n",
            "5723/5723 [==============================] - 1s 152us/step - loss: 0.0231 - acc: 0.9925 - val_loss: 0.0184 - val_acc: 0.9939\n",
            "Epoch 146/200\n",
            "5723/5723 [==============================] - 1s 152us/step - loss: 0.0188 - acc: 0.9942 - val_loss: 0.0176 - val_acc: 0.9951\n",
            "Epoch 147/200\n",
            "5723/5723 [==============================] - 1s 152us/step - loss: 0.0180 - acc: 0.9944 - val_loss: 0.0232 - val_acc: 0.9927\n",
            "Epoch 148/200\n",
            "5723/5723 [==============================] - 1s 152us/step - loss: 0.0260 - acc: 0.9909 - val_loss: 0.0195 - val_acc: 0.9943\n",
            "Epoch 149/200\n",
            "5723/5723 [==============================] - 1s 151us/step - loss: 0.0152 - acc: 0.9951 - val_loss: 0.0179 - val_acc: 0.9951\n",
            "Epoch 150/200\n",
            "5723/5723 [==============================] - 1s 154us/step - loss: 0.0217 - acc: 0.9921 - val_loss: 0.0189 - val_acc: 0.9947\n",
            "Epoch 151/200\n",
            "5723/5723 [==============================] - 1s 152us/step - loss: 0.0180 - acc: 0.9939 - val_loss: 0.0193 - val_acc: 0.9939\n",
            "Epoch 152/200\n",
            "5723/5723 [==============================] - 1s 152us/step - loss: 0.0179 - acc: 0.9937 - val_loss: 0.0215 - val_acc: 0.9935\n",
            "Epoch 153/200\n",
            "5723/5723 [==============================] - 1s 153us/step - loss: 0.0241 - acc: 0.9914 - val_loss: 0.0197 - val_acc: 0.9955\n",
            "Epoch 154/200\n",
            "5723/5723 [==============================] - 1s 153us/step - loss: 0.0180 - acc: 0.9935 - val_loss: 0.0214 - val_acc: 0.9918\n",
            "Epoch 155/200\n",
            "5723/5723 [==============================] - 1s 152us/step - loss: 0.0164 - acc: 0.9948 - val_loss: 0.0191 - val_acc: 0.9939\n",
            "Epoch 156/200\n",
            "5723/5723 [==============================] - 1s 152us/step - loss: 0.0181 - acc: 0.9951 - val_loss: 0.0202 - val_acc: 0.9931\n",
            "Epoch 157/200\n",
            "5723/5723 [==============================] - 1s 151us/step - loss: 0.0156 - acc: 0.9949 - val_loss: 0.0216 - val_acc: 0.9931\n",
            "Epoch 158/200\n",
            "5723/5723 [==============================] - 1s 153us/step - loss: 0.0194 - acc: 0.9925 - val_loss: 0.0238 - val_acc: 0.9918\n",
            "Epoch 159/200\n",
            "5723/5723 [==============================] - 1s 152us/step - loss: 0.0167 - acc: 0.9949 - val_loss: 0.0169 - val_acc: 0.9943\n",
            "Epoch 160/200\n",
            "5723/5723 [==============================] - 1s 153us/step - loss: 0.0236 - acc: 0.9925 - val_loss: 0.0246 - val_acc: 0.9935\n",
            "Epoch 161/200\n",
            "5723/5723 [==============================] - 1s 152us/step - loss: 0.0205 - acc: 0.9914 - val_loss: 0.0199 - val_acc: 0.9935\n",
            "Epoch 162/200\n",
            "5723/5723 [==============================] - 1s 151us/step - loss: 0.0159 - acc: 0.9951 - val_loss: 0.0173 - val_acc: 0.9943\n",
            "Epoch 163/200\n",
            "5723/5723 [==============================] - 1s 152us/step - loss: 0.0153 - acc: 0.9956 - val_loss: 0.0197 - val_acc: 0.9939\n",
            "Epoch 164/200\n",
            "5723/5723 [==============================] - 1s 153us/step - loss: 0.0111 - acc: 0.9967 - val_loss: 0.0175 - val_acc: 0.9939\n",
            "Epoch 165/200\n",
            "5723/5723 [==============================] - 1s 152us/step - loss: 0.0157 - acc: 0.9946 - val_loss: 0.0162 - val_acc: 0.9939\n",
            "Epoch 166/200\n",
            "5723/5723 [==============================] - 1s 152us/step - loss: 0.0201 - acc: 0.9927 - val_loss: 0.0222 - val_acc: 0.9935\n",
            "Epoch 167/200\n",
            "5723/5723 [==============================] - 1s 152us/step - loss: 0.0216 - acc: 0.9925 - val_loss: 0.0171 - val_acc: 0.9927\n",
            "Epoch 168/200\n",
            "5723/5723 [==============================] - 1s 152us/step - loss: 0.0167 - acc: 0.9953 - val_loss: 0.0169 - val_acc: 0.9931\n",
            "Epoch 169/200\n",
            "5723/5723 [==============================] - 1s 152us/step - loss: 0.0198 - acc: 0.9934 - val_loss: 0.0236 - val_acc: 0.9927\n",
            "Epoch 170/200\n",
            "5723/5723 [==============================] - 1s 152us/step - loss: 0.0165 - acc: 0.9941 - val_loss: 0.0184 - val_acc: 0.9939\n",
            "Epoch 171/200\n",
            "5723/5723 [==============================] - 1s 152us/step - loss: 0.0151 - acc: 0.9944 - val_loss: 0.0168 - val_acc: 0.9939\n",
            "Epoch 172/200\n",
            "5723/5723 [==============================] - 1s 152us/step - loss: 0.0152 - acc: 0.9956 - val_loss: 0.0158 - val_acc: 0.9947\n",
            "Epoch 173/200\n",
            "5723/5723 [==============================] - 1s 152us/step - loss: 0.0183 - acc: 0.9942 - val_loss: 0.0135 - val_acc: 0.9963\n",
            "Epoch 174/200\n",
            "5723/5723 [==============================] - 1s 152us/step - loss: 0.0214 - acc: 0.9930 - val_loss: 0.0176 - val_acc: 0.9935\n",
            "Epoch 175/200\n",
            "5723/5723 [==============================] - 1s 151us/step - loss: 0.0177 - acc: 0.9935 - val_loss: 0.0187 - val_acc: 0.9927\n",
            "Epoch 176/200\n",
            "5723/5723 [==============================] - 1s 151us/step - loss: 0.0136 - acc: 0.9956 - val_loss: 0.0175 - val_acc: 0.9951\n",
            "Epoch 177/200\n",
            "5723/5723 [==============================] - 1s 152us/step - loss: 0.0138 - acc: 0.9960 - val_loss: 0.0252 - val_acc: 0.9927\n",
            "Epoch 178/200\n",
            "5723/5723 [==============================] - 1s 153us/step - loss: 0.0108 - acc: 0.9960 - val_loss: 0.0246 - val_acc: 0.9931\n",
            "Epoch 179/200\n",
            "5723/5723 [==============================] - 1s 163us/step - loss: 0.0166 - acc: 0.9941 - val_loss: 0.0161 - val_acc: 0.9931\n",
            "Epoch 180/200\n",
            "5723/5723 [==============================] - 1s 174us/step - loss: 0.0128 - acc: 0.9960 - val_loss: 0.0127 - val_acc: 0.9947\n",
            "Epoch 181/200\n",
            "5723/5723 [==============================] - 1s 165us/step - loss: 0.0099 - acc: 0.9965 - val_loss: 0.0166 - val_acc: 0.9947\n",
            "Epoch 182/200\n",
            "5723/5723 [==============================] - 1s 154us/step - loss: 0.0134 - acc: 0.9953 - val_loss: 0.0177 - val_acc: 0.9935\n",
            "Epoch 183/200\n",
            "5723/5723 [==============================] - 1s 154us/step - loss: 0.0125 - acc: 0.9955 - val_loss: 0.0236 - val_acc: 0.9923\n",
            "Epoch 184/200\n",
            "5723/5723 [==============================] - 1s 154us/step - loss: 0.0170 - acc: 0.9942 - val_loss: 0.0187 - val_acc: 0.9931\n",
            "Epoch 185/200\n",
            "5723/5723 [==============================] - 1s 154us/step - loss: 0.0139 - acc: 0.9955 - val_loss: 0.0167 - val_acc: 0.9931\n",
            "Epoch 186/200\n",
            "5723/5723 [==============================] - 1s 155us/step - loss: 0.0131 - acc: 0.9960 - val_loss: 0.0179 - val_acc: 0.9927\n",
            "Epoch 187/200\n",
            "5723/5723 [==============================] - 1s 153us/step - loss: 0.0123 - acc: 0.9965 - val_loss: 0.0170 - val_acc: 0.9951\n",
            "Epoch 188/200\n",
            "5723/5723 [==============================] - 1s 152us/step - loss: 0.0158 - acc: 0.9942 - val_loss: 0.0186 - val_acc: 0.9951\n",
            "Epoch 189/200\n",
            "5723/5723 [==============================] - 1s 157us/step - loss: 0.0138 - acc: 0.9948 - val_loss: 0.0184 - val_acc: 0.9939\n",
            "Epoch 190/200\n",
            "5723/5723 [==============================] - 1s 156us/step - loss: 0.0138 - acc: 0.9948 - val_loss: 0.0191 - val_acc: 0.9943\n",
            "Epoch 191/200\n",
            "5723/5723 [==============================] - 1s 151us/step - loss: 0.0146 - acc: 0.9953 - val_loss: 0.0217 - val_acc: 0.9939\n",
            "Epoch 192/200\n",
            "5723/5723 [==============================] - 1s 152us/step - loss: 0.0128 - acc: 0.9944 - val_loss: 0.0167 - val_acc: 0.9951\n",
            "Epoch 193/200\n",
            "5723/5723 [==============================] - 1s 155us/step - loss: 0.0168 - acc: 0.9948 - val_loss: 0.0164 - val_acc: 0.9939\n",
            "Epoch 194/200\n",
            "5723/5723 [==============================] - 1s 153us/step - loss: 0.0134 - acc: 0.9955 - val_loss: 0.0154 - val_acc: 0.9955\n",
            "Epoch 195/200\n",
            "5723/5723 [==============================] - 1s 152us/step - loss: 0.0100 - acc: 0.9969 - val_loss: 0.0167 - val_acc: 0.9947\n",
            "Epoch 196/200\n",
            "5723/5723 [==============================] - 1s 152us/step - loss: 0.0134 - acc: 0.9949 - val_loss: 0.0187 - val_acc: 0.9935\n",
            "Epoch 197/200\n",
            "5723/5723 [==============================] - 1s 152us/step - loss: 0.0099 - acc: 0.9967 - val_loss: 0.0175 - val_acc: 0.9951\n",
            "Epoch 198/200\n",
            "5723/5723 [==============================] - 1s 153us/step - loss: 0.0103 - acc: 0.9969 - val_loss: 0.0143 - val_acc: 0.9959\n",
            "Epoch 199/200\n",
            "5723/5723 [==============================] - 1s 152us/step - loss: 0.0092 - acc: 0.9970 - val_loss: 0.0163 - val_acc: 0.9943\n",
            "Epoch 200/200\n",
            "5723/5723 [==============================] - 1s 151us/step - loss: 0.0102 - acc: 0.9960 - val_loss: 0.0161 - val_acc: 0.9959\n"
          ],
          "name": "stdout"
        }
      ]
    },
    {
      "cell_type": "code",
      "metadata": {
        "id": "7X2QnE15CTcr",
        "colab_type": "code",
        "outputId": "82824abb-a823-437d-deee-153eb680b2e8",
        "colab": {
          "base_uri": "https://localhost:8080/",
          "height": 573
        }
      },
      "source": [
        "# summarize history for accuracy\n",
        "plt.plot(history.history['acc'])\n",
        "plt.plot(history.history['val_acc'])\n",
        "plt.title('model accuracy')\n",
        "plt.ylabel('accuracy')\n",
        "plt.xlabel('epoch')\n",
        "plt.legend(['train', 'test'], loc='upper left')\n",
        "plt.show()\n",
        "# summarize history for loss\n",
        "plt.plot(history.history['loss'])\n",
        "plt.plot(history.history['val_loss'])\n",
        "plt.title('model loss')\n",
        "plt.ylabel('loss')\n",
        "plt.xlabel('epoch')\n",
        "plt.legend(['train', 'test'], loc='upper left')\n",
        "plt.show()"
      ],
      "execution_count": 14,
      "outputs": [
        {
          "output_type": "display_data",
          "data": {
            "image/png": "[encoded data removed]",
            "text/plain": [
              "<Figure size 432x288 with 1 Axes>"
            ]
          },
          "metadata": {
            "tags": []
          }
        },
        {
          "output_type": "display_data",
          "data": {
            "image/png": "[encoded data removed]",
            "text/plain": [
              "<Figure size 432x288 with 1 Axes>"
            ]
          },
          "metadata": {
            "tags": []
          }
        }
      ]
    },
    {
      "cell_type": "code",
      "metadata": {
        "id": "nBNlMFqHKzvT",
        "colab_type": "code",
        "colab": {}
      },
      "source": [
        "img = test_x[112].reshape(-1,32,32,1)\n",
        "belongs_to_class = test_y[112]"
      ],
      "execution_count": 0,
      "outputs": []
    },
    {
      "cell_type": "code",
      "metadata": {
        "id": "Xtl0LNcwK9Mi",
        "colab_type": "code",
        "outputId": "e7283cb6-487a-4ba2-e7ef-f8763abfbc99",
        "colab": {
          "base_uri": "https://localhost:8080/",
          "height": 34
        }
      },
      "source": [
        "print(img.shape)"
      ],
      "execution_count": 16,
      "outputs": [
        {
          "output_type": "stream",
          "text": [
            "(1, 32, 32, 1)\n"
          ],
          "name": "stdout"
        }
      ]
    },
    {
      "cell_type": "code",
      "metadata": {
        "id": "wfkrVqc61jYz",
        "colab_type": "code",
        "colab": {}
      },
      "source": [
        "x = model.predict(img)"
      ],
      "execution_count": 0,
      "outputs": []
    },
    {
      "cell_type": "code",
      "metadata": {
        "id": "nFRTZVJLSXUq",
        "colab_type": "code",
        "outputId": "6973006a-bd7e-4a2b-e81a-a90558f996c2",
        "colab": {
          "base_uri": "https://localhost:8080/",
          "height": 272
        }
      },
      "source": [
        "print(x)"
      ],
      "execution_count": 18,
      "outputs": [
        {
          "output_type": "stream",
          "text": [
            "[[9.78852036e-18 3.26305873e-26 1.88413746e-27 4.89387888e-24\n",
            "  1.39336361e-18 2.17363693e-22 2.36113942e-26 3.74619906e-26\n",
            "  6.05822249e-26 1.10558523e-25 4.22852031e-12 1.00000000e+00\n",
            "  2.45853252e-19 2.62907480e-13 7.12714412e-27 1.12461473e-20\n",
            "  2.92233542e-24 3.75871585e-23 2.13666294e-18 4.79788894e-23\n",
            "  4.91687883e-23 4.43942140e-23 2.10874605e-23 4.53694025e-30\n",
            "  1.37230164e-24 2.75486853e-24 2.41681328e-23 8.21185711e-23\n",
            "  1.42677347e-22 1.67464050e-22 5.52795512e-26 2.08537383e-28\n",
            "  1.27205689e-22 1.60280502e-24 2.04123898e-25 6.70225450e-28\n",
            "  1.82478104e-14 4.59628623e-24 4.08327026e-23 1.72978343e-23\n",
            "  1.92738330e-28 1.26115686e-29 4.87984402e-23 6.86400387e-18\n",
            "  1.55535461e-23 1.89708298e-27 8.55707401e-24 5.13178334e-28\n",
            "  1.06262025e-22 7.38020102e-25 4.79860762e-21 4.68995691e-19\n",
            "  4.10522624e-32 3.78841267e-23 3.69237870e-22 2.13176948e-26\n",
            "  1.07044428e-29 1.21560515e-26 6.14211755e-24]]\n"
          ],
          "name": "stdout"
        }
      ]
    },
    {
      "cell_type": "code",
      "metadata": {
        "id": "nK7scl2HR_ow",
        "colab_type": "code",
        "colab": {}
      },
      "source": [
        "name = CATEGORIES[np.argmax(x)]\n",
        "bc = CATEGORIES[np.argmax(belongs_to_class)]"
      ],
      "execution_count": 0,
      "outputs": []
    },
    {
      "cell_type": "code",
      "metadata": {
        "id": "8r1OJfbnVpJt",
        "colab_type": "code",
        "outputId": "9bf7ea8e-e056-4908-be82-9ffe18c6fe07",
        "colab": {
          "base_uri": "https://localhost:8080/",
          "height": 303
        }
      },
      "source": [
        "%matplotlib inline\n",
        "imgplot = plt.imshow(test_x[112])\n",
        "acc=np.amax(history.history['acc'])\n",
        "acc= acc*100\n",
        "acc = np.trunc(acc)\n",
        "\n",
        "print(\"predicted image is of: {} with accuracy {}\".format(name,acc))\n",
        "print(\"Actual class label is: {}\".format(bc))\n",
        "\n"
      ],
      "execution_count": 20,
      "outputs": [
        {
          "output_type": "stream",
          "text": [
            "predicted image is of: character-12-tha with accuracy 99.0\n",
            "Actual class label is: character-12-tha\n"
          ],
          "name": "stdout"
        },
        {
          "output_type": "display_data",
          "data": {
            "image/png": "[encoded data removed]",
            "text/plain": [
              "<Figure size 432x288 with 1 Axes>"
            ]
          },
          "metadata": {
            "tags": []
          }
        }
      ]
    },
    {
      "cell_type": "code",
      "metadata": {
        "id": "8S6af1hIWEPL",
        "colab_type": "code",
        "colab": {}
      },
      "source": [
        "y_predict = model.predict(test_image_array)"
      ],
      "execution_count": 0,
      "outputs": []
    },
    {
      "cell_type": "code",
      "metadata": {
        "id": "6HADb0G2UkFR",
        "colab_type": "code",
        "colab": {}
      },
      "source": [
        "yPred = model.predict_classes(test_image_array)"
      ],
      "execution_count": 0,
      "outputs": []
    },
    {
      "cell_type": "code",
      "metadata": {
        "id": "651yPSxWVs33",
        "colab_type": "code",
        "colab": {
          "base_uri": "https://localhost:8080/",
          "height": 34
        },
        "outputId": "108bbb4e-f14b-44e3-cb6e-03eab68ba01b"
      },
      "source": [
        "yPred[1]"
      ],
      "execution_count": 46,
      "outputs": [
        {
          "output_type": "execute_result",
          "data": {
            "text/plain": [
              "0"
            ]
          },
          "metadata": {
            "tags": []
          },
          "execution_count": 46
        }
      ]
    },
    {
      "cell_type": "code",
      "metadata": {
        "id": "-RCnzGT4V2OC",
        "colab_type": "code",
        "colab": {
          "base_uri": "https://localhost:8080/",
          "height": 85
        },
        "outputId": "e5548514-0f50-43d7-c7aa-8f908beee992"
      },
      "source": [
        "test_y[1]"
      ],
      "execution_count": 47,
      "outputs": [
        {
          "output_type": "execute_result",
          "data": {
            "text/plain": [
              "array([1., 0., 0., 0., 0., 0., 0., 0., 0., 0., 0., 0., 0., 0., 0., 0., 0.,\n",
              "       0., 0., 0., 0., 0., 0., 0., 0., 0., 0., 0., 0., 0., 0., 0., 0., 0.,\n",
              "       0., 0., 0., 0., 0., 0., 0., 0., 0., 0., 0., 0., 0., 0., 0., 0., 0.,\n",
              "       0., 0., 0., 0., 0., 0., 0., 0.], dtype=float32)"
            ]
          },
          "metadata": {
            "tags": []
          },
          "execution_count": 47
        }
      ]
    },
    {
      "cell_type": "code",
      "metadata": {
        "id": "jgGJfEB3WB5Q",
        "colab_type": "code",
        "colab": {}
      },
      "source": [
        "newtest_y=np.argmax(test_y, axis=1)"
      ],
      "execution_count": 0,
      "outputs": []
    },
    {
      "cell_type": "code",
      "metadata": {
        "id": "b5N-CWJRUxdS",
        "colab_type": "code",
        "colab": {
          "base_uri": "https://localhost:8080/",
          "height": 170
        },
        "outputId": "b94a8083-0572-4bd4-bb45-f579ecd16fb9"
      },
      "source": [
        "print(\"Confusion matrix \\n=======================\")\n",
        "print(confusion_matrix(y_true=newtest_y, y_pred=yPred))\n"
      ],
      "execution_count": 49,
      "outputs": [
        {
          "output_type": "stream",
          "text": [
            "Confusion matrix \n",
            "=======================\n",
            "[[10  0  0 ...  0  0  0]\n",
            " [ 0 10  0 ...  0  0  0]\n",
            " [ 0  0 10 ...  0  0  0]\n",
            " ...\n",
            " [ 0  0  0 ... 10  0  0]\n",
            " [ 0  0  0 ...  0 10  0]\n",
            " [ 0  0  0 ...  0  0 10]]\n"
          ],
          "name": "stdout"
        }
      ]
    },
    {
      "cell_type": "code",
      "metadata": {
        "id": "dvMNB9Kpqeic",
        "colab_type": "code",
        "colab": {}
      },
      "source": [
        "#datagen.fit(x_train)"
      ],
      "execution_count": 0,
      "outputs": []
    },
    {
      "cell_type": "code",
      "metadata": {
        "id": "Xw1lLQ9QxMt6",
        "colab_type": "code",
        "colab": {}
      },
      "source": [
        "cm = confusion_matrix(newtest_y,yPred)"
      ],
      "execution_count": 0,
      "outputs": []
    },
    {
      "cell_type": "code",
      "metadata": {
        "id": "IBBFZwOHSfev",
        "colab_type": "code",
        "colab": {
          "base_uri": "https://localhost:8080/",
          "height": 1000
        },
        "outputId": "9b3c9318-76f2-4181-d875-0ddda2d8de62"
      },
      "source": [
        "plt.figure(figsize= (40, 20))\n",
        "\n",
        "sns.heatmap(cm, annot=True)"
      ],
      "execution_count": 54,
      "outputs": [
        {
          "output_type": "execute_result",
          "data": {
            "text/plain": [
              "<matplotlib.axes._subplots.AxesSubplot at 0x7f380716ceb8>"
            ]
          },
          "metadata": {
            "tags": []
          },
          "execution_count": 54
        },
        {
          "output_type": "display_data",
          "data": {
            "image/png": "[encoded data removed]",
            "text/plain": [
              "<Figure size 2880x1440 with 2 Axes>"
            ]
          },
          "metadata": {
            "tags": []
          }
        }
      ]
    },
    {
      "cell_type": "code",
      "metadata": {
        "id": "FCvckSGgSmsG",
        "colab_type": "code",
        "colab": {}
      },
      "source": [
        ""
      ],
      "execution_count": 0,
      "outputs": []
    }
  ]
}