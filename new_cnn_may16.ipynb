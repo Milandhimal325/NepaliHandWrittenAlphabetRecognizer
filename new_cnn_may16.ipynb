{
  "nbformat": 4,
  "nbformat_minor": 0,
  "metadata": {
    "colab": {
      "name": "new_cnn_may14.ipynb",
      "version": "0.3.2",
      "provenance": [],
      "include_colab_link": true
    },
    "kernelspec": {
      "name": "python3",
      "display_name": "Python 3"
    },
    "accelerator": "GPU"
  },
  "cells": [
    {
      "cell_type": "markdown",
      "metadata": {
        "id": "view-in-github",
        "colab_type": "text"
      },
      "source": [
        "<a href=\"https://colab.research.google.com/github/Rojan116/NepaliHandWrittenAlphabetRecognizer/blob/master/new_cnn_may16.ipynb\" target=\"_parent\"><img src=\"https://colab.research.google.com/assets/colab-badge.svg\" alt=\"Open In Colab\"/></a>"
      ]
    },
    {
      "cell_type": "code",
      "metadata": {
        "id": "6Uhar1qmMeGi",
        "colab_type": "code",
        "outputId": "fca552f5-5e7e-4b66-f886-5d041c880146",
        "colab": {
          "base_uri": "https://localhost:8080/",
          "height": 163
        }
      },
      "source": [
        "!git clone https://github.com/Rojan116/NepaliHandWrittenAlphabetRecognizer.git"
      ],
      "execution_count": 57,
      "outputs": [
        {
          "output_type": "stream",
          "text": [
            "Cloning into 'NepaliHandWrittenAlphabetRecognizer'...\n",
            "remote: Enumerating objects: 92094, done.\u001b[K\n",
            "remote: Counting objects: 100% (92094/92094), done.\u001b[K\n",
            "remote: Compressing objects: 100% (92094/92094), done.\u001b[K\n",
            "remote: Total 92094 (delta 10), reused 92073 (delta 0), pack-reused 0\n",
            "Receiving objects: 100% (92094/92094), 56.76 MiB | 3.28 MiB/s, done.\n",
            "Resolving deltas: 100% (10/10), done.\n",
            "Checking out files: 100% (92008/92008), done.\n"
          ],
          "name": "stdout"
        }
      ]
    },
    {
      "cell_type": "code",
      "metadata": {
        "id": "X8kasikyM9hh",
        "colab_type": "code",
        "outputId": "332f356b-f0a3-4752-9131-69f60b0a9613",
        "colab": {
          "base_uri": "https://localhost:8080/",
          "height": 72
        }
      },
      "source": [
        "ls"
      ],
      "execution_count": 58,
      "outputs": [
        {
          "output_type": "stream",
          "text": [
            "CNN.ipynb  \u001b[0m\u001b[01;34mNepaliHandWrittenAlphabetRecognizer\u001b[0m/  Untitled.ipynb\n",
            "dev.py     new_cnn_may14.ipynb\n",
            "\u001b[01;34mdhrcdata\u001b[0m/  new_cnn_may15.ipynb\n"
          ],
          "name": "stdout"
        }
      ]
    },
    {
      "cell_type": "code",
      "metadata": {
        "id": "NSngiJhJNIB7",
        "colab_type": "code",
        "outputId": "6f969768-a268-4dd0-8479-928e8367b782",
        "colab": {
          "base_uri": "https://localhost:8080/",
          "height": 35
        }
      },
      "source": [
        "cd NepaliHandWrittenAlphabetRecognizer"
      ],
      "execution_count": 59,
      "outputs": [
        {
          "output_type": "stream",
          "text": [
            "/content/NepaliHandWrittenAlphabetRecognizer/NepaliHandWrittenAlphabetRecognizer\n"
          ],
          "name": "stdout"
        }
      ]
    },
    {
      "cell_type": "code",
      "metadata": {
        "id": "czGK9iAONLz8",
        "colab_type": "code",
        "colab": {}
      },
      "source": [
        "import cv2\n",
        "import matplotlib.pyplot as plt\n",
        "import numpy as np\n",
        "import os\n",
        "import tensorflow as tf\n",
        "from tqdm import tqdm\n",
        "import random\n",
        "from keras.utils import to_categorical\n",
        "\n",
        "\n"
      ],
      "execution_count": 0,
      "outputs": []
    },
    {
      "cell_type": "code",
      "metadata": {
        "id": "LsmtWrIi4xLc",
        "colab_type": "code",
        "colab": {}
      },
      "source": [
        "#%matplotlib.inline \n",
        "\n",
        "PATH = os.getcwd()\n",
        "DATADIR = PATH + '/dhrcdata/Train'\t\t\n",
        "train_data_path = PATH + '/dhrcdata/Train'\n",
        "test_data_path = PATH + '/dhrcdata/Test'\n"
      ],
      "execution_count": 0,
      "outputs": []
    },
    {
      "cell_type": "code",
      "metadata": {
        "id": "X62kwyHO46b0",
        "colab_type": "code",
        "colab": {}
      },
      "source": [
        "\n",
        "\n",
        "CATEGORIES = [\n",
        "\n",
        "\"character_1_ka\",\"character_2_kha\",\"character_3_ga\",\"character_4_gha\",\"character_5_kna\",\n",
        "\"character_6_cha\",\"character_7_chha\",\"character_8_ja\",\"character_9_jha\",\"character_10_yna\",\n",
        "\"character_11_taamatar\",\"character_12_thaa\",\"character_13_daa\",\"character_14_dhaa\",\"character_15_adna\",\n",
        "\"character_16_tabala\",\"character_17_tha\",\"character_18_da\",\"character_19_dha\",\"character_20_na\",\"character_21_pa\",\n",
        "\"character_22_pha\",\"character_23_ba\",\"character_24_bha\",\"character_25_ma\",\"character_26_yaw\",\"character_27_ra\",\n",
        "\"character_28_la\",\"character_29_waw\",\"character_30_motosaw\",\"character_31_petchiryakha\",\"character_32_patalosaw\",\n",
        "\"character_33_ha\",\"character_34_chhya\",\"character_35_tra\",\"character_36_gya\",\"digit_0\",\"digit_1\",\"digit_2\",\"digit_3\",\n",
        "\"digit_4\",\"digit_5\",\"digit_6\",\"digit_7\",\"digit_8\",\"digit_9\"\n",
        "\n",
        "]\n"
      ],
      "execution_count": 0,
      "outputs": []
    },
    {
      "cell_type": "code",
      "metadata": {
        "id": "0goo09384_Ru",
        "colab_type": "code",
        "colab": {}
      },
      "source": [
        "\n",
        "IMG_SIZE = 32\n",
        "training_data = []\n",
        "testing_data = []\n",
        "\n",
        "def create_training_data():\n",
        "  for catagory in CATEGORIES:\n",
        "    path = os.path.join(train_data_path, catagory)\n",
        "    class_num = CATEGORIES.index(catagory)\n",
        "    for img in os.listdir(path):\n",
        "        try:\n",
        "          img_array = cv2.imread(os.path.join(path,img),cv2.IMREAD_GRAYSCALE)\n",
        "          new_array = cv2.resize(img_array,(IMG_SIZE,IMG_SIZE))\n",
        "          training_data.append([new_array,class_num])\n",
        "        except Exception as e:\n",
        "          pass\n",
        "\n",
        "\n",
        "\n",
        "def create_testing_data():\n",
        "  for catagory in CATEGORIES:\n",
        "    path = os.path.join(test_data_path, catagory)\n",
        "    class_num = CATEGORIES.index(catagory)\n",
        "    for img in os.listdir(path):\n",
        "        try:\n",
        "          img_array = cv2.imread(os.path.join(path,img),cv2.IMREAD_GRAYSCALE)\n",
        "          new_array = cv2.resize(img_array,(IMG_SIZE,IMG_SIZE))\n",
        "          testing_data.append([new_array,class_num])\n",
        "        except Exception as e:\n",
        "          pass\n",
        "\n",
        "\n",
        "\n",
        "create_training_data()\n",
        "create_testing_data()\n",
        "\n"
      ],
      "execution_count": 0,
      "outputs": []
    },
    {
      "cell_type": "code",
      "metadata": {
        "id": "fvixuUmT9vLQ",
        "colab_type": "code",
        "colab": {}
      },
      "source": [
        "#for histogram\n",
        "num_class = [i for i in range(47)]\n",
        "counts = []\n",
        "def count_image_in_class():\n",
        "  for catagory in CATEGORIES:\n",
        "    path = os.path.join(train_data_path, catagory)\n",
        "    class_num = CATEGORIES.index(catagory)\n",
        "    for i in range(47):\n",
        "      y = 0\n",
        "      for img in os.listdir(path):\n",
        "        y= y+1\n",
        "      counts.append(y)  \n",
        "        \n",
        "  count = np.array(counts)\n",
        "  #print(count)\n",
        "count_image_in_class()\n",
        "\n"
      ],
      "execution_count": 0,
      "outputs": []
    },
    {
      "cell_type": "code",
      "metadata": {
        "id": "mI20znH9DgF-",
        "colab_type": "code",
        "colab": {}
      },
      "source": [
        ""
      ],
      "execution_count": 0,
      "outputs": []
    },
    {
      "cell_type": "code",
      "metadata": {
        "id": "zQKTlAJuA7ZG",
        "colab_type": "code",
        "colab": {
          "base_uri": "https://localhost:8080/",
          "height": 35
        },
        "outputId": "e99f30bc-d979-4d04-8534-91e80d12fe5c"
      },
      "source": [
        "listofzeros = [0] * 5\n",
        "print(listofzeros)"
      ],
      "execution_count": 65,
      "outputs": [
        {
          "output_type": "stream",
          "text": [
            "[0, 0, 0, 0, 0]\n"
          ],
          "name": "stdout"
        }
      ]
    },
    {
      "cell_type": "code",
      "metadata": {
        "id": "o7hl-nzV5Hxe",
        "colab_type": "code",
        "colab": {}
      },
      "source": [
        "#shuffle training data for trainning diff image set in every batch\n",
        "random.shuffle(training_data)\n",
        "\n",
        "#hot encode image dataset\n",
        "\n",
        "train_x = []\n",
        "train_y = []\n",
        "test_x = []\n",
        "test_y = []\n",
        "\n",
        "\n",
        "\n",
        "#seperating features and labels from list\n",
        "for features, labels in training_data:\n",
        "\ttrain_x.append(features)\n",
        "\ttrain_y.append(labels)\n",
        "\n",
        "for features, labels in testing_data:\n",
        "\ttest_x.append(features)\n",
        "\ttest_y.append(labels)\n",
        "\n",
        "\n",
        "#converting list to array\n",
        "train_y_array = np.array(train_y)\n",
        "test_y_array = np.array(test_y)\n",
        "\n",
        "#converting image dataset to input 32*32 dataset \n",
        "\n",
        "train_image_array = np.array(train_x).reshape(-1,32,32,1)\n",
        "test_image_array = np.array(test_x).reshape(-1,32,32,1)\n",
        "\n",
        "\n",
        "#one hot enoded class \n",
        "train_y = to_categorical(train_y_array)\n",
        "test_y = to_categorical(test_y_array)\n",
        "\n",
        "\n",
        "train_y = np.array(train_y)\n",
        "test_y = np.array(test_y)\n",
        "\n",
        "#all train x, y and test x y are in array form now\n",
        "\n"
      ],
      "execution_count": 0,
      "outputs": []
    },
    {
      "cell_type": "code",
      "metadata": {
        "id": "KqO3vTVn7YhD",
        "colab_type": "code",
        "colab": {}
      },
      "source": [
        ""
      ],
      "execution_count": 0,
      "outputs": []
    },
    {
      "cell_type": "code",
      "metadata": {
        "id": "tP_UgBDT5P6T",
        "colab_type": "code",
        "colab": {
          "base_uri": "https://localhost:8080/",
          "height": 1654
        },
        "outputId": "bf990613-43dc-4526-c21e-a4fa036261b7"
      },
      "source": [
        "\n",
        "#now creating our model\n",
        "\n",
        "from keras.models import Sequential\n",
        "from keras.layers import *\n",
        "from keras.optimizers import *\n",
        "\n",
        "model = Sequential()\n",
        "\n",
        "model.add(InputLayer(input_shape=(32,32,1)))\n",
        "model.add(Conv2D(filters=64,kernel_size=3,strides=1,padding='same', activation='relu'))\n",
        "model.add(Conv2D(filters=64,kernel_size=3,strides=1,padding='same', activation='relu'))\n",
        "model.add(MaxPool2D(pool_size=5,padding='same'))\n",
        "\n",
        "model.add(Conv2D(filters=32,kernel_size=3,strides=1,padding='same', activation='relu'))\n",
        "model.add(Conv2D(filters=32,kernel_size=3,strides=1,padding='same', activation='relu'))\n",
        "model.add(MaxPool2D(pool_size=5,padding='same'))\n",
        "\n",
        "# model.add(Conv2D(filters=80,kernel_size=3,strides=1,padding='same', activation='relu'))\n",
        "# model.add(MaxPool2D(pool_size=5,padding='same'))\n",
        "\n",
        "model.add(Dropout(0.25))\n",
        "model.add(Flatten())\n",
        "model.add(Dense(512,activation='relu'))\n",
        "model.add(Dropout(0.5))\n",
        "\n",
        "\n",
        "\n",
        "\n",
        "model.add(Dense(46,activation='softmax'))\n",
        "optimizer = Adam(lr=1e-3)\n",
        "\n",
        "model.compile(optimizer=optimizer, loss='categorical_crossentropy',metrics=['accuracy'])\n",
        "model.fit(x=train_image_array,y=train_y,epochs=30,batch_size=100, validation_split=0.3)\n",
        "\n",
        "model.summary()\n",
        "\n"
      ],
      "execution_count": 67,
      "outputs": [
        {
          "output_type": "stream",
          "text": [
            "Train on 54740 samples, validate on 23460 samples\n",
            "Epoch 1/30\n",
            "54740/54740 [==============================] - 8s 145us/step - loss: 2.0323 - acc: 0.4594 - val_loss: 0.4844 - val_acc: 0.8614\n",
            "Epoch 2/30\n",
            "54740/54740 [==============================] - 7s 125us/step - loss: 0.6728 - acc: 0.7880 - val_loss: 0.2406 - val_acc: 0.9325\n",
            "Epoch 3/30\n",
            "54740/54740 [==============================] - 7s 126us/step - loss: 0.4530 - acc: 0.8566 - val_loss: 0.1915 - val_acc: 0.9427\n",
            "Epoch 4/30\n",
            "54740/54740 [==============================] - 7s 127us/step - loss: 0.3529 - acc: 0.8889 - val_loss: 0.1905 - val_acc: 0.9418\n",
            "Epoch 5/30\n",
            "54740/54740 [==============================] - 7s 127us/step - loss: 0.3026 - acc: 0.9036 - val_loss: 0.1371 - val_acc: 0.9591\n",
            "Epoch 6/30\n",
            "54740/54740 [==============================] - 7s 127us/step - loss: 0.2637 - acc: 0.9156 - val_loss: 0.1229 - val_acc: 0.9613\n",
            "Epoch 7/30\n",
            "54740/54740 [==============================] - 7s 131us/step - loss: 0.2463 - acc: 0.9231 - val_loss: 0.1236 - val_acc: 0.9625\n",
            "Epoch 8/30\n",
            "54740/54740 [==============================] - 7s 126us/step - loss: 0.2242 - acc: 0.9302 - val_loss: 0.1140 - val_acc: 0.9644\n",
            "Epoch 9/30\n",
            "54740/54740 [==============================] - 7s 125us/step - loss: 0.2138 - acc: 0.9335 - val_loss: 0.0950 - val_acc: 0.9718\n",
            "Epoch 10/30\n",
            "54740/54740 [==============================] - 7s 125us/step - loss: 0.1996 - acc: 0.9373 - val_loss: 0.0967 - val_acc: 0.9709\n",
            "Epoch 11/30\n",
            "54740/54740 [==============================] - 7s 125us/step - loss: 0.1879 - acc: 0.9412 - val_loss: 0.0895 - val_acc: 0.9716\n",
            "Epoch 12/30\n",
            "54740/54740 [==============================] - 7s 125us/step - loss: 0.1767 - acc: 0.9449 - val_loss: 0.1035 - val_acc: 0.9688\n",
            "Epoch 13/30\n",
            "54740/54740 [==============================] - 7s 125us/step - loss: 0.1696 - acc: 0.9469 - val_loss: 0.0880 - val_acc: 0.9731\n",
            "Epoch 14/30\n",
            "54740/54740 [==============================] - 7s 125us/step - loss: 0.1661 - acc: 0.9484 - val_loss: 0.0946 - val_acc: 0.9710\n",
            "Epoch 15/30\n",
            "54740/54740 [==============================] - 7s 126us/step - loss: 0.1652 - acc: 0.9493 - val_loss: 0.0823 - val_acc: 0.9759\n",
            "Epoch 16/30\n",
            "54740/54740 [==============================] - 7s 129us/step - loss: 0.1615 - acc: 0.9490 - val_loss: 0.0927 - val_acc: 0.9725\n",
            "Epoch 17/30\n",
            "54740/54740 [==============================] - 7s 132us/step - loss: 0.1489 - acc: 0.9537 - val_loss: 0.0937 - val_acc: 0.9734\n",
            "Epoch 18/30\n",
            "54740/54740 [==============================] - 7s 129us/step - loss: 0.1483 - acc: 0.9541 - val_loss: 0.0795 - val_acc: 0.9763\n",
            "Epoch 19/30\n",
            "54740/54740 [==============================] - 7s 129us/step - loss: 0.1429 - acc: 0.9548 - val_loss: 0.0782 - val_acc: 0.9773\n",
            "Epoch 20/30\n",
            "54740/54740 [==============================] - 7s 125us/step - loss: 0.1420 - acc: 0.9553 - val_loss: 0.0829 - val_acc: 0.9762\n",
            "Epoch 21/30\n",
            "54740/54740 [==============================] - 7s 125us/step - loss: 0.1371 - acc: 0.9574 - val_loss: 0.0802 - val_acc: 0.9762\n",
            "Epoch 22/30\n",
            "54740/54740 [==============================] - 7s 125us/step - loss: 0.1308 - acc: 0.9591 - val_loss: 0.0803 - val_acc: 0.9764\n",
            "Epoch 23/30\n",
            "54740/54740 [==============================] - 7s 126us/step - loss: 0.1344 - acc: 0.9583 - val_loss: 0.0731 - val_acc: 0.9786\n",
            "Epoch 24/30\n",
            "54740/54740 [==============================] - 7s 126us/step - loss: 0.1342 - acc: 0.9586 - val_loss: 0.0826 - val_acc: 0.9763\n",
            "Epoch 25/30\n",
            "54740/54740 [==============================] - 7s 125us/step - loss: 0.1324 - acc: 0.9588 - val_loss: 0.0762 - val_acc: 0.9780\n",
            "Epoch 26/30\n",
            "54740/54740 [==============================] - 7s 126us/step - loss: 0.1291 - acc: 0.9596 - val_loss: 0.0856 - val_acc: 0.9737\n",
            "Epoch 27/30\n",
            "54740/54740 [==============================] - 7s 128us/step - loss: 0.1238 - acc: 0.9611 - val_loss: 0.0786 - val_acc: 0.9768\n",
            "Epoch 28/30\n",
            "54740/54740 [==============================] - 7s 125us/step - loss: 0.1250 - acc: 0.9613 - val_loss: 0.0781 - val_acc: 0.9779\n",
            "Epoch 29/30\n",
            "54740/54740 [==============================] - 7s 125us/step - loss: 0.1162 - acc: 0.9635 - val_loss: 0.0903 - val_acc: 0.9733\n",
            "Epoch 30/30\n",
            "54740/54740 [==============================] - 7s 129us/step - loss: 0.1250 - acc: 0.9618 - val_loss: 0.0773 - val_acc: 0.9766\n",
            "_________________________________________________________________\n",
            "Layer (type)                 Output Shape              Param #   \n",
            "=================================================================\n",
            "conv2d_57 (Conv2D)           (None, 32, 32, 64)        640       \n",
            "_________________________________________________________________\n",
            "conv2d_58 (Conv2D)           (None, 32, 32, 64)        36928     \n",
            "_________________________________________________________________\n",
            "max_pooling2d_29 (MaxPooling (None, 7, 7, 64)          0         \n",
            "_________________________________________________________________\n",
            "conv2d_59 (Conv2D)           (None, 7, 7, 32)          18464     \n",
            "_________________________________________________________________\n",
            "conv2d_60 (Conv2D)           (None, 7, 7, 32)          9248      \n",
            "_________________________________________________________________\n",
            "max_pooling2d_30 (MaxPooling (None, 2, 2, 32)          0         \n",
            "_________________________________________________________________\n",
            "dropout_42 (Dropout)         (None, 2, 2, 32)          0         \n",
            "_________________________________________________________________\n",
            "flatten_15 (Flatten)         (None, 128)               0         \n",
            "_________________________________________________________________\n",
            "dense_29 (Dense)             (None, 512)               66048     \n",
            "_________________________________________________________________\n",
            "dropout_43 (Dropout)         (None, 512)               0         \n",
            "_________________________________________________________________\n",
            "dense_30 (Dense)             (None, 46)                23598     \n",
            "=================================================================\n",
            "Total params: 154,926\n",
            "Trainable params: 154,926\n",
            "Non-trainable params: 0\n",
            "_________________________________________________________________\n"
          ],
          "name": "stdout"
        }
      ]
    },
    {
      "cell_type": "code",
      "metadata": {
        "id": "y46FbTE7NPAA",
        "colab_type": "code",
        "colab": {}
      },
      "source": [
        "model.save('androidtest_model.h5')\n",
        "model.save_weights('androidtest_weights.h5')\n"
      ],
      "execution_count": 0,
      "outputs": []
    },
    {
      "cell_type": "code",
      "metadata": {
        "id": "-vNTvdFvS_XC",
        "colab_type": "code",
        "outputId": "5fabee98-3439-45e7-80b3-c58406f66814",
        "colab": {
          "base_uri": "https://localhost:8080/",
          "height": 1345
        }
      },
      "source": [
        "#new model\n",
        "\n",
        "# Set the CNN model \n",
        "# my CNN architechture is In -> [[Conv2D->relu]*2 -> MaxPool2D -> Dropout]*2 -> Flatten -> Dense -> Dropout -> Out\n",
        "\n",
        "model = Sequential()\n",
        "\n",
        "model.add(Conv2D(filters = 32, kernel_size = (5,5),padding = 'Same', \n",
        "                 activation ='relu', input_shape = (32,32,1)))\n",
        "model.add(Conv2D(filters = 32, kernel_size = (5,5),padding = 'Same', \n",
        "                 activation ='relu'))\n",
        "model.add(MaxPool2D(pool_size=(2,2)))\n",
        "model.add(Dropout(0.25))\n",
        "\n",
        "\n",
        "model.add(Conv2D(filters = 64, kernel_size = (3,3),padding = 'Same', \n",
        "                 activation ='relu'))\n",
        "model.add(Conv2D(filters = 64, kernel_size = (3,3),padding = 'Same', \n",
        "                 activation ='relu'))\n",
        "model.add(MaxPool2D(pool_size=(2,2), strides=(2,2)))\n",
        "model.add(Dropout(0.25))\n",
        "\n",
        "\n",
        "model.add(Flatten())\n",
        "model.add(Dense(256, activation = \"relu\"))\n",
        "model.add(Dropout(0.5))\n",
        "model.add(Dense(46, activation = \"softmax\"))\n",
        "\n",
        "# Define the optimizer\n",
        "#optimizer = RMSprop(lr=0.001, rho=0.9, epsilon=1e-08, decay=0.0)\n",
        "optimizer = Adam(lr=0.0001)\n",
        "\n",
        "# Compile the model\n",
        "model.compile(optimizer = optimizer , loss = \"categorical_crossentropy\", metrics=[\"accuracy\"])\n",
        "\n",
        "model.summary()\n",
        "\n",
        "model.fit(x=train_image_array,y=train_y,epochs=20,batch_size=100, validation_split=0.3)"
      ],
      "execution_count": 69,
      "outputs": [
        {
          "output_type": "stream",
          "text": [
            "_________________________________________________________________\n",
            "Layer (type)                 Output Shape              Param #   \n",
            "=================================================================\n",
            "conv2d_61 (Conv2D)           (None, 32, 32, 32)        832       \n",
            "_________________________________________________________________\n",
            "conv2d_62 (Conv2D)           (None, 32, 32, 32)        25632     \n",
            "_________________________________________________________________\n",
            "max_pooling2d_31 (MaxPooling (None, 16, 16, 32)        0         \n",
            "_________________________________________________________________\n",
            "dropout_44 (Dropout)         (None, 16, 16, 32)        0         \n",
            "_________________________________________________________________\n",
            "conv2d_63 (Conv2D)           (None, 16, 16, 64)        18496     \n",
            "_________________________________________________________________\n",
            "conv2d_64 (Conv2D)           (None, 16, 16, 64)        36928     \n",
            "_________________________________________________________________\n",
            "max_pooling2d_32 (MaxPooling (None, 8, 8, 64)          0         \n",
            "_________________________________________________________________\n",
            "dropout_45 (Dropout)         (None, 8, 8, 64)          0         \n",
            "_________________________________________________________________\n",
            "flatten_16 (Flatten)         (None, 4096)              0         \n",
            "_________________________________________________________________\n",
            "dense_31 (Dense)             (None, 256)               1048832   \n",
            "_________________________________________________________________\n",
            "dropout_46 (Dropout)         (None, 256)               0         \n",
            "_________________________________________________________________\n",
            "dense_32 (Dense)             (None, 46)                11822     \n",
            "=================================================================\n",
            "Total params: 1,142,542\n",
            "Trainable params: 1,142,542\n",
            "Non-trainable params: 0\n",
            "_________________________________________________________________\n",
            "Train on 54740 samples, validate on 23460 samples\n",
            "Epoch 1/20\n",
            "54740/54740 [==============================] - 10s 185us/step - loss: 4.5458 - acc: 0.0882 - val_loss: 2.3891 - val_acc: 0.4670\n",
            "Epoch 2/20\n",
            "54740/54740 [==============================] - 9s 161us/step - loss: 2.0101 - acc: 0.4443 - val_loss: 0.7337 - val_acc: 0.8177\n",
            "Epoch 3/20\n",
            "54740/54740 [==============================] - 9s 161us/step - loss: 1.1086 - acc: 0.6749 - val_loss: 0.4129 - val_acc: 0.8893\n",
            "Epoch 4/20\n",
            "54740/54740 [==============================] - 9s 162us/step - loss: 0.7651 - acc: 0.7740 - val_loss: 0.2671 - val_acc: 0.9251\n",
            "Epoch 5/20\n",
            "54740/54740 [==============================] - 9s 161us/step - loss: 0.5749 - acc: 0.8254 - val_loss: 0.2007 - val_acc: 0.9425\n",
            "Epoch 6/20\n",
            "54740/54740 [==============================] - 9s 161us/step - loss: 0.4626 - acc: 0.8601 - val_loss: 0.1548 - val_acc: 0.9554\n",
            "Epoch 7/20\n",
            "54740/54740 [==============================] - 9s 162us/step - loss: 0.3773 - acc: 0.8845 - val_loss: 0.1302 - val_acc: 0.9619\n",
            "Epoch 8/20\n",
            "54740/54740 [==============================] - 9s 162us/step - loss: 0.3174 - acc: 0.9023 - val_loss: 0.1067 - val_acc: 0.9686\n",
            "Epoch 9/20\n",
            "54740/54740 [==============================] - 9s 166us/step - loss: 0.2737 - acc: 0.9155 - val_loss: 0.1015 - val_acc: 0.9704\n",
            "Epoch 10/20\n",
            "54740/54740 [==============================] - 9s 161us/step - loss: 0.2328 - acc: 0.9277 - val_loss: 0.0855 - val_acc: 0.9757\n",
            "Epoch 11/20\n",
            "54740/54740 [==============================] - 9s 161us/step - loss: 0.2144 - acc: 0.9325 - val_loss: 0.0759 - val_acc: 0.9769\n",
            "Epoch 12/20\n",
            "54740/54740 [==============================] - 9s 161us/step - loss: 0.1874 - acc: 0.9413 - val_loss: 0.0694 - val_acc: 0.9802\n",
            "Epoch 13/20\n",
            "54740/54740 [==============================] - 9s 161us/step - loss: 0.1676 - acc: 0.9479 - val_loss: 0.0650 - val_acc: 0.9809\n",
            "Epoch 14/20\n",
            "54740/54740 [==============================] - 9s 161us/step - loss: 0.1516 - acc: 0.9529 - val_loss: 0.0637 - val_acc: 0.9810\n",
            "Epoch 15/20\n",
            "54740/54740 [==============================] - 9s 161us/step - loss: 0.1411 - acc: 0.9554 - val_loss: 0.0593 - val_acc: 0.9828\n",
            "Epoch 16/20\n",
            "54740/54740 [==============================] - 9s 161us/step - loss: 0.1256 - acc: 0.9607 - val_loss: 0.0560 - val_acc: 0.9841\n",
            "Epoch 17/20\n",
            "54740/54740 [==============================] - 9s 161us/step - loss: 0.1182 - acc: 0.9634 - val_loss: 0.0523 - val_acc: 0.9842\n",
            "Epoch 18/20\n",
            "54740/54740 [==============================] - 9s 166us/step - loss: 0.1062 - acc: 0.9656 - val_loss: 0.0544 - val_acc: 0.9840\n",
            "Epoch 19/20\n",
            "54740/54740 [==============================] - 9s 162us/step - loss: 0.0981 - acc: 0.9687 - val_loss: 0.0528 - val_acc: 0.9846\n",
            "Epoch 20/20\n",
            "54740/54740 [==============================] - 9s 161us/step - loss: 0.0888 - acc: 0.9708 - val_loss: 0.0496 - val_acc: 0.9858\n"
          ],
          "name": "stdout"
        },
        {
          "output_type": "execute_result",
          "data": {
            "text/plain": [
              "<keras.callbacks.History at 0x7ff0cdcf6438>"
            ]
          },
          "metadata": {
            "tags": []
          },
          "execution_count": 69
        }
      ]
    },
    {
      "cell_type": "code",
      "metadata": {
        "id": "2Czx3XYLRpfF",
        "colab_type": "code",
        "colab": {}
      },
      "source": [
        ""
      ],
      "execution_count": 0,
      "outputs": []
    }
  ]
}