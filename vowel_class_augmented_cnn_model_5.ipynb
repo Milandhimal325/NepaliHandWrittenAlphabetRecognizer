{
  "nbformat": 4,
  "nbformat_minor": 0,
  "metadata": {
    "colab": {
      "name": "vowel class augmented_cnn model 5.ipynb",
      "version": "0.3.2",
      "provenance": [],
      "collapsed_sections": [],
      "include_colab_link": true
    },
    "kernelspec": {
      "name": "python3",
      "display_name": "Python 3"
    },
    "accelerator": "GPU"
  },
  "cells": [
    {
      "cell_type": "markdown",
      "metadata": {
        "id": "view-in-github",
        "colab_type": "text"
      },
      "source": [
        "<a href=\"https://colab.research.google.com/github/Rojan116/NepaliHandWrittenAlphabetRecognizer/blob/master/vowel_class_augmented_cnn_model_5.ipynb\" target=\"_parent\"><img src=\"https://colab.research.google.com/assets/colab-badge.svg\" alt=\"Open In Colab\"/></a>"
      ]
    },
    {
      "cell_type": "code",
      "metadata": {
        "id": "Fa0w7bIx81Sq",
        "colab_type": "code",
        "outputId": "5928980d-71f2-411c-a931-48f3ee325075",
        "colab": {
          "base_uri": "https://localhost:8080/",
          "height": 34
        }
      },
      "source": [
        "!git clone https://github.com/Rojan116/NepaliHandWrittenAlphabetRecognizer.git"
      ],
      "execution_count": 1,
      "outputs": [
        {
          "output_type": "stream",
          "text": [
            "fatal: destination path 'NepaliHandWrittenAlphabetRecognizer' already exists and is not an empty directory.\n"
          ],
          "name": "stdout"
        }
      ]
    },
    {
      "cell_type": "code",
      "metadata": {
        "id": "jHtN-fzK9KOB",
        "colab_type": "code",
        "outputId": "f8de161e-a4c3-41f7-ac63-b8253b26b1a1",
        "colab": {
          "base_uri": "https://localhost:8080/",
          "height": 34
        }
      },
      "source": [
        "ls"
      ],
      "execution_count": 2,
      "outputs": [
        {
          "output_type": "stream",
          "text": [
            "\u001b[0m\u001b[01;34mNepaliHandWrittenAlphabetRecognizer\u001b[0m/  \u001b[01;34msample_data\u001b[0m/\n"
          ],
          "name": "stdout"
        }
      ]
    },
    {
      "cell_type": "code",
      "metadata": {
        "id": "6-Y4SAWO9Q1G",
        "colab_type": "code",
        "outputId": "0b759b7a-a28a-4f27-bb1c-91f48232ce7f",
        "colab": {
          "base_uri": "https://localhost:8080/",
          "height": 34
        }
      },
      "source": [
        "cd NepaliHandWrittenAlphabetRecognizer"
      ],
      "execution_count": 3,
      "outputs": [
        {
          "output_type": "stream",
          "text": [
            "/content/NepaliHandWrittenAlphabetRecognizer\n"
          ],
          "name": "stdout"
        }
      ]
    },
    {
      "cell_type": "code",
      "metadata": {
        "id": "AK0RS0g19VaY",
        "colab_type": "code",
        "outputId": "4dbec1da-7a8c-41c7-d26d-21bf7bbce7cb",
        "colab": {
          "base_uri": "https://localhost:8080/",
          "height": 34
        }
      },
      "source": [
        "import cv2\n",
        "import matplotlib.pyplot as plt\n",
        "import numpy as np\n",
        "import os\n",
        "import tensorflow as tf\n",
        "from tqdm import tqdm\n",
        "import random\n",
        "from keras.utils import to_categorical\n",
        "from keras.preprocessing.image import ImageDataGenerator\n",
        "from keras.callbacks import ReduceLROnPlateau\n",
        "\n",
        "from keras.models import Sequential\n",
        "from keras.layers import *\n",
        "from keras.optimizers import *\n",
        "import seaborn as sns\n",
        "from sklearn.metrics import classification_report, confusion_matrix"
      ],
      "execution_count": 4,
      "outputs": [
        {
          "output_type": "stream",
          "text": [
            "Using TensorFlow backend.\n"
          ],
          "name": "stderr"
        }
      ]
    },
    {
      "cell_type": "code",
      "metadata": {
        "id": "XUB5C0nB9YOg",
        "colab_type": "code",
        "colab": {}
      },
      "source": [
        "PATH = os.getcwd()\n",
        "DATADIR = PATH + '/nepalibarnasnew/Train'   \n",
        "train_data_path = PATH + '/nepalibarnasnew/Train'\n",
        "test_data_path = PATH + '/nepalibarnasnew/Test'\n"
      ],
      "execution_count": 0,
      "outputs": []
    },
    {
      "cell_type": "code",
      "metadata": {
        "id": "MOK18pvNNPTZ",
        "colab_type": "code",
        "outputId": "0f1ebbe8-a1fc-4906-c397-7bf0d5e961d6",
        "colab": {
          "base_uri": "https://localhost:8080/",
          "height": 71
        }
      },
      "source": [
        "#counting categories\n",
        "new_cat = []\n",
        "for x in os.listdir(train_data_path):\n",
        "  new_cat.append(x)\n",
        "\n",
        "print(new_cat)  \n",
        "classes = np.unique(new_cat)\n",
        "print(len(classes))\n"
      ],
      "execution_count": 6,
      "outputs": [
        {
          "output_type": "stream",
          "text": [
            "['character-34-chyan', 'digits_4', 'character-12-tha', 'digits_9', 'character-32-sa', 'digits_6', 'vowel_7_e', 'character-05-n..a', 'vowel_0_a', 'character-22-pha', 'character-28-la', 'character-20-na', 'digits_7', 'character-03-ga', 'vowel_11_am', 'character-24-bha', 'character-29-wa', 'vowel_4_u', 'vowel_2_i', 'character-15-na', 'digits_8', 'character-08-ja', 'character-09-jha', 'character-30-sa', 'character-35-tra', 'character-17-tha', 'digits_5', 'character-10-yaa', 'character-26-ya', 'character-13-da', 'character-01-ka', 'vowel_5_uu', 'vowel_12_ah', 'character-16-ta', 'character-31-sa', 'character-11-ta', 'character-19-dha', 'character-36-gyan', 'character-04-gha', 'digits_1', 'vowel_10_au', 'character-02-kha', 'character-25-ma', 'character-06-cha', 'character-21-pa', 'character-33-ha', 'character-27-ra', 'vowel_8_ei', 'digits_0', 'digits_2', 'character-14-dha', 'vowel_6_re', 'character-18-da', 'vowel_9_o', 'character-07-chha', 'vowel_1_aa', 'vowel_3_ii', 'digits_3', 'character-23-ba']\n",
            "59\n"
          ],
          "name": "stdout"
        }
      ]
    },
    {
      "cell_type": "code",
      "metadata": {
        "id": "kTFBK9wD9aqu",
        "colab_type": "code",
        "colab": {}
      },
      "source": [
        "CATEGORIES =[\n",
        "\"vowel_0_a\",\"vowel_1_aa\",\"vowel_2_i\",\"vowel_3_ii\",\"vowel_4_u\",\n",
        "\"vowel_5_uu\",\"vowel_6_re\",\"vowel_7_e\",\"vowel_8_ei\",\"vowel_9_o\",\"vowel_10_au\",\"vowel_11_am\",\"vowel_12_ah\"\n",
        "]"
      ],
      "execution_count": 0,
      "outputs": []
    },
    {
      "cell_type": "code",
      "metadata": {
        "id": "as1xbqAW9d5P",
        "colab_type": "code",
        "colab": {}
      },
      "source": [
        "IMG_SIZE = 32\n",
        "training_data = []\n",
        "testing_data = []\n",
        "\n",
        "def create_training_data():\n",
        "  for catagory in CATEGORIES:\n",
        "    path = os.path.join(train_data_path, catagory)\n",
        "    class_num = CATEGORIES.index(catagory)\n",
        "    for img in os.listdir(path):\n",
        "        try:\n",
        "          img_array = cv2.imread(os.path.join(path,img),cv2.IMREAD_GRAYSCALE)\n",
        "          new_array = cv2.resize(img_array,(IMG_SIZE,IMG_SIZE))\n",
        "          training_data.append([new_array,class_num])\n",
        "        except Exception as e:\n",
        "          pass\n",
        "\n",
        "\n",
        "\n",
        "def create_testing_data():\n",
        "  for catagory in CATEGORIES:\n",
        "    path = os.path.join(test_data_path, catagory)\n",
        "    class_num = CATEGORIES.index(catagory)\n",
        "    for img in os.listdir(path):\n",
        "        try:\n",
        "          img_array = cv2.imread(os.path.join(path,img),cv2.IMREAD_GRAYSCALE)\n",
        "          new_array = cv2.resize(img_array,(IMG_SIZE,IMG_SIZE))\n",
        "          testing_data.append([new_array,class_num])\n",
        "        except Exception as e:\n",
        "          pass\n",
        "\n",
        "\n",
        "\n",
        "create_training_data()\n",
        "create_testing_data()\n"
      ],
      "execution_count": 0,
      "outputs": []
    },
    {
      "cell_type": "code",
      "metadata": {
        "id": "_7a9Hftp9kSg",
        "colab_type": "code",
        "outputId": "706dea7f-ccbf-42f2-d746-064ec616530b",
        "colab": {
          "base_uri": "https://localhost:8080/",
          "height": 51
        }
      },
      "source": [
        "#shuffle training data for trainning diff image set in every batch\n",
        "random.shuffle(training_data)\n",
        "\n",
        "#hot encode image dataset\n",
        "\n",
        "train_x = []\n",
        "train_y = []\n",
        "test_x = []\n",
        "test_y = []\n",
        "\n",
        "\n",
        "\n",
        "#seperating features and labels from list\n",
        "for features, labels in training_data:\n",
        "\ttrain_x.append(features)\n",
        "\ttrain_y.append(labels)\n",
        "\n",
        "for features, labels in testing_data:\n",
        "\ttest_x.append(features)\n",
        "\ttest_y.append(labels)\n",
        "\n",
        "\n",
        "#converting list to array\n",
        "train_y_array = np.array(train_y)\n",
        "test_y_array = np.array(test_y)\n",
        "\n",
        "#converting image dataset to input 32*32 dataset \n",
        "\n",
        "train_image_array = np.array(train_x).reshape(-1,32,32,1)\n",
        "test_image_array = np.array(test_x).reshape(-1,32,32,1)\n",
        "\n",
        "#counting total number of class in dataset\n",
        "classes = np.unique(test_y_array)\n",
        "print(classes)\n",
        "print(\"total number of class={} \".format(len(classes)))\n",
        "\n"
      ],
      "execution_count": 97,
      "outputs": [
        {
          "output_type": "stream",
          "text": [
            "[ 0  1  2  3  4  5  6  7  8  9 10 11 12]\n",
            "total number of class=13 \n"
          ],
          "name": "stdout"
        }
      ]
    },
    {
      "cell_type": "code",
      "metadata": {
        "id": "DJyBFLIrFs_G",
        "colab_type": "code",
        "outputId": "a2e6791b-e13e-442b-d1a6-7a3a85f46b64",
        "colab": {
          "base_uri": "https://localhost:8080/",
          "height": 269
        }
      },
      "source": [
        "# convert from int to float\n",
        "x_train = train_image_array.astype('float32')\n",
        "x_test = test_image_array.astype('float32')\n",
        "# define data preparation\n",
        "datagen = ImageDataGenerator(featurewise_center=True,\n",
        "                             featurewise_std_normalization=True,\n",
        "                             rotation_range=15,\n",
        "                             width_shift_range=0.1,\n",
        "                             height_shift_range=0.1,\n",
        "                              zoom_range=0.2\n",
        "                            )\n",
        "# fit parameters from data\n",
        "datagen.fit(x_train)\n",
        "# configure batch size and retrieve one batch of images\n",
        "for X_batch, y_batch in datagen.flow(x_train, train_y, batch_size=9):\n",
        "\t# create a grid of 3x3 images\n",
        "\tfor i in range(0, 9):\n",
        "\t\tplt.subplot(330 + 1 + i)\n",
        "\t\tplt.imshow(X_batch[i].reshape(32, 32), cmap=plt.get_cmap('gray'))\n",
        "\t# show the plot\n",
        "\tplt.show()\n",
        "\tbreak"
      ],
      "execution_count": 98,
      "outputs": [
        {
          "output_type": "display_data",
          "data": {
            "image/png": "[encoded data removed]",
            "text/plain": [
              "<Figure size 432x288 with 9 Axes>"
            ]
          },
          "metadata": {
            "tags": []
          }
        }
      ]
    },
    {
      "cell_type": "code",
      "metadata": {
        "id": "OcD8KB1rGHpt",
        "colab_type": "code",
        "colab": {}
      },
      "source": [
        "\n",
        "#one hot enoded class \n",
        "train_y = to_categorical(train_y_array)\n",
        "test_y = to_categorical(test_y_array)\n",
        "\n",
        "\n",
        "train_y = np.array(train_y)\n",
        "test_y = np.array(test_y)\n",
        "\n",
        "#all train x, y and test x y are in array form now\n"
      ],
      "execution_count": 0,
      "outputs": []
    },
    {
      "cell_type": "code",
      "metadata": {
        "id": "HTyQPCKc9AuW",
        "colab_type": "code",
        "colab": {}
      },
      "source": [
        "#new model\n",
        "\n",
        "# Set the CNN model \n",
        "# my CNN architechture is In -> [[Conv2D->relu]*2 -> MaxPool2D -> Dropout]*2 -> Flatten -> Dense -> Dropout -> Out\n",
        "\n",
        "model = Sequential()\n",
        "\n",
        "model.add(Conv2D(filters = 32, kernel_size = (5,5),padding = 'Same', \n",
        "                 activation ='relu', input_shape = (32,32,1)))\n",
        "model.add(Conv2D(filters = 32, kernel_size = (5,5),padding = 'Same', \n",
        "                 activation ='relu'))\n",
        "model.add(MaxPool2D(pool_size=(2,2)))\n",
        "model.add(Dropout(0.25))\n",
        "\n",
        "\n",
        "model.add(Conv2D(filters = 64, kernel_size = (3,3),padding = 'Same', \n",
        "                 activation ='relu'))\n",
        "model.add(Conv2D(filters = 64, kernel_size = (3,3),padding = 'Same', \n",
        "                 activation ='relu'))\n",
        "model.add(MaxPool2D(pool_size=(2,2), strides=(2,2)))\n",
        "model.add(Dropout(0.25))\n",
        "\n",
        "\n",
        "model.add(Flatten())\n",
        "model.add(Dense(256, activation = \"relu\"))\n",
        "model.add(Dropout(0.5))\n",
        "model.add(Dense(13, activation = \"softmax\"))\n",
        "\n",
        "# Define the optimizer\n",
        "#optimizer = RMSprop(lr=0.001, rho=0.9, epsilon=1e-08, decay=0.0)\n",
        "optimizer = Adam(lr=0.0001)\n",
        "\n",
        "# Compile the model\n",
        "model.compile(optimizer = optimizer , loss = \"categorical_crossentropy\", metrics=[\"accuracy\"])\n",
        "\n",
        "#model.summary()\n",
        "\n"
      ],
      "execution_count": 0,
      "outputs": []
    },
    {
      "cell_type": "code",
      "metadata": {
        "id": "ReKcDMub5t6r",
        "colab_type": "code",
        "outputId": "14864789-326a-4824-9ef7-af9b200d8645",
        "colab": {
          "base_uri": "https://localhost:8080/",
          "height": 1000
        }
      },
      "source": [
        "history = model.fit(x=train_image_array,y=train_y,epochs=50,batch_size=100, validation_split=0.3)"
      ],
      "execution_count": 103,
      "outputs": [
        {
          "output_type": "stream",
          "text": [
            "Train on 1229 samples, validate on 527 samples\n",
            "Epoch 1/50\n",
            "1229/1229 [==============================] - 1s 897us/step - loss: 14.6920 - acc: 0.0708 - val_loss: 14.0270 - val_acc: 0.0797\n",
            "Epoch 2/50\n",
            "1229/1229 [==============================] - 0s 162us/step - loss: 14.6797 - acc: 0.0708 - val_loss: 14.2490 - val_acc: 0.0968\n",
            "Epoch 3/50\n",
            "1229/1229 [==============================] - 0s 157us/step - loss: 14.5112 - acc: 0.0838 - val_loss: 13.9871 - val_acc: 0.0930\n",
            "Epoch 4/50\n",
            "1229/1229 [==============================] - 0s 160us/step - loss: 14.2756 - acc: 0.0960 - val_loss: 14.8215 - val_acc: 0.0797\n",
            "Epoch 5/50\n",
            "1229/1229 [==============================] - 0s 168us/step - loss: 14.0410 - acc: 0.1017 - val_loss: 11.3473 - val_acc: 0.1879\n",
            "Epoch 6/50\n",
            "1229/1229 [==============================] - 0s 159us/step - loss: 13.8523 - acc: 0.1050 - val_loss: 11.9489 - val_acc: 0.1689\n",
            "Epoch 7/50\n",
            "1229/1229 [==============================] - 0s 166us/step - loss: 13.7690 - acc: 0.1033 - val_loss: 11.0203 - val_acc: 0.2638\n",
            "Epoch 8/50\n",
            "1229/1229 [==============================] - 0s 158us/step - loss: 13.0329 - acc: 0.1310 - val_loss: 10.1456 - val_acc: 0.2581\n",
            "Epoch 9/50\n",
            "1229/1229 [==============================] - 0s 162us/step - loss: 11.3185 - acc: 0.1953 - val_loss: 7.4181 - val_acc: 0.4004\n",
            "Epoch 10/50\n",
            "1229/1229 [==============================] - 0s 164us/step - loss: 9.1590 - acc: 0.2514 - val_loss: 3.6286 - val_acc: 0.5256\n",
            "Epoch 11/50\n",
            "1229/1229 [==============================] - 0s 162us/step - loss: 5.5156 - acc: 0.2929 - val_loss: 1.1337 - val_acc: 0.5977\n",
            "Epoch 12/50\n",
            "1229/1229 [==============================] - 0s 165us/step - loss: 2.6415 - acc: 0.3116 - val_loss: 1.3774 - val_acc: 0.6110\n",
            "Epoch 13/50\n",
            "1229/1229 [==============================] - 0s 162us/step - loss: 1.9353 - acc: 0.3548 - val_loss: 1.3408 - val_acc: 0.6831\n",
            "Epoch 14/50\n",
            "1229/1229 [==============================] - 0s 163us/step - loss: 1.7446 - acc: 0.4150 - val_loss: 1.1381 - val_acc: 0.7154\n",
            "Epoch 15/50\n",
            "1229/1229 [==============================] - 0s 162us/step - loss: 1.5455 - acc: 0.4809 - val_loss: 0.9258 - val_acc: 0.7666\n",
            "Epoch 16/50\n",
            "1229/1229 [==============================] - 0s 163us/step - loss: 1.4094 - acc: 0.5248 - val_loss: 0.7792 - val_acc: 0.8008\n",
            "Epoch 17/50\n",
            "1229/1229 [==============================] - 0s 170us/step - loss: 1.2699 - acc: 0.5671 - val_loss: 0.6400 - val_acc: 0.8463\n",
            "Epoch 18/50\n",
            "1229/1229 [==============================] - 0s 162us/step - loss: 1.2065 - acc: 0.5907 - val_loss: 0.5665 - val_acc: 0.8615\n",
            "Epoch 19/50\n",
            "1229/1229 [==============================] - 0s 170us/step - loss: 1.1170 - acc: 0.6200 - val_loss: 0.5112 - val_acc: 0.8824\n",
            "Epoch 20/50\n",
            "1229/1229 [==============================] - 0s 163us/step - loss: 1.0532 - acc: 0.6322 - val_loss: 0.4565 - val_acc: 0.8880\n",
            "Epoch 21/50\n",
            "1229/1229 [==============================] - 0s 162us/step - loss: 0.9642 - acc: 0.6664 - val_loss: 0.4173 - val_acc: 0.9013\n",
            "Epoch 22/50\n",
            "1229/1229 [==============================] - 0s 165us/step - loss: 0.8682 - acc: 0.6949 - val_loss: 0.3692 - val_acc: 0.8937\n",
            "Epoch 23/50\n",
            "1229/1229 [==============================] - 0s 165us/step - loss: 0.8174 - acc: 0.7193 - val_loss: 0.3536 - val_acc: 0.9108\n",
            "Epoch 24/50\n",
            "1229/1229 [==============================] - 0s 163us/step - loss: 0.7803 - acc: 0.7266 - val_loss: 0.3298 - val_acc: 0.9279\n",
            "Epoch 25/50\n",
            "1229/1229 [==============================] - 0s 165us/step - loss: 0.7135 - acc: 0.7510 - val_loss: 0.3004 - val_acc: 0.9298\n",
            "Epoch 26/50\n",
            "1229/1229 [==============================] - 0s 165us/step - loss: 0.6843 - acc: 0.7665 - val_loss: 0.2682 - val_acc: 0.9336\n",
            "Epoch 27/50\n",
            "1229/1229 [==============================] - 0s 164us/step - loss: 0.6653 - acc: 0.7632 - val_loss: 0.2563 - val_acc: 0.9412\n",
            "Epoch 28/50\n",
            "1229/1229 [==============================] - 0s 163us/step - loss: 0.6478 - acc: 0.7803 - val_loss: 0.2382 - val_acc: 0.9412\n",
            "Epoch 29/50\n",
            "1229/1229 [==============================] - 0s 164us/step - loss: 0.5599 - acc: 0.7925 - val_loss: 0.2200 - val_acc: 0.9450\n",
            "Epoch 30/50\n",
            "1229/1229 [==============================] - 0s 160us/step - loss: 0.5663 - acc: 0.7966 - val_loss: 0.2027 - val_acc: 0.9526\n",
            "Epoch 31/50\n",
            "1229/1229 [==============================] - 0s 162us/step - loss: 0.5662 - acc: 0.8096 - val_loss: 0.1907 - val_acc: 0.9526\n",
            "Epoch 32/50\n",
            "1229/1229 [==============================] - 0s 167us/step - loss: 0.4484 - acc: 0.8397 - val_loss: 0.1826 - val_acc: 0.9545\n",
            "Epoch 33/50\n",
            "1229/1229 [==============================] - 0s 163us/step - loss: 0.4746 - acc: 0.8438 - val_loss: 0.1676 - val_acc: 0.9602\n",
            "Epoch 34/50\n",
            "1229/1229 [==============================] - 0s 163us/step - loss: 0.4348 - acc: 0.8527 - val_loss: 0.1625 - val_acc: 0.9526\n",
            "Epoch 35/50\n",
            "1229/1229 [==============================] - 0s 162us/step - loss: 0.4334 - acc: 0.8511 - val_loss: 0.1582 - val_acc: 0.9564\n",
            "Epoch 36/50\n",
            "1229/1229 [==============================] - 0s 166us/step - loss: 0.3953 - acc: 0.8625 - val_loss: 0.1525 - val_acc: 0.9564\n",
            "Epoch 37/50\n",
            "1229/1229 [==============================] - 0s 166us/step - loss: 0.4157 - acc: 0.8649 - val_loss: 0.1475 - val_acc: 0.9620\n",
            "Epoch 38/50\n",
            "1229/1229 [==============================] - 0s 161us/step - loss: 0.4105 - acc: 0.8633 - val_loss: 0.1256 - val_acc: 0.9677\n",
            "Epoch 39/50\n",
            "1229/1229 [==============================] - 0s 162us/step - loss: 0.3641 - acc: 0.8731 - val_loss: 0.1223 - val_acc: 0.9658\n",
            "Epoch 40/50\n",
            "1229/1229 [==============================] - 0s 167us/step - loss: 0.3335 - acc: 0.8804 - val_loss: 0.1175 - val_acc: 0.9658\n",
            "Epoch 41/50\n",
            "1229/1229 [==============================] - 0s 160us/step - loss: 0.3526 - acc: 0.8820 - val_loss: 0.1138 - val_acc: 0.9677\n",
            "Epoch 42/50\n",
            "1229/1229 [==============================] - 0s 166us/step - loss: 0.2888 - acc: 0.8975 - val_loss: 0.1103 - val_acc: 0.9696\n",
            "Epoch 43/50\n",
            "1229/1229 [==============================] - 0s 160us/step - loss: 0.2960 - acc: 0.9048 - val_loss: 0.1066 - val_acc: 0.9696\n",
            "Epoch 44/50\n",
            "1229/1229 [==============================] - 0s 166us/step - loss: 0.2794 - acc: 0.9040 - val_loss: 0.1014 - val_acc: 0.9715\n",
            "Epoch 45/50\n",
            "1229/1229 [==============================] - 0s 163us/step - loss: 0.2858 - acc: 0.9040 - val_loss: 0.0964 - val_acc: 0.9715\n",
            "Epoch 46/50\n",
            "1229/1229 [==============================] - 0s 165us/step - loss: 0.2643 - acc: 0.9072 - val_loss: 0.0958 - val_acc: 0.9734\n",
            "Epoch 47/50\n",
            "1229/1229 [==============================] - 0s 168us/step - loss: 0.2631 - acc: 0.9186 - val_loss: 0.0894 - val_acc: 0.9715\n",
            "Epoch 48/50\n",
            "1229/1229 [==============================] - 0s 162us/step - loss: 0.2438 - acc: 0.9146 - val_loss: 0.0842 - val_acc: 0.9715\n",
            "Epoch 49/50\n",
            "1229/1229 [==============================] - 0s 164us/step - loss: 0.2395 - acc: 0.9219 - val_loss: 0.0886 - val_acc: 0.9696\n",
            "Epoch 50/50\n",
            "1229/1229 [==============================] - 0s 161us/step - loss: 0.2344 - acc: 0.9178 - val_loss: 0.0823 - val_acc: 0.9715\n"
          ],
          "name": "stdout"
        }
      ]
    },
    {
      "cell_type": "code",
      "metadata": {
        "id": "7X2QnE15CTcr",
        "colab_type": "code",
        "outputId": "1bfa29c8-49fc-4b11-e0f5-cc67615b1296",
        "colab": {
          "base_uri": "https://localhost:8080/",
          "height": 573
        }
      },
      "source": [
        "# summarize history for accuracy\n",
        "plt.plot(history.history['acc'])\n",
        "plt.plot(history.history['val_acc'])\n",
        "plt.title('model accuracy')\n",
        "plt.ylabel('accuracy')\n",
        "plt.xlabel('epoch')\n",
        "plt.legend(['train', 'test'], loc='upper left')\n",
        "plt.show()\n",
        "# summarize history for loss\n",
        "plt.plot(history.history['loss'])\n",
        "plt.plot(history.history['val_loss'])\n",
        "plt.title('model loss')\n",
        "plt.ylabel('loss')\n",
        "plt.xlabel('epoch')\n",
        "plt.legend(['train', 'test'], loc='upper left')\n",
        "plt.show()"
      ],
      "execution_count": 104,
      "outputs": [
        {
          "output_type": "display_data",
          "data": {
            "image/png": "[encoded data removed]",
            "text/plain": [
              "<Figure size 432x288 with 1 Axes>"
            ]
          },
          "metadata": {
            "tags": []
          }
        },
        {
          "output_type": "display_data",
          "data": {
            "image/png": "[encoded data removed]",
            "text/plain": [
              "<Figure size 432x288 with 1 Axes>"
            ]
          },
          "metadata": {
            "tags": []
          }
        }
      ]
    },
    {
      "cell_type": "code",
      "metadata": {
        "id": "nBNlMFqHKzvT",
        "colab_type": "code",
        "colab": {}
      },
      "source": [
        "img = test_x[121].reshape(-1,32,32,1)\n",
        "belongs_to_class = test_y[121]"
      ],
      "execution_count": 0,
      "outputs": []
    },
    {
      "cell_type": "code",
      "metadata": {
        "id": "Xtl0LNcwK9Mi",
        "colab_type": "code",
        "outputId": "884ea4d4-0584-434e-9649-32f8d0c25cd2",
        "colab": {
          "base_uri": "https://localhost:8080/",
          "height": 34
        }
      },
      "source": [
        "print(img.shape)"
      ],
      "execution_count": 121,
      "outputs": [
        {
          "output_type": "stream",
          "text": [
            "(1, 32, 32, 1)\n"
          ],
          "name": "stdout"
        }
      ]
    },
    {
      "cell_type": "code",
      "metadata": {
        "id": "wfkrVqc61jYz",
        "colab_type": "code",
        "colab": {}
      },
      "source": [
        "x = model.predict(img)"
      ],
      "execution_count": 0,
      "outputs": []
    },
    {
      "cell_type": "code",
      "metadata": {
        "id": "nFRTZVJLSXUq",
        "colab_type": "code",
        "outputId": "01e2ea70-1444-4ce1-b269-4317f24e6a35",
        "colab": {
          "base_uri": "https://localhost:8080/",
          "height": 68
        }
      },
      "source": [
        "print(x)"
      ],
      "execution_count": 123,
      "outputs": [
        {
          "output_type": "stream",
          "text": [
            "[[1.7870740e-03 1.2057587e-03 1.0124632e-05 5.9761032e-06 2.4996578e-05\n",
            "  6.4694773e-06 1.4251431e-04 2.7886228e-05 1.9096427e-05 1.9814006e-06\n",
            "  2.9096509e-05 1.6670003e-04 9.9657226e-01]]\n"
          ],
          "name": "stdout"
        }
      ]
    },
    {
      "cell_type": "code",
      "metadata": {
        "id": "nK7scl2HR_ow",
        "colab_type": "code",
        "colab": {}
      },
      "source": [
        "name = CATEGORIES[np.argmax(x)]\n",
        "bc = CATEGORIES[np.argmax(belongs_to_class)]"
      ],
      "execution_count": 0,
      "outputs": []
    },
    {
      "cell_type": "code",
      "metadata": {
        "id": "8r1OJfbnVpJt",
        "colab_type": "code",
        "outputId": "ad73853c-7b8a-424b-b9ba-eeae71c84070",
        "colab": {
          "base_uri": "https://localhost:8080/",
          "height": 303
        }
      },
      "source": [
        "%matplotlib inline\n",
        "imgplot = plt.imshow(test_x[121])\n",
        "acc=np.amax(history.history['acc'])\n",
        "acc= acc*100\n",
        "acc = np.trunc(acc)\n",
        "\n",
        "print(\"predicted image is of: {} with accuracy {}\".format(name,acc))\n",
        "print(\"Actual class label is: {}\".format(bc))\n",
        "\n"
      ],
      "execution_count": 126,
      "outputs": [
        {
          "output_type": "stream",
          "text": [
            "predicted image is of: vowel_12_ah with accuracy 92.0\n",
            "Actual class label is: vowel_12_ah\n"
          ],
          "name": "stdout"
        },
        {
          "output_type": "display_data",
          "data": {
            "image/png": "[encoded data removed]",
            "text/plain": [
              "<Figure size 432x288 with 1 Axes>"
            ]
          },
          "metadata": {
            "tags": []
          }
        }
      ]
    },
    {
      "cell_type": "code",
      "metadata": {
        "id": "8S6af1hIWEPL",
        "colab_type": "code",
        "colab": {}
      },
      "source": [
        "y_predict = model.predict(test_image_array)"
      ],
      "execution_count": 0,
      "outputs": []
    },
    {
      "cell_type": "code",
      "metadata": {
        "id": "6HADb0G2UkFR",
        "colab_type": "code",
        "colab": {}
      },
      "source": [
        "yPred = model.predict_classes(test_image_array)"
      ],
      "execution_count": 0,
      "outputs": []
    },
    {
      "cell_type": "code",
      "metadata": {
        "id": "651yPSxWVs33",
        "colab_type": "code",
        "outputId": "016bf872-8935-4da4-da22-f832d4fdd636",
        "colab": {
          "base_uri": "https://localhost:8080/",
          "height": 34
        }
      },
      "source": [
        "yPred[1]"
      ],
      "execution_count": 129,
      "outputs": [
        {
          "output_type": "execute_result",
          "data": {
            "text/plain": [
              "0"
            ]
          },
          "metadata": {
            "tags": []
          },
          "execution_count": 129
        }
      ]
    },
    {
      "cell_type": "code",
      "metadata": {
        "id": "-RCnzGT4V2OC",
        "colab_type": "code",
        "outputId": "21413c60-a98e-4df9-8884-df84b1fbd7ff",
        "colab": {
          "base_uri": "https://localhost:8080/",
          "height": 34
        }
      },
      "source": [
        "test_y[1]"
      ],
      "execution_count": 130,
      "outputs": [
        {
          "output_type": "execute_result",
          "data": {
            "text/plain": [
              "array([1., 0., 0., 0., 0., 0., 0., 0., 0., 0., 0., 0., 0.], dtype=float32)"
            ]
          },
          "metadata": {
            "tags": []
          },
          "execution_count": 130
        }
      ]
    },
    {
      "cell_type": "code",
      "metadata": {
        "id": "jgGJfEB3WB5Q",
        "colab_type": "code",
        "colab": {}
      },
      "source": [
        "newtest_y=np.argmax(test_y, axis=1)"
      ],
      "execution_count": 0,
      "outputs": []
    },
    {
      "cell_type": "code",
      "metadata": {
        "id": "b5N-CWJRUxdS",
        "colab_type": "code",
        "outputId": "b99f0441-e71a-4571-fcb3-4cfd52ac884f",
        "colab": {
          "base_uri": "https://localhost:8080/",
          "height": 272
        }
      },
      "source": [
        "print(\"Confusion matrix \\n=======================\")\n",
        "print(confusion_matrix(y_true=newtest_y, y_pred=yPred))\n"
      ],
      "execution_count": 132,
      "outputs": [
        {
          "output_type": "stream",
          "text": [
            "Confusion matrix \n",
            "=======================\n",
            "[[ 8  1  0  0  0  0  0  0  0  0  0  1  0]\n",
            " [ 0 10  0  0  0  0  0  0  0  0  0  0  0]\n",
            " [ 0  0 10  0  0  0  0  0  0  0  0  0  0]\n",
            " [ 0  0  0 10  0  0  0  0  0  0  0  0  0]\n",
            " [ 0  0  0  0 10  0  0  0  0  0  0  0  0]\n",
            " [ 0  0  0  0  0 10  0  0  0  0  0  0  0]\n",
            " [ 0  0  0  0  0  0 10  0  0  0  0  0  0]\n",
            " [ 0  0  0  0  0  0  0 10  0  0  0  0  0]\n",
            " [ 0  0  0  0  0  0  0  0 10  0  0  0  0]\n",
            " [ 0  0  0  0  0  0  0  0  0 10  0  0  0]\n",
            " [ 0  0  0  0  0  0  0  0  0  0 10  0  0]\n",
            " [ 0  0  0  0  0  0  0  0  0  0  0  9  1]\n",
            " [ 0  0  0  0  0  0  0  0  0  0  0  0 10]]\n"
          ],
          "name": "stdout"
        }
      ]
    },
    {
      "cell_type": "code",
      "metadata": {
        "id": "dvMNB9Kpqeic",
        "colab_type": "code",
        "colab": {}
      },
      "source": [
        "#datagen.fit(x_train)"
      ],
      "execution_count": 0,
      "outputs": []
    },
    {
      "cell_type": "code",
      "metadata": {
        "id": "Xw1lLQ9QxMt6",
        "colab_type": "code",
        "colab": {}
      },
      "source": [
        "cm = confusion_matrix(newtest_y,yPred)"
      ],
      "execution_count": 0,
      "outputs": []
    },
    {
      "cell_type": "code",
      "metadata": {
        "id": "IBBFZwOHSfev",
        "colab_type": "code",
        "outputId": "c0138cb1-787f-4f67-cbdc-c2e1d061b1aa",
        "colab": {
          "base_uri": "https://localhost:8080/",
          "height": 613
        }
      },
      "source": [
        "plt.figure(figsize= (20, 10))\n",
        "\n",
        "sns.heatmap(cm, annot=True)"
      ],
      "execution_count": 138,
      "outputs": [
        {
          "output_type": "execute_result",
          "data": {
            "text/plain": [
              "<matplotlib.axes._subplots.AxesSubplot at 0x7f99d3ac1550>"
            ]
          },
          "metadata": {
            "tags": []
          },
          "execution_count": 138
        },
        {
          "output_type": "display_data",
          "data": {
            "image/png": "[encoded data removed]",
            "text/plain": [
              "<Figure size 1440x720 with 2 Axes>"
            ]
          },
          "metadata": {
            "tags": []
          }
        }
      ]
    },
    {
      "cell_type": "code",
      "metadata": {
        "id": "FCvckSGgSmsG",
        "colab_type": "code",
        "colab": {}
      },
      "source": [
        ""
      ],
      "execution_count": 0,
      "outputs": []
    }
  ]
}