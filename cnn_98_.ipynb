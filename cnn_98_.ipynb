{
  "nbformat": 4,
  "nbformat_minor": 0,
  "metadata": {
    "colab": {
      "name": "cnn_98%.ipynb",
      "version": "0.3.2",
      "provenance": [],
      "include_colab_link": true
    },
    "kernelspec": {
      "name": "python3",
      "display_name": "Python 3"
    },
    "accelerator": "GPU"
  },
  "cells": [
    {
      "cell_type": "markdown",
      "metadata": {
        "id": "view-in-github",
        "colab_type": "text"
      },
      "source": [
        "<a href=\"https://colab.research.google.com/github/Rojan116/NepaliHandWrittenAlphabetRecognizer/blob/master/cnn_98_.ipynb\" target=\"_parent\"><img src=\"https://colab.research.google.com/assets/colab-badge.svg\" alt=\"Open In Colab\"/></a>"
      ]
    },
    {
      "cell_type": "code",
      "metadata": {
        "id": "Fa0w7bIx81Sq",
        "colab_type": "code",
        "outputId": "8cdca4f7-6f98-4afb-fe88-9b3f3deaa2c0",
        "colab": {
          "base_uri": "https://localhost:8080/",
          "height": 153
        }
      },
      "source": [
        "!git clone https://github.com/Rojan116/NepaliHandWrittenAlphabetRecognizer.git"
      ],
      "execution_count": 0,
      "outputs": [
        {
          "output_type": "stream",
          "text": [
            "Cloning into 'NepaliHandWrittenAlphabetRecognizer'...\n",
            "remote: Enumerating objects: 92100, done.\u001b[K\n",
            "remote: Counting objects:   0% (1/92100)   \u001b[K\rremote: Counting objects:   1% (921/92100)   \u001b[K\rremote: Counting objects:   2% (1842/92100)   \u001b[K\rremote: Counting objects:   3% (2763/92100)   \u001b[K\rremote: Counting objects:   4% (3684/92100)   \u001b[K\rremote: Counting objects:   5% (4605/92100)   \u001b[K\rremote: Counting objects:   6% (5526/92100)   \u001b[K\rremote: Counting objects:   7% (6447/92100)   \u001b[K\rremote: Counting objects:   8% (7368/92100)   \u001b[K\rremote: Counting objects:   9% (8289/92100)   \u001b[K\rremote: Counting objects:  10% (9210/92100)   \u001b[K\rremote: Counting objects:  11% (10131/92100)   \u001b[K\rremote: Counting objects:  12% (11052/92100)   \u001b[K\rremote: Counting objects:  13% (11973/92100)   \u001b[K\rremote: Counting objects:  14% (12894/92100)   \u001b[K\rremote: Counting objects:  15% (13815/92100)   \u001b[K\rremote: Counting objects:  16% (14736/92100)   \u001b[K\rremote: Counting objects:  17% (15657/92100)   \u001b[K\rremote: Counting objects:  18% (16578/92100)   \u001b[K\rremote: Counting objects:  19% (17499/92100)   \u001b[K\rremote: Counting objects:  20% (18420/92100)   \u001b[K\rremote: Counting objects:  21% (19341/92100)   \u001b[K\rremote: Counting objects:  22% (20262/92100)   \u001b[K\rremote: Counting objects:  23% (21183/92100)   \u001b[K\rremote: Counting objects:  24% (22104/92100)   \u001b[K\rremote: Counting objects:  25% (23025/92100)   \u001b[K\rremote: Counting objects:  26% (23946/92100)   \u001b[K\rremote: Counting objects:  27% (24867/92100)   \u001b[K\rremote: Counting objects:  28% (25788/92100)   \u001b[K\rremote: Counting objects:  29% (26709/92100)   \u001b[K\rremote: Counting objects:  30% (27630/92100)   \u001b[K\rremote: Counting objects:  31% (28551/92100)   \u001b[K\rremote: Counting objects:  32% (29472/92100)   \u001b[K\rremote: Counting objects:  33% (30393/92100)   \u001b[K\rremote: Counting objects:  34% (31314/92100)   \u001b[K\rremote: Counting objects:  35% (32235/92100)   \u001b[K\rremote: Counting objects:  36% (33156/92100)   \u001b[K\rremote: Counting objects:  37% (34077/92100)   \u001b[K\rremote: Counting objects:  38% (34998/92100)   \u001b[K\rremote: Counting objects:  39% (35919/92100)   \u001b[K\rremote: Counting objects:  40% (36840/92100)   \u001b[K\rremote: Counting objects:  41% (37761/92100)   \u001b[K\rremote: Counting objects:  42% (38682/92100)   \u001b[K\rremote: Counting objects:  43% (39603/92100)   \u001b[K\rremote: Counting objects:  44% (40524/92100)   \u001b[K\rremote: Counting objects:  45% (41445/92100)   \u001b[K\rremote: Counting objects:  46% (42366/92100)   \u001b[K\rremote: Counting objects:  47% (43287/92100)   \u001b[K\rremote: Counting objects:  48% (44208/92100)   \u001b[K\rremote: Counting objects:  49% (45129/92100)   \u001b[K\rremote: Counting objects:  50% (46050/92100)   \u001b[K\rremote: Counting objects:  51% (46971/92100)   \u001b[K\rremote: Counting objects:  52% (47892/92100)   \u001b[K\rremote: Counting objects:  53% (48813/92100)   \u001b[K\rremote: Counting objects:  54% (49734/92100)   \u001b[K\rremote: Counting objects:  55% (50655/92100)   \u001b[K\rremote: Counting objects:  56% (51576/92100)   \u001b[K\rremote: Counting objects:  57% (52497/92100)   \u001b[K\rremote: Counting objects:  58% (53418/92100)   \u001b[K\rremote: Counting objects:  59% (54339/92100)   \u001b[K\rremote: Counting objects:  60% (55260/92100)   \u001b[K\rremote: Counting objects:  61% (56181/92100)   \u001b[K\rremote: Counting objects:  62% (57102/92100)   \u001b[K\rremote: Counting objects:  63% (58023/92100)   \u001b[K\rremote: Counting objects:  64% (58944/92100)   \u001b[K\rremote: Counting objects:  65% (59865/92100)   \u001b[K\rremote: Counting objects:  66% (60786/92100)   \u001b[K\rremote: Counting objects:  67% (61707/92100)   \u001b[K\rremote: Counting objects:  68% (62628/92100)   \u001b[K\rremote: Counting objects:  69% (63549/92100)   \u001b[K\rremote: Counting objects:  70% (64470/92100)   \u001b[K\rremote: Counting objects:  71% (65391/92100)   \u001b[K\rremote: Counting objects:  72% (66312/92100)   \u001b[K\rremote: Counting objects:  73% (67233/92100)   \u001b[K\rremote: Counting objects:  74% (68154/92100)   \u001b[K\rremote: Counting objects:  75% (69075/92100)   \u001b[K\rremote: Counting objects:  76% (69996/92100)   \u001b[K\rremote: Counting objects:  77% (70917/92100)   \u001b[K\rremote: Counting objects:  78% (71838/92100)   \u001b[K\rremote: Counting objects:  79% (72759/92100)   \u001b[K\rremote: Counting objects:  80% (73680/92100)   \u001b[K\rremote: Counting objects:  81% (74601/92100)   \u001b[K\rremote: Counting objects:  82% (75522/92100)   \u001b[K\rremote: Counting objects:  83% (76443/92100)   \u001b[K\rremote: Counting objects:  84% (77364/92100)   \u001b[K\rremote: Counting objects:  85% (78285/92100)   \u001b[K\rremote: Counting objects:  86% (79206/92100)   \u001b[K\rremote: Counting objects:  87% (80127/92100)   \u001b[K\rremote: Counting objects:  88% (81048/92100)   \u001b[K\rremote: Counting objects:  89% (81969/92100)   \u001b[K\rremote: Counting objects:  90% (82890/92100)   \u001b[K\rremote: Counting objects:  91% (83811/92100)   \u001b[K\rremote: Counting objects:  92% (84732/92100)   \u001b[K\rremote: Counting objects:  93% (85653/92100)   \u001b[K\rremote: Counting objects:  94% (86574/92100)   \u001b[K\rremote: Counting objects:  95% (87495/92100)   \u001b[K\rremote: Counting objects:  96% (88416/92100)   \u001b[K\rremote: Counting objects:  97% (89337/92100)   \u001b[K\rremote: Counting objects:  98% (90258/92100)   \u001b[K\rremote: Counting objects:  99% (91179/92100)   \u001b[K\rremote: Counting objects: 100% (92100/92100)   \u001b[K\rremote: Counting objects: 100% (92100/92100), done.\u001b[K\n",
            "remote: Compressing objects: 100% (92100/92100), done.\u001b[K\n",
            "remote: Total 92100 (delta 13), reused 92073 (delta 0), pack-reused 0\u001b[K\n",
            "Receiving objects: 100% (92100/92100), 56.78 MiB | 41.59 MiB/s, done.\n",
            "Resolving deltas: 100% (13/13), done.\n",
            "Checking out files: 100% (92010/92010), done.\n"
          ],
          "name": "stdout"
        }
      ]
    },
    {
      "cell_type": "code",
      "metadata": {
        "id": "jHtN-fzK9KOB",
        "colab_type": "code",
        "outputId": "bbca2970-d7a8-4894-b425-a331c9f1c448",
        "colab": {
          "base_uri": "https://localhost:8080/",
          "height": 34
        }
      },
      "source": [
        "ls"
      ],
      "execution_count": 0,
      "outputs": [
        {
          "output_type": "stream",
          "text": [
            "\u001b[0m\u001b[01;34mNepaliHandWrittenAlphabetRecognizer\u001b[0m/  \u001b[01;34msample_data\u001b[0m/\n"
          ],
          "name": "stdout"
        }
      ]
    },
    {
      "cell_type": "code",
      "metadata": {
        "id": "6-Y4SAWO9Q1G",
        "colab_type": "code",
        "outputId": "2b6dd5dd-7888-40dd-ce2f-c9a5be197379",
        "colab": {
          "base_uri": "https://localhost:8080/",
          "height": 34
        }
      },
      "source": [
        "cd NepaliHandWrittenAlphabetRecognizer"
      ],
      "execution_count": 0,
      "outputs": [
        {
          "output_type": "stream",
          "text": [
            "/content/NepaliHandWrittenAlphabetRecognizer\n"
          ],
          "name": "stdout"
        }
      ]
    },
    {
      "cell_type": "code",
      "metadata": {
        "id": "AK0RS0g19VaY",
        "colab_type": "code",
        "outputId": "2eb99e1a-c029-4377-aeaa-29e3109cdea5",
        "colab": {
          "base_uri": "https://localhost:8080/",
          "height": 34
        }
      },
      "source": [
        "import cv2\n",
        "import matplotlib.pyplot as plt\n",
        "import numpy as np\n",
        "import os\n",
        "import tensorflow as tf\n",
        "from tqdm import tqdm\n",
        "import random\n",
        "from keras.utils import to_categorical\n",
        "from keras.preprocessing.image import ImageDataGenerator\n",
        "from keras.callbacks import ReduceLROnPlateau\n",
        "\n",
        "from keras.models import Sequential\n",
        "from keras.layers import *\n",
        "from keras.optimizers import *"
      ],
      "execution_count": 0,
      "outputs": [
        {
          "output_type": "stream",
          "text": [
            "Using TensorFlow backend.\n"
          ],
          "name": "stderr"
        }
      ]
    },
    {
      "cell_type": "code",
      "metadata": {
        "id": "XUB5C0nB9YOg",
        "colab_type": "code",
        "colab": {}
      },
      "source": [
        "PATH = os.getcwd()\n",
        "DATADIR = PATH + '/dhrcdata/Train'\t\t\n",
        "train_data_path = PATH + '/dhrcdata/Train'\n",
        "test_data_path = PATH + '/dhrcdata/Test'\n"
      ],
      "execution_count": 0,
      "outputs": []
    },
    {
      "cell_type": "code",
      "metadata": {
        "id": "kTFBK9wD9aqu",
        "colab_type": "code",
        "colab": {}
      },
      "source": [
        "CATEGORIES = [\n",
        "\n",
        "\"character_1_ka\",\"character_2_kha\",\"character_3_ga\",\"character_4_gha\",\"character_5_kna\",\n",
        "\"character_6_cha\",\"character_7_chha\",\"character_8_ja\",\"character_9_jha\",\"character_10_yna\",\n",
        "\"character_11_taamatar\",\"character_12_thaa\",\"character_13_daa\",\"character_14_dhaa\",\"character_15_adna\",\n",
        "\"character_16_tabala\",\"character_17_tha\",\"character_18_da\",\"character_19_dha\",\"character_20_na\",\"character_21_pa\",\n",
        "\"character_22_pha\",\"character_23_ba\",\"character_24_bha\",\"character_25_ma\",\"character_26_yaw\",\"character_27_ra\",\n",
        "\"character_28_la\",\"character_29_waw\",\"character_30_motosaw\",\"character_31_petchiryakha\",\"character_32_patalosaw\",\n",
        "\"character_33_ha\",\"character_34_chhya\",\"character_35_tra\",\"character_36_gya\",\"digit_0\",\"digit_1\",\"digit_2\",\"digit_3\",\n",
        "\"digit_4\",\"digit_5\",\"digit_6\",\"digit_7\",\"digit_8\",\"digit_9\"\n",
        "\n",
        "]\n"
      ],
      "execution_count": 0,
      "outputs": []
    },
    {
      "cell_type": "code",
      "metadata": {
        "id": "as1xbqAW9d5P",
        "colab_type": "code",
        "colab": {}
      },
      "source": [
        "IMG_SIZE = 32\n",
        "training_data = []\n",
        "testing_data = []\n",
        "\n",
        "def create_training_data():\n",
        "  for catagory in CATEGORIES:\n",
        "    path = os.path.join(train_data_path, catagory)\n",
        "    class_num = CATEGORIES.index(catagory)\n",
        "    for img in os.listdir(path):\n",
        "        try:\n",
        "          img_array = cv2.imread(os.path.join(path,img),cv2.IMREAD_GRAYSCALE)\n",
        "          new_array = cv2.resize(img_array,(IMG_SIZE,IMG_SIZE))\n",
        "          training_data.append([new_array,class_num])\n",
        "        except Exception as e:\n",
        "          pass\n",
        "\n",
        "\n",
        "\n",
        "def create_testing_data():\n",
        "  for catagory in CATEGORIES:\n",
        "    path = os.path.join(test_data_path, catagory)\n",
        "    class_num = CATEGORIES.index(catagory)\n",
        "    for img in os.listdir(path):\n",
        "        try:\n",
        "          img_array = cv2.imread(os.path.join(path,img),cv2.IMREAD_GRAYSCALE)\n",
        "          new_array = cv2.resize(img_array,(IMG_SIZE,IMG_SIZE))\n",
        "          testing_data.append([new_array,class_num])\n",
        "        except Exception as e:\n",
        "          pass\n",
        "\n",
        "\n",
        "\n",
        "create_training_data()\n",
        "create_testing_data()\n"
      ],
      "execution_count": 0,
      "outputs": []
    },
    {
      "cell_type": "code",
      "metadata": {
        "id": "_7a9Hftp9kSg",
        "colab_type": "code",
        "colab": {}
      },
      "source": [
        "#shuffle training data for trainning diff image set in every batch\n",
        "random.shuffle(training_data)\n",
        "\n",
        "#hot encode image dataset\n",
        "\n",
        "train_x = []\n",
        "train_y = []\n",
        "test_x = []\n",
        "test_y = []\n",
        "\n",
        "\n",
        "\n",
        "#seperating features and labels from list\n",
        "for features, labels in training_data:\n",
        "\ttrain_x.append(features)\n",
        "\ttrain_y.append(labels)\n",
        "\n",
        "for features, labels in testing_data:\n",
        "\ttest_x.append(features)\n",
        "\ttest_y.append(labels)\n",
        "\n",
        "\n",
        "#converting list to array\n",
        "train_y_array = np.array(train_y)\n",
        "test_y_array = np.array(test_y)\n",
        "\n",
        "#converting image dataset to input 32*32 dataset \n",
        "\n",
        "train_image_array = np.array(train_x).reshape(-1,32,32,1)\n",
        "test_image_array = np.array(test_x).reshape(-1,32,32,1)\n",
        "\n",
        "\n",
        "#one hot enoded class \n",
        "train_y = to_categorical(train_y_array)\n",
        "test_y = to_categorical(test_y_array)\n",
        "\n",
        "\n",
        "train_y = np.array(train_y)\n",
        "test_y = np.array(test_y)\n",
        "\n",
        "#all train x, y and test x y are in array form now\n",
        "\n"
      ],
      "execution_count": 0,
      "outputs": []
    },
    {
      "cell_type": "code",
      "metadata": {
        "id": "HTyQPCKc9AuW",
        "colab_type": "code",
        "outputId": "f875e03f-afeb-4349-925c-792dd721dba8",
        "colab": {
          "base_uri": "https://localhost:8080/",
          "height": 1907
        }
      },
      "source": [
        "#new model\n",
        "\n",
        "# Set the CNN model \n",
        "# my CNN architechture is In -> [[Conv2D->relu]*2 -> MaxPool2D -> Dropout]*2 -> Flatten -> Dense -> Dropout -> Out\n",
        "\n",
        "model = Sequential()\n",
        "\n",
        "model.add(Conv2D(filters = 32, kernel_size = (5,5),padding = 'Same', \n",
        "                 activation ='relu', input_shape = (32,32,1)))\n",
        "model.add(Conv2D(filters = 32, kernel_size = (5,5),padding = 'Same', \n",
        "                 activation ='relu'))\n",
        "model.add(MaxPool2D(pool_size=(2,2)))\n",
        "model.add(Dropout(0.25))\n",
        "\n",
        "\n",
        "model.add(Conv2D(filters = 64, kernel_size = (3,3),padding = 'Same', \n",
        "                 activation ='relu'))\n",
        "model.add(Conv2D(filters = 64, kernel_size = (3,3),padding = 'Same', \n",
        "                 activation ='relu'))\n",
        "model.add(MaxPool2D(pool_size=(2,2), strides=(2,2)))\n",
        "model.add(Dropout(0.25))\n",
        "\n",
        "\n",
        "model.add(Flatten())\n",
        "model.add(Dense(256, activation = \"relu\"))\n",
        "model.add(Dropout(0.5))\n",
        "model.add(Dense(46, activation = \"softmax\"))\n",
        "\n",
        "# Define the optimizer\n",
        "#optimizer = RMSprop(lr=0.001, rho=0.9, epsilon=1e-08, decay=0.0)\n",
        "optimizer = Adam(lr=0.0001)\n",
        "\n",
        "# Compile the model\n",
        "model.compile(optimizer = optimizer , loss = \"categorical_crossentropy\", metrics=[\"accuracy\"])\n",
        "\n",
        "#model.summary()\n",
        "\n",
        "history = model.fit(x=train_image_array,y=train_y,epochs=50,batch_size=100, validation_split=0.3)"
      ],
      "execution_count": 0,
      "outputs": [
        {
          "output_type": "stream",
          "text": [
            "WARNING:tensorflow:From /usr/local/lib/python3.6/dist-packages/tensorflow/python/framework/op_def_library.py:263: colocate_with (from tensorflow.python.framework.ops) is deprecated and will be removed in a future version.\n",
            "Instructions for updating:\n",
            "Colocations handled automatically by placer.\n",
            "WARNING:tensorflow:From /usr/local/lib/python3.6/dist-packages/keras/backend/tensorflow_backend.py:3445: calling dropout (from tensorflow.python.ops.nn_ops) with keep_prob is deprecated and will be removed in a future version.\n",
            "Instructions for updating:\n",
            "Please use `rate` instead of `keep_prob`. Rate should be set to `rate = 1 - keep_prob`.\n",
            "WARNING:tensorflow:From /usr/local/lib/python3.6/dist-packages/tensorflow/python/ops/math_ops.py:3066: to_int32 (from tensorflow.python.ops.math_ops) is deprecated and will be removed in a future version.\n",
            "Instructions for updating:\n",
            "Use tf.cast instead.\n",
            "Train on 54740 samples, validate on 23460 samples\n",
            "Epoch 1/50\n",
            "54740/54740 [==============================] - 14s 253us/step - loss: 5.4880 - acc: 0.0715 - val_loss: 2.6815 - val_acc: 0.3873\n",
            "Epoch 2/50\n",
            "54740/54740 [==============================] - 8s 148us/step - loss: 2.1870 - acc: 0.4047 - val_loss: 0.8020 - val_acc: 0.8003\n",
            "Epoch 3/50\n",
            "54740/54740 [==============================] - 8s 149us/step - loss: 1.2000 - acc: 0.6513 - val_loss: 0.4342 - val_acc: 0.8867\n",
            "Epoch 4/50\n",
            "54740/54740 [==============================] - 8s 149us/step - loss: 0.7989 - acc: 0.7626 - val_loss: 0.2858 - val_acc: 0.9191\n",
            "Epoch 5/50\n",
            "54740/54740 [==============================] - 8s 149us/step - loss: 0.5942 - acc: 0.8227 - val_loss: 0.2342 - val_acc: 0.9382\n",
            "Epoch 6/50\n",
            "54740/54740 [==============================] - 8s 151us/step - loss: 0.4805 - acc: 0.8556 - val_loss: 0.1719 - val_acc: 0.9497\n",
            "Epoch 7/50\n",
            "54740/54740 [==============================] - 8s 152us/step - loss: 0.3838 - acc: 0.8826 - val_loss: 0.1417 - val_acc: 0.9589\n",
            "Epoch 8/50\n",
            "54740/54740 [==============================] - 8s 150us/step - loss: 0.3268 - acc: 0.9006 - val_loss: 0.1197 - val_acc: 0.9646\n",
            "Epoch 9/50\n",
            "54740/54740 [==============================] - 8s 150us/step - loss: 0.2892 - acc: 0.9119 - val_loss: 0.1078 - val_acc: 0.9693\n",
            "Epoch 10/50\n",
            "54740/54740 [==============================] - 8s 150us/step - loss: 0.2455 - acc: 0.9253 - val_loss: 0.0909 - val_acc: 0.9733\n",
            "Epoch 11/50\n",
            "54740/54740 [==============================] - 8s 151us/step - loss: 0.2152 - acc: 0.9343 - val_loss: 0.0866 - val_acc: 0.9737\n",
            "Epoch 12/50\n",
            "54740/54740 [==============================] - 8s 151us/step - loss: 0.1954 - acc: 0.9396 - val_loss: 0.0801 - val_acc: 0.9766\n",
            "Epoch 13/50\n",
            "54740/54740 [==============================] - 8s 151us/step - loss: 0.1736 - acc: 0.9459 - val_loss: 0.0712 - val_acc: 0.9791\n",
            "Epoch 14/50\n",
            "54740/54740 [==============================] - 8s 151us/step - loss: 0.1559 - acc: 0.9515 - val_loss: 0.0698 - val_acc: 0.9796\n",
            "Epoch 15/50\n",
            "54740/54740 [==============================] - 8s 151us/step - loss: 0.1454 - acc: 0.9539 - val_loss: 0.0649 - val_acc: 0.9812\n",
            "Epoch 16/50\n",
            "54740/54740 [==============================] - 8s 153us/step - loss: 0.1317 - acc: 0.9582 - val_loss: 0.0641 - val_acc: 0.9809\n",
            "Epoch 17/50\n",
            "54740/54740 [==============================] - 8s 153us/step - loss: 0.1217 - acc: 0.9619 - val_loss: 0.0565 - val_acc: 0.9829\n",
            "Epoch 18/50\n",
            "54740/54740 [==============================] - 8s 151us/step - loss: 0.1109 - acc: 0.9654 - val_loss: 0.0627 - val_acc: 0.9816\n",
            "Epoch 19/50\n",
            "54740/54740 [==============================] - 8s 152us/step - loss: 0.1052 - acc: 0.9673 - val_loss: 0.0607 - val_acc: 0.9825\n",
            "Epoch 20/50\n",
            "54740/54740 [==============================] - 8s 151us/step - loss: 0.1002 - acc: 0.9689 - val_loss: 0.0520 - val_acc: 0.9847\n",
            "Epoch 21/50\n",
            "54740/54740 [==============================] - 8s 153us/step - loss: 0.0870 - acc: 0.9721 - val_loss: 0.0525 - val_acc: 0.9844\n",
            "Epoch 22/50\n",
            "54740/54740 [==============================] - 9s 156us/step - loss: 0.0862 - acc: 0.9722 - val_loss: 0.0518 - val_acc: 0.9841\n",
            "Epoch 23/50\n",
            "54740/54740 [==============================] - 8s 152us/step - loss: 0.0798 - acc: 0.9735 - val_loss: 0.0487 - val_acc: 0.9855\n",
            "Epoch 24/50\n",
            "54740/54740 [==============================] - 8s 152us/step - loss: 0.0748 - acc: 0.9760 - val_loss: 0.0456 - val_acc: 0.9869\n",
            "Epoch 25/50\n",
            "54740/54740 [==============================] - 8s 152us/step - loss: 0.0726 - acc: 0.9766 - val_loss: 0.0479 - val_acc: 0.9860\n",
            "Epoch 26/50\n",
            "54740/54740 [==============================] - 8s 155us/step - loss: 0.0648 - acc: 0.9790 - val_loss: 0.0482 - val_acc: 0.9862\n",
            "Epoch 27/50\n",
            "54740/54740 [==============================] - 8s 153us/step - loss: 0.0629 - acc: 0.9790 - val_loss: 0.0458 - val_acc: 0.9872\n",
            "Epoch 28/50\n",
            "54740/54740 [==============================] - 8s 153us/step - loss: 0.0619 - acc: 0.9797 - val_loss: 0.0455 - val_acc: 0.9864\n",
            "Epoch 29/50\n",
            "54740/54740 [==============================] - 8s 153us/step - loss: 0.0596 - acc: 0.9798 - val_loss: 0.0454 - val_acc: 0.9872\n",
            "Epoch 30/50\n",
            "54740/54740 [==============================] - 8s 152us/step - loss: 0.0546 - acc: 0.9826 - val_loss: 0.0407 - val_acc: 0.9882\n",
            "Epoch 31/50\n",
            "54740/54740 [==============================] - 8s 152us/step - loss: 0.0522 - acc: 0.9829 - val_loss: 0.0447 - val_acc: 0.9873\n",
            "Epoch 32/50\n",
            "54740/54740 [==============================] - 8s 152us/step - loss: 0.0524 - acc: 0.9829 - val_loss: 0.0442 - val_acc: 0.9880\n",
            "Epoch 33/50\n",
            "54740/54740 [==============================] - 8s 152us/step - loss: 0.0498 - acc: 0.9832 - val_loss: 0.0452 - val_acc: 0.9877\n",
            "Epoch 34/50\n",
            "54740/54740 [==============================] - 8s 152us/step - loss: 0.0468 - acc: 0.9850 - val_loss: 0.0427 - val_acc: 0.9880\n",
            "Epoch 35/50\n",
            "54740/54740 [==============================] - 8s 153us/step - loss: 0.0454 - acc: 0.9843 - val_loss: 0.0426 - val_acc: 0.9888\n",
            "Epoch 36/50\n",
            "54740/54740 [==============================] - 8s 154us/step - loss: 0.0418 - acc: 0.9858 - val_loss: 0.0406 - val_acc: 0.9890\n",
            "Epoch 37/50\n",
            "54740/54740 [==============================] - 8s 152us/step - loss: 0.0428 - acc: 0.9856 - val_loss: 0.0440 - val_acc: 0.9877\n",
            "Epoch 38/50\n",
            "54740/54740 [==============================] - 8s 152us/step - loss: 0.0435 - acc: 0.9857 - val_loss: 0.0432 - val_acc: 0.9887\n",
            "Epoch 39/50\n",
            "54740/54740 [==============================] - 8s 152us/step - loss: 0.0361 - acc: 0.9875 - val_loss: 0.0448 - val_acc: 0.9888\n",
            "Epoch 40/50\n",
            "54740/54740 [==============================] - 8s 152us/step - loss: 0.0397 - acc: 0.9864 - val_loss: 0.0409 - val_acc: 0.9889\n",
            "Epoch 41/50\n",
            "54740/54740 [==============================] - 8s 152us/step - loss: 0.0391 - acc: 0.9867 - val_loss: 0.0412 - val_acc: 0.9894\n",
            "Epoch 42/50\n",
            "54740/54740 [==============================] - 8s 151us/step - loss: 0.0362 - acc: 0.9880 - val_loss: 0.0410 - val_acc: 0.9893\n",
            "Epoch 43/50\n",
            "54740/54740 [==============================] - 8s 152us/step - loss: 0.0343 - acc: 0.9884 - val_loss: 0.0447 - val_acc: 0.9882\n",
            "Epoch 44/50\n",
            "54740/54740 [==============================] - 8s 153us/step - loss: 0.0340 - acc: 0.9889 - val_loss: 0.0417 - val_acc: 0.9892\n",
            "Epoch 45/50\n",
            "54740/54740 [==============================] - 9s 160us/step - loss: 0.0345 - acc: 0.9884 - val_loss: 0.0422 - val_acc: 0.9893\n",
            "Epoch 46/50\n",
            "54740/54740 [==============================] - 8s 153us/step - loss: 0.0320 - acc: 0.9888 - val_loss: 0.0436 - val_acc: 0.9887\n",
            "Epoch 47/50\n",
            "54740/54740 [==============================] - 8s 153us/step - loss: 0.0296 - acc: 0.9903 - val_loss: 0.0399 - val_acc: 0.9901\n",
            "Epoch 48/50\n",
            "54740/54740 [==============================] - 9s 172us/step - loss: 0.0325 - acc: 0.9889 - val_loss: 0.0397 - val_acc: 0.9896\n",
            "Epoch 49/50\n",
            "54740/54740 [==============================] - 12s 228us/step - loss: 0.0286 - acc: 0.9907 - val_loss: 0.0385 - val_acc: 0.9905\n",
            "Epoch 50/50\n",
            "54740/54740 [==============================] - 16s 295us/step - loss: 0.0270 - acc: 0.9908 - val_loss: 0.0410 - val_acc: 0.9894\n"
          ],
          "name": "stdout"
        }
      ]
    },
    {
      "cell_type": "code",
      "metadata": {
        "id": "7X2QnE15CTcr",
        "colab_type": "code",
        "colab": {}
      },
      "source": [
        ""
      ],
      "execution_count": 0,
      "outputs": []
    }
  ]
}