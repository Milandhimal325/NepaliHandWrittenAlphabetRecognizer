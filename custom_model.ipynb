{
  "nbformat": 4,
  "nbformat_minor": 0,
  "metadata": {
    "colab": {
      "name": "custom_model.ipynb",
      "version": "0.3.2",
      "provenance": [],
      "collapsed_sections": [],
      "include_colab_link": true
    },
    "kernelspec": {
      "name": "python3",
      "display_name": "Python 3"
    }
  },
  "cells": [
    {
      "cell_type": "markdown",
      "metadata": {
        "id": "view-in-github",
        "colab_type": "text"
      },
      "source": [
        "<a href=\"https://colab.research.google.com/github/Rojan116/NepaliHandWrittenAlphabetRecognizer/blob/master/custom_model.ipynb\" target=\"_parent\"><img src=\"https://colab.research.google.com/assets/colab-badge.svg\" alt=\"Open In Colab\"/></a>"
      ]
    },
    {
      "cell_type": "code",
      "metadata": {
        "id": "l8kFWyGppVdL",
        "colab_type": "code",
        "colab": {}
      },
      "source": [
        "#importing model\n",
        "import numpy\n",
        "import sys"
      ],
      "execution_count": 0,
      "outputs": []
    },
    {
      "cell_type": "code",
      "metadata": {
        "id": "DXct3dVAprrf",
        "colab_type": "code",
        "colab": {}
      },
      "source": [
        "#for convolving image\n",
        "\n",
        "def conv_(img, conv_filter):\n",
        "    filter_size = conv_filter.shape[1]\n",
        "    result = numpy.zeros((img.shape))\n",
        "    #Looping through the image to apply the convolution operation.\n",
        "    for r in numpy.uint16(numpy.arange(filter_size/2.0, \n",
        "                          img.shape[0]-filter_size/2.0+1)):\n",
        "        for c in numpy.uint16(numpy.arange(filter_size/2.0, \n",
        "                                           img.shape[1]-filter_size/2.0+1)):\n",
        "            \"\"\"\n",
        "            Getting the current region to get multiplied with the filter.\n",
        "            How to loop through the image and get the region based on \n",
        "            the image and filer sizes is the most tricky part of convolution.\n",
        "            \"\"\"\n",
        "            curr_region = img[r-numpy.uint16(numpy.floor(filter_size/2.0)):r+numpy.uint16(numpy.ceil(filter_size/2.0)), \n",
        "                              c-numpy.uint16(numpy.floor(filter_size/2.0)):c+numpy.uint16(numpy.ceil(filter_size/2.0))]\n",
        "            #Element-wise multipliplication between the current region and the filter.\n",
        "            curr_result = curr_region * conv_filter\n",
        "            conv_sum = numpy.sum(curr_result) #Summing the result of multiplication.\n",
        "            result[r, c] = conv_sum #Saving the summation in the convolution layer feature map.\n",
        "            \n",
        "    #Clipping the outliers of the result matrix.\n",
        "    final_result = result[numpy.uint16(filter_size/2.0):result.shape[0]-numpy.uint16(filter_size/2.0), \n",
        "                          numpy.uint16(filter_size/2.0):result.shape[1]-numpy.uint16(filter_size/2.0)]\n",
        "    return final_result"
      ],
      "execution_count": 0,
      "outputs": []
    },
    {
      "cell_type": "code",
      "metadata": {
        "id": "NuOyYOV7p2Sz",
        "colab_type": "code",
        "colab": {}
      },
      "source": [
        "def conv(img, conv_filter):\n",
        "\n",
        "    if len(img.shape) != len(conv_filter.shape) - 1: # Check whether number of dimensions is the same\n",
        "        print(\"Error: Number of dimensions in conv filter and image do not match.\")  \n",
        "        exit()\n",
        "    if len(img.shape) > 2 or len(conv_filter.shape) > 3: # Check if number of image channels matches the filter depth.\n",
        "        if img.shape[-1] != conv_filter.shape[-1]:\n",
        "            print(\"Error: Number of channels in both image and filter must match.\")\n",
        "            sys.exit()\n",
        "    if conv_filter.shape[1] != conv_filter.shape[2]: # Check if filter dimensions are equal.\n",
        "        print('Error: Filter must be a square matrix. I.e. number of rows and columns must match.')\n",
        "        sys.exit()\n",
        "    if conv_filter.shape[1]%2==0: # Check if filter diemnsions are odd.\n",
        "        print('Error: Filter must have an odd size. I.e. number of rows and columns must be odd.')\n",
        "        sys.exit()\n",
        "\n",
        "    # An empty feature map to hold the output of convolving the filter(s) with the image.\n",
        "    feature_maps = numpy.zeros((img.shape[0]-conv_filter.shape[1]+1, \n",
        "                                img.shape[1]-conv_filter.shape[1]+1, \n",
        "                                conv_filter.shape[0]))\n",
        "\n",
        "    # Convolving the image by the filter(s).\n",
        "    for filter_num in range(conv_filter.shape[0]):\n",
        "        print(\"Filter \", filter_num + 1)\n",
        "        curr_filter = conv_filter[filter_num, :] # getting a filter from the bank.\n",
        "        \"\"\" \n",
        "        Checking if there are mutliple channels for the single filter.\n",
        "        If so, then each channel will convolve the image.\n",
        "        The result of all convolutions are summed to return a single feature map.\n",
        "        \"\"\"\n",
        "        if len(curr_filter.shape) > 2:\n",
        "            conv_map = conv_(img[:, :, 0], curr_filter[:, :, 0]) # Array holding the sum of all feature maps.\n",
        "            for ch_num in range(1, curr_filter.shape[-1]): # Convolving each channel with the image and summing the results.\n",
        "                conv_map = conv_map + conv_(img[:, :, ch_num], \n",
        "                                  curr_filter[:, :, ch_num])\n",
        "        else: # There is just a single channel in the filter.\n",
        "            conv_map = conv_(img, curr_filter)\n",
        "        feature_maps[:, :, filter_num] = conv_map # Holding feature map with the current filter.\n",
        "    return feature_maps # Returning all feature maps.\n",
        "    "
      ],
      "execution_count": 0,
      "outputs": []
    },
    {
      "cell_type": "code",
      "metadata": {
        "id": "Wcvc7q9EqU9Z",
        "colab_type": "code",
        "colab": {
          "base_uri": "https://localhost:8080/",
          "height": 68
        },
        "outputId": "132f6358-f9d4-46d9-885b-c6757c2bfb04"
      },
      "source": [
        "#creating 6 3X3 filter\n",
        "conv_filter = numpy.ones([6,3,3])\n",
        "conv_filter[1]"
      ],
      "execution_count": 20,
      "outputs": [
        {
          "output_type": "execute_result",
          "data": {
            "text/plain": [
              "array([[1., 1., 1.],\n",
              "       [1., 1., 1.],\n",
              "       [1., 1., 1.]])"
            ]
          },
          "metadata": {
            "tags": []
          },
          "execution_count": 20
        }
      ]
    },
    {
      "cell_type": "code",
      "metadata": {
        "id": "fJt3B1-HrDN0",
        "colab_type": "code",
        "colab": {
          "base_uri": "https://localhost:8080/",
          "height": 204
        },
        "outputId": "8aa5ed56-a2c9-453f-9be6-699f7d899d88"
      },
      "source": [
        "#creating image of 11X11X1 shape\n",
        "img = numpy.ones([11,11])\n",
        "img"
      ],
      "execution_count": 23,
      "outputs": [
        {
          "output_type": "execute_result",
          "data": {
            "text/plain": [
              "array([[1., 1., 1., 1., 1., 1., 1., 1., 1., 1., 1.],\n",
              "       [1., 1., 1., 1., 1., 1., 1., 1., 1., 1., 1.],\n",
              "       [1., 1., 1., 1., 1., 1., 1., 1., 1., 1., 1.],\n",
              "       [1., 1., 1., 1., 1., 1., 1., 1., 1., 1., 1.],\n",
              "       [1., 1., 1., 1., 1., 1., 1., 1., 1., 1., 1.],\n",
              "       [1., 1., 1., 1., 1., 1., 1., 1., 1., 1., 1.],\n",
              "       [1., 1., 1., 1., 1., 1., 1., 1., 1., 1., 1.],\n",
              "       [1., 1., 1., 1., 1., 1., 1., 1., 1., 1., 1.],\n",
              "       [1., 1., 1., 1., 1., 1., 1., 1., 1., 1., 1.],\n",
              "       [1., 1., 1., 1., 1., 1., 1., 1., 1., 1., 1.],\n",
              "       [1., 1., 1., 1., 1., 1., 1., 1., 1., 1., 1.]])"
            ]
          },
          "metadata": {
            "tags": []
          },
          "execution_count": 23
        }
      ]
    },
    {
      "cell_type": "code",
      "metadata": {
        "id": "MKgDnOoArW3p",
        "colab_type": "code",
        "colab": {
          "base_uri": "https://localhost:8080/",
          "height": 119
        },
        "outputId": "8d7f5019-4aad-4c13-c582-f11c7b2fabe1"
      },
      "source": [
        "x = conv(img, conv_filter)"
      ],
      "execution_count": 24,
      "outputs": [
        {
          "output_type": "stream",
          "text": [
            "Filter  1\n",
            "Filter  2\n",
            "Filter  3\n",
            "Filter  4\n",
            "Filter  5\n",
            "Filter  6\n"
          ],
          "name": "stdout"
        }
      ]
    },
    {
      "cell_type": "code",
      "metadata": {
        "id": "9Ti5pvAyrrKH",
        "colab_type": "code",
        "colab": {
          "base_uri": "https://localhost:8080/",
          "height": 34
        },
        "outputId": "a9a48c4d-dd02-42cd-d1b7-b84c4046ed79"
      },
      "source": [
        "x.shape"
      ],
      "execution_count": 25,
      "outputs": [
        {
          "output_type": "execute_result",
          "data": {
            "text/plain": [
              "(9, 9, 6)"
            ]
          },
          "metadata": {
            "tags": []
          },
          "execution_count": 25
        }
      ]
    },
    {
      "cell_type": "code",
      "metadata": {
        "id": "MH8aCUPasTtv",
        "colab_type": "code",
        "colab": {
          "base_uri": "https://localhost:8080/",
          "height": 170
        },
        "outputId": "d79d06e9-7494-4022-896e-ff0076da1c3d"
      },
      "source": [
        "x[0]"
      ],
      "execution_count": 26,
      "outputs": [
        {
          "output_type": "execute_result",
          "data": {
            "text/plain": [
              "array([[9., 9., 9., 9., 9., 9.],\n",
              "       [9., 9., 9., 9., 9., 9.],\n",
              "       [9., 9., 9., 9., 9., 9.],\n",
              "       [9., 9., 9., 9., 9., 9.],\n",
              "       [9., 9., 9., 9., 9., 9.],\n",
              "       [9., 9., 9., 9., 9., 9.],\n",
              "       [9., 9., 9., 9., 9., 9.],\n",
              "       [9., 9., 9., 9., 9., 9.],\n",
              "       [9., 9., 9., 9., 9., 9.]])"
            ]
          },
          "metadata": {
            "tags": []
          },
          "execution_count": 26
        }
      ]
    },
    {
      "cell_type": "code",
      "metadata": {
        "id": "G6rNxtqcs3KG",
        "colab_type": "code",
        "colab": {}
      },
      "source": [
        "def pooling(feature_map, size=2, stride=2):\n",
        "    #Preparing the output of the pooling operation.\n",
        "    pool_out = numpy.zeros((numpy.uint16((feature_map.shape[0]-size+1)/stride+1),\n",
        "                            numpy.uint16((feature_map.shape[1]-size+1)/stride+1),\n",
        "                            feature_map.shape[-1]))\n",
        "    for map_num in range(feature_map.shape[-1]):\n",
        "        r2 = 0\n",
        "        for r in numpy.arange(0,feature_map.shape[0]-size+1, stride):\n",
        "            c2 = 0\n",
        "            for c in numpy.arange(0, feature_map.shape[1]-size+1, stride):\n",
        "                pool_out[r2, c2, map_num] = numpy.max([feature_map[r:r+size,  c:c+size, map_num]])\n",
        "                c2 = c2 + 1\n",
        "            r2 = r2 +1\n",
        "    return pool_out"
      ],
      "execution_count": 0,
      "outputs": []
    },
    {
      "cell_type": "code",
      "metadata": {
        "id": "Yy_OOQ1l6JhV",
        "colab_type": "code",
        "colab": {}
      },
      "source": [
        "def relu(feature_map):\n",
        "    #Preparing the output of the ReLU activation function.\n",
        "    relu_out = numpy.zeros(feature_map.shape)\n",
        "    for map_num in range(feature_map.shape[-1]):\n",
        "        for r in numpy.arange(0,feature_map.shape[0]):\n",
        "            for c in numpy.arange(0, feature_map.shape[1]):\n",
        "                relu_out[r, c, map_num] = numpy.max([feature_map[r, c, map_num], 0])\n",
        "    return relu_out"
      ],
      "execution_count": 0,
      "outputs": []
    },
    {
      "cell_type": "code",
      "metadata": {
        "id": "8do5i2K-6owz",
        "colab_type": "code",
        "colab": {
          "base_uri": "https://localhost:8080/",
          "height": 119
        },
        "outputId": "42f18c3c-1ce2-441b-c674-180ecae277a3"
      },
      "source": [
        "#calling conv2d layer\n",
        "x = conv(img, conv_filter)"
      ],
      "execution_count": 32,
      "outputs": [
        {
          "output_type": "stream",
          "text": [
            "Filter  1\n",
            "Filter  2\n",
            "Filter  3\n",
            "Filter  4\n",
            "Filter  5\n",
            "Filter  6\n"
          ],
          "name": "stdout"
        }
      ]
    },
    {
      "cell_type": "code",
      "metadata": {
        "id": "TU8tIYVb7hEC",
        "colab_type": "code",
        "colab": {}
      },
      "source": [
        "#calling #relu\n",
        "rel = relu(x)"
      ],
      "execution_count": 0,
      "outputs": []
    },
    {
      "cell_type": "code",
      "metadata": {
        "id": "lGB7XHUd7qVh",
        "colab_type": "code",
        "colab": {}
      },
      "source": [
        "#calling pooling layer\n",
        "pool = pooling(rel,2,2)"
      ],
      "execution_count": 0,
      "outputs": []
    },
    {
      "cell_type": "code",
      "metadata": {
        "id": "4VywdhSL737P",
        "colab_type": "code",
        "colab": {}
      },
      "source": [
        "#conv2d layer 2\n",
        "x = conv(pool, conv_filter)"
      ],
      "execution_count": 0,
      "outputs": []
    },
    {
      "cell_type": "code",
      "metadata": {
        "id": "VthVcSxz8AIc",
        "colab_type": "code",
        "colab": {}
      },
      "source": [
        ""
      ],
      "execution_count": 0,
      "outputs": []
    }
  ]
}