{
  "nbformat": 4,
  "nbformat_minor": 0,
  "metadata": {
    "colab": {
      "name": "new_cnn_may14.ipynb",
      "version": "0.3.2",
      "provenance": [],
      "include_colab_link": true
    },
    "kernelspec": {
      "name": "python3",
      "display_name": "Python 3"
    },
    "accelerator": "GPU"
  },
  "cells": [
    {
      "cell_type": "markdown",
      "metadata": {
        "id": "view-in-github",
        "colab_type": "text"
      },
      "source": [
        "<a href=\"https://colab.research.google.com/github/Rojan116/NepaliHandWrittenAlphabetRecognizer/blob/master/new_cnn_98%25.ipynb\" target=\"_parent\"><img src=\"https://colab.research.google.com/assets/colab-badge.svg\" alt=\"Open In Colab\"/></a>"
      ]
    },
    {
      "cell_type": "code",
      "metadata": {
        "id": "6Uhar1qmMeGi",
        "colab_type": "code",
        "outputId": "416785c5-acde-4a18-d0a0-5ae3a517a5f8",
        "colab": {
          "base_uri": "https://localhost:8080/",
          "height": 151
        }
      },
      "source": [
        "!git clone https://github.com/Rojan116/NepaliHandWrittenAlphabetRecognizer.git"
      ],
      "execution_count": 1,
      "outputs": [
        {
          "output_type": "stream",
          "text": [
            "Cloning into 'NepaliHandWrittenAlphabetRecognizer'...\n",
            "remote: Enumerating objects: 92085, done.\u001b[K\n",
            "remote: Counting objects: 100% (92085/92085), done.\u001b[K\n",
            "remote: Compressing objects: 100% (92085/92085), done.\u001b[K\n",
            "remote: Total 92085 (delta 5), reused 92073 (delta 0), pack-reused 0\u001b[K\n",
            "Receiving objects: 100% (92085/92085), 56.76 MiB | 2.84 MiB/s, done.\n",
            "Resolving deltas: 100% (5/5), done.\n",
            "Checking out files: 100% (92005/92005), done.\n"
          ],
          "name": "stdout"
        }
      ]
    },
    {
      "cell_type": "code",
      "metadata": {
        "id": "X8kasikyM9hh",
        "colab_type": "code",
        "outputId": "753454e9-311f-4e06-edb2-273b55f3f8eb",
        "colab": {
          "base_uri": "https://localhost:8080/",
          "height": 34
        }
      },
      "source": [
        "ls"
      ],
      "execution_count": 2,
      "outputs": [
        {
          "output_type": "stream",
          "text": [
            "\u001b[0m\u001b[01;34mNepaliHandWrittenAlphabetRecognizer\u001b[0m/  \u001b[01;34msample_data\u001b[0m/\n"
          ],
          "name": "stdout"
        }
      ]
    },
    {
      "cell_type": "code",
      "metadata": {
        "id": "NSngiJhJNIB7",
        "colab_type": "code",
        "outputId": "f9780dd7-54e7-4c0e-8690-63a015b9f763",
        "colab": {
          "base_uri": "https://localhost:8080/",
          "height": 34
        }
      },
      "source": [
        "cd NepaliHandWrittenAlphabetRecognizer"
      ],
      "execution_count": 3,
      "outputs": [
        {
          "output_type": "stream",
          "text": [
            "/content/NepaliHandWrittenAlphabetRecognizer\n"
          ],
          "name": "stdout"
        }
      ]
    },
    {
      "cell_type": "code",
      "metadata": {
        "id": "czGK9iAONLz8",
        "colab_type": "code",
        "colab": {}
      },
      "source": [
        "import cv2\n",
        "import matplotlib.pyplot as plt\n",
        "import numpy as np\n",
        "import os\n",
        "import tensorflow as tf\n",
        "from tqdm import tqdm\n",
        "import random\n",
        "from keras.utils import to_categorical\n",
        "\n",
        "\n"
      ],
      "execution_count": 0,
      "outputs": []
    },
    {
      "cell_type": "code",
      "metadata": {
        "id": "LsmtWrIi4xLc",
        "colab_type": "code",
        "colab": {}
      },
      "source": [
        "#%matplotlib.inline \n",
        "\n",
        "PATH = os.getcwd()\n",
        "DATADIR = PATH + '/dhrcdata/Train'\t\t\n",
        "train_data_path = PATH + '/dhrcdata/Train'\n",
        "test_data_path = PATH + '/dhrcdata/Test'\n"
      ],
      "execution_count": 0,
      "outputs": []
    },
    {
      "cell_type": "code",
      "metadata": {
        "id": "X62kwyHO46b0",
        "colab_type": "code",
        "colab": {}
      },
      "source": [
        "\n",
        "\n",
        "CATEGORIES = [\n",
        "\n",
        "\"character_1_ka\",\"character_2_kha\",\"character_3_ga\",\"character_4_gha\",\"character_5_kna\",\n",
        "\"character_6_cha\",\"character_7_chha\",\"character_8_ja\",\"character_9_jha\",\"character_10_yna\",\n",
        "\"character_11_taamatar\",\"character_12_thaa\",\"character_13_daa\",\"character_14_dhaa\",\"character_15_adna\",\n",
        "\"character_16_tabala\",\"character_17_tha\",\"character_18_da\",\"character_19_dha\",\"character_20_na\",\"character_21_pa\",\n",
        "\"character_22_pha\",\"character_23_ba\",\"character_24_bha\",\"character_25_ma\",\"character_26_yaw\",\"character_27_ra\",\n",
        "\"character_28_la\",\"character_29_waw\",\"character_30_motosaw\",\"character_31_petchiryakha\",\"character_32_patalosaw\",\n",
        "\"character_33_ha\",\"character_34_chhya\",\"character_35_tra\",\"character_36_gya\",\"digit_0\",\"digit_1\",\"digit_2\",\"digit_3\",\n",
        "\"digit_4\",\"digit_5\",\"digit_6\",\"digit_7\",\"digit_8\",\"digit_9\"\n",
        "\n",
        "]\n"
      ],
      "execution_count": 0,
      "outputs": []
    },
    {
      "cell_type": "code",
      "metadata": {
        "id": "0goo09384_Ru",
        "colab_type": "code",
        "colab": {}
      },
      "source": [
        "\n",
        "IMG_SIZE = 32\n",
        "training_data = []\n",
        "testing_data = []\n",
        "\n",
        "def create_training_data():\n",
        "  for catagory in CATEGORIES:\n",
        "    path = os.path.join(train_data_path, catagory)\n",
        "    class_num = CATEGORIES.index(catagory)\n",
        "    for img in os.listdir(path):\n",
        "        try:\n",
        "          img_array = cv2.imread(os.path.join(path,img),cv2.IMREAD_GRAYSCALE)\n",
        "          new_array = cv2.resize(img_array,(IMG_SIZE,IMG_SIZE))\n",
        "          training_data.append([new_array,class_num])\n",
        "        except Exception as e:\n",
        "          pass\n",
        "\n",
        "\n",
        "\n",
        "def create_testing_data():\n",
        "  for catagory in CATEGORIES:\n",
        "    path = os.path.join(test_data_path, catagory)\n",
        "    class_num = CATEGORIES.index(catagory)\n",
        "    for img in os.listdir(path):\n",
        "        try:\n",
        "          img_array = cv2.imread(os.path.join(path,img),cv2.IMREAD_GRAYSCALE)\n",
        "          new_array = cv2.resize(img_array,(IMG_SIZE,IMG_SIZE))\n",
        "          testing_data.append([new_array,class_num])\n",
        "        except Exception as e:\n",
        "          pass\n",
        "\n",
        "\n",
        "\n",
        "create_training_data()\n",
        "create_testing_data()\n",
        "\n"
      ],
      "execution_count": 0,
      "outputs": []
    },
    {
      "cell_type": "code",
      "metadata": {
        "id": "fvixuUmT9vLQ",
        "colab_type": "code",
        "colab": {
          "base_uri": "https://localhost:8080/",
          "height": 34
        },
        "outputId": "811253f0-1d41-477c-cffc-79773b8222e2"
      },
      "source": [
        "#for histogram\n",
        "num_class = [i for i in range(47)]\n",
        "counts = []\n",
        "def count_image_in_class():\n",
        "  for catagory in CATEGORIES:\n",
        "    path = os.path.join(train_data_path, catagory)\n",
        "    class_num = CATEGORIES.index(catagory)\n",
        "    for i in range(47):\n",
        "      y = 0\n",
        "      for img in os.listdir(path):\n",
        "        y= y+1\n",
        "      counts.append(y)  \n",
        "        \n",
        "  count = np.array(counts)\n",
        "  #print(count)\n",
        "count_image_in_class()\n",
        "\n"
      ],
      "execution_count": 42,
      "outputs": [
        {
          "output_type": "stream",
          "text": [
            "[1700 1700 1700 ... 1700 1700 1700]\n"
          ],
          "name": "stdout"
        }
      ]
    },
    {
      "cell_type": "code",
      "metadata": {
        "id": "mI20znH9DgF-",
        "colab_type": "code",
        "colab": {}
      },
      "source": [
        ""
      ],
      "execution_count": 0,
      "outputs": []
    },
    {
      "cell_type": "code",
      "metadata": {
        "id": "zQKTlAJuA7ZG",
        "colab_type": "code",
        "colab": {
          "base_uri": "https://localhost:8080/",
          "height": 34
        },
        "outputId": "c8b19787-a2c7-43da-89a3-739fe8d166f5"
      },
      "source": [
        "listofzeros = [0] * 5\n",
        "print(listofzeros)"
      ],
      "execution_count": 29,
      "outputs": [
        {
          "output_type": "stream",
          "text": [
            "[0, 0, 0, 0, 0]\n"
          ],
          "name": "stdout"
        }
      ]
    },
    {
      "cell_type": "code",
      "metadata": {
        "id": "o7hl-nzV5Hxe",
        "colab_type": "code",
        "colab": {}
      },
      "source": [
        "#shuffle training data for trainning diff image set in every batch\n",
        "random.shuffle(training_data)\n",
        "\n",
        "#hot encode image dataset\n",
        "\n",
        "train_x = []\n",
        "train_y = []\n",
        "test_x = []\n",
        "test_y = []\n",
        "\n",
        "\n",
        "\n",
        "#seperating features and labels from list\n",
        "for features, labels in training_data:\n",
        "\ttrain_x.append(features)\n",
        "\ttrain_y.append(labels)\n",
        "\n",
        "for features, labels in testing_data:\n",
        "\ttest_x.append(features)\n",
        "\ttest_y.append(labels)\n",
        "\n",
        "\n",
        "#converting list to array\n",
        "train_y_array = np.array(train_y)\n",
        "test_y_array = np.array(test_y)\n",
        "\n",
        "#converting image dataset to input 32*32 dataset \n",
        "\n",
        "train_image_array = np.array(train_x).reshape(-1,32,32,1)\n",
        "test_image_array = np.array(test_x).reshape(-1,32,32,1)\n",
        "\n",
        "\n",
        "#one hot enoded class \n",
        "train_y = to_categorical(train_y_array)\n",
        "test_y = to_categorical(test_y_array)\n",
        "\n",
        "\n",
        "train_y = np.array(train_y)\n",
        "test_y = np.array(test_y)\n",
        "\n",
        "#all train x, y and test x y are in array form now\n",
        "\n"
      ],
      "execution_count": 0,
      "outputs": []
    },
    {
      "cell_type": "code",
      "metadata": {
        "id": "KqO3vTVn7YhD",
        "colab_type": "code",
        "colab": {}
      },
      "source": [
        ""
      ],
      "execution_count": 0,
      "outputs": []
    },
    {
      "cell_type": "code",
      "metadata": {
        "id": "tP_UgBDT5P6T",
        "colab_type": "code",
        "colab": {}
      },
      "source": [
        "\n",
        "#now creating our model\n",
        "\n",
        "from keras.models import Sequential\n",
        "from keras.layers import *\n",
        "from keras.optimizers import *\n",
        "\n",
        "model = Sequential()\n",
        "\n",
        "model.add(InputLayer(input_shape=(32,32,1)))\n",
        "model.add(Conv2D(filters=64,kernel_size=3,strides=1,padding='same', activation='relu'))\n",
        "model.add(Conv2D(filters=64,kernel_size=3,strides=1,padding='same', activation='relu'))\n",
        "model.add(MaxPool2D(pool_size=5,padding='same'))\n",
        "\n",
        "model.add(Conv2D(filters=32,kernel_size=3,strides=1,padding='same', activation='relu'))\n",
        "model.add(Conv2D(filters=32,kernel_size=3,strides=1,padding='same', activation='relu'))\n",
        "model.add(MaxPool2D(pool_size=5,padding='same'))\n",
        "\n",
        "# model.add(Conv2D(filters=80,kernel_size=3,strides=1,padding='same', activation='relu'))\n",
        "# model.add(MaxPool2D(pool_size=5,padding='same'))\n",
        "\n",
        "model.add(Dropout(0.25))\n",
        "model.add(Flatten())\n",
        "model.add(Dense(512,activation='relu'))\n",
        "model.add(Dropout(0.5))\n",
        "\n",
        "\n",
        "\n",
        "\n",
        "model.add(Dense(46,activation='softmax'))\n",
        "optimizer = Adam(lr=1e-3)\n",
        "\n",
        "model.compile(optimizer=optimizer, loss='categorical_crossentropy',metrics=['accuracy'])\n",
        "model.fit(x=train_image_array,y=train_y,epochs=30,batch_size=100, validation_split=0.3)\n",
        "\n",
        "model.summary()\n",
        "\n"
      ],
      "execution_count": 0,
      "outputs": []
    },
    {
      "cell_type": "code",
      "metadata": {
        "id": "y46FbTE7NPAA",
        "colab_type": "code",
        "colab": {}
      },
      "source": [
        "model.save('androidtest_model.h5')\n",
        "model.save_weights('androidtest_weights.h5')\n"
      ],
      "execution_count": 0,
      "outputs": []
    },
    {
      "cell_type": "code",
      "metadata": {
        "id": "-vNTvdFvS_XC",
        "colab_type": "code",
        "outputId": "fdbe008a-16c5-4340-834e-f48a32784448",
        "colab": {
          "base_uri": "https://localhost:8080/",
          "height": 1146
        }
      },
      "source": [
        "#new model\n",
        "\n",
        "# Set the CNN model \n",
        "# my CNN architechture is In -> [[Conv2D->relu]*2 -> MaxPool2D -> Dropout]*2 -> Flatten -> Dense -> Dropout -> Out\n",
        "\n",
        "model = Sequential()\n",
        "\n",
        "model.add(Conv2D(filters = 32, kernel_size = (5,5),padding = 'Same', \n",
        "                 activation ='relu', input_shape = (32,32,1)))\n",
        "model.add(Conv2D(filters = 32, kernel_size = (5,5),padding = 'Same', \n",
        "                 activation ='relu'))\n",
        "model.add(MaxPool2D(pool_size=(2,2)))\n",
        "model.add(Dropout(0.25))\n",
        "\n",
        "\n",
        "model.add(Conv2D(filters = 64, kernel_size = (3,3),padding = 'Same', \n",
        "                 activation ='relu'))\n",
        "model.add(Conv2D(filters = 64, kernel_size = (3,3),padding = 'Same', \n",
        "                 activation ='relu'))\n",
        "model.add(MaxPool2D(pool_size=(2,2), strides=(2,2)))\n",
        "model.add(Dropout(0.25))\n",
        "\n",
        "\n",
        "model.add(Flatten())\n",
        "model.add(Dense(256, activation = \"relu\"))\n",
        "model.add(Dropout(0.5))\n",
        "model.add(Dense(46, activation = \"softmax\"))\n",
        "\n",
        "# Define the optimizer\n",
        "#optimizer = RMSprop(lr=0.001, rho=0.9, epsilon=1e-08, decay=0.0)\n",
        "optimizer = Adam(lr=0.0001)\n",
        "\n",
        "# Compile the model\n",
        "model.compile(optimizer = optimizer , loss = \"categorical_crossentropy\", metrics=[\"accuracy\"])\n",
        "\n",
        "model.summary()\n",
        "\n",
        "model.fit(x=train_image_array,y=train_y,epochs=20,batch_size=100, validation_split=0.3)"
      ],
      "execution_count": 0,
      "outputs": [
        {
          "output_type": "stream",
          "text": [
            "_________________________________________________________________\n",
            "Layer (type)                 Output Shape              Param #   \n",
            "=================================================================\n",
            "conv2d_49 (Conv2D)           (None, 32, 32, 32)        832       \n",
            "_________________________________________________________________\n",
            "conv2d_50 (Conv2D)           (None, 32, 32, 32)        25632     \n",
            "_________________________________________________________________\n",
            "max_pooling2d_25 (MaxPooling (None, 16, 16, 32)        0         \n",
            "_________________________________________________________________\n",
            "dropout_36 (Dropout)         (None, 16, 16, 32)        0         \n",
            "_________________________________________________________________\n",
            "conv2d_51 (Conv2D)           (None, 16, 16, 64)        18496     \n",
            "_________________________________________________________________\n",
            "conv2d_52 (Conv2D)           (None, 16, 16, 64)        36928     \n",
            "_________________________________________________________________\n",
            "max_pooling2d_26 (MaxPooling (None, 8, 8, 64)          0         \n",
            "_________________________________________________________________\n",
            "dropout_37 (Dropout)         (None, 8, 8, 64)          0         \n",
            "_________________________________________________________________\n",
            "flatten_13 (Flatten)         (None, 4096)              0         \n",
            "_________________________________________________________________\n",
            "dense_25 (Dense)             (None, 256)               1048832   \n",
            "_________________________________________________________________\n",
            "dropout_38 (Dropout)         (None, 256)               0         \n",
            "_________________________________________________________________\n",
            "dense_26 (Dense)             (None, 46)                11822     \n",
            "=================================================================\n",
            "Total params: 1,142,542\n",
            "Trainable params: 1,142,542\n",
            "Non-trainable params: 0\n",
            "_________________________________________________________________\n",
            "Train on 54740 samples, validate on 23460 samples\n",
            "Epoch 1/20\n",
            "54740/54740 [==============================] - 9s 171us/step - loss: 15.6878 - acc: 0.0265 - val_loss: 15.6161 - val_acc: 0.0309\n",
            "Epoch 2/20\n",
            "54740/54740 [==============================] - 8s 155us/step - loss: 15.4896 - acc: 0.0388 - val_loss: 15.4672 - val_acc: 0.0404\n",
            "Epoch 3/20\n",
            "54740/54740 [==============================] - 9s 157us/step - loss: 15.4210 - acc: 0.0432 - val_loss: 15.4796 - val_acc: 0.0396\n",
            "Epoch 4/20\n",
            "54740/54740 [==============================] - 9s 158us/step - loss: 15.4066 - acc: 0.0441 - val_loss: 15.4702 - val_acc: 0.0402\n",
            "Epoch 5/20\n",
            "54740/54740 [==============================] - 8s 155us/step - loss: 15.4055 - acc: 0.0442 - val_loss: 15.4675 - val_acc: 0.0404\n",
            "Epoch 6/20\n",
            "54740/54740 [==============================] - 8s 154us/step - loss: 15.4053 - acc: 0.0442 - val_loss: 15.4736 - val_acc: 0.0400\n",
            "Epoch 7/20\n",
            "54740/54740 [==============================] - 8s 154us/step - loss: 15.3934 - acc: 0.0450 - val_loss: 15.3857 - val_acc: 0.0454\n",
            "Epoch 8/20\n",
            "54740/54740 [==============================] - 9s 156us/step - loss: 15.2867 - acc: 0.0515 - val_loss: 15.3204 - val_acc: 0.0495\n",
            "Epoch 9/20\n",
            "54740/54740 [==============================] - 8s 154us/step - loss: 15.2646 - acc: 0.0529 - val_loss: 15.1854 - val_acc: 0.0578\n",
            "Epoch 10/20\n",
            "54740/54740 [==============================] - 8s 154us/step - loss: 15.2467 - acc: 0.0540 - val_loss: 15.1782 - val_acc: 0.0583\n",
            "Epoch 11/20\n",
            "54740/54740 [==============================] - 8s 154us/step - loss: 15.1686 - acc: 0.0588 - val_loss: 15.2962 - val_acc: 0.0508\n",
            "Epoch 12/20\n",
            "54740/54740 [==============================] - 9s 157us/step - loss: 15.0053 - acc: 0.0689 - val_loss: 14.7511 - val_acc: 0.0847\n",
            "Epoch 13/20\n",
            "54740/54740 [==============================] - 9s 161us/step - loss: 14.8292 - acc: 0.0799 - val_loss: 14.7767 - val_acc: 0.0832\n",
            "Epoch 14/20\n",
            "54740/54740 [==============================] - 8s 155us/step - loss: 14.8913 - acc: 0.0760 - val_loss: 14.9153 - val_acc: 0.0745\n",
            "Epoch 15/20\n",
            "54740/54740 [==============================] - 8s 155us/step - loss: 14.8978 - acc: 0.0756 - val_loss: 14.7419 - val_acc: 0.0853\n",
            "Epoch 16/20\n",
            "54740/54740 [==============================] - 8s 155us/step - loss: 14.8544 - acc: 0.0784 - val_loss: 14.7190 - val_acc: 0.0868\n",
            "Epoch 17/20\n",
            "28900/54740 [==============>...............] - ETA: 3s - loss: 14.7214 - acc: 0.0866"
          ],
          "name": "stdout"
        }
      ]
    },
    {
      "cell_type": "code",
      "metadata": {
        "id": "2Czx3XYLRpfF",
        "colab_type": "code",
        "colab": {}
      },
      "source": [
        ""
      ],
      "execution_count": 0,
      "outputs": []
    }
  ]
}