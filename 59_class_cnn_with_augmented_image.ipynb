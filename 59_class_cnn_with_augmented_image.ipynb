{
  "nbformat": 4,
  "nbformat_minor": 0,
  "metadata": {
    "colab": {
      "name": "59 class cnn with augmented image.ipynb",
      "version": "0.3.2",
      "provenance": [],
      "collapsed_sections": [],
      "toc_visible": true,
      "include_colab_link": true
    },
    "kernelspec": {
      "name": "python3",
      "display_name": "Python 3"
    },
    "accelerator": "GPU"
  },
  "cells": [
    {
      "cell_type": "markdown",
      "metadata": {
        "id": "view-in-github",
        "colab_type": "text"
      },
      "source": [
        "<a href=\"https://colab.research.google.com/github/Rojan116/NepaliHandWrittenAlphabetRecognizer/blob/master/59_class_cnn_with_augmented_image.ipynb\" target=\"_parent\"><img src=\"https://colab.research.google.com/assets/colab-badge.svg\" alt=\"Open In Colab\"/></a>"
      ]
    },
    {
      "cell_type": "code",
      "metadata": {
        "id": "JcQLIcFPEmDE",
        "colab_type": "code",
        "colab": {}
      },
      "source": [
        "# Change runtime to GPU for faster compuatation"
      ],
      "execution_count": 0,
      "outputs": []
    },
    {
      "cell_type": "markdown",
      "metadata": {
        "id": "S3sQCofLEyyT",
        "colab_type": "text"
      },
      "source": [
        "# Prepare the dataset\n",
        "Download dataset from [this url](https://archive.ics.uci.edu/ml/machine-learning-databases/00389/). "
      ]
    },
    {
      "cell_type": "code",
      "metadata": {
        "id": "xwAARA2yE1Ot",
        "colab_type": "code",
        "colab": {}
      },
      "source": [
        "# get dataset from url\n",
        "! wget -qq https://archive.ics.uci.edu/ml/machine-learning-databases/00389/DevanagariHandwrittenCharacterDataset.zip\n",
        "\n",
        "# unzip zip files\n",
        "!unzip -q DevanagariHandwrittenCharacterDataset.zip\n",
        "\n",
        "# rename directory\n",
        "!mv DevanagariHandwrittenCharacterDataset/ data/ \n",
        "# remove .zip file\n",
        "!rm *.zip"
      ],
      "execution_count": 0,
      "outputs": []
    },
    {
      "cell_type": "code",
      "metadata": {
        "id": "HfYvExZPMZ8X",
        "colab_type": "code",
        "colab": {
          "base_uri": "https://localhost:8080/",
          "height": 34
        },
        "outputId": "7a5fa701-0135-4b60-e8f3-e35bd5881a6e"
      },
      "source": [
        "ls"
      ],
      "execution_count": 2,
      "outputs": [
        {
          "output_type": "stream",
          "text": [
            "\u001b[0m\u001b[01;34mdata\u001b[0m/  \u001b[01;34msample_data\u001b[0m/\n"
          ],
          "name": "stdout"
        }
      ]
    },
    {
      "cell_type": "code",
      "metadata": {
        "id": "PYzVk1zbKsDX",
        "colab_type": "code",
        "colab": {
          "base_uri": "https://localhost:8080/",
          "height": 153
        },
        "outputId": "6ebda49d-556e-4696-8d55-656dd584aed1"
      },
      "source": [
        "!git clone https://github.com/Rojan116/NepaliHandWrittenAlphabetRecognizer.git"
      ],
      "execution_count": 3,
      "outputs": [
        {
          "output_type": "stream",
          "text": [
            "Cloning into 'NepaliHandWrittenAlphabetRecognizer'...\n",
            "remote: Enumerating objects: 8014, done.\u001b[K\n",
            "remote: Counting objects: 100% (8014/8014), done.\u001b[K\n",
            "remote: Compressing objects: 100% (7981/7981), done.\u001b[K\n",
            "remote: Total 105545 (delta 160), reused 7878 (delta 32), pack-reused 97531\n",
            "Receiving objects: 100% (105545/105545), 139.63 MiB | 8.49 MiB/s, done.\n",
            "Resolving deltas: 100% (1710/1710), done.\n",
            "Checking out files: 100% (106170/106170), done.\n"
          ],
          "name": "stdout"
        }
      ]
    },
    {
      "cell_type": "code",
      "metadata": {
        "id": "SEGyJu88K33r",
        "colab_type": "code",
        "colab": {
          "base_uri": "https://localhost:8080/",
          "height": 34
        },
        "outputId": "b17f46ab-1356-4dcf-de07-e90b55e05c85"
      },
      "source": [
        "ls"
      ],
      "execution_count": 4,
      "outputs": [
        {
          "output_type": "stream",
          "text": [
            "\u001b[0m\u001b[01;34mdata\u001b[0m/  \u001b[01;34mNepaliHandWrittenAlphabetRecognizer\u001b[0m/  \u001b[01;34msample_data\u001b[0m/\n"
          ],
          "name": "stdout"
        }
      ]
    },
    {
      "cell_type": "code",
      "metadata": {
        "id": "ElbnaFIIK6U7",
        "colab_type": "code",
        "colab": {
          "base_uri": "https://localhost:8080/",
          "height": 34
        },
        "outputId": "0678da29-1490-4db9-fca2-35dbe1f4604d"
      },
      "source": [
        "cd NepaliHandWrittenAlphabetRecognizer"
      ],
      "execution_count": 5,
      "outputs": [
        {
          "output_type": "stream",
          "text": [
            "/content/NepaliHandWrittenAlphabetRecognizer\n"
          ],
          "name": "stdout"
        }
      ]
    },
    {
      "cell_type": "code",
      "metadata": {
        "id": "ItIWR5otMgNi",
        "colab_type": "code",
        "colab": {
          "base_uri": "https://localhost:8080/",
          "height": 221
        },
        "outputId": "d90b37e7-a3f4-4adb-fd6a-a180231642b3"
      },
      "source": [
        "ls"
      ],
      "execution_count": 6,
      "outputs": [
        {
          "output_type": "stream",
          "text": [
            "augmented_cnn_36_class.ipynb   \u001b[0m\u001b[01;34mnepalibarna\u001b[0m/\n",
            "augmented_cnn.ipynb            \u001b[01;34mnepalibarnasnew\u001b[0m/\n",
            "augmented_cnn_predicted.ipynb  new_cnn_9766_acc.ipynb\n",
            "Augmented_Nepali_Digits.ipynb  new_cnn_98%.ipynb\n",
            "cnn_98_.ipynb                  new_cnn.ipynb\n",
            "CNN.ipynb                      new_cnn_may14.ipynb\n",
            "custom_model.ipynb             new_cnn_may15.ipynb\n",
            "dev.py                         new_cnn_may16.ipynb\n",
            "\u001b[01;34mdhrcdata\u001b[0m/                      new_own_cnn.ipynb\n",
            "image_augmentation.ipynb       own_dataset_cnn.ipynb\n",
            "keras_to_tfliteipynb.ipynb     size.py\n",
            "my_own_cnn_for_mnist.ipynb     Untitled.ipynb\n"
          ],
          "name": "stdout"
        }
      ]
    },
    {
      "cell_type": "markdown",
      "metadata": {
        "id": "gnoTXwAZDrB8",
        "colab_type": "text"
      },
      "source": [
        "#Load libraries "
      ]
    },
    {
      "cell_type": "code",
      "metadata": {
        "id": "64bnuj27mS1n",
        "colab_type": "code",
        "colab": {}
      },
      "source": [
        "# import libraries\n",
        "import matplotlib.pyplot as plt\n",
        "from PIL import Image\n",
        "import numpy as np\n",
        "import random\n",
        "from keras.preprocessing.image import ImageDataGenerator\n",
        "from keras import layers, callbacks, optimizers, models\n",
        "import os\n",
        "from keras.layers import *\n",
        "from keras.optimizers import *"
      ],
      "execution_count": 0,
      "outputs": []
    },
    {
      "cell_type": "code",
      "metadata": {
        "id": "cWBwI15xLAVc",
        "colab_type": "code",
        "colab": {}
      },
      "source": [
        "PATH = os.getcwd()\n",
        "DATADIR = PATH + '/nepalibarnasnew/Train'\t\t\n",
        "train_data_path = PATH + '/nepalibarnasnew/Train'\n",
        "test_data_path = PATH + '/nepalibarnasnew/Test'\n"
      ],
      "execution_count": 0,
      "outputs": []
    },
    {
      "cell_type": "code",
      "metadata": {
        "id": "AWFRyjYXFZy3",
        "colab_type": "code",
        "colab": {}
      },
      "source": [
        "# for this problem i'll consider only digits\n",
        "class_names = [\n",
        "\n",
        "\"character_1_ka\",\"character_2_kha\",\"character_3_ga\",\"character_4_gha\",\"character_5_kna\",\n",
        "\"character_6_cha\",\"character_7_chha\",\"character_8_ja\",\"character_9_jha\",\"character_10_yna\",\n",
        "\"character_11_taamatar\",\"character_12_thaa\",\"character_13_daa\",\"character_14_dhaa\",\"character_15_adna\",\n",
        "\"character_16_tabala\",\"character_17_tha\",\"character_18_da\",\"character_19_dha\",\"character_20_na\",\"character_21_pa\",\n",
        "\"character_22_pha\",\"character_23_ba\",\"character_24_bha\",\"character_25_ma\",\"character_26_yaw\",\"character_27_ra\",\n",
        "\"character_28_la\",\"character_29_waw\",\"character_30_motosaw\",\"character_31_petchiryakha\",\"character_32_patalosaw\",\n",
        "\"character_33_ha\",\"character_34_chhya\",\"character_35_tra\",\"character_36_gya\",\"digit_0\",\"digit_1\",\"digit_2\",\"digit_3\",\n",
        "\"digit_4\",\"digit_5\",\"digit_6\",\"digit_7\",\"digit_8\",\"digit_9\",\"vowel_0_a\",\"vowel_1_aa\",\"vowel_2_i\",\"vowel_3_ii\",\"vowel_4_u\",\n",
        "\"vowel_5_uu\",\"vowel_6_re\",\"vowel_7_e\",\"vowel_8_ei\",\"vowel_9_o\",\"vowel_10_au\",\"vowel_11_am\",\"vowel_12_ah\"\n",
        "\n",
        "]\n"
      ],
      "execution_count": 0,
      "outputs": []
    },
    {
      "cell_type": "code",
      "metadata": {
        "id": "gjQr7MMHF8V7",
        "colab_type": "code",
        "colab": {}
      },
      "source": [
        "train_datagen = ImageDataGenerator(rescale=1./255,\n",
        "                                   featurewise_center=True,\n",
        "                             featurewise_std_normalization=True,\n",
        "                             rotation_range=15,\n",
        "                             width_shift_range=0.1,\n",
        "                             height_shift_range=0.1,\n",
        "                              zoom_range=0.2)\n",
        "test_datagen = ImageDataGenerator(rescale=1./255,\n",
        "                                   featurewise_center=True,\n",
        "                             featurewise_std_normalization=True,\n",
        "                             rotation_range=15,\n",
        "                             width_shift_range=0.1,\n",
        "                             height_shift_range=0.1,\n",
        "                              zoom_range=0.)"
      ],
      "execution_count": 0,
      "outputs": []
    },
    {
      "cell_type": "code",
      "metadata": {
        "id": "HlfUmaOBCYlB",
        "colab_type": "code",
        "outputId": "d117f792-8b27-4dda-e127-6f04749ed2d9",
        "colab": {
          "base_uri": "https://localhost:8080/",
          "height": 51
        }
      },
      "source": [
        "train_digits_loader = train_datagen.flow_from_directory(\n",
        "        'nepalibarnasnew/Train',\n",
        "        target_size=(32, 32),\n",
        "        classes = class_names,\n",
        "        batch_size=32,\n",
        "        color_mode = 'grayscale',\n",
        "        class_mode='categorical')\n",
        "\n",
        "test_digits_loader = test_datagen.flow_from_directory(\n",
        "        'nepalibarnasnew/Test',\n",
        "        target_size=(32, 32),\n",
        "        classes = class_names,\n",
        "        color_mode = 'grayscale',\n",
        "        batch_size=1,\n",
        "        shuffle = False,\n",
        "        seed = 2076,\n",
        "        class_mode='categorical')"
      ],
      "execution_count": 80,
      "outputs": [
        {
          "output_type": "stream",
          "text": [
            "Found 1756 images belonging to 59 classes.\n",
            "Found 130 images belonging to 59 classes.\n"
          ],
          "name": "stdout"
        }
      ]
    },
    {
      "cell_type": "code",
      "metadata": {
        "id": "9GU2g1VfEIl6",
        "colab_type": "code",
        "colab": {}
      },
      "source": [
        ""
      ],
      "execution_count": 0,
      "outputs": []
    },
    {
      "cell_type": "markdown",
      "metadata": {
        "id": "OnFMP_UuEz89",
        "colab_type": "text"
      },
      "source": [
        "# Visualize Data"
      ]
    },
    {
      "cell_type": "code",
      "metadata": {
        "id": "L79AV3hxnU0Y",
        "colab_type": "code",
        "colab": {}
      },
      "source": [
        "def plot_image(img_path_index):\n",
        "  img_path = train_digits_loader.filepaths[img_path_index]\n",
        "  a = Image.open(img_path)\n",
        "  arr = np.array(a)\n",
        "  plt.imshow(arr,cmap= 'gray')\n",
        "  plt.grid(False)\n",
        "  plt.xticks([])\n",
        "  plt.yticks([])\n"
      ],
      "execution_count": 0,
      "outputs": []
    },
    {
      "cell_type": "code",
      "metadata": {
        "id": "ebmwYsannITS",
        "colab_type": "code",
        "outputId": "0da63d9f-96a6-4693-ec29-c6f8a5f70ab3",
        "colab": {
          "base_uri": "https://localhost:8080/",
          "height": 535
        }
      },
      "source": [
        "# plot 20 random images from our training set\n",
        "num_rows = 5\n",
        "num_cols = 4\n",
        "num_images = num_rows*num_cols\n",
        "plt.figure(figsize=(2*num_cols, 2*num_rows))\n",
        "for i in range(num_images):\n",
        "  plt.subplot(num_rows, 2 *num_cols, 2*i + 1)\n",
        "  rand_index = random.randint(1,1756)\n",
        "  plot_image(rand_index)\n",
        "plt.show()"
      ],
      "execution_count": 82,
      "outputs": [
        {
          "output_type": "display_data",
          "data": {
            "image/png": "[encoded data removed]",
            "text/plain": [
              "<Figure size 576x720 with 20 Axes>"
            ]
          },
          "metadata": {
            "tags": []
          }
        }
      ]
    },
    {
      "cell_type": "markdown",
      "metadata": {
        "id": "onZIXt48E8JZ",
        "colab_type": "text"
      },
      "source": [
        "# Model Building and training"
      ]
    },
    {
      "cell_type": "code",
      "metadata": {
        "id": "12USDlgcGlxP",
        "colab_type": "code",
        "colab": {}
      },
      "source": [
        "# let's create a base model\n",
        "def cnn_model():\n",
        "  model = models.Sequential()\n",
        "  model.add(layers.Conv2D(32, (3,3), activation='relu', input_shape=(32,32,1)))\n",
        "  model.add(layers.MaxPooling2D((2,2)))\n",
        "  model.add(layers.Conv2D(64, (3,3), activation='relu'))\n",
        "  model.add(layers.MaxPooling2D((2,2)))\n",
        "  model.add(layers.Conv2D(64,(3,3), activation='relu'))\n",
        "  model.add(Dropout(0.25))\n",
        "  model.add(layers.Flatten())\n",
        "  model.add(layers.Dense(64, activation='relu'))\n",
        "  model.add(Dropout(0.5))\n",
        "  model.add(layers.Dense(59, activation='softmax'))\n",
        "  opt = optimizers.Adam(lr=0.0015, beta_1=0.9, beta_2=0.99, epsilon=None, decay=0.0, amsgrad=False)\n",
        "  model.compile(optimizer=opt, loss='categorical_crossentropy', metrics=['accuracy'])\n",
        "  return model\n"
      ],
      "execution_count": 0,
      "outputs": []
    },
    {
      "cell_type": "code",
      "metadata": {
        "id": "1fhElWooqQpU",
        "colab_type": "code",
        "outputId": "6936c3f0-52ed-4eee-e94b-15a8582335e4",
        "colab": {
          "base_uri": "https://localhost:8080/",
          "height": 476
        }
      },
      "source": [
        "model = cnn_model()\n",
        "model.summary()"
      ],
      "execution_count": 142,
      "outputs": [
        {
          "output_type": "stream",
          "text": [
            "_________________________________________________________________\n",
            "Layer (type)                 Output Shape              Param #   \n",
            "=================================================================\n",
            "conv2d_19 (Conv2D)           (None, 30, 30, 32)        320       \n",
            "_________________________________________________________________\n",
            "max_pooling2d_13 (MaxPooling (None, 15, 15, 32)        0         \n",
            "_________________________________________________________________\n",
            "conv2d_20 (Conv2D)           (None, 13, 13, 64)        18496     \n",
            "_________________________________________________________________\n",
            "max_pooling2d_14 (MaxPooling (None, 6, 6, 64)          0         \n",
            "_________________________________________________________________\n",
            "conv2d_21 (Conv2D)           (None, 4, 4, 64)          36928     \n",
            "_________________________________________________________________\n",
            "dropout_4 (Dropout)          (None, 4, 4, 64)          0         \n",
            "_________________________________________________________________\n",
            "flatten_7 (Flatten)          (None, 1024)              0         \n",
            "_________________________________________________________________\n",
            "dense_12 (Dense)             (None, 64)                65600     \n",
            "_________________________________________________________________\n",
            "dropout_5 (Dropout)          (None, 64)                0         \n",
            "_________________________________________________________________\n",
            "dense_13 (Dense)             (None, 59)                3835      \n",
            "=================================================================\n",
            "Total params: 125,179\n",
            "Trainable params: 125,179\n",
            "Non-trainable params: 0\n",
            "_________________________________________________________________\n"
          ],
          "name": "stdout"
        }
      ]
    },
    {
      "cell_type": "code",
      "metadata": {
        "id": "wPZzBTINHnuW",
        "colab_type": "code",
        "colab": {}
      },
      "source": [
        "# callbacks for saving models\n",
        "filepath = 'nepali_cnn.h5'\n",
        "model_save = callbacks.ModelCheckpoint(filepath, monitor= 'val_acc', save_best_only=True)\n",
        "early_stop = callbacks.EarlyStopping(monitor='val_loss', patience =4)"
      ],
      "execution_count": 0,
      "outputs": []
    },
    {
      "cell_type": "code",
      "metadata": {
        "id": "vFEAKoplI4kP",
        "colab_type": "code",
        "colab": {}
      },
      "source": [
        "def plot_acc(history):\n",
        "  plt.plot(history.epoch, history.history['val_acc'] )\n",
        "  plt.plot(history.epoch, history.history['acc'])\n",
        "  plt.legend(['val_acc', 'train acc'])\n"
      ],
      "execution_count": 0,
      "outputs": []
    },
    {
      "cell_type": "code",
      "metadata": {
        "id": "BrWkIv_xI5UP",
        "colab_type": "code",
        "outputId": "b3b99ea4-0745-40d5-d6a6-1f4f062050bf",
        "colab": {
          "base_uri": "https://localhost:8080/",
          "height": 1000
        }
      },
      "source": [
        "sample_size = train_digits_loader.n\n",
        "batch_size = 32\n",
        "\n",
        "hist = model.fit_generator(\n",
        "    train_digits_loader,\n",
        "    steps_per_epoch=sample_size // batch_size,\n",
        "    epochs=50,\n",
        "    validation_data=test_digits_loader,\n",
        "    validation_steps=130\n",
        ")"
      ],
      "execution_count": 145,
      "outputs": [
        {
          "output_type": "stream",
          "text": [
            "Epoch 1/50\n"
          ],
          "name": "stdout"
        },
        {
          "output_type": "stream",
          "text": [
            "/usr/local/lib/python3.6/dist-packages/keras_preprocessing/image/image_data_generator.py:716: UserWarning: This ImageDataGenerator specifies `featurewise_center`, but it hasn't been fit on any training data. Fit it first by calling `.fit(numpy_data)`.\n",
            "  warnings.warn('This ImageDataGenerator specifies '\n",
            "/usr/local/lib/python3.6/dist-packages/keras_preprocessing/image/image_data_generator.py:724: UserWarning: This ImageDataGenerator specifies `featurewise_std_normalization`, but it hasn't been fit on any training data. Fit it first by calling `.fit(numpy_data)`.\n",
            "  warnings.warn('This ImageDataGenerator specifies '\n"
          ],
          "name": "stderr"
        },
        {
          "output_type": "stream",
          "text": [
            "54/54 [==============================] - 2s 42ms/step - loss: 3.2585 - acc: 0.0750 - val_loss: 2.6007 - val_acc: 0.1385\n",
            "Epoch 2/50\n",
            "54/54 [==============================] - 1s 22ms/step - loss: 2.4928 - acc: 0.1582 - val_loss: 1.6981 - val_acc: 0.4769\n",
            "Epoch 3/50\n",
            "54/54 [==============================] - 1s 22ms/step - loss: 1.8022 - acc: 0.3504 - val_loss: 1.2573 - val_acc: 0.5000\n",
            "Epoch 4/50\n",
            "54/54 [==============================] - 1s 23ms/step - loss: 1.5469 - acc: 0.4249 - val_loss: 1.1412 - val_acc: 0.5846\n",
            "Epoch 5/50\n",
            "54/54 [==============================] - 1s 23ms/step - loss: 1.2951 - acc: 0.5220 - val_loss: 0.8840 - val_acc: 0.6769\n",
            "Epoch 6/50\n",
            "54/54 [==============================] - 1s 22ms/step - loss: 1.1400 - acc: 0.5608 - val_loss: 0.7862 - val_acc: 0.7308\n",
            "Epoch 7/50\n",
            "54/54 [==============================] - 1s 22ms/step - loss: 1.0383 - acc: 0.5851 - val_loss: 0.7310 - val_acc: 0.6923\n",
            "Epoch 8/50\n",
            "54/54 [==============================] - 1s 22ms/step - loss: 0.9720 - acc: 0.6176 - val_loss: 0.6207 - val_acc: 0.7769\n",
            "Epoch 9/50\n",
            "54/54 [==============================] - 1s 22ms/step - loss: 0.9016 - acc: 0.6229 - val_loss: 0.4860 - val_acc: 0.8692\n",
            "Epoch 10/50\n",
            "54/54 [==============================] - 1s 23ms/step - loss: 0.8236 - acc: 0.6775 - val_loss: 0.4549 - val_acc: 0.8385\n",
            "Epoch 11/50\n",
            "54/54 [==============================] - 1s 22ms/step - loss: 0.7486 - acc: 0.7083 - val_loss: 0.3669 - val_acc: 0.8615\n",
            "Epoch 12/50\n",
            "54/54 [==============================] - 1s 22ms/step - loss: 0.7110 - acc: 0.7099 - val_loss: 0.3964 - val_acc: 0.8769\n",
            "Epoch 13/50\n",
            "54/54 [==============================] - 1s 24ms/step - loss: 0.7296 - acc: 0.7172 - val_loss: 0.3470 - val_acc: 0.8692\n",
            "Epoch 14/50\n",
            "54/54 [==============================] - 1s 22ms/step - loss: 0.6434 - acc: 0.7450 - val_loss: 0.2725 - val_acc: 0.9385\n",
            "Epoch 15/50\n",
            "54/54 [==============================] - 1s 22ms/step - loss: 0.6435 - acc: 0.7368 - val_loss: 0.2741 - val_acc: 0.9077\n",
            "Epoch 16/50\n",
            "54/54 [==============================] - 1s 23ms/step - loss: 0.5833 - acc: 0.7790 - val_loss: 0.2122 - val_acc: 0.9462\n",
            "Epoch 17/50\n",
            "54/54 [==============================] - 1s 23ms/step - loss: 0.5220 - acc: 0.8108 - val_loss: 0.2267 - val_acc: 0.9077\n",
            "Epoch 18/50\n",
            "54/54 [==============================] - 1s 22ms/step - loss: 0.5314 - acc: 0.7913 - val_loss: 0.2496 - val_acc: 0.9231\n",
            "Epoch 19/50\n",
            "54/54 [==============================] - 1s 22ms/step - loss: 0.4884 - acc: 0.8151 - val_loss: 0.1716 - val_acc: 0.9538\n",
            "Epoch 20/50\n",
            "54/54 [==============================] - 1s 23ms/step - loss: 0.4952 - acc: 0.8271 - val_loss: 0.1839 - val_acc: 0.9308\n",
            "Epoch 21/50\n",
            "54/54 [==============================] - 1s 23ms/step - loss: 0.4308 - acc: 0.8471 - val_loss: 0.1499 - val_acc: 0.9692\n",
            "Epoch 22/50\n",
            "54/54 [==============================] - 1s 22ms/step - loss: 0.3855 - acc: 0.8561 - val_loss: 0.1785 - val_acc: 0.9462\n",
            "Epoch 23/50\n",
            "54/54 [==============================] - 1s 23ms/step - loss: 0.3765 - acc: 0.8717 - val_loss: 0.1316 - val_acc: 0.9538\n",
            "Epoch 24/50\n",
            "54/54 [==============================] - 1s 22ms/step - loss: 0.3530 - acc: 0.8667 - val_loss: 0.1156 - val_acc: 0.9692\n",
            "Epoch 25/50\n",
            "54/54 [==============================] - 1s 23ms/step - loss: 0.4321 - acc: 0.8463 - val_loss: 0.1330 - val_acc: 0.9692\n",
            "Epoch 26/50\n",
            "54/54 [==============================] - 1s 22ms/step - loss: 0.3925 - acc: 0.8610 - val_loss: 0.1087 - val_acc: 0.9769\n",
            "Epoch 27/50\n",
            "54/54 [==============================] - 1s 22ms/step - loss: 0.3396 - acc: 0.8765 - val_loss: 0.1344 - val_acc: 0.9615\n",
            "Epoch 28/50\n",
            "54/54 [==============================] - 1s 22ms/step - loss: 0.3247 - acc: 0.8804 - val_loss: 0.1286 - val_acc: 0.9538\n",
            "Epoch 29/50\n",
            "54/54 [==============================] - 1s 22ms/step - loss: 0.3310 - acc: 0.8871 - val_loss: 0.1048 - val_acc: 0.9692\n",
            "Epoch 30/50\n",
            "54/54 [==============================] - 1s 22ms/step - loss: 0.3728 - acc: 0.8643 - val_loss: 0.1250 - val_acc: 0.9538\n",
            "Epoch 31/50\n",
            "54/54 [==============================] - 1s 23ms/step - loss: 0.3008 - acc: 0.8851 - val_loss: 0.1201 - val_acc: 0.9538\n",
            "Epoch 32/50\n",
            "54/54 [==============================] - 1s 22ms/step - loss: 0.3148 - acc: 0.8868 - val_loss: 0.0882 - val_acc: 0.9615\n",
            "Epoch 33/50\n",
            "54/54 [==============================] - 1s 22ms/step - loss: 0.2844 - acc: 0.9028 - val_loss: 0.1012 - val_acc: 0.9615\n",
            "Epoch 34/50\n",
            "54/54 [==============================] - 1s 23ms/step - loss: 0.3039 - acc: 0.8962 - val_loss: 0.0766 - val_acc: 0.9923\n",
            "Epoch 35/50\n",
            "54/54 [==============================] - 1s 22ms/step - loss: 0.2759 - acc: 0.9071 - val_loss: 0.1254 - val_acc: 0.9538\n",
            "Epoch 36/50\n",
            "54/54 [==============================] - 1s 23ms/step - loss: 0.3064 - acc: 0.8996 - val_loss: 0.0888 - val_acc: 0.9615\n",
            "Epoch 37/50\n",
            "54/54 [==============================] - 1s 22ms/step - loss: 0.2722 - acc: 0.9044 - val_loss: 0.0448 - val_acc: 0.9846\n",
            "Epoch 38/50\n",
            "54/54 [==============================] - 1s 22ms/step - loss: 0.2299 - acc: 0.9230 - val_loss: 0.1217 - val_acc: 0.9462\n",
            "Epoch 39/50\n",
            "54/54 [==============================] - 1s 22ms/step - loss: 0.2532 - acc: 0.9201 - val_loss: 0.0761 - val_acc: 0.9769\n",
            "Epoch 40/50\n",
            "54/54 [==============================] - 1s 23ms/step - loss: 0.2627 - acc: 0.9129 - val_loss: 0.0577 - val_acc: 0.9846\n",
            "Epoch 41/50\n",
            "54/54 [==============================] - 1s 22ms/step - loss: 0.2259 - acc: 0.9229 - val_loss: 0.0496 - val_acc: 0.9846\n",
            "Epoch 42/50\n",
            "54/54 [==============================] - 1s 22ms/step - loss: 0.2474 - acc: 0.9132 - val_loss: 0.0798 - val_acc: 0.9769\n",
            "Epoch 43/50\n",
            "54/54 [==============================] - 1s 22ms/step - loss: 0.2084 - acc: 0.9329 - val_loss: 0.1061 - val_acc: 0.9538\n",
            "Epoch 44/50\n",
            "54/54 [==============================] - 1s 22ms/step - loss: 0.1999 - acc: 0.9374 - val_loss: 0.0924 - val_acc: 0.9769\n",
            "Epoch 45/50\n",
            "54/54 [==============================] - 1s 22ms/step - loss: 0.2619 - acc: 0.9091 - val_loss: 0.0409 - val_acc: 0.9846\n",
            "Epoch 46/50\n",
            "54/54 [==============================] - 1s 23ms/step - loss: 0.2348 - acc: 0.9245 - val_loss: 0.0729 - val_acc: 0.9692\n",
            "Epoch 47/50\n",
            "54/54 [==============================] - 1s 23ms/step - loss: 0.2145 - acc: 0.9292 - val_loss: 0.0715 - val_acc: 0.9769\n",
            "Epoch 48/50\n",
            "54/54 [==============================] - 1s 22ms/step - loss: 0.2031 - acc: 0.9314 - val_loss: 0.0631 - val_acc: 0.9846\n",
            "Epoch 49/50\n",
            "54/54 [==============================] - 1s 23ms/step - loss: 0.1725 - acc: 0.9385 - val_loss: 0.0619 - val_acc: 0.9769\n",
            "Epoch 50/50\n",
            "54/54 [==============================] - 1s 22ms/step - loss: 0.1787 - acc: 0.9415 - val_loss: 0.0440 - val_acc: 0.9923\n"
          ],
          "name": "stdout"
        }
      ]
    },
    {
      "cell_type": "code",
      "metadata": {
        "id": "mzi-zWvDJti_",
        "colab_type": "code",
        "outputId": "738873af-b1a1-4436-f9ab-d6dc3799c51e",
        "colab": {
          "base_uri": "https://localhost:8080/",
          "height": 357
        }
      },
      "source": [
        "plot_acc(hist)"
      ],
      "execution_count": 146,
      "outputs": [
        {
          "output_type": "stream",
          "text": [
            "/usr/local/lib/python3.6/dist-packages/keras_preprocessing/image/image_data_generator.py:716: UserWarning: This ImageDataGenerator specifies `featurewise_center`, but it hasn't been fit on any training data. Fit it first by calling `.fit(numpy_data)`.\n",
            "  warnings.warn('This ImageDataGenerator specifies '\n",
            "/usr/local/lib/python3.6/dist-packages/keras_preprocessing/image/image_data_generator.py:724: UserWarning: This ImageDataGenerator specifies `featurewise_std_normalization`, but it hasn't been fit on any training data. Fit it first by calling `.fit(numpy_data)`.\n",
            "  warnings.warn('This ImageDataGenerator specifies '\n"
          ],
          "name": "stderr"
        },
        {
          "output_type": "display_data",
          "data": {
            "image/png": "[encoded data removed]",
            "text/plain": [
              "<Figure size 432x288 with 1 Axes>"
            ]
          },
          "metadata": {
            "tags": []
          }
        }
      ]
    },
    {
      "cell_type": "code",
      "metadata": {
        "id": "9Y398LZSOdgD",
        "colab_type": "code",
        "colab": {}
      },
      "source": [
        "model.save(\"nepali_cnn.h5\")"
      ],
      "execution_count": 0,
      "outputs": []
    },
    {
      "cell_type": "markdown",
      "metadata": {
        "id": "F8EtAKy6GR58",
        "colab_type": "text"
      },
      "source": [
        "# Model loading and evaluation"
      ]
    },
    {
      "cell_type": "code",
      "metadata": {
        "id": "9vnOypMa_86I",
        "colab_type": "code",
        "colab": {}
      },
      "source": [
        "classifier = models.load_model('nepali_cnn.h5')"
      ],
      "execution_count": 0,
      "outputs": []
    },
    {
      "cell_type": "code",
      "metadata": {
        "id": "yoHv8ilDtER2",
        "colab_type": "code",
        "outputId": "88f4128b-9d21-45eb-d1a8-11e44a682405",
        "colab": {
          "base_uri": "https://localhost:8080/",
          "height": 122
        }
      },
      "source": [
        "classifier.evaluate_generator(test_digits_loader, steps = 130)"
      ],
      "execution_count": 150,
      "outputs": [
        {
          "output_type": "stream",
          "text": [
            "/usr/local/lib/python3.6/dist-packages/keras_preprocessing/image/image_data_generator.py:716: UserWarning: This ImageDataGenerator specifies `featurewise_center`, but it hasn't been fit on any training data. Fit it first by calling `.fit(numpy_data)`.\n",
            "  warnings.warn('This ImageDataGenerator specifies '\n",
            "/usr/local/lib/python3.6/dist-packages/keras_preprocessing/image/image_data_generator.py:724: UserWarning: This ImageDataGenerator specifies `featurewise_std_normalization`, but it hasn't been fit on any training data. Fit it first by calling `.fit(numpy_data)`.\n",
            "  warnings.warn('This ImageDataGenerator specifies '\n"
          ],
          "name": "stderr"
        },
        {
          "output_type": "execute_result",
          "data": {
            "text/plain": [
              "[0.06540396130619355, 0.9769230769230769]"
            ]
          },
          "metadata": {
            "tags": []
          },
          "execution_count": 150
        }
      ]
    },
    {
      "cell_type": "code",
      "metadata": {
        "id": "_BUHlXF_b_vl",
        "colab_type": "code",
        "colab": {
          "base_uri": "https://localhost:8080/",
          "height": 105
        },
        "outputId": "a8c55fe9-3c75-4094-be82-aa3467928d27"
      },
      "source": [
        "# lets test for our test data\n",
        "test_digits_loader.reset()\n",
        "true_labels = test_digits_loader.classes\n",
        "predictions_with_prob = classifier.predict_generator(test_digits_loader, steps = 130)"
      ],
      "execution_count": 151,
      "outputs": [
        {
          "output_type": "stream",
          "text": [
            "/usr/local/lib/python3.6/dist-packages/keras_preprocessing/image/image_data_generator.py:716: UserWarning: This ImageDataGenerator specifies `featurewise_center`, but it hasn't been fit on any training data. Fit it first by calling `.fit(numpy_data)`.\n",
            "  warnings.warn('This ImageDataGenerator specifies '\n",
            "/usr/local/lib/python3.6/dist-packages/keras_preprocessing/image/image_data_generator.py:724: UserWarning: This ImageDataGenerator specifies `featurewise_std_normalization`, but it hasn't been fit on any training data. Fit it first by calling `.fit(numpy_data)`.\n",
            "  warnings.warn('This ImageDataGenerator specifies '\n"
          ],
          "name": "stderr"
        }
      ]
    },
    {
      "cell_type": "code",
      "metadata": {
        "id": "51AV2A10ixJe",
        "colab_type": "code",
        "colab": {}
      },
      "source": [
        "predictions = np.argmax(predictions_with_prob, axis= 1)"
      ],
      "execution_count": 0,
      "outputs": []
    },
    {
      "cell_type": "code",
      "metadata": {
        "id": "oRqPF5NNxl_G",
        "colab_type": "code",
        "colab": {}
      },
      "source": [
        "incorrect_predictions = np.nonzero(predictions - true_labels)"
      ],
      "execution_count": 0,
      "outputs": []
    },
    {
      "cell_type": "code",
      "metadata": {
        "id": "qunG_lX4iV2f",
        "colab_type": "code",
        "outputId": "3045b183-2489-4f72-c762-6b18a23e9551",
        "colab": {
          "base_uri": "https://localhost:8080/",
          "height": 34
        }
      },
      "source": [
        "incorrect_predictions"
      ],
      "execution_count": 154,
      "outputs": [
        {
          "output_type": "execute_result",
          "data": {
            "text/plain": [
              "(array([ 21, 116]),)"
            ]
          },
          "metadata": {
            "tags": []
          },
          "execution_count": 154
        }
      ]
    },
    {
      "cell_type": "code",
      "metadata": {
        "id": "G1IufAekJZj0",
        "colab_type": "code",
        "outputId": "3d886502-aef5-4d2c-f049-55f58b5dbf4b",
        "colab": {
          "base_uri": "https://localhost:8080/",
          "height": 187
        }
      },
      "source": [
        "for _ in range(10):\n",
        "  rand_index = random.randint(0,130)\n",
        "  print(f'True label: {class_names[true_labels[rand_index]]} , Predicted labe: {class_names[predictions[rand_index]]} for index {rand_index}')"
      ],
      "execution_count": 155,
      "outputs": [
        {
          "output_type": "stream",
          "text": [
            "True label: vowel_9_o , Predicted labe: vowel_9_o for index 96\n",
            "True label: vowel_11_am , Predicted labe: vowel_11_am for index 110\n",
            "True label: vowel_6_re , Predicted labe: vowel_6_re for index 67\n",
            "True label: vowel_5_uu , Predicted labe: vowel_5_uu for index 54\n",
            "True label: vowel_12_ah , Predicted labe: vowel_12_ah for index 129\n",
            "True label: vowel_4_u , Predicted labe: vowel_4_u for index 49\n",
            "True label: vowel_10_au , Predicted labe: vowel_10_au for index 109\n",
            "True label: vowel_7_e , Predicted labe: vowel_7_e for index 75\n",
            "True label: vowel_5_uu , Predicted labe: vowel_5_uu for index 53\n",
            "True label: vowel_2_i , Predicted labe: vowel_2_i for index 23\n"
          ],
          "name": "stdout"
        }
      ]
    },
    {
      "cell_type": "code",
      "metadata": {
        "id": "hhGgmdrMxQ_-",
        "colab_type": "code",
        "colab": {}
      },
      "source": [
        "# function to plot image with predictions percentages\n",
        "def plot_predicted_image(i, predictions_array, true_labels, img_generator):\n",
        "  predicted_label, true_label, img = predictions_array[i], true_labels[i], img_generator[i][0]\n",
        "  plt.grid(False)\n",
        "  plt.xticks([])\n",
        "  plt.yticks([])\n",
        "  reshaped_img = img.reshape(32,32)\n",
        "  plt.imshow(reshaped_img, cmap=plt.cm.binary)\n",
        "  plt.title(f' Predicted {class_names[true_label] } for {class_names[predicted_label]}  digit')\n"
      ],
      "execution_count": 0,
      "outputs": []
    },
    {
      "cell_type": "code",
      "metadata": {
        "id": "_SZRnYXkRNDn",
        "colab_type": "code",
        "outputId": "bf46db4c-28ef-4fe4-c151-a4d808350a8f",
        "colab": {
          "base_uri": "https://localhost:8080/",
          "height": 356
        }
      },
      "source": [
        "plot_predicted_image(100, predictions, true_labels, test_digits_loader)"
      ],
      "execution_count": 157,
      "outputs": [
        {
          "output_type": "stream",
          "text": [
            "/usr/local/lib/python3.6/dist-packages/keras_preprocessing/image/image_data_generator.py:716: UserWarning: This ImageDataGenerator specifies `featurewise_center`, but it hasn't been fit on any training data. Fit it first by calling `.fit(numpy_data)`.\n",
            "  warnings.warn('This ImageDataGenerator specifies '\n",
            "/usr/local/lib/python3.6/dist-packages/keras_preprocessing/image/image_data_generator.py:724: UserWarning: This ImageDataGenerator specifies `featurewise_std_normalization`, but it hasn't been fit on any training data. Fit it first by calling `.fit(numpy_data)`.\n",
            "  warnings.warn('This ImageDataGenerator specifies '\n"
          ],
          "name": "stderr"
        },
        {
          "output_type": "display_data",
          "data": {
            "image/png": "[encoded data removed]",
            "text/plain": [
              "<Figure size 432x288 with 1 Axes>"
            ]
          },
          "metadata": {
            "tags": []
          }
        }
      ]
    },
    {
      "cell_type": "code",
      "metadata": {
        "id": "neSiyqwKApNj",
        "colab_type": "code",
        "outputId": "d6598b26-907a-4f2d-d91c-db01d81284db",
        "colab": {
          "base_uri": "https://localhost:8080/",
          "height": 931
        }
      },
      "source": [
        "num_rows = 4\n",
        "num_cols = 3\n",
        "num_images = num_rows*num_cols\n",
        "plt.figure(figsize=(2*2*num_cols+2, 2*num_rows*+2))\n",
        "for i in range(num_images):\n",
        "  plt.subplot(num_rows, 2 *num_cols, 2*i + 1)\n",
        "  rand_idx = random.randint(0,130)\n",
        "  plot_predicted_image(rand_idx, predictions, true_labels, test_digits_loader)\n",
        "plt.show()"
      ],
      "execution_count": 174,
      "outputs": [
        {
          "output_type": "stream",
          "text": [
            "/usr/local/lib/python3.6/dist-packages/keras_preprocessing/image/image_data_generator.py:716: UserWarning: This ImageDataGenerator specifies `featurewise_center`, but it hasn't been fit on any training data. Fit it first by calling `.fit(numpy_data)`.\n",
            "  warnings.warn('This ImageDataGenerator specifies '\n",
            "/usr/local/lib/python3.6/dist-packages/keras_preprocessing/image/image_data_generator.py:724: UserWarning: This ImageDataGenerator specifies `featurewise_std_normalization`, but it hasn't been fit on any training data. Fit it first by calling `.fit(numpy_data)`.\n",
            "  warnings.warn('This ImageDataGenerator specifies '\n"
          ],
          "name": "stderr"
        },
        {
          "output_type": "display_data",
          "data": {
            "image/png": "[encoded data removed]",
            "text/plain": [
              "<Figure size 1008x1152 with 12 Axes>"
            ]
          },
          "metadata": {
            "tags": []
          }
        }
      ]
    },
    {
      "cell_type": "code",
      "metadata": {
        "id": "NL2Yw5n5EjOF",
        "colab_type": "code",
        "colab": {
          "base_uri": "https://localhost:8080/",
          "height": 34
        },
        "outputId": "fd40f883-e6e7-4a20-949a-9fe2896dff8d"
      },
      "source": [
        "incorrect_predictions"
      ],
      "execution_count": 170,
      "outputs": [
        {
          "output_type": "execute_result",
          "data": {
            "text/plain": [
              "(array([ 21, 116]),)"
            ]
          },
          "metadata": {
            "tags": []
          },
          "execution_count": 170
        }
      ]
    },
    {
      "cell_type": "markdown",
      "metadata": {
        "id": "TwOqKg7KRaCL",
        "colab_type": "text"
      },
      "source": [
        "# Let's plot our incorrect prediction"
      ]
    },
    {
      "cell_type": "code",
      "metadata": {
        "id": "pwFXV_sXRiFh",
        "colab_type": "code",
        "outputId": "74db6d6c-9d64-4d26-d921-f29747d88ca3",
        "colab": {
          "base_uri": "https://localhost:8080/",
          "height": 250
        }
      },
      "source": [
        "num_rows = 5\n",
        "num_cols = 3\n",
        "if(len(incorrect_predictions[0])>num_images):\n",
        "  num_images = num_rows*num_cols\n",
        "else:\n",
        "  num_images = len(incorrect_predictions[0])\n",
        "  \n",
        "plt.figure(figsize=(2*2*num_cols+2, 2*num_rows+2))\n",
        "for i in range(num_images):\n",
        "  plt.subplot(num_rows, 2 *num_cols, 2*i + 1)\n",
        "  plot_predicted_image(incorrect_predictions[0][i], predictions, true_labels, test_digits_loader)\n",
        "plt.show()"
      ],
      "execution_count": 175,
      "outputs": [
        {
          "output_type": "stream",
          "text": [
            "/usr/local/lib/python3.6/dist-packages/keras_preprocessing/image/image_data_generator.py:716: UserWarning: This ImageDataGenerator specifies `featurewise_center`, but it hasn't been fit on any training data. Fit it first by calling `.fit(numpy_data)`.\n",
            "  warnings.warn('This ImageDataGenerator specifies '\n",
            "/usr/local/lib/python3.6/dist-packages/keras_preprocessing/image/image_data_generator.py:724: UserWarning: This ImageDataGenerator specifies `featurewise_std_normalization`, but it hasn't been fit on any training data. Fit it first by calling `.fit(numpy_data)`.\n",
            "  warnings.warn('This ImageDataGenerator specifies '\n"
          ],
          "name": "stderr"
        },
        {
          "output_type": "display_data",
          "data": {
            "image/png": "[encoded data removed]",
            "text/plain": [
              "<Figure size 1008x864 with 2 Axes>"
            ]
          },
          "metadata": {
            "tags": []
          }
        }
      ]
    },
    {
      "cell_type": "markdown",
      "metadata": {
        "id": "AkhRvINaSAUU",
        "colab_type": "text"
      },
      "source": [
        "It looks like our dataset has some mislabels. We can remove those to get better models."
      ]
    },
    {
      "cell_type": "code",
      "metadata": {
        "id": "jnUqN86-RPA5",
        "colab_type": "code",
        "colab": {}
      },
      "source": [
        ""
      ],
      "execution_count": 0,
      "outputs": []
    }
  ]
}