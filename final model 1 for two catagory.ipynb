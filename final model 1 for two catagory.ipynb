{
  "nbformat": 4,
  "nbformat_minor": 0,
  "metadata": {
    "colab": {
      "name": "Copy of new_cnn_may14.ipynb",
      "version": "0.3.2",
      "provenance": [],
      "include_colab_link": true
    },
    "kernelspec": {
      "name": "python3",
      "display_name": "Python 3"
    },
    "accelerator": "GPU"
  },
  "cells": [
    {
      "cell_type": "markdown",
      "metadata": {
        "id": "view-in-github",
        "colab_type": "text"
      },
      "source": [
        "<a href=\"https://colab.research.google.com/github/Rojan116/NepaliHandWrittenAlphabetRecognizer/blob/master/final%20model%201%20for%20two%20catagory.ipynb\" target=\"_parent\"><img src=\"https://colab.research.google.com/assets/colab-badge.svg\" alt=\"Open In Colab\"/></a>"
      ]
    },
    {
      "cell_type": "code",
      "metadata": {
        "id": "6Uhar1qmMeGi",
        "colab_type": "code",
        "outputId": "df60e754-00b9-433c-cde2-5e3f6ed7f3c1",
        "colab": {
          "base_uri": "https://localhost:8080/",
          "height": 153
        }
      },
      "source": [
        "!git clone https://github.com/Rojan116/NepaliHandWrittenAlphabetRecognizer.git"
      ],
      "execution_count": 1,
      "outputs": [
        {
          "output_type": "stream",
          "text": [
            "Cloning into 'NepaliHandWrittenAlphabetRecognizer'...\n",
            "remote: Enumerating objects: 8041, done.\u001b[K\n",
            "remote: Counting objects: 100% (8041/8041), done.\u001b[K\n",
            "remote: Compressing objects: 100% (8005/8005), done.\u001b[K\n",
            "remote: Total 105572 (delta 172), reused 7883 (delta 35), pack-reused 97531\u001b[K\n",
            "Receiving objects: 100% (105572/105572), 140.10 MiB | 24.76 MiB/s, done.\n",
            "Resolving deltas: 100% (1722/1722), done.\n",
            "Checking out files: 100% (106176/106176), done.\n"
          ],
          "name": "stdout"
        }
      ]
    },
    {
      "cell_type": "code",
      "metadata": {
        "id": "X8kasikyM9hh",
        "colab_type": "code",
        "outputId": "21f245d8-6a8c-4dfe-daf7-2cb0ccf67d48",
        "colab": {
          "base_uri": "https://localhost:8080/",
          "height": 34
        }
      },
      "source": [
        "ls"
      ],
      "execution_count": 2,
      "outputs": [
        {
          "output_type": "stream",
          "text": [
            "\u001b[0m\u001b[01;34mNepaliHandWrittenAlphabetRecognizer\u001b[0m/  \u001b[01;34msample_data\u001b[0m/\n"
          ],
          "name": "stdout"
        }
      ]
    },
    {
      "cell_type": "code",
      "metadata": {
        "id": "NSngiJhJNIB7",
        "colab_type": "code",
        "outputId": "2967175c-2395-45a9-d7b3-a768cb732145",
        "colab": {
          "base_uri": "https://localhost:8080/",
          "height": 34
        }
      },
      "source": [
        "cd NepaliHandWrittenAlphabetRecognizer"
      ],
      "execution_count": 3,
      "outputs": [
        {
          "output_type": "stream",
          "text": [
            "/content/NepaliHandWrittenAlphabetRecognizer\n"
          ],
          "name": "stdout"
        }
      ]
    },
    {
      "cell_type": "code",
      "metadata": {
        "id": "czGK9iAONLz8",
        "colab_type": "code",
        "colab": {
          "base_uri": "https://localhost:8080/",
          "height": 34
        },
        "outputId": "7e795d88-94b8-4ff5-da7d-7bde091112e0"
      },
      "source": [
        "import cv2\n",
        "import matplotlib.pyplot as plt\n",
        "import numpy as np\n",
        "import os\n",
        "import tensorflow as tf\n",
        "from tqdm import tqdm\n",
        "import random\n",
        "from keras.utils import to_categorical\n",
        "\n",
        "\n"
      ],
      "execution_count": 4,
      "outputs": [
        {
          "output_type": "stream",
          "text": [
            "Using TensorFlow backend.\n"
          ],
          "name": "stderr"
        }
      ]
    },
    {
      "cell_type": "code",
      "metadata": {
        "id": "LsmtWrIi4xLc",
        "colab_type": "code",
        "colab": {}
      },
      "source": [
        "#%matplotlib.inline \n",
        "\n",
        "PATH = os.getcwd()\n",
        "DATADIR = PATH + '/dhrcdata/Train'\t\t\n",
        "train_data_path = PATH + '/dhrcdata/Train'\n",
        "test_data_path = PATH + '/dhrcdata/Test'\n"
      ],
      "execution_count": 0,
      "outputs": []
    },
    {
      "cell_type": "code",
      "metadata": {
        "id": "X62kwyHO46b0",
        "colab_type": "code",
        "colab": {}
      },
      "source": [
        "\n",
        "\n",
        "CATEGORIES = [\n",
        "\n",
        "\"character_1_ka\",\"character_2_kha\",\"character_3_ga\",\"character_4_gha\",\"character_5_kna\",\n",
        "\"character_6_cha\",\"character_7_chha\",\"character_8_ja\",\"character_9_jha\",\"character_10_yna\",\n",
        "\"character_11_taamatar\",\"character_12_thaa\",\"character_13_daa\",\"character_14_dhaa\",\"character_15_adna\",\n",
        "\"character_16_tabala\",\"character_17_tha\",\"character_18_da\",\"character_19_dha\",\"character_20_na\",\"character_21_pa\",\n",
        "\"character_22_pha\",\"character_23_ba\",\"character_24_bha\",\"character_25_ma\",\"character_26_yaw\",\"character_27_ra\",\n",
        "\"character_28_la\",\"character_29_waw\",\"character_30_motosaw\",\"character_31_petchiryakha\",\"character_32_patalosaw\",\n",
        "\"character_33_ha\",\"character_34_chhya\",\"character_35_tra\",\"character_36_gya\",\"digit_0\",\"digit_1\",\"digit_2\",\"digit_3\",\n",
        "\"digit_4\",\"digit_5\",\"digit_6\",\"digit_7\",\"digit_8\",\"digit_9\"\n",
        "\n",
        "]\n"
      ],
      "execution_count": 0,
      "outputs": []
    },
    {
      "cell_type": "code",
      "metadata": {
        "id": "0goo09384_Ru",
        "colab_type": "code",
        "colab": {}
      },
      "source": [
        "\n",
        "IMG_SIZE = 32\n",
        "training_data = []\n",
        "testing_data = []\n",
        "\n",
        "def create_training_data():\n",
        "  for catagory in CATEGORIES:\n",
        "    path = os.path.join(train_data_path, catagory)\n",
        "    class_num = CATEGORIES.index(catagory)\n",
        "    for img in os.listdir(path):\n",
        "        try:\n",
        "          img_array = cv2.imread(os.path.join(path,img),cv2.IMREAD_GRAYSCALE)\n",
        "          new_array = cv2.resize(img_array,(IMG_SIZE,IMG_SIZE))\n",
        "          training_data.append([new_array,class_num])\n",
        "        except Exception as e:\n",
        "          pass\n",
        "\n",
        "\n",
        "\n",
        "def create_testing_data():\n",
        "  for catagory in CATEGORIES:\n",
        "    path = os.path.join(test_data_path, catagory)\n",
        "    class_num = CATEGORIES.index(catagory)\n",
        "    for img in os.listdir(path):\n",
        "        try:\n",
        "          img_array = cv2.imread(os.path.join(path,img),cv2.IMREAD_GRAYSCALE)\n",
        "          new_array = cv2.resize(img_array,(IMG_SIZE,IMG_SIZE))\n",
        "          testing_data.append([new_array,class_num])\n",
        "        except Exception as e:\n",
        "          pass\n",
        "\n",
        "\n",
        "\n",
        "create_training_data()\n",
        "create_testing_data()\n",
        "\n"
      ],
      "execution_count": 0,
      "outputs": []
    },
    {
      "cell_type": "code",
      "metadata": {
        "id": "fvixuUmT9vLQ",
        "colab_type": "code",
        "colab": {}
      },
      "source": [
        "#for histogram\n",
        "num_class = [i for i in range(47)]\n",
        "counts = []\n",
        "def count_image_in_class():\n",
        "  for catagory in CATEGORIES:\n",
        "    path = os.path.join(train_data_path, catagory)\n",
        "    class_num = CATEGORIES.index(catagory)\n",
        "    for i in range(47):\n",
        "      y = 0\n",
        "      for img in os.listdir(path):\n",
        "        y= y+1\n",
        "      counts.append(y)  \n",
        "        \n",
        "  count = np.array(counts)\n",
        "  #print(count)\n",
        "count_image_in_class()\n",
        "\n"
      ],
      "execution_count": 0,
      "outputs": []
    },
    {
      "cell_type": "code",
      "metadata": {
        "id": "mI20znH9DgF-",
        "colab_type": "code",
        "colab": {}
      },
      "source": [
        ""
      ],
      "execution_count": 0,
      "outputs": []
    },
    {
      "cell_type": "code",
      "metadata": {
        "id": "zQKTlAJuA7ZG",
        "colab_type": "code",
        "outputId": "d394b1fd-6282-4a75-e28e-38efe73a53fb",
        "colab": {
          "base_uri": "https://localhost:8080/",
          "height": 34
        }
      },
      "source": [
        "listofzeros = [0] * 5\n",
        "print(listofzeros)"
      ],
      "execution_count": 9,
      "outputs": [
        {
          "output_type": "stream",
          "text": [
            "[0, 0, 0, 0, 0]\n"
          ],
          "name": "stdout"
        }
      ]
    },
    {
      "cell_type": "code",
      "metadata": {
        "id": "o7hl-nzV5Hxe",
        "colab_type": "code",
        "colab": {}
      },
      "source": [
        "#shuffle training data for trainning diff image set in every batch\n",
        "random.shuffle(training_data)\n",
        "\n",
        "#hot encode image dataset\n",
        "\n",
        "train_x = []\n",
        "train_y = []\n",
        "test_x = []\n",
        "test_y = []\n",
        "\n",
        "\n",
        "\n",
        "#seperating features and labels from list\n",
        "for features, labels in training_data:\n",
        "\ttrain_x.append(features)\n",
        "\ttrain_y.append(labels)\n",
        "\n",
        "for features, labels in testing_data:\n",
        "\ttest_x.append(features)\n",
        "\ttest_y.append(labels)\n",
        "\n",
        "\n",
        "#converting list to array\n",
        "train_y_array = np.array(train_y)\n",
        "test_y_array = np.array(test_y)\n",
        "\n",
        "#converting image dataset to input 32*32 dataset \n",
        "\n",
        "train_image_array = np.array(train_x).reshape(-1,32,32,1)\n",
        "test_image_array = np.array(test_x).reshape(-1,32,32,1)\n",
        "\n",
        "\n",
        "#one hot enoded class \n",
        "train_y = to_categorical(train_y_array)\n",
        "test_y = to_categorical(test_y_array)\n",
        "\n",
        "\n",
        "train_y = np.array(train_y)\n",
        "test_y = np.array(test_y)\n",
        "\n",
        "#all train x, y and test x y are in array form now\n",
        "\n"
      ],
      "execution_count": 0,
      "outputs": []
    },
    {
      "cell_type": "code",
      "metadata": {
        "id": "KqO3vTVn7YhD",
        "colab_type": "code",
        "colab": {}
      },
      "source": [
        ""
      ],
      "execution_count": 0,
      "outputs": []
    },
    {
      "cell_type": "code",
      "metadata": {
        "id": "tP_UgBDT5P6T",
        "colab_type": "code",
        "colab": {
          "base_uri": "https://localhost:8080/",
          "height": 1000
        },
        "outputId": "0ccc0a55-0c14-4f29-8512-8b1d4c418e63"
      },
      "source": [
        "\n",
        "#now creating our model\n",
        "\n",
        "from keras.models import Sequential\n",
        "from keras.layers import *\n",
        "from keras.optimizers import *\n",
        "\n",
        "model = Sequential()\n",
        "\n",
        "model.add(InputLayer(input_shape=(32,32,1)))\n",
        "model.add(Conv2D(filters=64,kernel_size=3,strides=1,padding='same', activation='relu'))\n",
        "model.add(Conv2D(filters=64,kernel_size=3,strides=1,padding='same', activation='relu'))\n",
        "model.add(MaxPool2D(pool_size=5,padding='same'))\n",
        "\n",
        "model.add(Conv2D(filters=32,kernel_size=3,strides=1,padding='same', activation='relu'))\n",
        "model.add(Conv2D(filters=32,kernel_size=3,strides=1,padding='same', activation='relu'))\n",
        "model.add(MaxPool2D(pool_size=5,padding='same'))\n",
        "\n",
        "# model.add(Conv2D(filters=80,kernel_size=3,strides=1,padding='same', activation='relu'))\n",
        "# model.add(MaxPool2D(pool_size=5,padding='same'))\n",
        "\n",
        "model.add(Dropout(0.25))\n",
        "model.add(Flatten())\n",
        "model.add(Dense(512,activation='relu'))\n",
        "model.add(Dropout(0.5))\n",
        "\n",
        "\n",
        "\n",
        "\n",
        "model.add(Dense(46,activation='softmax'))\n",
        "optimizer = Adam(lr=1e-3)\n",
        "\n",
        "model.compile(optimizer=optimizer, loss='categorical_crossentropy',metrics=['accuracy'])\n",
        "history = model.fit(x=train_image_array,y=train_y,epochs=30,batch_size=100, validation_split=0.3)\n",
        "\n",
        "model.summary()\n",
        "\n"
      ],
      "execution_count": 11,
      "outputs": [
        {
          "output_type": "stream",
          "text": [
            "WARNING: Logging before flag parsing goes to stderr.\n",
            "W0801 14:41:20.004565 140423858075520 deprecation_wrapper.py:119] From /usr/local/lib/python3.6/dist-packages/keras/backend/tensorflow_backend.py:74: The name tf.get_default_graph is deprecated. Please use tf.compat.v1.get_default_graph instead.\n",
            "\n",
            "W0801 14:41:20.049831 140423858075520 deprecation_wrapper.py:119] From /usr/local/lib/python3.6/dist-packages/keras/backend/tensorflow_backend.py:517: The name tf.placeholder is deprecated. Please use tf.compat.v1.placeholder instead.\n",
            "\n",
            "W0801 14:41:20.062256 140423858075520 deprecation_wrapper.py:119] From /usr/local/lib/python3.6/dist-packages/keras/backend/tensorflow_backend.py:4138: The name tf.random_uniform is deprecated. Please use tf.random.uniform instead.\n",
            "\n",
            "W0801 14:41:20.111235 140423858075520 deprecation_wrapper.py:119] From /usr/local/lib/python3.6/dist-packages/keras/backend/tensorflow_backend.py:3976: The name tf.nn.max_pool is deprecated. Please use tf.nn.max_pool2d instead.\n",
            "\n",
            "W0801 14:41:20.148185 140423858075520 deprecation_wrapper.py:119] From /usr/local/lib/python3.6/dist-packages/keras/backend/tensorflow_backend.py:133: The name tf.placeholder_with_default is deprecated. Please use tf.compat.v1.placeholder_with_default instead.\n",
            "\n",
            "W0801 14:41:20.160159 140423858075520 deprecation.py:506] From /usr/local/lib/python3.6/dist-packages/keras/backend/tensorflow_backend.py:3445: calling dropout (from tensorflow.python.ops.nn_ops) with keep_prob is deprecated and will be removed in a future version.\n",
            "Instructions for updating:\n",
            "Please use `rate` instead of `keep_prob`. Rate should be set to `rate = 1 - keep_prob`.\n",
            "W0801 14:41:20.254776 140423858075520 deprecation_wrapper.py:119] From /usr/local/lib/python3.6/dist-packages/keras/optimizers.py:790: The name tf.train.Optimizer is deprecated. Please use tf.compat.v1.train.Optimizer instead.\n",
            "\n",
            "W0801 14:41:20.266810 140423858075520 deprecation_wrapper.py:119] From /usr/local/lib/python3.6/dist-packages/keras/backend/tensorflow_backend.py:3295: The name tf.log is deprecated. Please use tf.math.log instead.\n",
            "\n",
            "W0801 14:41:20.511869 140423858075520 deprecation.py:323] From /usr/local/lib/python3.6/dist-packages/tensorflow/python/ops/math_grad.py:1250: add_dispatch_support.<locals>.wrapper (from tensorflow.python.ops.array_ops) is deprecated and will be removed in a future version.\n",
            "Instructions for updating:\n",
            "Use tf.where in 2.0, which has the same broadcast rule as np.where\n"
          ],
          "name": "stderr"
        },
        {
          "output_type": "stream",
          "text": [
            "Train on 54740 samples, validate on 23460 samples\n",
            "Epoch 1/30\n",
            "54740/54740 [==============================] - 22s 399us/step - loss: 2.4219 - acc: 0.3353 - val_loss: 0.7671 - val_acc: 0.7581\n",
            "Epoch 2/30\n",
            "54740/54740 [==============================] - 15s 278us/step - loss: 0.8062 - acc: 0.7434 - val_loss: 0.4015 - val_acc: 0.8713\n",
            "Epoch 3/30\n",
            "54740/54740 [==============================] - 15s 277us/step - loss: 0.5226 - acc: 0.8337 - val_loss: 0.2508 - val_acc: 0.9205\n",
            "Epoch 4/30\n",
            "54740/54740 [==============================] - 15s 278us/step - loss: 0.4003 - acc: 0.8739 - val_loss: 0.2070 - val_acc: 0.9357\n",
            "Epoch 5/30\n",
            "54740/54740 [==============================] - 15s 275us/step - loss: 0.3311 - acc: 0.8958 - val_loss: 0.1672 - val_acc: 0.9472\n",
            "Epoch 6/30\n",
            "54740/54740 [==============================] - 15s 279us/step - loss: 0.2913 - acc: 0.9091 - val_loss: 0.1555 - val_acc: 0.9529\n",
            "Epoch 7/30\n",
            "54740/54740 [==============================] - 15s 278us/step - loss: 0.2573 - acc: 0.9186 - val_loss: 0.1328 - val_acc: 0.9578\n",
            "Epoch 8/30\n",
            "54740/54740 [==============================] - 15s 278us/step - loss: 0.2318 - acc: 0.9272 - val_loss: 0.1270 - val_acc: 0.9615\n",
            "Epoch 9/30\n",
            "54740/54740 [==============================] - 15s 279us/step - loss: 0.2088 - acc: 0.9339 - val_loss: 0.1270 - val_acc: 0.9601\n",
            "Epoch 10/30\n",
            "54740/54740 [==============================] - 15s 278us/step - loss: 0.2055 - acc: 0.9352 - val_loss: 0.1360 - val_acc: 0.9581\n",
            "Epoch 11/30\n",
            "54740/54740 [==============================] - 15s 279us/step - loss: 0.1867 - acc: 0.9415 - val_loss: 0.1064 - val_acc: 0.9674\n",
            "Epoch 12/30\n",
            "54740/54740 [==============================] - 15s 278us/step - loss: 0.1803 - acc: 0.9432 - val_loss: 0.1127 - val_acc: 0.9670\n",
            "Epoch 13/30\n",
            "54740/54740 [==============================] - 15s 278us/step - loss: 0.1753 - acc: 0.9449 - val_loss: 0.0941 - val_acc: 0.9713\n",
            "Epoch 14/30\n",
            "54740/54740 [==============================] - 15s 276us/step - loss: 0.1656 - acc: 0.9477 - val_loss: 0.0976 - val_acc: 0.9708\n",
            "Epoch 15/30\n",
            "54740/54740 [==============================] - 15s 278us/step - loss: 0.1545 - acc: 0.9513 - val_loss: 0.0986 - val_acc: 0.9703\n",
            "Epoch 16/30\n",
            "54740/54740 [==============================] - 15s 281us/step - loss: 0.1471 - acc: 0.9531 - val_loss: 0.0983 - val_acc: 0.9704\n",
            "Epoch 17/30\n",
            "54740/54740 [==============================] - 15s 277us/step - loss: 0.1447 - acc: 0.9552 - val_loss: 0.0933 - val_acc: 0.9722\n",
            "Epoch 18/30\n",
            "54740/54740 [==============================] - 15s 283us/step - loss: 0.1435 - acc: 0.9546 - val_loss: 0.0970 - val_acc: 0.9708\n",
            "Epoch 19/30\n",
            "54740/54740 [==============================] - 15s 277us/step - loss: 0.1424 - acc: 0.9557 - val_loss: 0.0964 - val_acc: 0.9718\n",
            "Epoch 20/30\n",
            "54740/54740 [==============================] - 15s 278us/step - loss: 0.1368 - acc: 0.9576 - val_loss: 0.0877 - val_acc: 0.9744\n",
            "Epoch 21/30\n",
            "54740/54740 [==============================] - 15s 278us/step - loss: 0.1291 - acc: 0.9594 - val_loss: 0.0964 - val_acc: 0.9733\n",
            "Epoch 22/30\n",
            "54740/54740 [==============================] - 15s 277us/step - loss: 0.1265 - acc: 0.9611 - val_loss: 0.0981 - val_acc: 0.9725\n",
            "Epoch 23/30\n",
            "54740/54740 [==============================] - 15s 278us/step - loss: 0.1324 - acc: 0.9589 - val_loss: 0.0871 - val_acc: 0.9748\n",
            "Epoch 24/30\n",
            "54740/54740 [==============================] - 15s 277us/step - loss: 0.1265 - acc: 0.9607 - val_loss: 0.0928 - val_acc: 0.9725\n",
            "Epoch 25/30\n",
            "54740/54740 [==============================] - 15s 277us/step - loss: 0.1174 - acc: 0.9635 - val_loss: 0.0909 - val_acc: 0.9733\n",
            "Epoch 26/30\n",
            "54740/54740 [==============================] - 15s 278us/step - loss: 0.1151 - acc: 0.9639 - val_loss: 0.1005 - val_acc: 0.9720\n",
            "Epoch 27/30\n",
            "54740/54740 [==============================] - 15s 278us/step - loss: 0.1204 - acc: 0.9620 - val_loss: 0.0863 - val_acc: 0.9768\n",
            "Epoch 28/30\n",
            "54740/54740 [==============================] - 15s 278us/step - loss: 0.1246 - acc: 0.9602 - val_loss: 0.0870 - val_acc: 0.9766\n",
            "Epoch 29/30\n",
            "54740/54740 [==============================] - 15s 278us/step - loss: 0.1153 - acc: 0.9649 - val_loss: 0.0902 - val_acc: 0.9732\n",
            "Epoch 30/30\n",
            "54740/54740 [==============================] - 15s 277us/step - loss: 0.1120 - acc: 0.9654 - val_loss: 0.0815 - val_acc: 0.9766\n",
            "_________________________________________________________________\n",
            "Layer (type)                 Output Shape              Param #   \n",
            "=================================================================\n",
            "conv2d_1 (Conv2D)            (None, 32, 32, 64)        640       \n",
            "_________________________________________________________________\n",
            "conv2d_2 (Conv2D)            (None, 32, 32, 64)        36928     \n",
            "_________________________________________________________________\n",
            "max_pooling2d_1 (MaxPooling2 (None, 7, 7, 64)          0         \n",
            "_________________________________________________________________\n",
            "conv2d_3 (Conv2D)            (None, 7, 7, 32)          18464     \n",
            "_________________________________________________________________\n",
            "conv2d_4 (Conv2D)            (None, 7, 7, 32)          9248      \n",
            "_________________________________________________________________\n",
            "max_pooling2d_2 (MaxPooling2 (None, 2, 2, 32)          0         \n",
            "_________________________________________________________________\n",
            "dropout_1 (Dropout)          (None, 2, 2, 32)          0         \n",
            "_________________________________________________________________\n",
            "flatten_1 (Flatten)          (None, 128)               0         \n",
            "_________________________________________________________________\n",
            "dense_1 (Dense)              (None, 512)               66048     \n",
            "_________________________________________________________________\n",
            "dropout_2 (Dropout)          (None, 512)               0         \n",
            "_________________________________________________________________\n",
            "dense_2 (Dense)              (None, 46)                23598     \n",
            "=================================================================\n",
            "Total params: 154,926\n",
            "Trainable params: 154,926\n",
            "Non-trainable params: 0\n",
            "_________________________________________________________________\n"
          ],
          "name": "stdout"
        }
      ]
    },
    {
      "cell_type": "code",
      "metadata": {
        "id": "y46FbTE7NPAA",
        "colab_type": "code",
        "colab": {}
      },
      "source": [
        "model.save('androidtest_model.h5')\n",
        "model.save_weights('androidtest_weights.h5')\n"
      ],
      "execution_count": 0,
      "outputs": []
    },
    {
      "cell_type": "code",
      "metadata": {
        "id": "fMw0Y5kyZ4wD",
        "colab_type": "code",
        "colab": {
          "base_uri": "https://localhost:8080/",
          "height": 231
        },
        "outputId": "790ed79f-5c42-406e-cee0-5a43894a59c0"
      },
      "source": [
        "# summarize history for accuracy\n",
        "plt.plot(history.history['acc'])\n",
        "plt.plot(history.history['val_acc'])\n",
        "plt.title('model accuracy')\n",
        "plt.ylabel('accuracy')\n",
        "plt.xlabel('epoch')\n",
        "plt.legend(['train', 'test'], loc='upper left')\n",
        "plt.show()\n",
        "# summarize history for loss\n",
        "plt.plot(history.history['loss'])\n",
        "plt.plot(history.history['val_loss'])\n",
        "plt.title('model loss')\n",
        "plt.ylabel('loss')\n",
        "plt.xlabel('epoch')\n",
        "plt.legend(['train', 'test'], loc='upper left')\n",
        "plt.show()"
      ],
      "execution_count": 15,
      "outputs": [
        {
          "output_type": "error",
          "ename": "NameError",
          "evalue": "ignored",
          "traceback": [
            "\u001b[0;31m---------------------------------------------------------------------------\u001b[0m",
            "\u001b[0;31mNameError\u001b[0m                                 Traceback (most recent call last)",
            "\u001b[0;32m<ipython-input-15-2661688c08ef>\u001b[0m in \u001b[0;36m<module>\u001b[0;34m()\u001b[0m\n\u001b[0;32m----> 1\u001b[0;31m \u001b[0mplt\u001b[0m\u001b[0;34m.\u001b[0m\u001b[0mplot\u001b[0m\u001b[0;34m(\u001b[0m\u001b[0mhistory\u001b[0m\u001b[0;34m.\u001b[0m\u001b[0mhistory\u001b[0m\u001b[0;34m[\u001b[0m\u001b[0;34m'acc'\u001b[0m\u001b[0;34m]\u001b[0m\u001b[0;34m)\u001b[0m\u001b[0;34m\u001b[0m\u001b[0;34m\u001b[0m\u001b[0m\n\u001b[0m\u001b[1;32m      2\u001b[0m \u001b[0mplt\u001b[0m\u001b[0;34m.\u001b[0m\u001b[0mplot\u001b[0m\u001b[0;34m(\u001b[0m\u001b[0mhistory\u001b[0m\u001b[0;34m.\u001b[0m\u001b[0mhistory\u001b[0m\u001b[0;34m[\u001b[0m\u001b[0;34m'val_acc'\u001b[0m\u001b[0;34m]\u001b[0m\u001b[0;34m)\u001b[0m\u001b[0;34m\u001b[0m\u001b[0;34m\u001b[0m\u001b[0m\n\u001b[1;32m      3\u001b[0m \u001b[0mplt\u001b[0m\u001b[0;34m.\u001b[0m\u001b[0mtitle\u001b[0m\u001b[0;34m(\u001b[0m\u001b[0;34m'model accuracy'\u001b[0m\u001b[0;34m)\u001b[0m\u001b[0;34m\u001b[0m\u001b[0;34m\u001b[0m\u001b[0m\n\u001b[1;32m      4\u001b[0m \u001b[0mplt\u001b[0m\u001b[0;34m.\u001b[0m\u001b[0mylabel\u001b[0m\u001b[0;34m(\u001b[0m\u001b[0;34m'accuracy'\u001b[0m\u001b[0;34m)\u001b[0m\u001b[0;34m\u001b[0m\u001b[0;34m\u001b[0m\u001b[0m\n\u001b[1;32m      5\u001b[0m \u001b[0mplt\u001b[0m\u001b[0;34m.\u001b[0m\u001b[0mxlabel\u001b[0m\u001b[0;34m(\u001b[0m\u001b[0;34m'epoch'\u001b[0m\u001b[0;34m)\u001b[0m\u001b[0;34m\u001b[0m\u001b[0;34m\u001b[0m\u001b[0m\n",
            "\u001b[0;31mNameError\u001b[0m: name 'history' is not defined"
          ]
        }
      ]
    },
    {
      "cell_type": "code",
      "metadata": {
        "id": "-vNTvdFvS_XC",
        "colab_type": "code",
        "outputId": "0b2f86aa-adcf-4683-e03b-2ef732419f44",
        "colab": {
          "base_uri": "https://localhost:8080/",
          "height": 544
        }
      },
      "source": [
        "#new model\n",
        "\n",
        "# Set the CNN model \n",
        "# my CNN architechture is In -> [[Conv2D->relu]*2 -> MaxPool2D -> Dropout]*2 -> Flatten -> Dense -> Dropout -> Out\n",
        "\n",
        "model = Sequential()\n",
        "\n",
        "model.add(Conv2D(filters = 32, kernel_size = (5,5),padding = 'Same', \n",
        "                 activation ='relu', input_shape = (32,32,1)))\n",
        "model.add(Conv2D(filters = 32, kernel_size = (5,5),padding = 'Same', \n",
        "                 activation ='relu'))\n",
        "model.add(MaxPool2D(pool_size=(2,2)))\n",
        "model.add(Dropout(0.25))\n",
        "\n",
        "\n",
        "model.add(Conv2D(filters = 64, kernel_size = (3,3),padding = 'Same', \n",
        "                 activation ='relu'))\n",
        "model.add(Conv2D(filters = 64, kernel_size = (3,3),padding = 'Same', \n",
        "                 activation ='relu'))\n",
        "model.add(MaxPool2D(pool_size=(2,2), strides=(2,2)))\n",
        "model.add(Dropout(0.25))\n",
        "\n",
        "\n",
        "model.add(Flatten())\n",
        "model.add(Dense(256, activation = \"relu\"))\n",
        "model.add(Dropout(0.5))\n",
        "model.add(Dense(46, activation = \"softmax\"))\n",
        "\n",
        "# Define the optimizer\n",
        "#optimizer = RMSprop(lr=0.001, rho=0.9, epsilon=1e-08, decay=0.0)\n",
        "optimizer = Adam(lr=0.0001)\n",
        "\n",
        "# Compile the model\n",
        "model.compile(optimizer = optimizer , loss = \"categorical_crossentropy\", metrics=[\"accuracy\"])\n",
        "\n",
        "model.summary()\n",
        "\n"
      ],
      "execution_count": 17,
      "outputs": [
        {
          "output_type": "stream",
          "text": [
            "_________________________________________________________________\n",
            "Layer (type)                 Output Shape              Param #   \n",
            "=================================================================\n",
            "conv2d_13 (Conv2D)           (None, 32, 32, 32)        832       \n",
            "_________________________________________________________________\n",
            "conv2d_14 (Conv2D)           (None, 32, 32, 32)        25632     \n",
            "_________________________________________________________________\n",
            "max_pooling2d_7 (MaxPooling2 (None, 16, 16, 32)        0         \n",
            "_________________________________________________________________\n",
            "dropout_9 (Dropout)          (None, 16, 16, 32)        0         \n",
            "_________________________________________________________________\n",
            "conv2d_15 (Conv2D)           (None, 16, 16, 64)        18496     \n",
            "_________________________________________________________________\n",
            "conv2d_16 (Conv2D)           (None, 16, 16, 64)        36928     \n",
            "_________________________________________________________________\n",
            "max_pooling2d_8 (MaxPooling2 (None, 8, 8, 64)          0         \n",
            "_________________________________________________________________\n",
            "dropout_10 (Dropout)         (None, 8, 8, 64)          0         \n",
            "_________________________________________________________________\n",
            "flatten_4 (Flatten)          (None, 4096)              0         \n",
            "_________________________________________________________________\n",
            "dense_7 (Dense)              (None, 256)               1048832   \n",
            "_________________________________________________________________\n",
            "dropout_11 (Dropout)         (None, 256)               0         \n",
            "_________________________________________________________________\n",
            "dense_8 (Dense)              (None, 46)                11822     \n",
            "=================================================================\n",
            "Total params: 1,142,542\n",
            "Trainable params: 1,142,542\n",
            "Non-trainable params: 0\n",
            "_________________________________________________________________\n"
          ],
          "name": "stdout"
        }
      ]
    },
    {
      "cell_type": "code",
      "metadata": {
        "id": "ueLN7yy0bStn",
        "colab_type": "code",
        "colab": {
          "base_uri": "https://localhost:8080/",
          "height": 734
        },
        "outputId": "73e4c9f6-0499-4203-fa11-a6c3e0b4d375"
      },
      "source": [
        "history = model.fit(x=train_image_array,y=train_y,epochs=20,batch_size=100, validation_split=0.3)"
      ],
      "execution_count": 18,
      "outputs": [
        {
          "output_type": "stream",
          "text": [
            "Train on 54740 samples, validate on 23460 samples\n",
            "Epoch 1/20\n",
            "54740/54740 [==============================] - 21s 388us/step - loss: 4.6175 - acc: 0.0936 - val_loss: 2.2990 - val_acc: 0.4920\n",
            "Epoch 2/20\n",
            "54740/54740 [==============================] - 20s 371us/step - loss: 1.9019 - acc: 0.4720 - val_loss: 0.6827 - val_acc: 0.8283\n",
            "Epoch 3/20\n",
            "54740/54740 [==============================] - 20s 363us/step - loss: 1.0472 - acc: 0.6931 - val_loss: 0.3728 - val_acc: 0.8985\n",
            "Epoch 4/20\n",
            "54740/54740 [==============================] - 20s 363us/step - loss: 0.7268 - acc: 0.7850 - val_loss: 0.2571 - val_acc: 0.9279\n",
            "Epoch 5/20\n",
            "54740/54740 [==============================] - 20s 365us/step - loss: 0.5530 - acc: 0.8343 - val_loss: 0.1957 - val_acc: 0.9434\n",
            "Epoch 6/20\n",
            "54740/54740 [==============================] - 20s 367us/step - loss: 0.4402 - acc: 0.8666 - val_loss: 0.1560 - val_acc: 0.9547\n",
            "Epoch 7/20\n",
            "54740/54740 [==============================] - 20s 368us/step - loss: 0.3666 - acc: 0.8882 - val_loss: 0.1297 - val_acc: 0.9623\n",
            "Epoch 8/20\n",
            "54740/54740 [==============================] - 20s 369us/step - loss: 0.3108 - acc: 0.9050 - val_loss: 0.1165 - val_acc: 0.9663\n",
            "Epoch 9/20\n",
            "54740/54740 [==============================] - 20s 367us/step - loss: 0.2681 - acc: 0.9167 - val_loss: 0.1029 - val_acc: 0.9689\n",
            "Epoch 10/20\n",
            "54740/54740 [==============================] - 20s 367us/step - loss: 0.2315 - acc: 0.9281 - val_loss: 0.0874 - val_acc: 0.9742\n",
            "Epoch 11/20\n",
            "54740/54740 [==============================] - 20s 368us/step - loss: 0.2034 - acc: 0.9365 - val_loss: 0.0840 - val_acc: 0.9754\n",
            "Epoch 12/20\n",
            "54740/54740 [==============================] - 20s 368us/step - loss: 0.1860 - acc: 0.9424 - val_loss: 0.0713 - val_acc: 0.9786\n",
            "Epoch 13/20\n",
            "54740/54740 [==============================] - 20s 368us/step - loss: 0.1616 - acc: 0.9489 - val_loss: 0.0723 - val_acc: 0.9779\n",
            "Epoch 14/20\n",
            "54740/54740 [==============================] - 20s 368us/step - loss: 0.1487 - acc: 0.9531 - val_loss: 0.0677 - val_acc: 0.9803\n",
            "Epoch 15/20\n",
            "54740/54740 [==============================] - 20s 369us/step - loss: 0.1351 - acc: 0.9574 - val_loss: 0.0625 - val_acc: 0.9813\n",
            "Epoch 16/20\n",
            "54740/54740 [==============================] - 20s 368us/step - loss: 0.1244 - acc: 0.9609 - val_loss: 0.0572 - val_acc: 0.9829\n",
            "Epoch 17/20\n",
            "54740/54740 [==============================] - 20s 368us/step - loss: 0.1148 - acc: 0.9642 - val_loss: 0.0568 - val_acc: 0.9826\n",
            "Epoch 18/20\n",
            "54740/54740 [==============================] - 20s 369us/step - loss: 0.1062 - acc: 0.9661 - val_loss: 0.0592 - val_acc: 0.9829\n",
            "Epoch 19/20\n",
            "54740/54740 [==============================] - 20s 368us/step - loss: 0.1036 - acc: 0.9672 - val_loss: 0.0514 - val_acc: 0.9842\n",
            "Epoch 20/20\n",
            "54740/54740 [==============================] - 20s 368us/step - loss: 0.0895 - acc: 0.9709 - val_loss: 0.0491 - val_acc: 0.9850\n"
          ],
          "name": "stdout"
        }
      ]
    },
    {
      "cell_type": "code",
      "metadata": {
        "id": "2Czx3XYLRpfF",
        "colab_type": "code",
        "colab": {
          "base_uri": "https://localhost:8080/",
          "height": 573
        },
        "outputId": "9306875f-a391-4765-fd35-a4bc4cd4c747"
      },
      "source": [
        "# summarize history for accuracy\n",
        "plt.plot(history.history['acc'])\n",
        "plt.plot(history.history['val_acc'])\n",
        "plt.title('model accuracy')\n",
        "plt.ylabel('accuracy')\n",
        "plt.xlabel('epoch')\n",
        "plt.legend(['train', 'test'], loc='upper left')\n",
        "plt.show()\n",
        "# summarize history for loss\n",
        "plt.plot(history.history['loss'])\n",
        "plt.plot(history.history['val_loss'])\n",
        "plt.title('model loss')\n",
        "plt.ylabel('loss')\n",
        "plt.xlabel('epoch')\n",
        "plt.legend(['train', 'test'], loc='upper left')\n",
        "plt.show()"
      ],
      "execution_count": 19,
      "outputs": [
        {
          "output_type": "display_data",
          "data": {
            "image/png": "[encoded data removed]",
            "text/plain": [
              "<Figure size 432x288 with 1 Axes>"
            ]
          },
          "metadata": {
            "tags": []
          }
        },
        {
          "output_type": "display_data",
          "data": {
            "image/png": "[encoded data removed]",
            "text/plain": [
              "<Figure size 432x288 with 1 Axes>"
            ]
          },
          "metadata": {
            "tags": []
          }
        }
      ]
    },
    {
      "cell_type": "code",
      "metadata": {
        "id": "LE5YBAgXZ9AR",
        "colab_type": "code",
        "colab": {}
      },
      "source": [
        "model.save(\"model2.h5\")"
      ],
      "execution_count": 0,
      "outputs": []
    },
    {
      "cell_type": "code",
      "metadata": {
        "id": "rE4ePlE3dDcP",
        "colab_type": "code",
        "colab": {
          "base_uri": "https://localhost:8080/",
          "height": 156
        },
        "outputId": "c28d6c7d-10e0-427d-df67-680f8863106b"
      },
      "source": [
        "from tensorflow import lite\n",
        "converter = lite.TFLiteConverter.from_keras_model_file( 'model2.h5' ) # Your model's name\n",
        "model = converter.convert()\n",
        "file = open( 'model2.tflite' , 'wb' ) \n",
        "file.write( model )"
      ],
      "execution_count": 22,
      "outputs": [
        {
          "output_type": "stream",
          "text": [
            "W0801 14:59:12.314235 140423858075520 deprecation.py:323] From /usr/local/lib/python3.6/dist-packages/tensorflow/lite/python/util.py:238: convert_variables_to_constants (from tensorflow.python.framework.graph_util_impl) is deprecated and will be removed in a future version.\n",
            "Instructions for updating:\n",
            "Use `tf.compat.v1.graph_util.convert_variables_to_constants`\n",
            "W0801 14:59:12.315881 140423858075520 deprecation.py:323] From /usr/local/lib/python3.6/dist-packages/tensorflow/python/framework/graph_util_impl.py:270: extract_sub_graph (from tensorflow.python.framework.graph_util_impl) is deprecated and will be removed in a future version.\n",
            "Instructions for updating:\n",
            "Use `tf.compat.v1.graph_util.extract_sub_graph`\n"
          ],
          "name": "stderr"
        },
        {
          "output_type": "execute_result",
          "data": {
            "text/plain": [
              "4572956"
            ]
          },
          "metadata": {
            "tags": []
          },
          "execution_count": 22
        }
      ]
    },
    {
      "cell_type": "code",
      "metadata": {
        "id": "UQWTyxOUdQw6",
        "colab_type": "code",
        "colab": {}
      },
      "source": [
        ""
      ],
      "execution_count": 0,
      "outputs": []
    }
  ]
}